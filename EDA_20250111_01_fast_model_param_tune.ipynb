{
 "cells": [
  {
   "cell_type": "code",
   "execution_count": 1,
   "id": "ba6e3e10-78d2-413c-87c3-f256294da062",
   "metadata": {},
   "outputs": [
    {
     "data": {
      "text/plain": [
       "polars.config.Config"
      ]
     },
     "execution_count": 1,
     "metadata": {},
     "output_type": "execute_result"
    }
   ],
   "source": [
    "import pandas as pd\n",
    "import polars as pl\n",
    "import numpy as np\n",
    "import os\n",
    "import gc\n",
    "import seaborn as sns\n",
    "from tqdm import tqdm\n",
    "from sklearn.model_selection import KFold, StratifiedKFold\n",
    "import xgboost as xgb\n",
    "from xgboost import XGBRegressor\n",
    "from lightgbm import LGBMRegressor, log_evaluation, record_evaluation\n",
    "import lightgbm as lgb\n",
    "import matplotlib.pyplot as plt\n",
    "from sklearn.metrics import r2_score\n",
    "#from sklearn.impute import IterativeImputer\n",
    "import pickle\n",
    "import optuna\n",
    "from optuna.visualization import plot_slice, plot_param_importances\n",
    "import shap\n",
    "import random\n",
    "\n",
    "gc.enable()\n",
    "\n",
    "pd.options.display.max_columns = None\n",
    "#pd.set_option('display.max_rows', 500)\n",
    "pd.set_option('display.max_columns', 500)\n",
    "pd.set_option('display.max_colwidth', None)\n",
    "\n",
    "#pl.Config.set_tbl_rows(-1)\n",
    "pl.Config.set_tbl_cols(-1)\n",
    "pl.Config.set_fmt_str_lengths(10000)\n",
    "#optuna.logging.set_verbosity(optuna.logging.WARNING)"
   ]
  },
  {
   "cell_type": "code",
   "execution_count": 2,
   "id": "8a5a256f-c55b-415d-8d12-e753283ffee9",
   "metadata": {},
   "outputs": [],
   "source": [
    "path = 'I:/Kaggle/jane-street-real-time-market-data-forecasting/'"
   ]
  },
  {
   "cell_type": "code",
   "execution_count": 3,
   "id": "38d215c3-e2a4-4ea2-8125-708737b10ed4",
   "metadata": {},
   "outputs": [
    {
     "data": {
      "text/plain": [
       "['features.csv',\n",
       " 'imputed_train_ffill.parquet',\n",
       " 'kaggle_evaluation',\n",
       " 'lags.parquet',\n",
       " 'my_folder',\n",
       " 'responders.csv',\n",
       " 'sample_submission.csv',\n",
       " 'team_folder',\n",
       " 'test.parquet',\n",
       " 'top_100000_rows_sorted_by_weight_descending.parquet',\n",
       " 'top_10000_rows_sorted_by_weight_descending.parquet',\n",
       " 'train.parquet']"
      ]
     },
     "execution_count": 3,
     "metadata": {},
     "output_type": "execute_result"
    }
   ],
   "source": [
    "os.listdir(path)"
   ]
  },
  {
   "cell_type": "code",
   "execution_count": 4,
   "id": "eab47b6d-409b-41a7-a443-fcddc750f653",
   "metadata": {},
   "outputs": [
    {
     "name": "stdout",
     "output_type": "stream",
     "text": [
      "(47127338, 84)\n"
     ]
    },
    {
     "data": {
      "text/html": [
       "<div><style>\n",
       ".dataframe > thead > tr,\n",
       ".dataframe > tbody > tr {\n",
       "  text-align: right;\n",
       "  white-space: pre-wrap;\n",
       "}\n",
       "</style>\n",
       "<small>shape: (5, 84)</small><table border=\"1\" class=\"dataframe\"><thead><tr><th>date_id</th><th>time_id</th><th>symbol_id</th><th>weight</th><th>feature_00</th><th>feature_01</th><th>feature_02</th><th>feature_03</th><th>feature_04</th><th>feature_05</th><th>feature_06</th><th>feature_07</th><th>feature_08</th><th>feature_09</th><th>feature_10</th><th>feature_11</th><th>feature_12</th><th>feature_13</th><th>feature_14</th><th>feature_15</th><th>feature_16</th><th>feature_17</th><th>feature_18</th><th>feature_19</th><th>feature_20</th><th>feature_21</th><th>feature_22</th><th>feature_23</th><th>feature_24</th><th>feature_25</th><th>feature_26</th><th>feature_27</th><th>feature_28</th><th>feature_29</th><th>feature_30</th><th>feature_31</th><th>feature_32</th><th>feature_33</th><th>feature_34</th><th>feature_35</th><th>feature_36</th><th>feature_37</th><th>feature_38</th><th>feature_39</th><th>feature_40</th><th>feature_41</th><th>feature_42</th><th>feature_43</th><th>feature_44</th><th>feature_45</th><th>feature_46</th><th>feature_47</th><th>feature_48</th><th>feature_49</th><th>feature_50</th><th>feature_51</th><th>feature_52</th><th>feature_53</th><th>feature_54</th><th>feature_55</th><th>feature_56</th><th>feature_57</th><th>feature_58</th><th>feature_59</th><th>feature_60</th><th>feature_61</th><th>feature_62</th><th>feature_63</th><th>feature_64</th><th>feature_65</th><th>feature_66</th><th>feature_67</th><th>feature_68</th><th>feature_69</th><th>feature_70</th><th>feature_71</th><th>feature_72</th><th>feature_73</th><th>feature_74</th><th>feature_75</th><th>feature_76</th><th>feature_77</th><th>feature_78</th><th>responder_6</th></tr><tr><td>i16</td><td>i16</td><td>i8</td><td>f32</td><td>f32</td><td>f32</td><td>f32</td><td>f32</td><td>f32</td><td>f32</td><td>f32</td><td>f32</td><td>f32</td><td>i8</td><td>i8</td><td>i16</td><td>f32</td><td>f32</td><td>f32</td><td>f32</td><td>f32</td><td>f32</td><td>f32</td><td>f32</td><td>f32</td><td>f32</td><td>f32</td><td>f32</td><td>f32</td><td>f32</td><td>f32</td><td>f32</td><td>f32</td><td>f32</td><td>f32</td><td>f32</td><td>f32</td><td>f32</td><td>f32</td><td>f32</td><td>f32</td><td>f32</td><td>f32</td><td>f32</td><td>f32</td><td>f32</td><td>f32</td><td>f32</td><td>f32</td><td>f32</td><td>f32</td><td>f32</td><td>f32</td><td>f32</td><td>f32</td><td>f32</td><td>f32</td><td>f32</td><td>f32</td><td>f32</td><td>f32</td><td>f32</td><td>f32</td><td>f32</td><td>f32</td><td>f32</td><td>f32</td><td>f32</td><td>f32</td><td>f32</td><td>f32</td><td>f32</td><td>f32</td><td>f32</td><td>f32</td><td>f32</td><td>f32</td><td>f32</td><td>f32</td><td>f32</td><td>f32</td><td>f32</td><td>f32</td><td>f32</td></tr></thead><tbody><tr><td>0</td><td>0</td><td>1</td><td>3.889038</td><td>null</td><td>null</td><td>null</td><td>null</td><td>null</td><td>0.851033</td><td>0.242971</td><td>0.2634</td><td>-0.891687</td><td>11</td><td>7</td><td>76</td><td>-0.883028</td><td>0.003067</td><td>-0.744703</td><td>null</td><td>-0.169586</td><td>null</td><td>-1.335938</td><td>-1.707803</td><td>0.91013</td><td>null</td><td>1.636431</td><td>1.522133</td><td>-1.551398</td><td>-0.229627</td><td>null</td><td>null</td><td>1.378301</td><td>-0.283712</td><td>0.123196</td><td>null</td><td>null</td><td>null</td><td>0.28118</td><td>0.269163</td><td>0.349028</td><td>-0.012596</td><td>-0.225932</td><td>null</td><td>-1.073602</td><td>null</td><td>null</td><td>-0.181716</td><td>null</td><td>null</td><td>null</td><td>0.564021</td><td>2.088506</td><td>0.832022</td><td>null</td><td>0.204797</td><td>null</td><td>null</td><td>-0.808103</td><td>null</td><td>-2.037683</td><td>0.727661</td><td>null</td><td>-0.989118</td><td>-0.345213</td><td>-1.36224</td><td>null</td><td>null</td><td>null</td><td>null</td><td>null</td><td>-1.251104</td><td>-0.110252</td><td>-0.491157</td><td>-1.02269</td><td>0.152241</td><td>-0.659864</td><td>null</td><td>null</td><td>-0.261412</td><td>-0.211486</td><td>-0.335556</td><td>-0.281498</td><td>0.775981</td></tr><tr><td>0</td><td>0</td><td>7</td><td>1.370613</td><td>null</td><td>null</td><td>null</td><td>null</td><td>null</td><td>0.676961</td><td>0.151984</td><td>0.192465</td><td>-0.521729</td><td>11</td><td>7</td><td>76</td><td>-0.865307</td><td>-0.225629</td><td>-0.582163</td><td>null</td><td>0.317467</td><td>null</td><td>-1.250016</td><td>-1.682929</td><td>1.412757</td><td>null</td><td>0.520378</td><td>0.744132</td><td>-0.788658</td><td>0.641776</td><td>null</td><td>null</td><td>0.2272</td><td>0.580907</td><td>1.128879</td><td>null</td><td>null</td><td>null</td><td>-1.512286</td><td>-1.414357</td><td>-1.823322</td><td>-0.082763</td><td>-0.184119</td><td>null</td><td>null</td><td>null</td><td>null</td><td>null</td><td>null</td><td>null</td><td>null</td><td>-10.835207</td><td>-0.002704</td><td>-0.621836</td><td>null</td><td>1.172836</td><td>null</td><td>null</td><td>-1.625862</td><td>null</td><td>-1.410017</td><td>1.063013</td><td>null</td><td>0.888355</td><td>0.467994</td><td>-1.36224</td><td>null</td><td>null</td><td>null</td><td>null</td><td>null</td><td>-1.065759</td><td>0.013322</td><td>-0.592855</td><td>-1.052685</td><td>-0.393726</td><td>-0.741603</td><td>null</td><td>null</td><td>-0.281207</td><td>-0.182894</td><td>-0.245565</td><td>-0.302441</td><td>0.703665</td></tr><tr><td>0</td><td>0</td><td>9</td><td>2.285698</td><td>null</td><td>null</td><td>null</td><td>null</td><td>null</td><td>1.056285</td><td>0.187227</td><td>0.249901</td><td>-0.77305</td><td>11</td><td>7</td><td>76</td><td>-0.675719</td><td>-0.199404</td><td>-0.586798</td><td>null</td><td>-0.814909</td><td>null</td><td>-1.296782</td><td>-2.040234</td><td>0.639589</td><td>null</td><td>1.597359</td><td>0.657514</td><td>-1.350148</td><td>0.364215</td><td>null</td><td>null</td><td>-0.017751</td><td>-0.317361</td><td>-0.122379</td><td>null</td><td>null</td><td>null</td><td>-0.320921</td><td>-0.95809</td><td>-2.436589</td><td>0.070999</td><td>-0.245239</td><td>null</td><td>null</td><td>null</td><td>null</td><td>null</td><td>null</td><td>null</td><td>null</td><td>-1.420632</td><td>-3.515137</td><td>-4.67776</td><td>null</td><td>0.535897</td><td>null</td><td>null</td><td>-0.72542</td><td>null</td><td>-2.29417</td><td>1.764551</td><td>null</td><td>-0.120789</td><td>-0.063458</td><td>-1.36224</td><td>null</td><td>null</td><td>null</td><td>null</td><td>null</td><td>-0.882604</td><td>-0.072482</td><td>-0.617934</td><td>-0.86323</td><td>-0.241892</td><td>-0.709919</td><td>null</td><td>null</td><td>0.377131</td><td>0.300724</td><td>-0.106842</td><td>-0.096792</td><td>2.109352</td></tr><tr><td>0</td><td>0</td><td>10</td><td>0.690606</td><td>null</td><td>null</td><td>null</td><td>null</td><td>null</td><td>1.139366</td><td>0.273328</td><td>0.306549</td><td>-1.262223</td><td>42</td><td>5</td><td>150</td><td>-0.694008</td><td>3.004091</td><td>0.114809</td><td>null</td><td>-0.251882</td><td>null</td><td>-1.902009</td><td>-0.979447</td><td>0.241165</td><td>null</td><td>-0.392359</td><td>-0.224699</td><td>-2.129397</td><td>-0.855287</td><td>null</td><td>null</td><td>0.404142</td><td>-0.578156</td><td>0.105702</td><td>null</td><td>null</td><td>null</td><td>0.544138</td><td>-0.087091</td><td>-1.500147</td><td>-0.201288</td><td>-0.038042</td><td>null</td><td>null</td><td>null</td><td>null</td><td>null</td><td>null</td><td>null</td><td>null</td><td>0.382074</td><td>2.669135</td><td>0.611711</td><td>null</td><td>2.413415</td><td>null</td><td>null</td><td>1.313203</td><td>null</td><td>-0.810125</td><td>2.939022</td><td>null</td><td>3.988801</td><td>1.834661</td><td>-1.36224</td><td>null</td><td>null</td><td>null</td><td>null</td><td>null</td><td>-0.697595</td><td>1.074309</td><td>-0.206929</td><td>-0.530602</td><td>4.765215</td><td>0.571554</td><td>null</td><td>null</td><td>-0.226891</td><td>-0.251412</td><td>-0.215522</td><td>-0.296244</td><td>1.114137</td></tr><tr><td>0</td><td>0</td><td>14</td><td>0.44057</td><td>null</td><td>null</td><td>null</td><td>null</td><td>null</td><td>0.9552</td><td>0.262404</td><td>0.344457</td><td>-0.613813</td><td>44</td><td>3</td><td>16</td><td>-0.947351</td><td>-0.030018</td><td>-0.502379</td><td>null</td><td>0.646086</td><td>null</td><td>-1.844685</td><td>-1.58656</td><td>-0.182024</td><td>null</td><td>-0.969949</td><td>-0.673813</td><td>-1.282132</td><td>-1.399894</td><td>null</td><td>null</td><td>0.043815</td><td>-0.320225</td><td>-0.031713</td><td>null</td><td>null</td><td>null</td><td>-0.08842</td><td>-0.995003</td><td>-2.635336</td><td>-0.196461</td><td>-0.618719</td><td>null</td><td>null</td><td>null</td><td>null</td><td>null</td><td>null</td><td>null</td><td>null</td><td>-2.0146</td><td>-2.321076</td><td>-3.711265</td><td>null</td><td>1.253902</td><td>null</td><td>null</td><td>0.476195</td><td>null</td><td>-0.771732</td><td>2.843421</td><td>null</td><td>1.379815</td><td>0.411827</td><td>-1.36224</td><td>null</td><td>null</td><td>null</td><td>null</td><td>null</td><td>-0.948601</td><td>-0.136814</td><td>-0.447704</td><td>-1.141761</td><td>0.099631</td><td>-0.661928</td><td>null</td><td>null</td><td>3.678076</td><td>2.793581</td><td>2.61825</td><td>3.418133</td><td>-3.57282</td></tr></tbody></table></div>"
      ],
      "text/plain": [
       "shape: (5, 84)\n",
       "┌─────┬─────┬─────┬─────┬─────┬─────┬─────┬─────┬─────┬─────┬─────┬─────┬─────┬─────┬─────┬─────┬─────┬─────┬─────┬─────┬─────┬─────┬─────┬─────┬─────┬─────┬─────┬─────┬─────┬─────┬─────┬─────┬─────┬─────┬─────┬─────┬─────┬─────┬─────┬─────┬─────┬─────┬─────┬─────┬─────┬─────┬─────┬─────┬─────┬─────┬─────┬─────┬─────┬─────┬─────┬─────┬─────┬─────┬─────┬─────┬─────┬─────┬─────┬─────┬─────┬─────┬─────┬─────┬─────┬─────┬─────┬─────┬─────┬─────┬─────┬─────┬─────┬─────┬─────┬─────┬─────┬─────┬─────┬─────┐\n",
       "│ dat ┆ tim ┆ sym ┆ wei ┆ fea ┆ fea ┆ fea ┆ fea ┆ fea ┆ fea ┆ fea ┆ fea ┆ fea ┆ fea ┆ fea ┆ fea ┆ fea ┆ fea ┆ fea ┆ fea ┆ fea ┆ fea ┆ fea ┆ fea ┆ fea ┆ fea ┆ fea ┆ fea ┆ fea ┆ fea ┆ fea ┆ fea ┆ fea ┆ fea ┆ fea ┆ fea ┆ fea ┆ fea ┆ fea ┆ fea ┆ fea ┆ fea ┆ fea ┆ fea ┆ fea ┆ fea ┆ fea ┆ fea ┆ fea ┆ fea ┆ fea ┆ fea ┆ fea ┆ fea ┆ fea ┆ fea ┆ fea ┆ fea ┆ fea ┆ fea ┆ fea ┆ fea ┆ fea ┆ fea ┆ fea ┆ fea ┆ fea ┆ fea ┆ fea ┆ fea ┆ fea ┆ fea ┆ fea ┆ fea ┆ fea ┆ fea ┆ fea ┆ fea ┆ fea ┆ fea ┆ fea ┆ fea ┆ fea ┆ res │\n",
       "│ e_i ┆ e_i ┆ bol ┆ ght ┆ tur ┆ tur ┆ tur ┆ tur ┆ tur ┆ tur ┆ tur ┆ tur ┆ tur ┆ tur ┆ tur ┆ tur ┆ tur ┆ tur ┆ tur ┆ tur ┆ tur ┆ tur ┆ tur ┆ tur ┆ tur ┆ tur ┆ tur ┆ tur ┆ tur ┆ tur ┆ tur ┆ tur ┆ tur ┆ tur ┆ tur ┆ tur ┆ tur ┆ tur ┆ tur ┆ tur ┆ tur ┆ tur ┆ tur ┆ tur ┆ tur ┆ tur ┆ tur ┆ tur ┆ tur ┆ tur ┆ tur ┆ tur ┆ tur ┆ tur ┆ tur ┆ tur ┆ tur ┆ tur ┆ tur ┆ tur ┆ tur ┆ tur ┆ tur ┆ tur ┆ tur ┆ tur ┆ tur ┆ tur ┆ tur ┆ tur ┆ tur ┆ tur ┆ tur ┆ tur ┆ tur ┆ tur ┆ tur ┆ tur ┆ tur ┆ tur ┆ tur ┆ tur ┆ tur ┆ pon │\n",
       "│ d   ┆ d   ┆ _id ┆ --- ┆ e_0 ┆ e_0 ┆ e_0 ┆ e_0 ┆ e_0 ┆ e_0 ┆ e_0 ┆ e_0 ┆ e_0 ┆ e_0 ┆ e_1 ┆ e_1 ┆ e_1 ┆ e_1 ┆ e_1 ┆ e_1 ┆ e_1 ┆ e_1 ┆ e_1 ┆ e_1 ┆ e_2 ┆ e_2 ┆ e_2 ┆ e_2 ┆ e_2 ┆ e_2 ┆ e_2 ┆ e_2 ┆ e_2 ┆ e_2 ┆ e_3 ┆ e_3 ┆ e_3 ┆ e_3 ┆ e_3 ┆ e_3 ┆ e_3 ┆ e_3 ┆ e_3 ┆ e_3 ┆ e_4 ┆ e_4 ┆ e_4 ┆ e_4 ┆ e_4 ┆ e_4 ┆ e_4 ┆ e_4 ┆ e_4 ┆ e_4 ┆ e_5 ┆ e_5 ┆ e_5 ┆ e_5 ┆ e_5 ┆ e_5 ┆ e_5 ┆ e_5 ┆ e_5 ┆ e_5 ┆ e_6 ┆ e_6 ┆ e_6 ┆ e_6 ┆ e_6 ┆ e_6 ┆ e_6 ┆ e_6 ┆ e_6 ┆ e_6 ┆ e_7 ┆ e_7 ┆ e_7 ┆ e_7 ┆ e_7 ┆ e_7 ┆ e_7 ┆ e_7 ┆ e_7 ┆ der │\n",
       "│ --- ┆ --- ┆ --- ┆ f32 ┆ 0   ┆ 1   ┆ 2   ┆ 3   ┆ 4   ┆ 5   ┆ 6   ┆ 7   ┆ 8   ┆ 9   ┆ 0   ┆ 1   ┆ 2   ┆ 3   ┆ 4   ┆ 5   ┆ 6   ┆ 7   ┆ 8   ┆ 9   ┆ 0   ┆ 1   ┆ 2   ┆ 3   ┆ 4   ┆ 5   ┆ 6   ┆ 7   ┆ 8   ┆ 9   ┆ 0   ┆ 1   ┆ 2   ┆ 3   ┆ 4   ┆ 5   ┆ 6   ┆ 7   ┆ 8   ┆ 9   ┆ 0   ┆ 1   ┆ 2   ┆ 3   ┆ 4   ┆ 5   ┆ 6   ┆ 7   ┆ 8   ┆ 9   ┆ 0   ┆ 1   ┆ 2   ┆ 3   ┆ 4   ┆ 5   ┆ 6   ┆ 7   ┆ 8   ┆ 9   ┆ 0   ┆ 1   ┆ 2   ┆ 3   ┆ 4   ┆ 5   ┆ 6   ┆ 7   ┆ 8   ┆ 9   ┆ 0   ┆ 1   ┆ 2   ┆ 3   ┆ 4   ┆ 5   ┆ 6   ┆ 7   ┆ 8   ┆ _6  │\n",
       "│ i16 ┆ i16 ┆ i8  ┆     ┆ --- ┆ --- ┆ --- ┆ --- ┆ --- ┆ --- ┆ --- ┆ --- ┆ --- ┆ --- ┆ --- ┆ --- ┆ --- ┆ --- ┆ --- ┆ --- ┆ --- ┆ --- ┆ --- ┆ --- ┆ --- ┆ --- ┆ --- ┆ --- ┆ --- ┆ --- ┆ --- ┆ --- ┆ --- ┆ --- ┆ --- ┆ --- ┆ --- ┆ --- ┆ --- ┆ --- ┆ --- ┆ --- ┆ --- ┆ --- ┆ --- ┆ --- ┆ --- ┆ --- ┆ --- ┆ --- ┆ --- ┆ --- ┆ --- ┆ --- ┆ --- ┆ --- ┆ --- ┆ --- ┆ --- ┆ --- ┆ --- ┆ --- ┆ --- ┆ --- ┆ --- ┆ --- ┆ --- ┆ --- ┆ --- ┆ --- ┆ --- ┆ --- ┆ --- ┆ --- ┆ --- ┆ --- ┆ --- ┆ --- ┆ --- ┆ --- ┆ --- ┆ --- ┆ --- ┆ --- │\n",
       "│     ┆     ┆     ┆     ┆ f32 ┆ f32 ┆ f32 ┆ f32 ┆ f32 ┆ f32 ┆ f32 ┆ f32 ┆ f32 ┆ i8  ┆ i8  ┆ i16 ┆ f32 ┆ f32 ┆ f32 ┆ f32 ┆ f32 ┆ f32 ┆ f32 ┆ f32 ┆ f32 ┆ f32 ┆ f32 ┆ f32 ┆ f32 ┆ f32 ┆ f32 ┆ f32 ┆ f32 ┆ f32 ┆ f32 ┆ f32 ┆ f32 ┆ f32 ┆ f32 ┆ f32 ┆ f32 ┆ f32 ┆ f32 ┆ f32 ┆ f32 ┆ f32 ┆ f32 ┆ f32 ┆ f32 ┆ f32 ┆ f32 ┆ f32 ┆ f32 ┆ f32 ┆ f32 ┆ f32 ┆ f32 ┆ f32 ┆ f32 ┆ f32 ┆ f32 ┆ f32 ┆ f32 ┆ f32 ┆ f32 ┆ f32 ┆ f32 ┆ f32 ┆ f32 ┆ f32 ┆ f32 ┆ f32 ┆ f32 ┆ f32 ┆ f32 ┆ f32 ┆ f32 ┆ f32 ┆ f32 ┆ f32 ┆ f32 ┆ f32 ┆ f32 ┆ f32 │\n",
       "╞═════╪═════╪═════╪═════╪═════╪═════╪═════╪═════╪═════╪═════╪═════╪═════╪═════╪═════╪═════╪═════╪═════╪═════╪═════╪═════╪═════╪═════╪═════╪═════╪═════╪═════╪═════╪═════╪═════╪═════╪═════╪═════╪═════╪═════╪═════╪═════╪═════╪═════╪═════╪═════╪═════╪═════╪═════╪═════╪═════╪═════╪═════╪═════╪═════╪═════╪═════╪═════╪═════╪═════╪═════╪═════╪═════╪═════╪═════╪═════╪═════╪═════╪═════╪═════╪═════╪═════╪═════╪═════╪═════╪═════╪═════╪═════╪═════╪═════╪═════╪═════╪═════╪═════╪═════╪═════╪═════╪═════╪═════╪═════╡\n",
       "│ 0   ┆ 0   ┆ 1   ┆ 3.8 ┆ nul ┆ nul ┆ nul ┆ nul ┆ nul ┆ 0.8 ┆ 0.2 ┆ 0.2 ┆ -0. ┆ 11  ┆ 7   ┆ 76  ┆ -0. ┆ 0.0 ┆ -0. ┆ nul ┆ -0. ┆ nul ┆ -1. ┆ -1. ┆ 0.9 ┆ nul ┆ 1.6 ┆ 1.5 ┆ -1. ┆ -0. ┆ nul ┆ nul ┆ 1.3 ┆ -0. ┆ 0.1 ┆ nul ┆ nul ┆ nul ┆ 0.2 ┆ 0.2 ┆ 0.3 ┆ -0. ┆ -0. ┆ nul ┆ -1. ┆ nul ┆ nul ┆ -0. ┆ nul ┆ nul ┆ nul ┆ 0.5 ┆ 2.0 ┆ 0.8 ┆ nul ┆ 0.2 ┆ nul ┆ nul ┆ -0. ┆ nul ┆ -2. ┆ 0.7 ┆ nul ┆ -0. ┆ -0. ┆ -1. ┆ nul ┆ nul ┆ nul ┆ nul ┆ nul ┆ -1. ┆ -0. ┆ -0. ┆ -1. ┆ 0.1 ┆ -0. ┆ nul ┆ nul ┆ -0. ┆ -0. ┆ -0. ┆ -0. ┆ 0.7 │\n",
       "│     ┆     ┆     ┆ 890 ┆ l   ┆ l   ┆ l   ┆ l   ┆ l   ┆ 510 ┆ 429 ┆ 634 ┆ 891 ┆     ┆     ┆     ┆ 883 ┆ 030 ┆ 744 ┆ l   ┆ 169 ┆ l   ┆ 335 ┆ 707 ┆ 101 ┆ l   ┆ 364 ┆ 221 ┆ 551 ┆ 229 ┆ l   ┆ l   ┆ 783 ┆ 283 ┆ 231 ┆ l   ┆ l   ┆ l   ┆ 811 ┆ 691 ┆ 490 ┆ 012 ┆ 225 ┆ l   ┆ 073 ┆ l   ┆ l   ┆ 181 ┆ l   ┆ l   ┆ l   ┆ 640 ┆ 885 ┆ 320 ┆ l   ┆ 047 ┆ l   ┆ l   ┆ 808 ┆ l   ┆ 037 ┆ 276 ┆ l   ┆ 989 ┆ 345 ┆ 362 ┆ l   ┆ l   ┆ l   ┆ l   ┆ l   ┆ 251 ┆ 110 ┆ 491 ┆ 022 ┆ 522 ┆ 659 ┆ l   ┆ l   ┆ 261 ┆ 211 ┆ 335 ┆ 281 ┆ 759 │\n",
       "│     ┆     ┆     ┆ 38  ┆     ┆     ┆     ┆     ┆     ┆ 33  ┆ 71  ┆     ┆ 687 ┆     ┆     ┆     ┆ 028 ┆ 67  ┆ 703 ┆     ┆ 586 ┆     ┆ 938 ┆ 803 ┆ 3   ┆     ┆ 31  ┆ 33  ┆ 398 ┆ 627 ┆     ┆     ┆ 01  ┆ 712 ┆ 96  ┆     ┆     ┆     ┆ 8   ┆ 63  ┆ 28  ┆ 596 ┆ 932 ┆     ┆ 602 ┆     ┆     ┆ 716 ┆     ┆     ┆     ┆ 21  ┆ 06  ┆ 22  ┆     ┆ 97  ┆     ┆     ┆ 103 ┆     ┆ 683 ┆ 61  ┆     ┆ 118 ┆ 213 ┆ 24  ┆     ┆     ┆     ┆     ┆     ┆ 104 ┆ 252 ┆ 157 ┆ 69  ┆ 41  ┆ 864 ┆     ┆     ┆ 412 ┆ 486 ┆ 556 ┆ 498 ┆ 81  │\n",
       "│ 0   ┆ 0   ┆ 7   ┆ 1.3 ┆ nul ┆ nul ┆ nul ┆ nul ┆ nul ┆ 0.6 ┆ 0.1 ┆ 0.1 ┆ -0. ┆ 11  ┆ 7   ┆ 76  ┆ -0. ┆ -0. ┆ -0. ┆ nul ┆ 0.3 ┆ nul ┆ -1. ┆ -1. ┆ 1.4 ┆ nul ┆ 0.5 ┆ 0.7 ┆ -0. ┆ 0.6 ┆ nul ┆ nul ┆ 0.2 ┆ 0.5 ┆ 1.1 ┆ nul ┆ nul ┆ nul ┆ -1. ┆ -1. ┆ -1. ┆ -0. ┆ -0. ┆ nul ┆ nul ┆ nul ┆ nul ┆ nul ┆ nul ┆ nul ┆ nul ┆ -10 ┆ -0. ┆ -0. ┆ nul ┆ 1.1 ┆ nul ┆ nul ┆ -1. ┆ nul ┆ -1. ┆ 1.0 ┆ nul ┆ 0.8 ┆ 0.4 ┆ -1. ┆ nul ┆ nul ┆ nul ┆ nul ┆ nul ┆ -1. ┆ 0.0 ┆ -0. ┆ -1. ┆ -0. ┆ -0. ┆ nul ┆ nul ┆ -0. ┆ -0. ┆ -0. ┆ -0. ┆ 0.7 │\n",
       "│     ┆     ┆     ┆ 706 ┆ l   ┆ l   ┆ l   ┆ l   ┆ l   ┆ 769 ┆ 519 ┆ 924 ┆ 521 ┆     ┆     ┆     ┆ 865 ┆ 225 ┆ 582 ┆ l   ┆ 174 ┆ l   ┆ 250 ┆ 682 ┆ 127 ┆ l   ┆ 203 ┆ 441 ┆ 788 ┆ 417 ┆ l   ┆ l   ┆ 272 ┆ 809 ┆ 288 ┆ l   ┆ l   ┆ l   ┆ 512 ┆ 414 ┆ 823 ┆ 082 ┆ 184 ┆ l   ┆ l   ┆ l   ┆ l   ┆ l   ┆ l   ┆ l   ┆ l   ┆ .83 ┆ 002 ┆ 621 ┆ l   ┆ 728 ┆ l   ┆ l   ┆ 625 ┆ l   ┆ 410 ┆ 630 ┆ l   ┆ 883 ┆ 679 ┆ 362 ┆ l   ┆ l   ┆ l   ┆ l   ┆ l   ┆ 065 ┆ 133 ┆ 592 ┆ 052 ┆ 393 ┆ 741 ┆ l   ┆ l   ┆ 281 ┆ 182 ┆ 245 ┆ 302 ┆ 036 │\n",
       "│     ┆     ┆     ┆ 13  ┆     ┆     ┆     ┆     ┆     ┆ 61  ┆ 84  ┆ 65  ┆ 729 ┆     ┆     ┆     ┆ 307 ┆ 629 ┆ 163 ┆     ┆ 67  ┆     ┆ 016 ┆ 929 ┆ 57  ┆     ┆ 78  ┆ 32  ┆ 658 ┆ 76  ┆     ┆     ┆     ┆ 07  ┆ 79  ┆     ┆     ┆     ┆ 286 ┆ 357 ┆ 322 ┆ 763 ┆ 119 ┆     ┆     ┆     ┆     ┆     ┆     ┆     ┆     ┆ 520 ┆ 704 ┆ 836 ┆     ┆ 36  ┆     ┆     ┆ 862 ┆     ┆ 017 ┆ 13  ┆     ┆ 55  ┆ 94  ┆ 24  ┆     ┆     ┆     ┆     ┆     ┆ 759 ┆ 22  ┆ 855 ┆ 685 ┆ 726 ┆ 603 ┆     ┆     ┆ 207 ┆ 894 ┆ 565 ┆ 441 ┆ 65  │\n",
       "│     ┆     ┆     ┆     ┆     ┆     ┆     ┆     ┆     ┆     ┆     ┆     ┆     ┆     ┆     ┆     ┆     ┆     ┆     ┆     ┆     ┆     ┆     ┆     ┆     ┆     ┆     ┆     ┆     ┆     ┆     ┆     ┆     ┆     ┆     ┆     ┆     ┆     ┆     ┆     ┆     ┆     ┆     ┆     ┆     ┆     ┆     ┆     ┆     ┆     ┆     ┆ 7   ┆     ┆     ┆     ┆     ┆     ┆     ┆     ┆     ┆     ┆     ┆     ┆     ┆     ┆     ┆     ┆     ┆     ┆     ┆     ┆     ┆     ┆     ┆     ┆     ┆     ┆     ┆     ┆     ┆     ┆     ┆     ┆     │\n",
       "│ 0   ┆ 0   ┆ 9   ┆ 2.2 ┆ nul ┆ nul ┆ nul ┆ nul ┆ nul ┆ 1.0 ┆ 0.1 ┆ 0.2 ┆ -0. ┆ 11  ┆ 7   ┆ 76  ┆ -0. ┆ -0. ┆ -0. ┆ nul ┆ -0. ┆ nul ┆ -1. ┆ -2. ┆ 0.6 ┆ nul ┆ 1.5 ┆ 0.6 ┆ -1. ┆ 0.3 ┆ nul ┆ nul ┆ -0. ┆ -0. ┆ -0. ┆ nul ┆ nul ┆ nul ┆ -0. ┆ -0. ┆ -2. ┆ 0.0 ┆ -0. ┆ nul ┆ nul ┆ nul ┆ nul ┆ nul ┆ nul ┆ nul ┆ nul ┆ -1. ┆ -3. ┆ -4. ┆ nul ┆ 0.5 ┆ nul ┆ nul ┆ -0. ┆ nul ┆ -2. ┆ 1.7 ┆ nul ┆ -0. ┆ -0. ┆ -1. ┆ nul ┆ nul ┆ nul ┆ nul ┆ nul ┆ -0. ┆ -0. ┆ -0. ┆ -0. ┆ -0. ┆ -0. ┆ nul ┆ nul ┆ 0.3 ┆ 0.3 ┆ -0. ┆ -0. ┆ 2.1 │\n",
       "│     ┆     ┆     ┆ 856 ┆ l   ┆ l   ┆ l   ┆ l   ┆ l   ┆ 562 ┆ 872 ┆ 499 ┆ 773 ┆     ┆     ┆     ┆ 675 ┆ 199 ┆ 586 ┆ l   ┆ 814 ┆ l   ┆ 296 ┆ 040 ┆ 395 ┆ l   ┆ 973 ┆ 575 ┆ 350 ┆ 642 ┆ l   ┆ l   ┆ 017 ┆ 317 ┆ 122 ┆ l   ┆ l   ┆ l   ┆ 320 ┆ 958 ┆ 436 ┆ 709 ┆ 245 ┆ l   ┆ l   ┆ l   ┆ l   ┆ l   ┆ l   ┆ l   ┆ l   ┆ 420 ┆ 515 ┆ 677 ┆ l   ┆ 358 ┆ l   ┆ l   ┆ 725 ┆ l   ┆ 294 ┆ 645 ┆ l   ┆ 120 ┆ 063 ┆ 362 ┆ l   ┆ l   ┆ l   ┆ l   ┆ l   ┆ 882 ┆ 072 ┆ 617 ┆ 863 ┆ 241 ┆ 709 ┆ l   ┆ l   ┆ 771 ┆ 007 ┆ 106 ┆ 096 ┆ 093 │\n",
       "│     ┆     ┆     ┆ 98  ┆     ┆     ┆     ┆     ┆     ┆ 85  ┆ 27  ┆ 01  ┆ 05  ┆     ┆     ┆     ┆ 719 ┆ 404 ┆ 798 ┆     ┆ 909 ┆     ┆ 782 ┆ 234 ┆ 89  ┆     ┆ 59  ┆ 14  ┆ 148 ┆ 15  ┆     ┆     ┆ 751 ┆ 361 ┆ 379 ┆     ┆     ┆     ┆ 921 ┆ 09  ┆ 589 ┆ 99  ┆ 239 ┆     ┆     ┆     ┆     ┆     ┆     ┆     ┆     ┆ 632 ┆ 137 ┆ 76  ┆     ┆ 97  ┆     ┆     ┆ 42  ┆     ┆ 17  ┆ 51  ┆     ┆ 789 ┆ 458 ┆ 24  ┆     ┆     ┆     ┆     ┆     ┆ 604 ┆ 482 ┆ 934 ┆ 23  ┆ 892 ┆ 919 ┆     ┆     ┆ 31  ┆ 24  ┆ 842 ┆ 792 ┆ 52  │\n",
       "│ 0   ┆ 0   ┆ 10  ┆ 0.6 ┆ nul ┆ nul ┆ nul ┆ nul ┆ nul ┆ 1.1 ┆ 0.2 ┆ 0.3 ┆ -1. ┆ 42  ┆ 5   ┆ 150 ┆ -0. ┆ 3.0 ┆ 0.1 ┆ nul ┆ -0. ┆ nul ┆ -1. ┆ -0. ┆ 0.2 ┆ nul ┆ -0. ┆ -0. ┆ -2. ┆ -0. ┆ nul ┆ nul ┆ 0.4 ┆ -0. ┆ 0.1 ┆ nul ┆ nul ┆ nul ┆ 0.5 ┆ -0. ┆ -1. ┆ -0. ┆ -0. ┆ nul ┆ nul ┆ nul ┆ nul ┆ nul ┆ nul ┆ nul ┆ nul ┆ 0.3 ┆ 2.6 ┆ 0.6 ┆ nul ┆ 2.4 ┆ nul ┆ nul ┆ 1.3 ┆ nul ┆ -0. ┆ 2.9 ┆ nul ┆ 3.9 ┆ 1.8 ┆ -1. ┆ nul ┆ nul ┆ nul ┆ nul ┆ nul ┆ -0. ┆ 1.0 ┆ -0. ┆ -0. ┆ 4.7 ┆ 0.5 ┆ nul ┆ nul ┆ -0. ┆ -0. ┆ -0. ┆ -0. ┆ 1.1 │\n",
       "│     ┆     ┆     ┆ 906 ┆ l   ┆ l   ┆ l   ┆ l   ┆ l   ┆ 393 ┆ 733 ┆ 065 ┆ 262 ┆     ┆     ┆     ┆ 694 ┆ 040 ┆ 148 ┆ l   ┆ 251 ┆ l   ┆ 902 ┆ 979 ┆ 411 ┆ l   ┆ 392 ┆ 224 ┆ 129 ┆ 855 ┆ l   ┆ l   ┆ 041 ┆ 578 ┆ 057 ┆ l   ┆ l   ┆ l   ┆ 441 ┆ 087 ┆ 500 ┆ 201 ┆ 038 ┆ l   ┆ l   ┆ l   ┆ l   ┆ l   ┆ l   ┆ l   ┆ l   ┆ 820 ┆ 691 ┆ 117 ┆ l   ┆ 134 ┆ l   ┆ l   ┆ 132 ┆ l   ┆ 810 ┆ 390 ┆ l   ┆ 888 ┆ 346 ┆ 362 ┆ l   ┆ l   ┆ l   ┆ l   ┆ l   ┆ 697 ┆ 743 ┆ 206 ┆ 530 ┆ 652 ┆ 715 ┆ l   ┆ l   ┆ 226 ┆ 251 ┆ 215 ┆ 296 ┆ 141 │\n",
       "│     ┆     ┆     ┆ 06  ┆     ┆     ┆     ┆     ┆     ┆ 66  ┆ 28  ┆ 49  ┆ 223 ┆     ┆     ┆     ┆ 008 ┆ 91  ┆ 09  ┆     ┆ 882 ┆     ┆ 009 ┆ 447 ┆ 65  ┆     ┆ 359 ┆ 699 ┆ 397 ┆ 287 ┆     ┆     ┆ 42  ┆ 156 ┆ 02  ┆     ┆     ┆     ┆ 38  ┆ 091 ┆ 147 ┆ 288 ┆ 042 ┆     ┆     ┆     ┆     ┆     ┆     ┆     ┆     ┆ 74  ┆ 35  ┆ 11  ┆     ┆ 15  ┆     ┆     ┆ 03  ┆     ┆ 125 ┆ 22  ┆     ┆ 01  ┆ 61  ┆ 24  ┆     ┆     ┆     ┆     ┆     ┆ 595 ┆ 09  ┆ 929 ┆ 602 ┆ 15  ┆ 54  ┆     ┆     ┆ 891 ┆ 412 ┆ 522 ┆ 244 ┆ 37  │\n",
       "│ 0   ┆ 0   ┆ 14  ┆ 0.4 ┆ nul ┆ nul ┆ nul ┆ nul ┆ nul ┆ 0.9 ┆ 0.2 ┆ 0.3 ┆ -0. ┆ 44  ┆ 3   ┆ 16  ┆ -0. ┆ -0. ┆ -0. ┆ nul ┆ 0.6 ┆ nul ┆ -1. ┆ -1. ┆ -0. ┆ nul ┆ -0. ┆ -0. ┆ -1. ┆ -1. ┆ nul ┆ nul ┆ 0.0 ┆ -0. ┆ -0. ┆ nul ┆ nul ┆ nul ┆ -0. ┆ -0. ┆ -2. ┆ -0. ┆ -0. ┆ nul ┆ nul ┆ nul ┆ nul ┆ nul ┆ nul ┆ nul ┆ nul ┆ -2. ┆ -2. ┆ -3. ┆ nul ┆ 1.2 ┆ nul ┆ nul ┆ 0.4 ┆ nul ┆ -0. ┆ 2.8 ┆ nul ┆ 1.3 ┆ 0.4 ┆ -1. ┆ nul ┆ nul ┆ nul ┆ nul ┆ nul ┆ -0. ┆ -0. ┆ -0. ┆ -1. ┆ 0.0 ┆ -0. ┆ nul ┆ nul ┆ 3.6 ┆ 2.7 ┆ 2.6 ┆ 3.4 ┆ -3. │\n",
       "│     ┆     ┆     ┆ 405 ┆ l   ┆ l   ┆ l   ┆ l   ┆ l   ┆ 552 ┆ 624 ┆ 444 ┆ 613 ┆     ┆     ┆     ┆ 947 ┆ 030 ┆ 502 ┆ l   ┆ 460 ┆ l   ┆ 844 ┆ 586 ┆ 182 ┆ l   ┆ 969 ┆ 673 ┆ 282 ┆ 399 ┆ l   ┆ l   ┆ 438 ┆ 320 ┆ 031 ┆ l   ┆ l   ┆ l   ┆ 088 ┆ 995 ┆ 635 ┆ 196 ┆ 618 ┆ l   ┆ l   ┆ l   ┆ l   ┆ l   ┆ l   ┆ l   ┆ l   ┆ 014 ┆ 321 ┆ 711 ┆ l   ┆ 539 ┆ l   ┆ l   ┆ 761 ┆ l   ┆ 771 ┆ 434 ┆ l   ┆ 798 ┆ 118 ┆ 362 ┆ l   ┆ l   ┆ l   ┆ l   ┆ l   ┆ 948 ┆ 136 ┆ 447 ┆ 141 ┆ 996 ┆ 661 ┆ l   ┆ l   ┆ 780 ┆ 935 ┆ 182 ┆ 181 ┆ 572 │\n",
       "│     ┆     ┆     ┆ 7   ┆     ┆     ┆     ┆     ┆     ┆     ┆ 04  ┆ 57  ┆ 813 ┆     ┆     ┆     ┆ 351 ┆ 018 ┆ 379 ┆     ┆ 86  ┆     ┆ 685 ┆ 56  ┆ 024 ┆     ┆ 949 ┆ 813 ┆ 132 ┆ 894 ┆     ┆     ┆ 15  ┆ 225 ┆ 713 ┆     ┆     ┆     ┆ 42  ┆ 003 ┆ 336 ┆ 461 ┆ 719 ┆     ┆     ┆     ┆     ┆     ┆     ┆     ┆     ┆ 6   ┆ 076 ┆ 265 ┆     ┆ 02  ┆     ┆     ┆ 95  ┆     ┆ 732 ┆ 21  ┆     ┆ 15  ┆ 27  ┆ 24  ┆     ┆     ┆     ┆     ┆     ┆ 601 ┆ 814 ┆ 704 ┆ 761 ┆ 31  ┆ 928 ┆     ┆     ┆ 76  ┆ 81  ┆ 5   ┆ 33  ┆ 82  │\n",
       "└─────┴─────┴─────┴─────┴─────┴─────┴─────┴─────┴─────┴─────┴─────┴─────┴─────┴─────┴─────┴─────┴─────┴─────┴─────┴─────┴─────┴─────┴─────┴─────┴─────┴─────┴─────┴─────┴─────┴─────┴─────┴─────┴─────┴─────┴─────┴─────┴─────┴─────┴─────┴─────┴─────┴─────┴─────┴─────┴─────┴─────┴─────┴─────┴─────┴─────┴─────┴─────┴─────┴─────┴─────┴─────┴─────┴─────┴─────┴─────┴─────┴─────┴─────┴─────┴─────┴─────┴─────┴─────┴─────┴─────┴─────┴─────┴─────┴─────┴─────┴─────┴─────┴─────┴─────┴─────┴─────┴─────┴─────┴─────┘"
      ]
     },
     "execution_count": 4,
     "metadata": {},
     "output_type": "execute_result"
    }
   ],
   "source": [
    "train_df = pl.read_parquet(path + 'train.parquet/').drop(['responder_0', 'responder_1', 'responder_2', 'responder_3', 'responder_4', 'responder_5', 'responder_7', 'responder_8', 'partition_id']).select(pl.all().shrink_dtype())\n",
    "print(train_df.shape)\n",
    "train_df.head()"
   ]
  },
  {
   "cell_type": "code",
   "execution_count": 5,
   "id": "3834f8e8-0f10-4891-a325-5d288f99b503",
   "metadata": {},
   "outputs": [
    {
     "data": {
      "text/plain": [
       "15.282841602"
      ]
     },
     "execution_count": 5,
     "metadata": {},
     "output_type": "execute_result"
    }
   ],
   "source": [
    "train_df.estimated_size() / 1e9"
   ]
  },
  {
   "cell_type": "code",
   "execution_count": 6,
   "id": "be3ffe03-76cd-4ee5-bf7c-940de4646a0a",
   "metadata": {},
   "outputs": [],
   "source": [
    "models_path = path + 'my_folder/models/20250111_01/'\n",
    "if not os.path.exists(models_path):\n",
    "    os.makedirs(models_path)"
   ]
  },
  {
   "cell_type": "code",
   "execution_count": 7,
   "id": "74e04716-a5a1-471c-b452-0a8b5f7a7b00",
   "metadata": {},
   "outputs": [],
   "source": [
    "def lgb_sliding_window(train_data, optuna_n_trials):\n",
    "\n",
    "    #unique_date_ids = sorted(train_data['date_id'].unique())\n",
    "    unique_date_ids = [i for i in range(1110, train_data['date_id'].max()+1)]\n",
    "    #date_ids_df = train_data['date_id'].to_frame()\n",
    "\n",
    "    def objective(trial):\n",
    "        val_window_size = trial.suggest_int('val_window_size', 2, 3)\n",
    "        training_window_size = trial.suggest_int('training_window_size', 170, 350)\n",
    "        #fraction = trial.suggest_float('fraction', 0.05, 0.3)\n",
    "        #sample_df = train_data.sample(fraction=fraction)\n",
    "        #unique_date_ids = [i for i in range(1110, sample_df['date_id'].max()+1)]\n",
    "        base_params = {\n",
    "            'verbosity': -1,\n",
    "            'device': 'gpu',\n",
    "            'early_stopping_round': 20,\n",
    "        }\n",
    "        params_to_tune = {\n",
    "            'learning_rate': trial.suggest_float('learning_rate', 0.04, 0.06),\n",
    "            'max_depth': trial.suggest_int('max_depth', 11, 14),\n",
    "            'min_data_in_leaf': trial.suggest_int('min_data_in_leaf', 10, 80),\n",
    "            'num_leaves': trial.suggest_int('num_leaves', 2000, 6000),\n",
    "            'min_gain_to_split': trial.suggest_float('min_gain_to_split', 0.1, 0.25),\n",
    "            'lambda_l1': trial.suggest_float('lambda_l1', 1, 6),\n",
    "            'lambda_l2': trial.suggest_float('lambda_l2', 1500, 2000),\n",
    "            'feature_fraction': trial.suggest_float('feature_fraction', 0.9, 1),\n",
    "        }\n",
    "\n",
    "        scores_list = []\n",
    "        for i in range(10):\n",
    "            date_id = random.choice(unique_date_ids)\n",
    "    \n",
    "            test_date_id_df = train_data.filter(pl.col('date_id') == date_id)\n",
    "    \n",
    "            val_date_id_cut_lower = date_id - val_window_size\n",
    "            val_window_df = train_data.filter((pl.col('date_id') < date_id)&(pl.col('date_id') >= val_date_id_cut_lower))#.sample(fraction=fraction)\n",
    "    \n",
    "            training_date_id_cut_lower = val_date_id_cut_lower - training_window_size\n",
    "            training_window_df = train_data.filter((pl.col('date_id') < val_date_id_cut_lower)&(pl.col('date_id') >= training_date_id_cut_lower)).sample(n=800000)#.sort(by=['date_id', 'time_id', 'symbol_id'])\n",
    "            #training_window_df = sample_df.filter((pl.col('date_id') >= training_date_id_cut_lower)&(pl.col('date_id') < val_date_id_cut_lower))#.sample(fraction=fraction).sort(by=['date_id', 'time_id', 'symbol_id'])\n",
    "            #training_window_df = train_data.filter(pl.col('date_id') < val_date_id_cut_lower)[-500000:]\n",
    "    \n",
    "            '''\n",
    "            print(date_id)\n",
    "            print('this is training_window_df')\n",
    "            display(training_window_df)\n",
    "            print('training_window_size:', training_window_size)\n",
    "            print('n unique in training_window_df:', training_window_df['date_id'].n_unique())\n",
    "    \n",
    "            print('this is val_window_df')\n",
    "            display(val_window_df)\n",
    "            print('val_window_size:', val_window_size)\n",
    "            print('n unique in training_window_df:', val_window_df['date_id'].n_unique())\n",
    "    \n",
    "            print('this is test_date_id_df')\n",
    "            display(test_date_id_df)\n",
    "            print('n unique in test_date_id_df:', test_date_id_df['date_id'].n_unique())\n",
    "            '''\n",
    "    \n",
    "            #training_window_df = training_window_df.sample(fraction=fraction)\n",
    "                    \n",
    "    \n",
    "            '''\n",
    "            print('this is window_df')\n",
    "            display(window_df)\n",
    "            print('this is date_id_df')\n",
    "            display(date_id_df)\n",
    "            '''\n",
    "        \n",
    "            model = LGBMRegressor(\n",
    "                **base_params,\n",
    "                **params_to_tune,\n",
    "                n_estimators=100000\n",
    "            )\n",
    "        \n",
    "            X_train = training_window_df.drop(['date_id', 'time_id', 'symbol_id', 'weight', 'responder_6']).select(pl.all().shrink_dtype()).to_pandas()\n",
    "            X_val = val_window_df.drop(['date_id', 'time_id', 'symbol_id', 'weight', 'responder_6']).select(pl.all().shrink_dtype()).to_pandas()\n",
    "            X_test = test_date_id_df.drop(['date_id', 'time_id', 'symbol_id', 'weight', 'responder_6']).select(pl.all().shrink_dtype()).to_pandas()\n",
    "        \n",
    "            y_train = training_window_df['responder_6'].to_pandas()\n",
    "            y_val = val_window_df['responder_6'].to_pandas()\n",
    "            y_test = test_date_id_df['responder_6'].to_pandas()\n",
    "        \n",
    "            weights_train = training_window_df['weight'].to_pandas()\n",
    "            weights_val = val_window_df['weight'].to_pandas()\n",
    "            weights_test = test_date_id_df['weight'].to_pandas()\n",
    "        \n",
    "            model.fit(X_train, y_train, sample_weight=weights_train, eval_set=[(X_train, y_train), (X_val, y_val)], eval_sample_weight=[weights_train, weights_val])#, callbacks=[log_evaluation(period=10)])\n",
    "            \n",
    "            test_preds = model.predict(X_test)\n",
    "    \n",
    "            test_score = r2_score(y_test, test_preds, sample_weight=weights_test)\n",
    "\n",
    "            scores_list.append(test_score)\n",
    "\n",
    "        #print('Test Weighted R2 score is:', test_score)\n",
    "\n",
    "        return np.mean(scores_list)\n",
    "\n",
    "    with tqdm(total=optuna_n_trials, desc=\"Optimizing\", unit=\"trial\") as pbar:\n",
    "    \n",
    "        # Define a callback function to update the progress bar\n",
    "        def progress_bar_callback(study, trial):\n",
    "            pbar.update(1)\n",
    "    \n",
    "        study = optuna.create_study(direction=\"maximize\")\n",
    "        study.optimize(objective, n_trials=optuna_n_trials, callbacks=[progress_bar_callback])\n",
    "\n",
    "    return study"
   ]
  },
  {
   "cell_type": "code",
   "execution_count": 8,
   "id": "8bd82087-86f0-4bb0-9054-6b8a249055ce",
   "metadata": {},
   "outputs": [
    {
     "name": "stderr",
     "output_type": "stream",
     "text": [
      "[I 2025-01-11 02:34:55,719] A new study created in memory with name: no-name-789d77b8-3bb7-43c4-855a-a15c7cb7831fial/s]\n",
      "[I 2025-01-11 02:37:25,445] Trial 0 finished with value: 0.010700786102874693 and parameters: {'val_window_size': 3, 'training_window_size': 341, 'learning_rate': 0.04661647781592591, 'max_depth': 11, 'min_data_in_leaf': 65, 'num_leaves': 5656, 'min_gain_to_split': 0.14182977455579598, 'lambda_l1': 1.3388980354558924, 'lambda_l2': 1716.2588067345137, 'feature_fraction': 0.9136945339908228}. Best is trial 0 with value: 0.010700786102874693.\n",
      "[I 2025-01-11 02:44:31,507] Trial 1 finished with value: 0.009858740325321224 and parameters: {'val_window_size': 3, 'training_window_size': 195, 'learning_rate': 0.04145300313884228, 'max_depth': 13, 'min_data_in_leaf': 13, 'num_leaves': 5735, 'min_gain_to_split': 0.20399796737650372, 'lambda_l1': 1.2687452969192028, 'lambda_l2': 1590.6342490042261, 'feature_fraction': 0.9413977663005172}. Best is trial 0 with value: 0.010700786102874693.\n",
      "[I 2025-01-11 02:46:16,891] Trial 2 finished with value: 0.00829784925220225 and parameters: {'val_window_size': 3, 'training_window_size': 262, 'learning_rate': 0.04985425598599706, 'max_depth': 11, 'min_data_in_leaf': 64, 'num_leaves': 5613, 'min_gain_to_split': 0.2238120582357207, 'lambda_l1': 1.238206056327233, 'lambda_l2': 1607.1251118465002, 'feature_fraction': 0.9632165685239286}. Best is trial 0 with value: 0.010700786102874693.\n",
      "[I 2025-01-11 02:50:38,482] Trial 3 finished with value: 0.00578279192126796 and parameters: {'val_window_size': 3, 'training_window_size': 229, 'learning_rate': 0.05680325670957448, 'max_depth': 13, 'min_data_in_leaf': 29, 'num_leaves': 5056, 'min_gain_to_split': 0.1808044097300478, 'lambda_l1': 4.111886624349845, 'lambda_l2': 1808.544299772327, 'feature_fraction': 0.9498432644924032}. Best is trial 0 with value: 0.010700786102874693.\n",
      "[I 2025-01-11 02:53:08,000] Trial 4 finished with value: 0.010029772143092863 and parameters: {'val_window_size': 2, 'training_window_size': 315, 'learning_rate': 0.04819344798485739, 'max_depth': 12, 'min_data_in_leaf': 66, 'num_leaves': 4724, 'min_gain_to_split': 0.2279652070430385, 'lambda_l1': 5.647879765360475, 'lambda_l2': 1878.9815175898066, 'feature_fraction': 0.9177750916285824}. Best is trial 0 with value: 0.010700786102874693.\n",
      "[I 2025-01-11 02:55:58,862] Trial 5 finished with value: 0.0034533506273336178 and parameters: {'val_window_size': 3, 'training_window_size': 171, 'learning_rate': 0.052665717325394525, 'max_depth': 13, 'min_data_in_leaf': 33, 'num_leaves': 2788, 'min_gain_to_split': 0.1071288708621451, 'lambda_l1': 1.64963655831282, 'lambda_l2': 1503.7975163764695, 'feature_fraction': 0.9814353545717333}. Best is trial 0 with value: 0.010700786102874693.\n",
      "[I 2025-01-11 02:59:57,259] Trial 6 finished with value: 0.013015451230523578 and parameters: {'val_window_size': 3, 'training_window_size': 184, 'learning_rate': 0.053782010928118795, 'max_depth': 14, 'min_data_in_leaf': 43, 'num_leaves': 5584, 'min_gain_to_split': 0.21224019335682445, 'lambda_l1': 3.1052507628641104, 'lambda_l2': 1923.1380203276187, 'feature_fraction': 0.9581590508410894}. Best is trial 6 with value: 0.013015451230523578.\n",
      "[I 2025-01-11 03:05:59,018] Trial 7 finished with value: 0.009660440951615789 and parameters: {'val_window_size': 3, 'training_window_size': 327, 'learning_rate': 0.043026596033201386, 'max_depth': 12, 'min_data_in_leaf': 10, 'num_leaves': 3883, 'min_gain_to_split': 0.2026558615785019, 'lambda_l1': 5.229693190122367, 'lambda_l2': 1853.847571364017, 'feature_fraction': 0.9047631981358297}. Best is trial 6 with value: 0.013015451230523578.\n",
      "[I 2025-01-11 03:08:11,438] Trial 8 finished with value: 0.010320953319030112 and parameters: {'val_window_size': 3, 'training_window_size': 244, 'learning_rate': 0.057069950640175726, 'max_depth': 12, 'min_data_in_leaf': 74, 'num_leaves': 3474, 'min_gain_to_split': 0.135361325535371, 'lambda_l1': 4.689252062177833, 'lambda_l2': 1858.5180833245527, 'feature_fraction': 0.9255052101700965}. Best is trial 6 with value: 0.013015451230523578.\n",
      "[I 2025-01-11 03:11:25,498] Trial 9 finished with value: 0.004676160865231005 and parameters: {'val_window_size': 3, 'training_window_size': 303, 'learning_rate': 0.05774268149737482, 'max_depth': 14, 'min_data_in_leaf': 60, 'num_leaves': 5289, 'min_gain_to_split': 0.23190982738940402, 'lambda_l1': 4.987668789122413, 'lambda_l2': 1952.549513277098, 'feature_fraction': 0.9813897388853028}. Best is trial 6 with value: 0.013015451230523578.\n",
      "[I 2025-01-11 03:16:18,566] Trial 10 finished with value: 0.0075935921314226554 and parameters: {'val_window_size': 2, 'training_window_size': 210, 'learning_rate': 0.05325941770026425, 'max_depth': 14, 'min_data_in_leaf': 46, 'num_leaves': 2078, 'min_gain_to_split': 0.17093917356920751, 'lambda_l1': 2.7559600894832283, 'lambda_l2': 1959.4201508974963, 'feature_fraction': 0.9670464870585193}. Best is trial 6 with value: 0.013015451230523578.\n",
      "[I 2025-01-11 03:19:01,110] Trial 11 finished with value: 0.00866781628049077 and parameters: {'val_window_size': 2, 'training_window_size': 283, 'learning_rate': 0.045765746443131576, 'max_depth': 11, 'min_data_in_leaf': 47, 'num_leaves': 4536, 'min_gain_to_split': 0.14743570220779334, 'lambda_l1': 2.730818469467647, 'lambda_l2': 1698.7271202305217, 'feature_fraction': 0.9339951407753958}. Best is trial 6 with value: 0.013015451230523578.\n",
      "[I 2025-01-11 03:23:23,225] Trial 12 finished with value: 0.011158434002869245 and parameters: {'val_window_size': 3, 'training_window_size': 347, 'learning_rate': 0.05294051327978738, 'max_depth': 14, 'min_data_in_leaf': 80, 'num_leaves': 5832, 'min_gain_to_split': 0.14127221396165615, 'lambda_l1': 2.517703107482551, 'lambda_l2': 1727.18391038366, 'feature_fraction': 0.9039142632458959}. Best is trial 6 with value: 0.013015451230523578.\n",
      "[I 2025-01-11 03:26:21,957] Trial 13 finished with value: 0.0060499815352837326 and parameters: {'val_window_size': 3, 'training_window_size': 275, 'learning_rate': 0.05317928189203695, 'max_depth': 14, 'min_data_in_leaf': 79, 'num_leaves': 6000, 'min_gain_to_split': 0.1069664134112607, 'lambda_l1': 3.00354369917927, 'lambda_l2': 1767.8775893016789, 'feature_fraction': 0.9984022141676197}. Best is trial 6 with value: 0.013015451230523578.\n",
      "[I 2025-01-11 03:30:30,883] Trial 14 finished with value: 0.007154897101246482 and parameters: {'val_window_size': 2, 'training_window_size': 170, 'learning_rate': 0.05505089244758558, 'max_depth': 14, 'min_data_in_leaf': 35, 'num_leaves': 4521, 'min_gain_to_split': 0.24807357380837797, 'lambda_l1': 3.5973376279128644, 'lambda_l2': 1999.9096774507716, 'feature_fraction': 0.9010372580198692}. Best is trial 6 with value: 0.013015451230523578.\n",
      "[I 2025-01-11 03:34:44,266] Trial 15 finished with value: 0.010526389975610496 and parameters: {'val_window_size': 3, 'training_window_size': 348, 'learning_rate': 0.051312206916937594, 'max_depth': 13, 'min_data_in_leaf': 53, 'num_leaves': 5149, 'min_gain_to_split': 0.16833071968467667, 'lambda_l1': 2.089249377367752, 'lambda_l2': 1666.169742828379, 'feature_fraction': 0.9576723548330269}. Best is trial 6 with value: 0.013015451230523578.\n",
      "[I 2025-01-11 03:39:37,406] Trial 16 finished with value: 0.008099324622247129 and parameters: {'val_window_size': 3, 'training_window_size': 293, 'learning_rate': 0.055201943979486294, 'max_depth': 14, 'min_data_in_leaf': 25, 'num_leaves': 4078, 'min_gain_to_split': 0.19344098979791302, 'lambda_l1': 2.278487039118892, 'lambda_l2': 1792.385156233728, 'feature_fraction': 0.9399399061239739}. Best is trial 6 with value: 0.013015451230523578.\n",
      "[I 2025-01-11 03:43:47,690] Trial 17 finished with value: 0.0067395714283963295 and parameters: {'val_window_size': 2, 'training_window_size': 232, 'learning_rate': 0.05894424856882149, 'max_depth': 14, 'min_data_in_leaf': 39, 'num_leaves': 5953, 'min_gain_to_split': 0.12536449881552206, 'lambda_l1': 3.6678213847370724, 'lambda_l2': 1913.1220691748122, 'feature_fraction': 0.9740377974738647}. Best is trial 6 with value: 0.013015451230523578.\n",
      "[I 2025-01-11 03:46:50,691] Trial 18 finished with value: 0.009623382697226068 and parameters: {'val_window_size': 3, 'training_window_size': 194, 'learning_rate': 0.04963068470924385, 'max_depth': 13, 'min_data_in_leaf': 56, 'num_leaves': 5232, 'min_gain_to_split': 0.15448249420425983, 'lambda_l1': 4.090665914564298, 'lambda_l2': 1629.9697827545058, 'feature_fraction': 0.9300565280992306}. Best is trial 6 with value: 0.013015451230523578.\n",
      "[I 2025-01-11 03:51:55,147] Trial 19 finished with value: 0.005253087239879073 and parameters: {'val_window_size': 3, 'training_window_size': 255, 'learning_rate': 0.05494840806353317, 'max_depth': 14, 'min_data_in_leaf': 20, 'num_leaves': 3209, 'min_gain_to_split': 0.21320773481868407, 'lambda_l1': 3.095705372511249, 'lambda_l2': 1735.3254256797588, 'feature_fraction': 0.9498891372671178}. Best is trial 6 with value: 0.013015451230523578.\n",
      "[I 2025-01-11 03:55:56,031] Trial 20 finished with value: -0.011473803681341266 and parameters: {'val_window_size': 2, 'training_window_size': 214, 'learning_rate': 0.059576277749061615, 'max_depth': 13, 'min_data_in_leaf': 41, 'num_leaves': 4815, 'min_gain_to_split': 0.18470055334696447, 'lambda_l1': 2.162385876876699, 'lambda_l2': 1543.910127206709, 'feature_fraction': 0.9963485017207696}. Best is trial 6 with value: 0.013015451230523578.\n",
      "[I 2025-01-11 03:58:37,286] Trial 21 finished with value: 0.009421505723936918 and parameters: {'val_window_size': 3, 'training_window_size': 350, 'learning_rate': 0.04629442173294343, 'max_depth': 11, 'min_data_in_leaf': 73, 'num_leaves': 5608, 'min_gain_to_split': 0.15300697823636494, 'lambda_l1': 1.720000962896883, 'lambda_l2': 1723.6623010468327, 'feature_fraction': 0.9132264586268717}. Best is trial 6 with value: 0.013015451230523578.\n",
      "[I 2025-01-11 04:01:35,191] Trial 22 finished with value: 0.009300447150252255 and parameters: {'val_window_size': 3, 'training_window_size': 332, 'learning_rate': 0.04706837613692422, 'max_depth': 12, 'min_data_in_leaf': 80, 'num_leaves': 5505, 'min_gain_to_split': 0.1259616639463274, 'lambda_l1': 2.2887904116780997, 'lambda_l2': 1680.4689814483986, 'feature_fraction': 0.9147448202586329}. Best is trial 6 with value: 0.013015451230523578.\n",
      "[I 2025-01-11 04:04:37,392] Trial 23 finished with value: 0.01365709611401883 and parameters: {'val_window_size': 3, 'training_window_size': 319, 'learning_rate': 0.044546886598664924, 'max_depth': 11, 'min_data_in_leaf': 70, 'num_leaves': 4294, 'min_gain_to_split': 0.14219542038049537, 'lambda_l1': 1.0685944518180925, 'lambda_l2': 1803.0040114504866, 'feature_fraction': 0.9091429147869137}. Best is trial 23 with value: 0.01365709611401883.\n",
      "[I 2025-01-11 04:07:17,414] Trial 24 finished with value: 0.00838698610387828 and parameters: {'val_window_size': 3, 'training_window_size': 314, 'learning_rate': 0.04407036820758022, 'max_depth': 12, 'min_data_in_leaf': 71, 'num_leaves': 4377, 'min_gain_to_split': 0.1667293716577323, 'lambda_l1': 3.2245872279482795, 'lambda_l2': 1824.4707326659795, 'feature_fraction': 0.9229957581130231}. Best is trial 23 with value: 0.01365709611401883.\n",
      "[I 2025-01-11 04:11:07,090] Trial 25 finished with value: 0.008926887419950591 and parameters: {'val_window_size': 3, 'training_window_size': 328, 'learning_rate': 0.05137668054856539, 'max_depth': 14, 'min_data_in_leaf': 52, 'num_leaves': 4014, 'min_gain_to_split': 0.121829995322046, 'lambda_l1': 1.7670382550793797, 'lambda_l2': 1763.440284343219, 'feature_fraction': 0.9001762680087875}. Best is trial 23 with value: 0.01365709611401883.\n",
      "[I 2025-01-11 04:14:59,324] Trial 26 finished with value: 0.007377261330879958 and parameters: {'val_window_size': 3, 'training_window_size': 309, 'learning_rate': 0.040182706660981275, 'max_depth': 13, 'min_data_in_leaf': 69, 'num_leaves': 4913, 'min_gain_to_split': 0.16055511618588425, 'lambda_l1': 2.540261637369806, 'lambda_l2': 1898.2620957228166, 'feature_fraction': 0.906224292313073}. Best is trial 23 with value: 0.01365709611401883.\n",
      "[I 2025-01-11 04:16:53,049] Trial 27 finished with value: 0.01554696124738809 and parameters: {'val_window_size': 3, 'training_window_size': 293, 'learning_rate': 0.05167472107842753, 'max_depth': 11, 'min_data_in_leaf': 76, 'num_leaves': 2734, 'min_gain_to_split': 0.1359542613113744, 'lambda_l1': 3.8248041048702346, 'lambda_l2': 1832.6339687548957, 'feature_fraction': 0.9398959405466497}. Best is trial 27 with value: 0.01554696124738809.\n",
      "[I 2025-01-11 04:19:16,290] Trial 28 finished with value: 0.008561734501868357 and parameters: {'val_window_size': 3, 'training_window_size': 290, 'learning_rate': 0.04821496637993368, 'max_depth': 11, 'min_data_in_leaf': 60, 'num_leaves': 2337, 'min_gain_to_split': 0.11651018772713623, 'lambda_l1': 4.189108681118328, 'lambda_l2': 1919.5061469720902, 'feature_fraction': 0.9556530955701983}. Best is trial 27 with value: 0.01554696124738809.\n",
      "[I 2025-01-11 04:21:49,443] Trial 29 finished with value: 0.007916910869151094 and parameters: {'val_window_size': 3, 'training_window_size': 276, 'learning_rate': 0.044545523530601906, 'max_depth': 11, 'min_data_in_leaf': 62, 'num_leaves': 3342, 'min_gain_to_split': 0.1354774958329027, 'lambda_l1': 4.556457632851263, 'lambda_l2': 1839.294592949554, 'feature_fraction': 0.9342839317525212}. Best is trial 27 with value: 0.01554696124738809.\n",
      "[I 2025-01-11 04:23:33,582] Trial 30 finished with value: 0.007040181711746929 and parameters: {'val_window_size': 3, 'training_window_size': 300, 'learning_rate': 0.05079853508519676, 'max_depth': 11, 'min_data_in_leaf': 49, 'num_leaves': 2840, 'min_gain_to_split': 0.24599312619801117, 'lambda_l1': 3.841151915874748, 'lambda_l2': 1946.7688063344037, 'feature_fraction': 0.944139479556245}. Best is trial 27 with value: 0.01554696124738809.\n",
      "[I 2025-01-11 04:25:38,935] Trial 31 finished with value: 0.014455308461834826 and parameters: {'val_window_size': 3, 'training_window_size': 336, 'learning_rate': 0.05401525148534387, 'max_depth': 11, 'min_data_in_leaf': 76, 'num_leaves': 2940, 'min_gain_to_split': 0.14156522185344586, 'lambda_l1': 3.261596488559787, 'lambda_l2': 1807.510964325483, 'feature_fraction': 0.908181737819895}. Best is trial 27 with value: 0.01554696124738809.\n",
      "[I 2025-01-11 04:27:39,128] Trial 32 finished with value: 0.008634913336597383 and parameters: {'val_window_size': 3, 'training_window_size': 332, 'learning_rate': 0.054580248722556166, 'max_depth': 11, 'min_data_in_leaf': 74, 'num_leaves': 2665, 'min_gain_to_split': 0.1364993611574699, 'lambda_l1': 3.482395948702032, 'lambda_l2': 1773.5648565883857, 'feature_fraction': 0.9094406966402594}. Best is trial 27 with value: 0.01554696124738809.\n",
      "[I 2025-01-11 04:29:39,342] Trial 33 finished with value: 0.0050101411789181816 and parameters: {'val_window_size': 3, 'training_window_size': 319, 'learning_rate': 0.04921084120419208, 'max_depth': 11, 'min_data_in_leaf': 67, 'num_leaves': 3594, 'min_gain_to_split': 0.15008480576361907, 'lambda_l1': 3.305398145641506, 'lambda_l2': 1800.562557829068, 'feature_fraction': 0.9224214382548199}. Best is trial 27 with value: 0.01554696124738809.\n",
      "[I 2025-01-11 04:32:04,456] Trial 34 finished with value: 0.010753382520265132 and parameters: {'val_window_size': 3, 'training_window_size': 262, 'learning_rate': 0.051765942672150136, 'max_depth': 11, 'min_data_in_leaf': 75, 'num_leaves': 2954, 'min_gain_to_split': 0.18080373437253303, 'lambda_l1': 4.514873776764057, 'lambda_l2': 1829.1022960043788, 'feature_fraction': 0.967522670538606}. Best is trial 27 with value: 0.01554696124738809.\n",
      "[I 2025-01-11 04:34:45,010] Trial 35 finished with value: 0.007730772892561921 and parameters: {'val_window_size': 3, 'training_window_size': 322, 'learning_rate': 0.05603174753117777, 'max_depth': 12, 'min_data_in_leaf': 42, 'num_leaves': 2458, 'min_gain_to_split': 0.11369047744889008, 'lambda_l1': 3.7806267002519958, 'lambda_l2': 1881.1259221753987, 'feature_fraction': 0.9420835744118529}. Best is trial 27 with value: 0.01554696124738809.\n",
      "[I 2025-01-11 04:36:53,580] Trial 36 finished with value: 0.006117687222464352 and parameters: {'val_window_size': 3, 'training_window_size': 337, 'learning_rate': 0.053924332275243285, 'max_depth': 11, 'min_data_in_leaf': 65, 'num_leaves': 3113, 'min_gain_to_split': 0.15905742178695803, 'lambda_l1': 1.4045551756472103, 'lambda_l2': 1870.3129123925394, 'feature_fraction': 0.9560877678076507}. Best is trial 27 with value: 0.01554696124738809.\n",
      "[I 2025-01-11 04:39:48,898] Trial 37 finished with value: 0.009492470803624697 and parameters: {'val_window_size': 3, 'training_window_size': 304, 'learning_rate': 0.04165770608820507, 'max_depth': 12, 'min_data_in_leaf': 69, 'num_leaves': 2032, 'min_gain_to_split': 0.10078686577958658, 'lambda_l1': 2.830466509894698, 'lambda_l2': 1808.821439263377, 'feature_fraction': 0.91792060073412}. Best is trial 27 with value: 0.01554696124738809.\n",
      "[I 2025-01-11 04:41:35,641] Trial 38 finished with value: 0.008830608667040728 and parameters: {'val_window_size': 3, 'training_window_size': 192, 'learning_rate': 0.04753132956312788, 'max_depth': 11, 'min_data_in_leaf': 77, 'num_leaves': 3724, 'min_gain_to_split': 0.2189250422836085, 'lambda_l1': 5.752606536626742, 'lambda_l2': 1984.094944130419, 'feature_fraction': 0.910709287036459}. Best is trial 27 with value: 0.01554696124738809.\n",
      "[I 2025-01-11 04:44:48,384] Trial 39 finished with value: 0.007239783532011712 and parameters: {'val_window_size': 3, 'training_window_size': 269, 'learning_rate': 0.050269915866012024, 'max_depth': 12, 'min_data_in_leaf': 58, 'num_leaves': 4239, 'min_gain_to_split': 0.19760838883536255, 'lambda_l1': 4.264095228612998, 'lambda_l2': 1849.2671600673186, 'feature_fraction': 0.9463828405518745}. Best is trial 27 with value: 0.01554696124738809.\n",
      "[I 2025-01-11 04:46:22,846] Trial 40 finished with value: 0.007427289411725424 and parameters: {'val_window_size': 3, 'training_window_size': 183, 'learning_rate': 0.055954735530019985, 'max_depth': 11, 'min_data_in_leaf': 29, 'num_leaves': 2468, 'min_gain_to_split': 0.14481077751423463, 'lambda_l1': 1.1370778142670708, 'lambda_l2': 1929.6961463854964, 'feature_fraction': 0.9282071017800811}. Best is trial 27 with value: 0.01554696124738809.\n",
      "[I 2025-01-11 04:48:56,497] Trial 41 finished with value: 0.005674222240657856 and parameters: {'val_window_size': 3, 'training_window_size': 340, 'learning_rate': 0.052814537034233014, 'max_depth': 13, 'min_data_in_leaf': 80, 'num_leaves': 5786, 'min_gain_to_split': 0.1399189240344874, 'lambda_l1': 3.3919533553040235, 'lambda_l2': 1732.2195604367207, 'feature_fraction': 0.907302056322575}. Best is trial 27 with value: 0.01554696124738809.\n",
      "[I 2025-01-11 04:51:20,614] Trial 42 finished with value: 0.008888043702160587 and parameters: {'val_window_size': 3, 'training_window_size': 342, 'learning_rate': 0.05238910144860151, 'max_depth': 11, 'min_data_in_leaf': 76, 'num_leaves': 5599, 'min_gain_to_split': 0.13259781318517022, 'lambda_l1': 2.5766810132080145, 'lambda_l2': 1791.6659230593757, 'feature_fraction': 0.9175499295235334}. Best is trial 27 with value: 0.01554696124738809.\n",
      "[I 2025-01-11 04:54:30,962] Trial 43 finished with value: 0.004969793016409696 and parameters: {'val_window_size': 3, 'training_window_size': 320, 'learning_rate': 0.05389600554024377, 'max_depth': 14, 'min_data_in_leaf': 71, 'num_leaves': 5368, 'min_gain_to_split': 0.12983722518431742, 'lambda_l1': 1.0113066623181042, 'lambda_l2': 1752.9730334297776, 'feature_fraction': 0.9053268699783861}. Best is trial 27 with value: 0.01554696124738809.\n",
      "[I 2025-01-11 04:57:06,214] Trial 44 finished with value: 0.008370344179887756 and parameters: {'val_window_size': 3, 'training_window_size': 345, 'learning_rate': 0.04906595315275951, 'max_depth': 12, 'min_data_in_leaf': 76, 'num_leaves': 5801, 'min_gain_to_split': 0.14432066661066403, 'lambda_l1': 2.982536275759488, 'lambda_l2': 1691.682355463366, 'feature_fraction': 0.9612991042650597}. Best is trial 27 with value: 0.01554696124738809.\n",
      "[I 2025-01-11 04:59:21,321] Trial 45 finished with value: 0.00537622465196681 and parameters: {'val_window_size': 3, 'training_window_size': 252, 'learning_rate': 0.05203749987639339, 'max_depth': 11, 'min_data_in_leaf': 65, 'num_leaves': 2258, 'min_gain_to_split': 0.15736850315347958, 'lambda_l1': 3.9451026357809056, 'lambda_l2': 1889.501663416245, 'feature_fraction': 0.9354026564655372}. Best is trial 27 with value: 0.01554696124738809.\n",
      "[I 2025-01-11 05:02:29,198] Trial 46 finished with value: 0.006464439729919358 and parameters: {'val_window_size': 3, 'training_window_size': 311, 'learning_rate': 0.05746069639090828, 'max_depth': 14, 'min_data_in_leaf': 71, 'num_leaves': 3808, 'min_gain_to_split': 0.11652658087805126, 'lambda_l1': 5.423220252533154, 'lambda_l2': 1649.4418540529198, 'feature_fraction': 0.9746576293032088}. Best is trial 27 with value: 0.01554696124738809.\n",
      "[I 2025-01-11 05:06:35,255] Trial 47 finished with value: 0.019469278682762915 and parameters: {'val_window_size': 2, 'training_window_size': 296, 'learning_rate': 0.0536374109465744, 'max_depth': 14, 'min_data_in_leaf': 78, 'num_leaves': 5071, 'min_gain_to_split': 0.14337170358726214, 'lambda_l1': 1.9610540335324638, 'lambda_l2': 1708.4448845263755, 'feature_fraction': 0.9010443799223739}. Best is trial 47 with value: 0.019469278682762915.\n",
      "[I 2025-01-11 05:10:14,386] Trial 48 finished with value: 0.005226870247222781 and parameters: {'val_window_size': 2, 'training_window_size': 289, 'learning_rate': 0.053942625566716966, 'max_depth': 13, 'min_data_in_leaf': 34, 'num_leaves': 5008, 'min_gain_to_split': 0.17555417048081856, 'lambda_l1': 1.4346961688086535, 'lambda_l2': 1783.5246977727413, 'feature_fraction': 0.9186849079721677}. Best is trial 47 with value: 0.019469278682762915.\n",
      "[I 2025-01-11 05:12:42,946] Trial 49 finished with value: -0.01018707122330902 and parameters: {'val_window_size': 2, 'training_window_size': 298, 'learning_rate': 0.05637425690791535, 'max_depth': 11, 'min_data_in_leaf': 68, 'num_leaves': 4657, 'min_gain_to_split': 0.16609446565406782, 'lambda_l1': 1.8614992708680824, 'lambda_l2': 1702.6778053038795, 'feature_fraction': 0.9109507842497618}. Best is trial 47 with value: 0.019469278682762915.\n",
      "[I 2025-01-11 05:16:29,422] Trial 50 finished with value: 0.0067011953279832335 and parameters: {'val_window_size': 2, 'training_window_size': 280, 'learning_rate': 0.05809589248172517, 'max_depth': 14, 'min_data_in_leaf': 62, 'num_leaves': 5382, 'min_gain_to_split': 0.14770930070671226, 'lambda_l1': 1.9583516022498184, 'lambda_l2': 1822.5293009638067, 'feature_fraction': 0.9023672065967627}. Best is trial 47 with value: 0.019469278682762915.\n",
      "[I 2025-01-11 05:20:07,001] Trial 51 finished with value: 0.00940309834960521 and parameters: {'val_window_size': 2, 'training_window_size': 325, 'learning_rate': 0.05310647442022447, 'max_depth': 14, 'min_data_in_leaf': 78, 'num_leaves': 5092, 'min_gain_to_split': 0.14078154839533147, 'lambda_l1': 2.4073674884394003, 'lambda_l2': 1743.6585581803508, 'feature_fraction': 0.9034121747336753}. Best is trial 47 with value: 0.019469278682762915.\n",
      "[I 2025-01-11 05:24:56,722] Trial 52 finished with value: 0.0076285613096117475 and parameters: {'val_window_size': 2, 'training_window_size': 335, 'learning_rate': 0.05030644081026154, 'max_depth': 14, 'min_data_in_leaf': 80, 'num_leaves': 5873, 'min_gain_to_split': 0.12814829920990156, 'lambda_l1': 2.8056957264135476, 'lambda_l2': 1863.0708744899644, 'feature_fraction': 0.9077654625987739}. Best is trial 47 with value: 0.019469278682762915.\n",
      "[I 2025-01-11 05:28:57,859] Trial 53 finished with value: 0.010324703141307234 and parameters: {'val_window_size': 3, 'training_window_size': 233, 'learning_rate': 0.055420186363305965, 'max_depth': 14, 'min_data_in_leaf': 73, 'num_leaves': 4239, 'min_gain_to_split': 0.23559604774006562, 'lambda_l1': 1.5994966569082394, 'lambda_l2': 1710.0591725741558, 'feature_fraction': 0.9001468810973373}. Best is trial 47 with value: 0.019469278682762915.\n",
      "[I 2025-01-11 05:32:52,082] Trial 54 finished with value: 0.014832379213279378 and parameters: {'val_window_size': 3, 'training_window_size': 210, 'learning_rate': 0.053733953716069684, 'max_depth': 14, 'min_data_in_leaf': 78, 'num_leaves': 5417, 'min_gain_to_split': 0.1203206705500432, 'lambda_l1': 3.011548036723585, 'lambda_l2': 1598.0322241737604, 'feature_fraction': 0.9138350433162169}. Best is trial 47 with value: 0.019469278682762915.\n",
      "[I 2025-01-11 05:36:51,998] Trial 55 finished with value: 0.009885088769385496 and parameters: {'val_window_size': 3, 'training_window_size': 180, 'learning_rate': 0.053587279570694035, 'max_depth': 14, 'min_data_in_leaf': 44, 'num_leaves': 5214, 'min_gain_to_split': 0.12127139691359015, 'lambda_l1': 3.5965082877787835, 'lambda_l2': 1567.168464754245, 'feature_fraction': 0.9149480418406271}. Best is trial 47 with value: 0.019469278682762915.\n",
      "[I 2025-01-11 05:39:29,826] Trial 56 finished with value: 0.006787757469748357 and parameters: {'val_window_size': 2, 'training_window_size': 215, 'learning_rate': 0.05457731278266281, 'max_depth': 13, 'min_data_in_leaf': 73, 'num_leaves': 5529, 'min_gain_to_split': 0.10921912758644672, 'lambda_l1': 3.136099846529925, 'lambda_l2': 1517.205966997618, 'feature_fraction': 0.9233786551579768}. Best is trial 47 with value: 0.019469278682762915.\n",
      "[I 2025-01-11 05:44:06,867] Trial 57 finished with value: 0.011594641668463069 and parameters: {'val_window_size': 3, 'training_window_size': 205, 'learning_rate': 0.05128389394250202, 'max_depth': 14, 'min_data_in_leaf': 37, 'num_leaves': 4734, 'min_gain_to_split': 0.19035807942355698, 'lambda_l1': 4.8972163899626935, 'lambda_l2': 1619.72337801943, 'feature_fraction': 0.9308247969265169}. Best is trial 47 with value: 0.019469278682762915.\n",
      "[I 2025-01-11 05:47:45,269] Trial 58 finished with value: 0.011026625695497005 and parameters: {'val_window_size': 3, 'training_window_size': 224, 'learning_rate': 0.0520008511314216, 'max_depth': 14, 'min_data_in_leaf': 77, 'num_leaves': 2651, 'min_gain_to_split': 0.12423526050834723, 'lambda_l1': 2.9610837433900827, 'lambda_l2': 1651.9408092724727, 'feature_fraction': 0.9929262762553676}. Best is trial 47 with value: 0.019469278682762915.\n",
      "[I 2025-01-11 05:50:29,415] Trial 59 finished with value: 0.003701379520784487 and parameters: {'val_window_size': 3, 'training_window_size': 203, 'learning_rate': 0.0568490437707962, 'max_depth': 13, 'min_data_in_leaf': 53, 'num_leaves': 3105, 'min_gain_to_split': 0.20486112241286478, 'lambda_l1': 2.063892535161374, 'lambda_l2': 1813.3310657000168, 'feature_fraction': 0.9142244924456037}. Best is trial 47 with value: 0.019469278682762915.\n",
      "[I 2025-01-11 05:52:24,600] Trial 60 finished with value: 0.010744475900644312 and parameters: {'val_window_size': 2, 'training_window_size': 242, 'learning_rate': 0.055437259758537236, 'max_depth': 12, 'min_data_in_leaf': 72, 'num_leaves': 3420, 'min_gain_to_split': 0.13354795864003463, 'lambda_l1': 3.45870822408437, 'lambda_l2': 1606.5583005230085, 'feature_fraction': 0.9668158811230589}. Best is trial 47 with value: 0.019469278682762915.\n",
      "[I 2025-01-11 05:56:33,714] Trial 61 finished with value: 0.008417110703645847 and parameters: {'val_window_size': 3, 'training_window_size': 205, 'learning_rate': 0.05111473757106359, 'max_depth': 14, 'min_data_in_leaf': 39, 'num_leaves': 4608, 'min_gain_to_split': 0.20256817535047666, 'lambda_l1': 5.1220361635578024, 'lambda_l2': 1580.2136033794054, 'feature_fraction': 0.9383348426266808}. Best is trial 47 with value: 0.019469278682762915.\n",
      "[I 2025-01-11 06:00:13,308] Trial 62 finished with value: 0.009435896813932199 and parameters: {'val_window_size': 3, 'training_window_size': 185, 'learning_rate': 0.05259412080830386, 'max_depth': 14, 'min_data_in_leaf': 37, 'num_leaves': 4765, 'min_gain_to_split': 0.1631761339289453, 'lambda_l1': 4.717062119430409, 'lambda_l2': 1631.088496062797, 'feature_fraction': 0.9304804756547672}. Best is trial 47 with value: 0.019469278682762915.\n",
      "[I 2025-01-11 06:05:01,981] Trial 63 finished with value: 0.013728193997733684 and parameters: {'val_window_size': 3, 'training_window_size': 200, 'learning_rate': 0.05433440708111574, 'max_depth': 14, 'min_data_in_leaf': 30, 'num_leaves': 4969, 'min_gain_to_split': 0.18993029769465855, 'lambda_l1': 4.814658587284854, 'lambda_l2': 1549.8902544580926, 'feature_fraction': 0.9532494610749731}. Best is trial 47 with value: 0.019469278682762915.\n",
      "[I 2025-01-11 06:09:36,355] Trial 64 finished with value: 0.0072725069987702225 and parameters: {'val_window_size': 3, 'training_window_size': 190, 'learning_rate': 0.05448972422390721, 'max_depth': 14, 'min_data_in_leaf': 31, 'num_leaves': 4909, 'min_gain_to_split': 0.15303029832668097, 'lambda_l1': 5.920540917284362, 'lambda_l2': 1542.7517311750923, 'feature_fraction': 0.9504123258122978}. Best is trial 47 with value: 0.019469278682762915.\n",
      "[I 2025-01-11 06:13:57,898] Trial 65 finished with value: 0.009013133656902738 and parameters: {'val_window_size': 3, 'training_window_size': 175, 'learning_rate': 0.05357444730053837, 'max_depth': 14, 'min_data_in_leaf': 18, 'num_leaves': 4419, 'min_gain_to_split': 0.17489202505975426, 'lambda_l1': 4.035942594200093, 'lambda_l2': 1506.234452467806, 'feature_fraction': 0.9525517711142796}. Best is trial 47 with value: 0.019469278682762915.\n",
      "[I 2025-01-11 06:16:22,314] Trial 66 finished with value: 0.008039953349172391 and parameters: {'val_window_size': 3, 'training_window_size': 221, 'learning_rate': 0.04560076033158191, 'max_depth': 11, 'min_data_in_leaf': 25, 'num_leaves': 5427, 'min_gain_to_split': 0.21140325566396917, 'lambda_l1': 4.306222675846499, 'lambda_l2': 1552.2742261177107, 'feature_fraction': 0.9472118265602067}. Best is trial 47 with value: 0.019469278682762915.\n",
      "[I 2025-01-11 06:22:17,736] Trial 67 finished with value: 0.011526984169052679 and parameters: {'val_window_size': 3, 'training_window_size': 307, 'learning_rate': 0.054298129855675184, 'max_depth': 14, 'min_data_in_leaf': 15, 'num_leaves': 5689, 'min_gain_to_split': 0.1388215340219183, 'lambda_l1': 2.710968948522104, 'lambda_l2': 1592.803632520328, 'feature_fraction': 0.9599582569583824}. Best is trial 47 with value: 0.019469278682762915.\n",
      "[I 2025-01-11 06:24:52,316] Trial 68 finished with value: 0.0015468039983879578 and parameters: {'val_window_size': 3, 'training_window_size': 200, 'learning_rate': 0.05506299147330535, 'max_depth': 11, 'min_data_in_leaf': 78, 'num_leaves': 4946, 'min_gain_to_split': 0.18609968439362898, 'lambda_l1': 1.5455886594740011, 'lambda_l2': 1526.2823239385384, 'feature_fraction': 0.9644229628263059}. Best is trial 47 with value: 0.019469278682762915.\n",
      "[I 2025-01-11 06:27:51,331] Trial 69 finished with value: 0.007597717972176043 and parameters: {'val_window_size': 3, 'training_window_size': 268, 'learning_rate': 0.04228275471553696, 'max_depth': 13, 'min_data_in_leaf': 70, 'num_leaves': 4140, 'min_gain_to_split': 0.2254508105456226, 'lambda_l1': 1.2848155741715743, 'lambda_l2': 1845.5162350532273, 'feature_fraction': 0.9533174105914148}. Best is trial 47 with value: 0.019469278682762915.\n",
      "[I 2025-01-11 06:32:09,661] Trial 70 finished with value: 0.008574718446748697 and parameters: {'val_window_size': 3, 'training_window_size': 315, 'learning_rate': 0.053090954830363406, 'max_depth': 14, 'min_data_in_leaf': 50, 'num_leaves': 5141, 'min_gain_to_split': 0.12050978828777224, 'lambda_l1': 3.1970934635250177, 'lambda_l2': 1961.9811175368316, 'feature_fraction': 0.9117995008237897}. Best is trial 47 with value: 0.019469278682762915.\n",
      "[I 2025-01-11 06:36:51,450] Trial 71 finished with value: 0.004863699351086037 and parameters: {'val_window_size': 3, 'training_window_size': 211, 'learning_rate': 0.050930712552912344, 'max_depth': 14, 'min_data_in_leaf': 36, 'num_leaves': 4791, 'min_gain_to_split': 0.19138822346863057, 'lambda_l1': 4.785645529207407, 'lambda_l2': 1617.5753145244735, 'feature_fraction': 0.9394386114056268}. Best is trial 47 with value: 0.019469278682762915.\n",
      "[I 2025-01-11 06:42:10,018] Trial 72 finished with value: 0.01911626653760847 and parameters: {'val_window_size': 3, 'training_window_size': 199, 'learning_rate': 0.05188611068537262, 'max_depth': 14, 'min_data_in_leaf': 23, 'num_leaves': 5286, 'min_gain_to_split': 0.1901504521376867, 'lambda_l1': 5.371744670564063, 'lambda_l2': 1584.3620520154084, 'feature_fraction': 0.9206885825475963}. Best is trial 47 with value: 0.019469278682762915.\n",
      "[I 2025-01-11 06:47:33,378] Trial 73 finished with value: 0.009299471555325612 and parameters: {'val_window_size': 3, 'training_window_size': 188, 'learning_rate': 0.05232177835675129, 'max_depth': 14, 'min_data_in_leaf': 22, 'num_leaves': 5203, 'min_gain_to_split': 0.19672376758777113, 'lambda_l1': 5.229545211403352, 'lambda_l2': 1565.6161955377127, 'feature_fraction': 0.9198062657352913}. Best is trial 47 with value: 0.019469278682762915.\n",
      "[I 2025-01-11 06:53:19,497] Trial 74 finished with value: 0.005152838095454593 and parameters: {'val_window_size': 3, 'training_window_size': 197, 'learning_rate': 0.049834536112323954, 'max_depth': 14, 'min_data_in_leaf': 29, 'num_leaves': 5299, 'min_gain_to_split': 0.20852450762624924, 'lambda_l1': 5.573812778398171, 'lambda_l2': 1591.7299457405209, 'feature_fraction': 0.9086905829448492}. Best is trial 47 with value: 0.019469278682762915.\n",
      "[I 2025-01-11 07:01:38,627] Trial 75 finished with value: 0.008058291879333723 and parameters: {'val_window_size': 3, 'training_window_size': 297, 'learning_rate': 0.05171617861139923, 'max_depth': 14, 'min_data_in_leaf': 26, 'num_leaves': 5505, 'min_gain_to_split': 0.17892581520371856, 'lambda_l1': 4.438076274794431, 'lambda_l2': 1773.9439136453734, 'feature_fraction': 0.9267744037522799}. Best is trial 47 with value: 0.019469278682762915.\n",
      "[I 2025-01-11 07:03:41,784] Trial 76 finished with value: 0.004836592141781304 and parameters: {'val_window_size': 3, 'training_window_size': 176, 'learning_rate': 0.05586958165878041, 'max_depth': 11, 'min_data_in_leaf': 75, 'num_leaves': 5290, 'min_gain_to_split': 0.2214537879510548, 'lambda_l1': 2.2840129163373657, 'lambda_l2': 1757.0381380363883, 'feature_fraction': 0.9043235678092642}. Best is trial 47 with value: 0.019469278682762915.\n",
      "[I 2025-01-11 07:12:21,953] Trial 77 finished with value: 0.008206025444450694 and parameters: {'val_window_size': 3, 'training_window_size': 285, 'learning_rate': 0.04021246270236565, 'max_depth': 14, 'min_data_in_leaf': 10, 'num_leaves': 5675, 'min_gain_to_split': 0.21609552019916067, 'lambda_l1': 3.3447546431602313, 'lambda_l2': 1577.6529821920426, 'feature_fraction': 0.9134427800036478}. Best is trial 47 with value: 0.019469278682762915.\n",
      "[I 2025-01-11 07:15:10,574] Trial 78 finished with value: 0.006618765870373589 and parameters: {'val_window_size': 3, 'training_window_size': 196, 'learning_rate': 0.048494660134167096, 'max_depth': 11, 'min_data_in_leaf': 14, 'num_leaves': 5039, 'min_gain_to_split': 0.12987590696623103, 'lambda_l1': 3.812388038732539, 'lambda_l2': 1833.726782667138, 'feature_fraction': 0.971300819447695}. Best is trial 47 with value: 0.019469278682762915.\n",
      "[I 2025-01-11 07:17:55,688] Trial 79 finished with value: 0.006837749118737446 and parameters: {'val_window_size': 3, 'training_window_size': 218, 'learning_rate': 0.053491155921736526, 'max_depth': 13, 'min_data_in_leaf': 22, 'num_leaves': 3629, 'min_gain_to_split': 0.23459123681744967, 'lambda_l1': 5.354225667150011, 'lambda_l2': 1530.3098093520737, 'feature_fraction': 0.921105953678446}. Best is trial 47 with value: 0.019469278682762915.\n",
      "[I 2025-01-11 07:20:20,292] Trial 80 finished with value: 0.00765710498693054 and parameters: {'val_window_size': 3, 'training_window_size': 330, 'learning_rate': 0.05063769590315118, 'max_depth': 12, 'min_data_in_leaf': 56, 'num_leaves': 2647, 'min_gain_to_split': 0.1705612584540501, 'lambda_l1': 5.021181086127246, 'lambda_l2': 1904.262137609933, 'feature_fraction': 0.9167739878383926}. Best is trial 47 with value: 0.019469278682762915.\n",
      "[I 2025-01-11 07:25:30,340] Trial 81 finished with value: 0.00866322220639366 and parameters: {'val_window_size': 3, 'training_window_size': 209, 'learning_rate': 0.05144259643538374, 'max_depth': 14, 'min_data_in_leaf': 31, 'num_leaves': 4517, 'min_gain_to_split': 0.19193613023923622, 'lambda_l1': 4.985920303602259, 'lambda_l2': 1608.2336266600455, 'feature_fraction': 0.9292968926439814}. Best is trial 47 with value: 0.019469278682762915.\n",
      "[I 2025-01-11 07:29:01,617] Trial 82 finished with value: 0.006106076357002365 and parameters: {'val_window_size': 3, 'training_window_size': 205, 'learning_rate': 0.05274356743523626, 'max_depth': 14, 'min_data_in_leaf': 44, 'num_leaves': 4874, 'min_gain_to_split': 0.18728308404946803, 'lambda_l1': 3.6427198331825537, 'lambda_l2': 1671.906148862102, 'feature_fraction': 0.9248205917106986}. Best is trial 47 with value: 0.019469278682762915.\n",
      "[I 2025-01-11 07:33:10,573] Trial 83 finished with value: 0.00541825012686511 and parameters: {'val_window_size': 3, 'training_window_size': 191, 'learning_rate': 0.05412751574630518, 'max_depth': 14, 'min_data_in_leaf': 32, 'num_leaves': 4659, 'min_gain_to_split': 0.19557361148957744, 'lambda_l1': 4.85737851315856, 'lambda_l2': 1631.3721349044504, 'feature_fraction': 0.9313719412199956}. Best is trial 47 with value: 0.019469278682762915.\n",
      "[I 2025-01-11 07:36:28,166] Trial 84 finished with value: 0.007751873009103927 and parameters: {'val_window_size': 3, 'training_window_size': 182, 'learning_rate': 0.05235466318072669, 'max_depth': 14, 'min_data_in_leaf': 47, 'num_leaves': 3932, 'min_gain_to_split': 0.2018712681421892, 'lambda_l1': 2.932783659417026, 'lambda_l2': 1651.4639714826308, 'feature_fraction': 0.9427408173840504}. Best is trial 47 with value: 0.019469278682762915.\n",
      "[I 2025-01-11 07:42:25,275] Trial 85 finished with value: 0.010121269948007439 and parameters: {'val_window_size': 3, 'training_window_size': 227, 'learning_rate': 0.043774775349165546, 'max_depth': 14, 'min_data_in_leaf': 39, 'num_leaves': 2809, 'min_gain_to_split': 0.1439823693616296, 'lambda_l1': 4.602494236320173, 'lambda_l2': 1554.7357148148235, 'feature_fraction': 0.9576494264451354}. Best is trial 47 with value: 0.019469278682762915.\n",
      "[I 2025-01-11 07:47:04,081] Trial 86 finished with value: -0.007868855701250788 and parameters: {'val_window_size': 3, 'training_window_size': 240, 'learning_rate': 0.0548562423337952, 'max_depth': 14, 'min_data_in_leaf': 27, 'num_leaves': 4357, 'min_gain_to_split': 0.14818058530696826, 'lambda_l1': 2.6166171095445363, 'lambda_l2': 1794.40749961415, 'feature_fraction': 0.945628191322707}. Best is trial 47 with value: 0.019469278682762915.\n",
      "[I 2025-01-11 07:49:01,072] Trial 87 finished with value: 0.009475394977755935 and parameters: {'val_window_size': 3, 'training_window_size': 198, 'learning_rate': 0.04929201630223826, 'max_depth': 11, 'min_data_in_leaf': 41, 'num_leaves': 5415, 'min_gain_to_split': 0.18190814654366905, 'lambda_l1': 5.523729844387128, 'lambda_l2': 1814.2503959699204, 'feature_fraction': 0.9332863777618036}. Best is trial 47 with value: 0.019469278682762915.\n",
      "[I 2025-01-11 07:53:30,402] Trial 88 finished with value: 0.008533225269557443 and parameters: {'val_window_size': 3, 'training_window_size': 325, 'learning_rate': 0.05325011042065893, 'max_depth': 14, 'min_data_in_leaf': 75, 'num_leaves': 5030, 'min_gain_to_split': 0.15713990338447703, 'lambda_l1': 3.2612242576272505, 'lambda_l2': 1930.1236887155583, 'feature_fraction': 0.9376992430418026}. Best is trial 47 with value: 0.019469278682762915.\n",
      "[I 2025-01-11 07:56:51,037] Trial 89 finished with value: -0.007761147184261641 and parameters: {'val_window_size': 2, 'training_window_size': 170, 'learning_rate': 0.05173870545617193, 'max_depth': 14, 'min_data_in_leaf': 77, 'num_leaves': 5932, 'min_gain_to_split': 0.13647738833464235, 'lambda_l1': 3.0666436832324355, 'lambda_l2': 1781.6604617965104, 'feature_fraction': 0.9058361372426624}. Best is trial 47 with value: 0.019469278682762915.\n",
      "[I 2025-01-11 07:58:25,368] Trial 90 finished with value: 0.0038894120706535864 and parameters: {'val_window_size': 3, 'training_window_size': 208, 'learning_rate': 0.05021650943284021, 'max_depth': 11, 'min_data_in_leaf': 23, 'num_leaves': 2968, 'min_gain_to_split': 0.18915481914360735, 'lambda_l1': 2.3883856267549888, 'lambda_l2': 1722.1300269009919, 'feature_fraction': 0.9111281649159648}. Best is trial 47 with value: 0.019469278682762915.\n",
      "[I 2025-01-11 08:08:30,167] Trial 91 finished with value: 0.0020905906753614146 and parameters: {'val_window_size': 3, 'training_window_size': 311, 'learning_rate': 0.05431803989121935, 'max_depth': 14, 'min_data_in_leaf': 14, 'num_leaves': 5616, 'min_gain_to_split': 0.15164492175158054, 'lambda_l1': 2.695503531451543, 'lambda_l2': 1592.6137657456607, 'feature_fraction': 0.9615656021933948}. Best is trial 47 with value: 0.019469278682762915.\n",
      "[I 2025-01-11 08:12:20,465] Trial 92 finished with value: 0.008163951437831208 and parameters: {'val_window_size': 3, 'training_window_size': 294, 'learning_rate': 0.05404765328584321, 'max_depth': 14, 'min_data_in_leaf': 79, 'num_leaves': 5666, 'min_gain_to_split': 0.13869256527762014, 'lambda_l1': 5.832154447306493, 'lambda_l2': 1596.1196743978637, 'feature_fraction': 0.9539051114117617}. Best is trial 47 with value: 0.019469278682762915.\n",
      "[I 2025-01-11 08:17:42,125] Trial 93 finished with value: 0.0016878755288907588 and parameters: {'val_window_size': 3, 'training_window_size': 304, 'learning_rate': 0.05551289525021258, 'max_depth': 14, 'min_data_in_leaf': 18, 'num_leaves': 5733, 'min_gain_to_split': 0.13126772203943063, 'lambda_l1': 2.8539551632995797, 'lambda_l2': 1578.616948632895, 'feature_fraction': 0.958883425979075}. Best is trial 47 with value: 0.019469278682762915.\n",
      "[I 2025-01-11 08:23:25,325] Trial 94 finished with value: 0.007765141705207745 and parameters: {'val_window_size': 3, 'training_window_size': 307, 'learning_rate': 0.053642116459933845, 'max_depth': 14, 'min_data_in_leaf': 18, 'num_leaves': 5530, 'min_gain_to_split': 0.12625226803708628, 'lambda_l1': 3.529130950256702, 'lambda_l2': 1615.0598222308558, 'feature_fraction': 0.9492524523284938}. Best is trial 47 with value: 0.019469278682762915.\n",
      "[I 2025-01-11 08:26:53,117] Trial 95 finished with value: 0.0058923357369532695 and parameters: {'val_window_size': 3, 'training_window_size': 317, 'learning_rate': 0.05634937007495971, 'max_depth': 14, 'min_data_in_leaf': 74, 'num_leaves': 5132, 'min_gain_to_split': 0.13737472946649476, 'lambda_l1': 2.1679568701214293, 'lambda_l2': 1565.912470998113, 'feature_fraction': 0.9160866020226475}. Best is trial 47 with value: 0.019469278682762915.\n",
      "[I 2025-01-11 08:34:52,053] Trial 96 finished with value: 0.0070091734838963245 and parameters: {'val_window_size': 3, 'training_window_size': 301, 'learning_rate': 0.053029264824808076, 'max_depth': 14, 'min_data_in_leaf': 12, 'num_leaves': 5330, 'min_gain_to_split': 0.1436342636262558, 'lambda_l1': 1.1029715851333404, 'lambda_l2': 1540.0806412033712, 'feature_fraction': 0.9018064692680197}. Best is trial 47 with value: 0.019469278682762915.\n",
      "[I 2025-01-11 08:36:58,539] Trial 97 finished with value: 0.013074807702911195 and parameters: {'val_window_size': 3, 'training_window_size': 186, 'learning_rate': 0.054833914363844945, 'max_depth': 11, 'min_data_in_leaf': 35, 'num_leaves': 2161, 'min_gain_to_split': 0.1997179114095263, 'lambda_l1': 3.1008014073096275, 'lambda_l2': 1641.7174535654508, 'feature_fraction': 0.9601560592166257}. Best is trial 47 with value: 0.019469278682762915.\n",
      "[I 2025-01-11 08:39:24,753] Trial 98 finished with value: 0.009308035977067097 and parameters: {'val_window_size': 3, 'training_window_size': 202, 'learning_rate': 0.052089183030875896, 'max_depth': 11, 'min_data_in_leaf': 36, 'num_leaves': 2198, 'min_gain_to_split': 0.2058522893974132, 'lambda_l1': 3.110244678221305, 'lambda_l2': 1689.88661118764, 'feature_fraction': 0.9096901943272809}. Best is trial 47 with value: 0.019469278682762915.\n",
      "[I 2025-01-11 08:42:08,534] Trial 99 finished with value: 0.007533782100615116 and parameters: {'val_window_size': 2, 'training_window_size': 193, 'learning_rate': 0.0549025528472762, 'max_depth': 11, 'min_data_in_leaf': 34, 'num_leaves': 2499, 'min_gain_to_split': 0.2004662936607298, 'lambda_l1': 3.4189146829590875, 'lambda_l2': 1637.535743137175, 'feature_fraction': 0.9639388892602081}. Best is trial 47 with value: 0.019469278682762915.\n",
      "[I 2025-01-11 08:44:50,020] Trial 100 finished with value: 0.010442312560698141 and parameters: {'val_window_size': 3, 'training_window_size': 175, 'learning_rate': 0.052652338909669014, 'max_depth': 11, 'min_data_in_leaf': 42, 'num_leaves': 2359, 'min_gain_to_split': 0.199036417986892, 'lambda_l1': 5.247076463870121, 'lambda_l2': 1664.3519934407454, 'feature_fraction': 0.9068299604160923}. Best is trial 47 with value: 0.019469278682762915.\n",
      "[I 2025-01-11 08:47:46,618] Trial 101 finished with value: 0.008499345183587536 and parameters: {'val_window_size': 3, 'training_window_size': 185, 'learning_rate': 0.054596252339863593, 'max_depth': 11, 'min_data_in_leaf': 38, 'num_leaves': 3260, 'min_gain_to_split': 0.1836770315676115, 'lambda_l1': 2.691816796587651, 'lambda_l2': 1602.1065661949374, 'feature_fraction': 0.9591611019548519}. Best is trial 47 with value: 0.019469278682762915.\n",
      "[I 2025-01-11 08:49:57,159] Trial 102 finished with value: 0.0057778785360389495 and parameters: {'val_window_size': 3, 'training_window_size': 287, 'learning_rate': 0.05136185676482924, 'max_depth': 11, 'min_data_in_leaf': 78, 'num_leaves': 2025, 'min_gain_to_split': 0.10204684370237507, 'lambda_l1': 2.4463450485879457, 'lambda_l2': 1622.2416703717856, 'feature_fraction': 0.9668217759757861}. Best is trial 47 with value: 0.019469278682762915.\n",
      "[I 2025-01-11 08:54:49,289] Trial 103 finished with value: 0.009508367401881147 and parameters: {'val_window_size': 3, 'training_window_size': 292, 'learning_rate': 0.05385195239162804, 'max_depth': 14, 'min_data_in_leaf': 30, 'num_leaves': 5458, 'min_gain_to_split': 0.19427483207225488, 'lambda_l1': 1.7731642552822866, 'lambda_l2': 1581.4825069367516, 'feature_fraction': 0.9611525419996325}. Best is trial 47 with value: 0.019469278682762915.\n",
      "[I 2025-01-11 08:56:53,753] Trial 104 finished with value: 0.007961231341651387 and parameters: {'val_window_size': 3, 'training_window_size': 214, 'learning_rate': 0.055697023359505694, 'max_depth': 11, 'min_data_in_leaf': 27, 'num_leaves': 5196, 'min_gain_to_split': 0.11651672610091893, 'lambda_l1': 2.8770049769980215, 'lambda_l2': 1639.5010915379428, 'feature_fraction': 0.9570129343307324}. Best is trial 47 with value: 0.019469278682762915.\n",
      "[I 2025-01-11 09:01:05,273] Trial 105 finished with value: 0.004572355476536916 and parameters: {'val_window_size': 3, 'training_window_size': 280, 'learning_rate': 0.05441085926720759, 'max_depth': 14, 'min_data_in_leaf': 20, 'num_leaves': 2132, 'min_gain_to_split': 0.20938867280719997, 'lambda_l1': 3.0599402410707115, 'lambda_l2': 1744.5809372240003, 'feature_fraction': 0.9509610625351085}. Best is trial 47 with value: 0.019469278682762915.\n",
      "[I 2025-01-11 09:06:52,220] Trial 106 finished with value: 0.0022433722147558897 and parameters: {'val_window_size': 3, 'training_window_size': 188, 'learning_rate': 0.05511317390293987, 'max_depth': 14, 'min_data_in_leaf': 16, 'num_leaves': 2576, 'min_gain_to_split': 0.1337711464198131, 'lambda_l1': 3.715014025189682, 'lambda_l2': 1854.7511275152044, 'feature_fraction': 0.9690696966733563}. Best is trial 47 with value: 0.019469278682762915.\n",
      "[I 2025-01-11 09:08:47,502] Trial 107 finished with value: 0.007339382866232291 and parameters: {'val_window_size': 3, 'training_window_size': 178, 'learning_rate': 0.056466898527363196, 'max_depth': 11, 'min_data_in_leaf': 33, 'num_leaves': 4869, 'min_gain_to_split': 0.17849113255865257, 'lambda_l1': 5.72055620581839, 'lambda_l2': 1874.171281967293, 'feature_fraction': 0.9539911973609965}. Best is trial 47 with value: 0.019469278682762915.\n",
      "[I 2025-01-11 09:12:15,556] Trial 108 finished with value: 0.007536865461047293 and parameters: {'val_window_size': 3, 'training_window_size': 337, 'learning_rate': 0.05334486990471291, 'max_depth': 14, 'min_data_in_leaf': 72, 'num_leaves': 2970, 'min_gain_to_split': 0.11238533477347769, 'lambda_l1': 3.1778037279977163, 'lambda_l2': 1620.3789363650308, 'feature_fraction': 0.9553796469729203}. Best is trial 47 with value: 0.019469278682762915.\n",
      "[I 2025-01-11 09:15:02,388] Trial 109 finished with value: -0.0006277783017818895 and parameters: {'val_window_size': 3, 'training_window_size': 195, 'learning_rate': 0.04533046940641281, 'max_depth': 12, 'min_data_in_leaf': 80, 'num_leaves': 4971, 'min_gain_to_split': 0.1421793822908271, 'lambda_l1': 3.358374690109612, 'lambda_l2': 1555.54993287657, 'feature_fraction': 0.9130410419802206}. Best is trial 47 with value: 0.019469278682762915.\n",
      "[I 2025-01-11 09:17:15,305] Trial 110 finished with value: 0.011049930115382989 and parameters: {'val_window_size': 3, 'training_window_size': 322, 'learning_rate': 0.05062548670299192, 'max_depth': 11, 'min_data_in_leaf': 67, 'num_leaves': 5568, 'min_gain_to_split': 0.21474112871613985, 'lambda_l1': 4.383292964532796, 'lambda_l2': 1977.4900673541856, 'feature_fraction': 0.9031250768213326}. Best is trial 47 with value: 0.019469278682762915.\n",
      "[I 2025-01-11 09:21:32,178] Trial 111 finished with value: 0.004915085961845744 and parameters: {'val_window_size': 3, 'training_window_size': 350, 'learning_rate': 0.052916273001296324, 'max_depth': 14, 'min_data_in_leaf': 77, 'num_leaves': 5996, 'min_gain_to_split': 0.14617939134400496, 'lambda_l1': 2.7603787143387586, 'lambda_l2': 1733.0428633510608, 'feature_fraction': 0.9089960691439931}. Best is trial 47 with value: 0.019469278682762915.\n",
      "[I 2025-01-11 09:25:42,265] Trial 112 finished with value: 0.007827397631697763 and parameters: {'val_window_size': 3, 'training_window_size': 347, 'learning_rate': 0.05213249329025101, 'max_depth': 14, 'min_data_in_leaf': 79, 'num_leaves': 5713, 'min_gain_to_split': 0.1893236780331641, 'lambda_l1': 2.4645147050042793, 'lambda_l2': 1679.151468310238, 'feature_fraction': 0.9000607020845472}. Best is trial 47 with value: 0.019469278682762915.\n",
      "[I 2025-01-11 09:29:11,956] Trial 113 finished with value: 0.007421087710256758 and parameters: {'val_window_size': 3, 'training_window_size': 343, 'learning_rate': 0.053684776025848355, 'max_depth': 14, 'min_data_in_leaf': 76, 'num_leaves': 5833, 'min_gain_to_split': 0.14035336491637063, 'lambda_l1': 1.9459392420062138, 'lambda_l2': 1713.6990490760923, 'feature_fraction': 0.905188764096254}. Best is trial 47 with value: 0.019469278682762915.\n",
      "[I 2025-01-11 09:32:45,531] Trial 114 finished with value: 0.006637273594109305 and parameters: {'val_window_size': 3, 'training_window_size': 338, 'learning_rate': 0.054221588386620216, 'max_depth': 14, 'min_data_in_leaf': 41, 'num_leaves': 5906, 'min_gain_to_split': 0.15429375061074688, 'lambda_l1': 2.9342531359006565, 'lambda_l2': 1662.1894943782663, 'feature_fraction': 0.919357989207785}. Best is trial 47 with value: 0.019469278682762915.\n",
      "[I 2025-01-11 09:36:07,487] Trial 115 finished with value: 0.00652544194463468 and parameters: {'val_window_size': 3, 'training_window_size': 333, 'learning_rate': 0.05247945768434494, 'max_depth': 14, 'min_data_in_leaf': 74, 'num_leaves': 5245, 'min_gain_to_split': 0.14886272501427064, 'lambda_l1': 2.5890974873064057, 'lambda_l2': 1705.2694511214504, 'feature_fraction': 0.9032363445012951}. Best is trial 47 with value: 0.019469278682762915.\n",
      "[I 2025-01-11 09:40:05,571] Trial 116 finished with value: 0.0057412396566937085 and parameters: {'val_window_size': 2, 'training_window_size': 252, 'learning_rate': 0.0511090663122629, 'max_depth': 14, 'min_data_in_leaf': 46, 'num_leaves': 5803, 'min_gain_to_split': 0.12228776107172723, 'lambda_l1': 4.932499077825762, 'lambda_l2': 1806.2263117567777, 'feature_fraction': 0.9480040708356078}. Best is trial 47 with value: 0.019469278682762915.\n",
      "[I 2025-01-11 09:43:52,147] Trial 117 finished with value: 0.004680500137006915 and parameters: {'val_window_size': 3, 'training_window_size': 329, 'learning_rate': 0.05330113730520724, 'max_depth': 13, 'min_data_in_leaf': 35, 'num_leaves': 4685, 'min_gain_to_split': 0.12805404465641912, 'lambda_l1': 1.4675240989096325, 'lambda_l2': 1585.8923925033384, 'feature_fraction': 0.9075383512923014}. Best is trial 47 with value: 0.019469278682762915.\n",
      "[I 2025-01-11 09:47:04,457] Trial 118 finished with value: 0.003937750383602112 and parameters: {'val_window_size': 3, 'training_window_size': 308, 'learning_rate': 0.05181212573740923, 'max_depth': 14, 'min_data_in_leaf': 79, 'num_leaves': 5094, 'min_gain_to_split': 0.16248174356108228, 'lambda_l1': 5.112381015848156, 'lambda_l2': 1763.7744396352307, 'feature_fraction': 0.9123957209445221}. Best is trial 47 with value: 0.019469278682762915.\n",
      "[I 2025-01-11 09:48:47,804] Trial 119 finished with value: 0.002445125007901461 and parameters: {'val_window_size': 3, 'training_window_size': 199, 'learning_rate': 0.05482091850596188, 'max_depth': 11, 'min_data_in_leaf': 76, 'num_leaves': 2724, 'min_gain_to_split': 0.13405719750047865, 'lambda_l1': 3.9499207985378466, 'lambda_l2': 1818.7685882695723, 'feature_fraction': 0.9594747949644168}. Best is trial 47 with value: 0.019469278682762915.\n",
      "[I 2025-01-11 09:53:26,300] Trial 120 finished with value: 0.004596524076657149 and parameters: {'val_window_size': 3, 'training_window_size': 187, 'learning_rate': 0.05283405799493285, 'max_depth': 14, 'min_data_in_leaf': 24, 'num_leaves': 4154, 'min_gain_to_split': 0.20683390953583286, 'lambda_l1': 3.0439841656423594, 'lambda_l2': 1601.8237577196371, 'feature_fraction': 0.935879996260108}. Best is trial 47 with value: 0.019469278682762915.\n",
      "[I 2025-01-11 09:55:49,258] Trial 121 finished with value: 0.004518597923098155 and parameters: {'val_window_size': 3, 'training_window_size': 318, 'learning_rate': 0.048628828214775856, 'max_depth': 11, 'min_data_in_leaf': 67, 'num_leaves': 5571, 'min_gain_to_split': 0.213721414891269, 'lambda_l1': 4.399374699950525, 'lambda_l2': 1968.2437878631522, 'feature_fraction': 0.9027678406099784}. Best is trial 47 with value: 0.019469278682762915.\n",
      "[I 2025-01-11 09:58:01,518] Trial 122 finished with value: 0.008098674792388239 and parameters: {'val_window_size': 3, 'training_window_size': 325, 'learning_rate': 0.050384419936155285, 'max_depth': 11, 'min_data_in_leaf': 63, 'num_leaves': 5358, 'min_gain_to_split': 0.22871388122897587, 'lambda_l1': 3.1952208296908777, 'lambda_l2': 1985.1977969962456, 'feature_fraction': 0.9039790050348376}. Best is trial 47 with value: 0.019469278682762915.\n",
      "[I 2025-01-11 10:00:06,761] Trial 123 finished with value: 0.012309195087674963 and parameters: {'val_window_size': 3, 'training_window_size': 297, 'learning_rate': 0.05076666028820996, 'max_depth': 11, 'min_data_in_leaf': 73, 'num_leaves': 5496, 'min_gain_to_split': 0.2200054703716749, 'lambda_l1': 4.680763831869855, 'lambda_l2': 1573.6654409053185, 'feature_fraction': 0.9152568875868773}. Best is trial 47 with value: 0.019469278682762915.\n",
      "[I 2025-01-11 10:02:33,339] Trial 124 finished with value: 0.012268879345821349 and parameters: {'val_window_size': 3, 'training_window_size': 299, 'learning_rate': 0.047407622724739126, 'max_depth': 11, 'min_data_in_leaf': 70, 'num_leaves': 5468, 'min_gain_to_split': 0.13855608464560024, 'lambda_l1': 4.751332971023759, 'lambda_l2': 1566.0084436764826, 'feature_fraction': 0.9145198623105124}. Best is trial 47 with value: 0.019469278682762915.\n",
      "[I 2025-01-11 10:05:27,642] Trial 125 finished with value: 0.009622619839633506 and parameters: {'val_window_size': 3, 'training_window_size': 301, 'learning_rate': 0.04672479377870931, 'max_depth': 11, 'min_data_in_leaf': 70, 'num_leaves': 5467, 'min_gain_to_split': 0.2257321437275711, 'lambda_l1': 4.62988510307811, 'lambda_l2': 1573.0418993850628, 'feature_fraction': 0.9214190464271885}. Best is trial 47 with value: 0.019469278682762915.\n",
      "[I 2025-01-11 10:07:58,681] Trial 126 finished with value: 0.01442276549566136 and parameters: {'val_window_size': 3, 'training_window_size': 297, 'learning_rate': 0.04237524405564402, 'max_depth': 11, 'min_data_in_leaf': 69, 'num_leaves': 5281, 'min_gain_to_split': 0.13922589641210018, 'lambda_l1': 4.722727979067095, 'lambda_l2': 1565.0493947512298, 'feature_fraction': 0.9166028062541458}. Best is trial 47 with value: 0.019469278682762915.\n",
      "[I 2025-01-11 10:11:02,098] Trial 127 finished with value: 0.009855052232025619 and parameters: {'val_window_size': 3, 'training_window_size': 273, 'learning_rate': 0.04198327235644533, 'max_depth': 11, 'min_data_in_leaf': 72, 'num_leaves': 5382, 'min_gain_to_split': 0.19304532985752795, 'lambda_l1': 4.520510387030406, 'lambda_l2': 1551.1850685827565, 'feature_fraction': 0.9171688986923128}. Best is trial 47 with value: 0.019469278682762915.\n",
      "[I 2025-01-11 10:13:14,823] Trial 128 finished with value: 0.00802708605158452 and parameters: {'val_window_size': 3, 'training_window_size': 298, 'learning_rate': 0.0431996836669161, 'max_depth': 11, 'min_data_in_leaf': 69, 'num_leaves': 5241, 'min_gain_to_split': 0.21072043131191326, 'lambda_l1': 4.801447722758587, 'lambda_l2': 1529.3907693808221, 'feature_fraction': 0.9142248517598509}. Best is trial 47 with value: 0.019469278682762915.\n",
      "[I 2025-01-11 10:15:33,518] Trial 129 finished with value: 0.0020617043375357304 and parameters: {'val_window_size': 3, 'training_window_size': 295, 'learning_rate': 0.04761144514695357, 'max_depth': 11, 'min_data_in_leaf': 73, 'num_leaves': 5295, 'min_gain_to_split': 0.1973091515445243, 'lambda_l1': 4.787845816091942, 'lambda_l2': 1569.9852871801752, 'feature_fraction': 0.9237090774257646}. Best is trial 47 with value: 0.019469278682762915.\n",
      "[I 2025-01-11 10:17:55,275] Trial 130 finished with value: 0.008746817327562351 and parameters: {'val_window_size': 3, 'training_window_size': 289, 'learning_rate': 0.042463397483540964, 'max_depth': 11, 'min_data_in_leaf': 65, 'num_leaves': 4797, 'min_gain_to_split': 0.18536268764811042, 'lambda_l1': 4.158790407574696, 'lambda_l2': 1557.7305238909055, 'feature_fraction': 0.9153828255211812}. Best is trial 47 with value: 0.019469278682762915.\n",
      "[W 2025-01-11 10:20:09,160] Trial 131 failed with parameters: {'val_window_size': 3, 'training_window_size': 305, 'learning_rate': 0.04432213791631152, 'max_depth': 11, 'min_data_in_leaf': 71, 'num_leaves': 5460, 'min_gain_to_split': 0.13725919545265203, 'lambda_l1': 4.965449466247364, 'lambda_l2': 1588.396799464413, 'feature_fraction': 0.9202982628751746} because of the following error: KeyboardInterrupt().\n",
      "Traceback (most recent call last):\n",
      "  File \"I:\\Kaggle\\kaggle_venvs\\ml\\Lib\\site-packages\\optuna\\study\\_optimize.py\", line 197, in _run_trial\n",
      "    value_or_values = func(trial)\n",
      "                      ^^^^^^^^^^^\n",
      "  File \"C:\\Users\\peppe\\AppData\\Local\\Temp\\ipykernel_22592\\1160749236.py\", line 88, in objective\n",
      "    model.fit(X_train, y_train, sample_weight=weights_train, eval_set=[(X_train, y_train), (X_val, y_val)], eval_sample_weight=[weights_train, weights_val])#, callbacks=[log_evaluation(period=10)])\n",
      "    ^^^^^^^^^^^^^^^^^^^^^^^^^^^^^^^^^^^^^^^^^^^^^^^^^^^^^^^^^^^^^^^^^^^^^^^^^^^^^^^^^^^^^^^^^^^^^^^^^^^^^^^^^^^^^^^^^^^^^^^^^^^^^^^^^^^^^^^^^^^^^^^^^^^^^^^^\n",
      "  File \"I:\\Kaggle\\kaggle_venvs\\ml\\Lib\\site-packages\\lightgbm\\sklearn.py\", line 1189, in fit\n",
      "    super().fit(\n",
      "  File \"I:\\Kaggle\\kaggle_venvs\\ml\\Lib\\site-packages\\lightgbm\\sklearn.py\", line 955, in fit\n",
      "    self._Booster = train(\n",
      "                    ^^^^^^\n",
      "  File \"I:\\Kaggle\\kaggle_venvs\\ml\\Lib\\site-packages\\lightgbm\\engine.py\", line 335, in train\n",
      "    booster.model_from_string(booster.model_to_string()).free_dataset()\n",
      "    ^^^^^^^^^^^^^^^^^^^^^^^^^^^^^^^^^^^^^^^^^^^^^^^^^^^^\n",
      "  File \"I:\\Kaggle\\kaggle_venvs\\ml\\Lib\\site-packages\\lightgbm\\basic.py\", line 4517, in model_from_string\n",
      "    _safe_call(_LIB.LGBM_BoosterFree(self._handle))\n",
      "               ^^^^^^^^^^^^^^^^^^^^^^^^^^^^^^^^^^^\n",
      "KeyboardInterrupt\n",
      "[W 2025-01-11 10:20:09,193] Trial 131 failed with value None.\n",
      "Optimizing:  44%|█████████████████████████▊                                 | 131/300 [7:45:13<10:00:10, 213.08s/trial]\n"
     ]
    },
    {
     "ename": "KeyboardInterrupt",
     "evalue": "",
     "output_type": "error",
     "traceback": [
      "\u001b[1;31m---------------------------------------------------------------------------\u001b[0m",
      "\u001b[1;31mKeyboardInterrupt\u001b[0m                         Traceback (most recent call last)",
      "Cell \u001b[1;32mIn[8], line 1\u001b[0m\n\u001b[1;32m----> 1\u001b[0m lgb_study \u001b[38;5;241m=\u001b[39m \u001b[43mlgb_sliding_window\u001b[49m\u001b[43m(\u001b[49m\u001b[43mtrain_df\u001b[49m\u001b[43m,\u001b[49m\u001b[43m \u001b[49m\u001b[38;5;241;43m300\u001b[39;49m\u001b[43m)\u001b[49m\n",
      "Cell \u001b[1;32mIn[7], line 107\u001b[0m, in \u001b[0;36mlgb_sliding_window\u001b[1;34m(train_data, optuna_n_trials)\u001b[0m\n\u001b[0;32m    104\u001b[0m         pbar\u001b[38;5;241m.\u001b[39mupdate(\u001b[38;5;241m1\u001b[39m)\n\u001b[0;32m    106\u001b[0m     study \u001b[38;5;241m=\u001b[39m optuna\u001b[38;5;241m.\u001b[39mcreate_study(direction\u001b[38;5;241m=\u001b[39m\u001b[38;5;124m\"\u001b[39m\u001b[38;5;124mmaximize\u001b[39m\u001b[38;5;124m\"\u001b[39m)\n\u001b[1;32m--> 107\u001b[0m     \u001b[43mstudy\u001b[49m\u001b[38;5;241;43m.\u001b[39;49m\u001b[43moptimize\u001b[49m\u001b[43m(\u001b[49m\u001b[43mobjective\u001b[49m\u001b[43m,\u001b[49m\u001b[43m \u001b[49m\u001b[43mn_trials\u001b[49m\u001b[38;5;241;43m=\u001b[39;49m\u001b[43moptuna_n_trials\u001b[49m\u001b[43m,\u001b[49m\u001b[43m \u001b[49m\u001b[43mcallbacks\u001b[49m\u001b[38;5;241;43m=\u001b[39;49m\u001b[43m[\u001b[49m\u001b[43mprogress_bar_callback\u001b[49m\u001b[43m]\u001b[49m\u001b[43m)\u001b[49m\n\u001b[0;32m    109\u001b[0m \u001b[38;5;28;01mreturn\u001b[39;00m study\n",
      "File \u001b[1;32mI:\\Kaggle\\kaggle_venvs\\ml\\Lib\\site-packages\\optuna\\study\\study.py:475\u001b[0m, in \u001b[0;36mStudy.optimize\u001b[1;34m(self, func, n_trials, timeout, n_jobs, catch, callbacks, gc_after_trial, show_progress_bar)\u001b[0m\n\u001b[0;32m    373\u001b[0m \u001b[38;5;28;01mdef\u001b[39;00m \u001b[38;5;21moptimize\u001b[39m(\n\u001b[0;32m    374\u001b[0m     \u001b[38;5;28mself\u001b[39m,\n\u001b[0;32m    375\u001b[0m     func: ObjectiveFuncType,\n\u001b[1;32m   (...)\u001b[0m\n\u001b[0;32m    382\u001b[0m     show_progress_bar: \u001b[38;5;28mbool\u001b[39m \u001b[38;5;241m=\u001b[39m \u001b[38;5;28;01mFalse\u001b[39;00m,\n\u001b[0;32m    383\u001b[0m ) \u001b[38;5;241m-\u001b[39m\u001b[38;5;241m>\u001b[39m \u001b[38;5;28;01mNone\u001b[39;00m:\n\u001b[0;32m    384\u001b[0m \u001b[38;5;250m    \u001b[39m\u001b[38;5;124;03m\"\"\"Optimize an objective function.\u001b[39;00m\n\u001b[0;32m    385\u001b[0m \n\u001b[0;32m    386\u001b[0m \u001b[38;5;124;03m    Optimization is done by choosing a suitable set of hyperparameter values from a given\u001b[39;00m\n\u001b[1;32m   (...)\u001b[0m\n\u001b[0;32m    473\u001b[0m \u001b[38;5;124;03m            If nested invocation of this method occurs.\u001b[39;00m\n\u001b[0;32m    474\u001b[0m \u001b[38;5;124;03m    \"\"\"\u001b[39;00m\n\u001b[1;32m--> 475\u001b[0m     \u001b[43m_optimize\u001b[49m\u001b[43m(\u001b[49m\n\u001b[0;32m    476\u001b[0m \u001b[43m        \u001b[49m\u001b[43mstudy\u001b[49m\u001b[38;5;241;43m=\u001b[39;49m\u001b[38;5;28;43mself\u001b[39;49m\u001b[43m,\u001b[49m\n\u001b[0;32m    477\u001b[0m \u001b[43m        \u001b[49m\u001b[43mfunc\u001b[49m\u001b[38;5;241;43m=\u001b[39;49m\u001b[43mfunc\u001b[49m\u001b[43m,\u001b[49m\n\u001b[0;32m    478\u001b[0m \u001b[43m        \u001b[49m\u001b[43mn_trials\u001b[49m\u001b[38;5;241;43m=\u001b[39;49m\u001b[43mn_trials\u001b[49m\u001b[43m,\u001b[49m\n\u001b[0;32m    479\u001b[0m \u001b[43m        \u001b[49m\u001b[43mtimeout\u001b[49m\u001b[38;5;241;43m=\u001b[39;49m\u001b[43mtimeout\u001b[49m\u001b[43m,\u001b[49m\n\u001b[0;32m    480\u001b[0m \u001b[43m        \u001b[49m\u001b[43mn_jobs\u001b[49m\u001b[38;5;241;43m=\u001b[39;49m\u001b[43mn_jobs\u001b[49m\u001b[43m,\u001b[49m\n\u001b[0;32m    481\u001b[0m \u001b[43m        \u001b[49m\u001b[43mcatch\u001b[49m\u001b[38;5;241;43m=\u001b[39;49m\u001b[38;5;28;43mtuple\u001b[39;49m\u001b[43m(\u001b[49m\u001b[43mcatch\u001b[49m\u001b[43m)\u001b[49m\u001b[43m \u001b[49m\u001b[38;5;28;43;01mif\u001b[39;49;00m\u001b[43m \u001b[49m\u001b[38;5;28;43misinstance\u001b[39;49m\u001b[43m(\u001b[49m\u001b[43mcatch\u001b[49m\u001b[43m,\u001b[49m\u001b[43m \u001b[49m\u001b[43mIterable\u001b[49m\u001b[43m)\u001b[49m\u001b[43m \u001b[49m\u001b[38;5;28;43;01melse\u001b[39;49;00m\u001b[43m \u001b[49m\u001b[43m(\u001b[49m\u001b[43mcatch\u001b[49m\u001b[43m,\u001b[49m\u001b[43m)\u001b[49m\u001b[43m,\u001b[49m\n\u001b[0;32m    482\u001b[0m \u001b[43m        \u001b[49m\u001b[43mcallbacks\u001b[49m\u001b[38;5;241;43m=\u001b[39;49m\u001b[43mcallbacks\u001b[49m\u001b[43m,\u001b[49m\n\u001b[0;32m    483\u001b[0m \u001b[43m        \u001b[49m\u001b[43mgc_after_trial\u001b[49m\u001b[38;5;241;43m=\u001b[39;49m\u001b[43mgc_after_trial\u001b[49m\u001b[43m,\u001b[49m\n\u001b[0;32m    484\u001b[0m \u001b[43m        \u001b[49m\u001b[43mshow_progress_bar\u001b[49m\u001b[38;5;241;43m=\u001b[39;49m\u001b[43mshow_progress_bar\u001b[49m\u001b[43m,\u001b[49m\n\u001b[0;32m    485\u001b[0m \u001b[43m    \u001b[49m\u001b[43m)\u001b[49m\n",
      "File \u001b[1;32mI:\\Kaggle\\kaggle_venvs\\ml\\Lib\\site-packages\\optuna\\study\\_optimize.py:63\u001b[0m, in \u001b[0;36m_optimize\u001b[1;34m(study, func, n_trials, timeout, n_jobs, catch, callbacks, gc_after_trial, show_progress_bar)\u001b[0m\n\u001b[0;32m     61\u001b[0m \u001b[38;5;28;01mtry\u001b[39;00m:\n\u001b[0;32m     62\u001b[0m     \u001b[38;5;28;01mif\u001b[39;00m n_jobs \u001b[38;5;241m==\u001b[39m \u001b[38;5;241m1\u001b[39m:\n\u001b[1;32m---> 63\u001b[0m         \u001b[43m_optimize_sequential\u001b[49m\u001b[43m(\u001b[49m\n\u001b[0;32m     64\u001b[0m \u001b[43m            \u001b[49m\u001b[43mstudy\u001b[49m\u001b[43m,\u001b[49m\n\u001b[0;32m     65\u001b[0m \u001b[43m            \u001b[49m\u001b[43mfunc\u001b[49m\u001b[43m,\u001b[49m\n\u001b[0;32m     66\u001b[0m \u001b[43m            \u001b[49m\u001b[43mn_trials\u001b[49m\u001b[43m,\u001b[49m\n\u001b[0;32m     67\u001b[0m \u001b[43m            \u001b[49m\u001b[43mtimeout\u001b[49m\u001b[43m,\u001b[49m\n\u001b[0;32m     68\u001b[0m \u001b[43m            \u001b[49m\u001b[43mcatch\u001b[49m\u001b[43m,\u001b[49m\n\u001b[0;32m     69\u001b[0m \u001b[43m            \u001b[49m\u001b[43mcallbacks\u001b[49m\u001b[43m,\u001b[49m\n\u001b[0;32m     70\u001b[0m \u001b[43m            \u001b[49m\u001b[43mgc_after_trial\u001b[49m\u001b[43m,\u001b[49m\n\u001b[0;32m     71\u001b[0m \u001b[43m            \u001b[49m\u001b[43mreseed_sampler_rng\u001b[49m\u001b[38;5;241;43m=\u001b[39;49m\u001b[38;5;28;43;01mFalse\u001b[39;49;00m\u001b[43m,\u001b[49m\n\u001b[0;32m     72\u001b[0m \u001b[43m            \u001b[49m\u001b[43mtime_start\u001b[49m\u001b[38;5;241;43m=\u001b[39;49m\u001b[38;5;28;43;01mNone\u001b[39;49;00m\u001b[43m,\u001b[49m\n\u001b[0;32m     73\u001b[0m \u001b[43m            \u001b[49m\u001b[43mprogress_bar\u001b[49m\u001b[38;5;241;43m=\u001b[39;49m\u001b[43mprogress_bar\u001b[49m\u001b[43m,\u001b[49m\n\u001b[0;32m     74\u001b[0m \u001b[43m        \u001b[49m\u001b[43m)\u001b[49m\n\u001b[0;32m     75\u001b[0m     \u001b[38;5;28;01melse\u001b[39;00m:\n\u001b[0;32m     76\u001b[0m         \u001b[38;5;28;01mif\u001b[39;00m n_jobs \u001b[38;5;241m==\u001b[39m \u001b[38;5;241m-\u001b[39m\u001b[38;5;241m1\u001b[39m:\n",
      "File \u001b[1;32mI:\\Kaggle\\kaggle_venvs\\ml\\Lib\\site-packages\\optuna\\study\\_optimize.py:160\u001b[0m, in \u001b[0;36m_optimize_sequential\u001b[1;34m(study, func, n_trials, timeout, catch, callbacks, gc_after_trial, reseed_sampler_rng, time_start, progress_bar)\u001b[0m\n\u001b[0;32m    157\u001b[0m         \u001b[38;5;28;01mbreak\u001b[39;00m\n\u001b[0;32m    159\u001b[0m \u001b[38;5;28;01mtry\u001b[39;00m:\n\u001b[1;32m--> 160\u001b[0m     frozen_trial \u001b[38;5;241m=\u001b[39m \u001b[43m_run_trial\u001b[49m\u001b[43m(\u001b[49m\u001b[43mstudy\u001b[49m\u001b[43m,\u001b[49m\u001b[43m \u001b[49m\u001b[43mfunc\u001b[49m\u001b[43m,\u001b[49m\u001b[43m \u001b[49m\u001b[43mcatch\u001b[49m\u001b[43m)\u001b[49m\n\u001b[0;32m    161\u001b[0m \u001b[38;5;28;01mfinally\u001b[39;00m:\n\u001b[0;32m    162\u001b[0m     \u001b[38;5;66;03m# The following line mitigates memory problems that can be occurred in some\u001b[39;00m\n\u001b[0;32m    163\u001b[0m     \u001b[38;5;66;03m# environments (e.g., services that use computing containers such as GitHub Actions).\u001b[39;00m\n\u001b[0;32m    164\u001b[0m     \u001b[38;5;66;03m# Please refer to the following PR for further details:\u001b[39;00m\n\u001b[0;32m    165\u001b[0m     \u001b[38;5;66;03m# https://github.com/optuna/optuna/pull/325.\u001b[39;00m\n\u001b[0;32m    166\u001b[0m     \u001b[38;5;28;01mif\u001b[39;00m gc_after_trial:\n",
      "File \u001b[1;32mI:\\Kaggle\\kaggle_venvs\\ml\\Lib\\site-packages\\optuna\\study\\_optimize.py:248\u001b[0m, in \u001b[0;36m_run_trial\u001b[1;34m(study, func, catch)\u001b[0m\n\u001b[0;32m    241\u001b[0m         \u001b[38;5;28;01massert\u001b[39;00m \u001b[38;5;28;01mFalse\u001b[39;00m, \u001b[38;5;124m\"\u001b[39m\u001b[38;5;124mShould not reach.\u001b[39m\u001b[38;5;124m\"\u001b[39m\n\u001b[0;32m    243\u001b[0m \u001b[38;5;28;01mif\u001b[39;00m (\n\u001b[0;32m    244\u001b[0m     frozen_trial\u001b[38;5;241m.\u001b[39mstate \u001b[38;5;241m==\u001b[39m TrialState\u001b[38;5;241m.\u001b[39mFAIL\n\u001b[0;32m    245\u001b[0m     \u001b[38;5;129;01mand\u001b[39;00m func_err \u001b[38;5;129;01mis\u001b[39;00m \u001b[38;5;129;01mnot\u001b[39;00m \u001b[38;5;28;01mNone\u001b[39;00m\n\u001b[0;32m    246\u001b[0m     \u001b[38;5;129;01mand\u001b[39;00m \u001b[38;5;129;01mnot\u001b[39;00m \u001b[38;5;28misinstance\u001b[39m(func_err, catch)\n\u001b[0;32m    247\u001b[0m ):\n\u001b[1;32m--> 248\u001b[0m     \u001b[38;5;28;01mraise\u001b[39;00m func_err\n\u001b[0;32m    249\u001b[0m \u001b[38;5;28;01mreturn\u001b[39;00m frozen_trial\n",
      "File \u001b[1;32mI:\\Kaggle\\kaggle_venvs\\ml\\Lib\\site-packages\\optuna\\study\\_optimize.py:197\u001b[0m, in \u001b[0;36m_run_trial\u001b[1;34m(study, func, catch)\u001b[0m\n\u001b[0;32m    195\u001b[0m \u001b[38;5;28;01mwith\u001b[39;00m get_heartbeat_thread(trial\u001b[38;5;241m.\u001b[39m_trial_id, study\u001b[38;5;241m.\u001b[39m_storage):\n\u001b[0;32m    196\u001b[0m     \u001b[38;5;28;01mtry\u001b[39;00m:\n\u001b[1;32m--> 197\u001b[0m         value_or_values \u001b[38;5;241m=\u001b[39m \u001b[43mfunc\u001b[49m\u001b[43m(\u001b[49m\u001b[43mtrial\u001b[49m\u001b[43m)\u001b[49m\n\u001b[0;32m    198\u001b[0m     \u001b[38;5;28;01mexcept\u001b[39;00m exceptions\u001b[38;5;241m.\u001b[39mTrialPruned \u001b[38;5;28;01mas\u001b[39;00m e:\n\u001b[0;32m    199\u001b[0m         \u001b[38;5;66;03m# TODO(mamu): Handle multi-objective cases.\u001b[39;00m\n\u001b[0;32m    200\u001b[0m         state \u001b[38;5;241m=\u001b[39m TrialState\u001b[38;5;241m.\u001b[39mPRUNED\n",
      "Cell \u001b[1;32mIn[7], line 88\u001b[0m, in \u001b[0;36mlgb_sliding_window.<locals>.objective\u001b[1;34m(trial)\u001b[0m\n\u001b[0;32m     85\u001b[0m weights_val \u001b[38;5;241m=\u001b[39m val_window_df[\u001b[38;5;124m'\u001b[39m\u001b[38;5;124mweight\u001b[39m\u001b[38;5;124m'\u001b[39m]\u001b[38;5;241m.\u001b[39mto_pandas()\n\u001b[0;32m     86\u001b[0m weights_test \u001b[38;5;241m=\u001b[39m test_date_id_df[\u001b[38;5;124m'\u001b[39m\u001b[38;5;124mweight\u001b[39m\u001b[38;5;124m'\u001b[39m]\u001b[38;5;241m.\u001b[39mto_pandas()\n\u001b[1;32m---> 88\u001b[0m \u001b[43mmodel\u001b[49m\u001b[38;5;241;43m.\u001b[39;49m\u001b[43mfit\u001b[49m\u001b[43m(\u001b[49m\u001b[43mX_train\u001b[49m\u001b[43m,\u001b[49m\u001b[43m \u001b[49m\u001b[43my_train\u001b[49m\u001b[43m,\u001b[49m\u001b[43m \u001b[49m\u001b[43msample_weight\u001b[49m\u001b[38;5;241;43m=\u001b[39;49m\u001b[43mweights_train\u001b[49m\u001b[43m,\u001b[49m\u001b[43m \u001b[49m\u001b[43meval_set\u001b[49m\u001b[38;5;241;43m=\u001b[39;49m\u001b[43m[\u001b[49m\u001b[43m(\u001b[49m\u001b[43mX_train\u001b[49m\u001b[43m,\u001b[49m\u001b[43m \u001b[49m\u001b[43my_train\u001b[49m\u001b[43m)\u001b[49m\u001b[43m,\u001b[49m\u001b[43m \u001b[49m\u001b[43m(\u001b[49m\u001b[43mX_val\u001b[49m\u001b[43m,\u001b[49m\u001b[43m \u001b[49m\u001b[43my_val\u001b[49m\u001b[43m)\u001b[49m\u001b[43m]\u001b[49m\u001b[43m,\u001b[49m\u001b[43m \u001b[49m\u001b[43meval_sample_weight\u001b[49m\u001b[38;5;241;43m=\u001b[39;49m\u001b[43m[\u001b[49m\u001b[43mweights_train\u001b[49m\u001b[43m,\u001b[49m\u001b[43m \u001b[49m\u001b[43mweights_val\u001b[49m\u001b[43m]\u001b[49m\u001b[43m)\u001b[49m\u001b[38;5;66;03m#, callbacks=[log_evaluation(period=10)])\u001b[39;00m\n\u001b[0;32m     90\u001b[0m test_preds \u001b[38;5;241m=\u001b[39m model\u001b[38;5;241m.\u001b[39mpredict(X_test)\n\u001b[0;32m     92\u001b[0m test_score \u001b[38;5;241m=\u001b[39m r2_score(y_test, test_preds, sample_weight\u001b[38;5;241m=\u001b[39mweights_test)\n",
      "File \u001b[1;32mI:\\Kaggle\\kaggle_venvs\\ml\\Lib\\site-packages\\lightgbm\\sklearn.py:1189\u001b[0m, in \u001b[0;36mLGBMRegressor.fit\u001b[1;34m(self, X, y, sample_weight, init_score, eval_set, eval_names, eval_sample_weight, eval_init_score, eval_metric, feature_name, categorical_feature, callbacks, init_model)\u001b[0m\n\u001b[0;32m   1172\u001b[0m \u001b[38;5;28;01mdef\u001b[39;00m \u001b[38;5;21mfit\u001b[39m(  \u001b[38;5;66;03m# type: ignore[override]\u001b[39;00m\n\u001b[0;32m   1173\u001b[0m     \u001b[38;5;28mself\u001b[39m,\n\u001b[0;32m   1174\u001b[0m     X: _LGBM_ScikitMatrixLike,\n\u001b[1;32m   (...)\u001b[0m\n\u001b[0;32m   1186\u001b[0m     init_model: Optional[Union[\u001b[38;5;28mstr\u001b[39m, Path, Booster, LGBMModel]] \u001b[38;5;241m=\u001b[39m \u001b[38;5;28;01mNone\u001b[39;00m,\n\u001b[0;32m   1187\u001b[0m ) \u001b[38;5;241m-\u001b[39m\u001b[38;5;241m>\u001b[39m \u001b[38;5;124m\"\u001b[39m\u001b[38;5;124mLGBMRegressor\u001b[39m\u001b[38;5;124m\"\u001b[39m:\n\u001b[0;32m   1188\u001b[0m \u001b[38;5;250m    \u001b[39m\u001b[38;5;124;03m\"\"\"Docstring is inherited from the LGBMModel.\"\"\"\u001b[39;00m\n\u001b[1;32m-> 1189\u001b[0m     \u001b[38;5;28;43msuper\u001b[39;49m\u001b[43m(\u001b[49m\u001b[43m)\u001b[49m\u001b[38;5;241;43m.\u001b[39;49m\u001b[43mfit\u001b[49m\u001b[43m(\u001b[49m\n\u001b[0;32m   1190\u001b[0m \u001b[43m        \u001b[49m\u001b[43mX\u001b[49m\u001b[43m,\u001b[49m\n\u001b[0;32m   1191\u001b[0m \u001b[43m        \u001b[49m\u001b[43my\u001b[49m\u001b[43m,\u001b[49m\n\u001b[0;32m   1192\u001b[0m \u001b[43m        \u001b[49m\u001b[43msample_weight\u001b[49m\u001b[38;5;241;43m=\u001b[39;49m\u001b[43msample_weight\u001b[49m\u001b[43m,\u001b[49m\n\u001b[0;32m   1193\u001b[0m \u001b[43m        \u001b[49m\u001b[43minit_score\u001b[49m\u001b[38;5;241;43m=\u001b[39;49m\u001b[43minit_score\u001b[49m\u001b[43m,\u001b[49m\n\u001b[0;32m   1194\u001b[0m \u001b[43m        \u001b[49m\u001b[43meval_set\u001b[49m\u001b[38;5;241;43m=\u001b[39;49m\u001b[43meval_set\u001b[49m\u001b[43m,\u001b[49m\n\u001b[0;32m   1195\u001b[0m \u001b[43m        \u001b[49m\u001b[43meval_names\u001b[49m\u001b[38;5;241;43m=\u001b[39;49m\u001b[43meval_names\u001b[49m\u001b[43m,\u001b[49m\n\u001b[0;32m   1196\u001b[0m \u001b[43m        \u001b[49m\u001b[43meval_sample_weight\u001b[49m\u001b[38;5;241;43m=\u001b[39;49m\u001b[43meval_sample_weight\u001b[49m\u001b[43m,\u001b[49m\n\u001b[0;32m   1197\u001b[0m \u001b[43m        \u001b[49m\u001b[43meval_init_score\u001b[49m\u001b[38;5;241;43m=\u001b[39;49m\u001b[43meval_init_score\u001b[49m\u001b[43m,\u001b[49m\n\u001b[0;32m   1198\u001b[0m \u001b[43m        \u001b[49m\u001b[43meval_metric\u001b[49m\u001b[38;5;241;43m=\u001b[39;49m\u001b[43meval_metric\u001b[49m\u001b[43m,\u001b[49m\n\u001b[0;32m   1199\u001b[0m \u001b[43m        \u001b[49m\u001b[43mfeature_name\u001b[49m\u001b[38;5;241;43m=\u001b[39;49m\u001b[43mfeature_name\u001b[49m\u001b[43m,\u001b[49m\n\u001b[0;32m   1200\u001b[0m \u001b[43m        \u001b[49m\u001b[43mcategorical_feature\u001b[49m\u001b[38;5;241;43m=\u001b[39;49m\u001b[43mcategorical_feature\u001b[49m\u001b[43m,\u001b[49m\n\u001b[0;32m   1201\u001b[0m \u001b[43m        \u001b[49m\u001b[43mcallbacks\u001b[49m\u001b[38;5;241;43m=\u001b[39;49m\u001b[43mcallbacks\u001b[49m\u001b[43m,\u001b[49m\n\u001b[0;32m   1202\u001b[0m \u001b[43m        \u001b[49m\u001b[43minit_model\u001b[49m\u001b[38;5;241;43m=\u001b[39;49m\u001b[43minit_model\u001b[49m\u001b[43m,\u001b[49m\n\u001b[0;32m   1203\u001b[0m \u001b[43m    \u001b[49m\u001b[43m)\u001b[49m\n\u001b[0;32m   1204\u001b[0m     \u001b[38;5;28;01mreturn\u001b[39;00m \u001b[38;5;28mself\u001b[39m\n",
      "File \u001b[1;32mI:\\Kaggle\\kaggle_venvs\\ml\\Lib\\site-packages\\lightgbm\\sklearn.py:955\u001b[0m, in \u001b[0;36mLGBMModel.fit\u001b[1;34m(self, X, y, sample_weight, init_score, group, eval_set, eval_names, eval_sample_weight, eval_class_weight, eval_init_score, eval_group, eval_metric, feature_name, categorical_feature, callbacks, init_model)\u001b[0m\n\u001b[0;32m    952\u001b[0m evals_result: _EvalResultDict \u001b[38;5;241m=\u001b[39m {}\n\u001b[0;32m    953\u001b[0m callbacks\u001b[38;5;241m.\u001b[39mappend(record_evaluation(evals_result))\n\u001b[1;32m--> 955\u001b[0m \u001b[38;5;28mself\u001b[39m\u001b[38;5;241m.\u001b[39m_Booster \u001b[38;5;241m=\u001b[39m \u001b[43mtrain\u001b[49m\u001b[43m(\u001b[49m\n\u001b[0;32m    956\u001b[0m \u001b[43m    \u001b[49m\u001b[43mparams\u001b[49m\u001b[38;5;241;43m=\u001b[39;49m\u001b[43mparams\u001b[49m\u001b[43m,\u001b[49m\n\u001b[0;32m    957\u001b[0m \u001b[43m    \u001b[49m\u001b[43mtrain_set\u001b[49m\u001b[38;5;241;43m=\u001b[39;49m\u001b[43mtrain_set\u001b[49m\u001b[43m,\u001b[49m\n\u001b[0;32m    958\u001b[0m \u001b[43m    \u001b[49m\u001b[43mnum_boost_round\u001b[49m\u001b[38;5;241;43m=\u001b[39;49m\u001b[38;5;28;43mself\u001b[39;49m\u001b[38;5;241;43m.\u001b[39;49m\u001b[43mn_estimators\u001b[49m\u001b[43m,\u001b[49m\n\u001b[0;32m    959\u001b[0m \u001b[43m    \u001b[49m\u001b[43mvalid_sets\u001b[49m\u001b[38;5;241;43m=\u001b[39;49m\u001b[43mvalid_sets\u001b[49m\u001b[43m,\u001b[49m\n\u001b[0;32m    960\u001b[0m \u001b[43m    \u001b[49m\u001b[43mvalid_names\u001b[49m\u001b[38;5;241;43m=\u001b[39;49m\u001b[43meval_names\u001b[49m\u001b[43m,\u001b[49m\n\u001b[0;32m    961\u001b[0m \u001b[43m    \u001b[49m\u001b[43mfeval\u001b[49m\u001b[38;5;241;43m=\u001b[39;49m\u001b[43meval_metrics_callable\u001b[49m\u001b[43m,\u001b[49m\u001b[43m  \u001b[49m\u001b[38;5;66;43;03m# type: ignore[arg-type]\u001b[39;49;00m\n\u001b[0;32m    962\u001b[0m \u001b[43m    \u001b[49m\u001b[43minit_model\u001b[49m\u001b[38;5;241;43m=\u001b[39;49m\u001b[43minit_model\u001b[49m\u001b[43m,\u001b[49m\n\u001b[0;32m    963\u001b[0m \u001b[43m    \u001b[49m\u001b[43mcallbacks\u001b[49m\u001b[38;5;241;43m=\u001b[39;49m\u001b[43mcallbacks\u001b[49m\u001b[43m,\u001b[49m\n\u001b[0;32m    964\u001b[0m \u001b[43m\u001b[49m\u001b[43m)\u001b[49m\n\u001b[0;32m    966\u001b[0m \u001b[38;5;28mself\u001b[39m\u001b[38;5;241m.\u001b[39m_evals_result \u001b[38;5;241m=\u001b[39m evals_result\n\u001b[0;32m    967\u001b[0m \u001b[38;5;28mself\u001b[39m\u001b[38;5;241m.\u001b[39m_best_iteration \u001b[38;5;241m=\u001b[39m \u001b[38;5;28mself\u001b[39m\u001b[38;5;241m.\u001b[39m_Booster\u001b[38;5;241m.\u001b[39mbest_iteration\n",
      "File \u001b[1;32mI:\\Kaggle\\kaggle_venvs\\ml\\Lib\\site-packages\\lightgbm\\engine.py:335\u001b[0m, in \u001b[0;36mtrain\u001b[1;34m(params, train_set, num_boost_round, valid_sets, valid_names, feval, init_model, feature_name, categorical_feature, keep_training_booster, callbacks)\u001b[0m\n\u001b[0;32m    333\u001b[0m     booster\u001b[38;5;241m.\u001b[39mbest_score[dataset_name][eval_name] \u001b[38;5;241m=\u001b[39m score\n\u001b[0;32m    334\u001b[0m \u001b[38;5;28;01mif\u001b[39;00m \u001b[38;5;129;01mnot\u001b[39;00m keep_training_booster:\n\u001b[1;32m--> 335\u001b[0m     \u001b[43mbooster\u001b[49m\u001b[38;5;241;43m.\u001b[39;49m\u001b[43mmodel_from_string\u001b[49m\u001b[43m(\u001b[49m\u001b[43mbooster\u001b[49m\u001b[38;5;241;43m.\u001b[39;49m\u001b[43mmodel_to_string\u001b[49m\u001b[43m(\u001b[49m\u001b[43m)\u001b[49m\u001b[43m)\u001b[49m\u001b[38;5;241m.\u001b[39mfree_dataset()\n\u001b[0;32m    336\u001b[0m \u001b[38;5;28;01mreturn\u001b[39;00m booster\n",
      "File \u001b[1;32mI:\\Kaggle\\kaggle_venvs\\ml\\Lib\\site-packages\\lightgbm\\basic.py:4517\u001b[0m, in \u001b[0;36mBooster.model_from_string\u001b[1;34m(self, model_str)\u001b[0m\n\u001b[0;32m   4503\u001b[0m \u001b[38;5;250m\u001b[39m\u001b[38;5;124;03m\"\"\"Load Booster from a string.\u001b[39;00m\n\u001b[0;32m   4504\u001b[0m \n\u001b[0;32m   4505\u001b[0m \u001b[38;5;124;03mParameters\u001b[39;00m\n\u001b[1;32m   (...)\u001b[0m\n\u001b[0;32m   4513\u001b[0m \u001b[38;5;124;03m    Loaded Booster object.\u001b[39;00m\n\u001b[0;32m   4514\u001b[0m \u001b[38;5;124;03m\"\"\"\u001b[39;00m\n\u001b[0;32m   4515\u001b[0m \u001b[38;5;66;03m# ensure that existing Booster is freed before replacing it\u001b[39;00m\n\u001b[0;32m   4516\u001b[0m \u001b[38;5;66;03m# with a new one createdfrom file\u001b[39;00m\n\u001b[1;32m-> 4517\u001b[0m _safe_call(\u001b[43m_LIB\u001b[49m\u001b[38;5;241;43m.\u001b[39;49m\u001b[43mLGBM_BoosterFree\u001b[49m\u001b[43m(\u001b[49m\u001b[38;5;28;43mself\u001b[39;49m\u001b[38;5;241;43m.\u001b[39;49m\u001b[43m_handle\u001b[49m\u001b[43m)\u001b[49m)\n\u001b[0;32m   4518\u001b[0m \u001b[38;5;28mself\u001b[39m\u001b[38;5;241m.\u001b[39m_free_buffer()\n\u001b[0;32m   4519\u001b[0m \u001b[38;5;28mself\u001b[39m\u001b[38;5;241m.\u001b[39m_handle \u001b[38;5;241m=\u001b[39m ctypes\u001b[38;5;241m.\u001b[39mc_void_p()\n",
      "\u001b[1;31mKeyboardInterrupt\u001b[0m: "
     ]
    }
   ],
   "source": [
    "lgb_study = lgb_sliding_window(train_df, 300)"
   ]
  },
  {
   "cell_type": "code",
   "execution_count": null,
   "id": "6e9c25d5-e8de-47d0-bc14-504cb01c1953",
   "metadata": {
    "scrolled": true
   },
   "outputs": [],
   "source": [
    "for param in lgb_study.best_params.keys():\n",
    "    fig = plot_slice(lgb_study, params=[param])\n",
    "    fig.show()"
   ]
  },
  {
   "cell_type": "code",
   "execution_count": null,
   "id": "0bc374ce-73cb-4816-95c2-a48ad7549132",
   "metadata": {},
   "outputs": [],
   "source": [
    "plot_param_importances(lgb_study)"
   ]
  },
  {
   "cell_type": "code",
   "execution_count": null,
   "id": "a9d76fcf-0277-419f-9368-7c4c039ccc86",
   "metadata": {},
   "outputs": [],
   "source": [
    "lgb_study.best_params"
   ]
  },
  {
   "cell_type": "code",
   "execution_count": null,
   "id": "4219668b-f6cb-4a16-8260-6c95a3e8ac6a",
   "metadata": {},
   "outputs": [],
   "source": [
    "lgb_study.best_value"
   ]
  },
  {
   "cell_type": "code",
   "execution_count": null,
   "id": "8c749891-7ec2-4ea7-b4a3-40691e436f76",
   "metadata": {},
   "outputs": [],
   "source": [
    "for k, v in lgb_study.best_params.items():\n",
    "    print(k, v)"
   ]
  },
  {
   "cell_type": "code",
   "execution_count": null,
   "id": "752cca37-9145-43e5-aa81-2c40056df4b8",
   "metadata": {},
   "outputs": [],
   "source": [
    "lgb_params_df = pd.DataFrame({k:[v] for k, v in lgb_study.best_params.items()})"
   ]
  },
  {
   "cell_type": "code",
   "execution_count": null,
   "id": "d1dd04c5-e48c-429f-9095-d0bda03fafee",
   "metadata": {},
   "outputs": [],
   "source": [
    "lgb_params_df"
   ]
  },
  {
   "cell_type": "code",
   "execution_count": null,
   "id": "753709a5-ac43-4152-9da4-6b7f9a7ec8ee",
   "metadata": {},
   "outputs": [],
   "source": [
    "lgb_params_df.to_csv(models_path + 'lgb_params.csv', index=False)"
   ]
  },
  {
   "cell_type": "code",
   "execution_count": null,
   "id": "6b262e51-9765-40a0-bec6-3418677f4f70",
   "metadata": {},
   "outputs": [],
   "source": []
  }
 ],
 "metadata": {
  "kernelspec": {
   "display_name": "Python 3 (ipykernel)",
   "language": "python",
   "name": "python3"
  },
  "language_info": {
   "codemirror_mode": {
    "name": "ipython",
    "version": 3
   },
   "file_extension": ".py",
   "mimetype": "text/x-python",
   "name": "python",
   "nbconvert_exporter": "python",
   "pygments_lexer": "ipython3",
   "version": "3.11.9"
  }
 },
 "nbformat": 4,
 "nbformat_minor": 5
}
