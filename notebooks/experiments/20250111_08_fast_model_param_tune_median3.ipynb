{
 "cells": [
  {
   "cell_type": "code",
   "execution_count": 1,
   "id": "ba6e3e10-78d2-413c-87c3-f256294da062",
   "metadata": {},
   "outputs": [
    {
     "data": {
      "text/plain": [
       "polars.config.Config"
      ]
     },
     "execution_count": 1,
     "metadata": {},
     "output_type": "execute_result"
    }
   ],
   "source": [
    "import pandas as pd\n",
    "import polars as pl\n",
    "import numpy as np\n",
    "import os\n",
    "import gc\n",
    "import seaborn as sns\n",
    "from tqdm import tqdm\n",
    "from sklearn.model_selection import KFold, StratifiedKFold\n",
    "import xgboost as xgb\n",
    "from xgboost import XGBRegressor\n",
    "from lightgbm import LGBMRegressor, log_evaluation, record_evaluation\n",
    "import lightgbm as lgb\n",
    "import matplotlib.pyplot as plt\n",
    "from sklearn.metrics import r2_score\n",
    "#from sklearn.impute import IterativeImputer\n",
    "import pickle\n",
    "import optuna\n",
    "import optunahub\n",
    "from optuna.visualization import plot_slice, plot_param_importances\n",
    "import shap\n",
    "import random\n",
    "\n",
    "gc.enable()\n",
    "\n",
    "pd.options.display.max_columns = None\n",
    "#pd.set_option('display.max_rows', 500)\n",
    "pd.set_option('display.max_columns', 500)\n",
    "pd.set_option('display.max_colwidth', None)\n",
    "\n",
    "#pl.Config.set_tbl_rows(-1)\n",
    "pl.Config.set_tbl_cols(-1)\n",
    "pl.Config.set_fmt_str_lengths(10000)\n",
    "#optuna.logging.set_verbosity(optuna.logging.WARNING)"
   ]
  },
  {
   "cell_type": "code",
   "execution_count": 2,
   "id": "8a5a256f-c55b-415d-8d12-e753283ffee9",
   "metadata": {},
   "outputs": [],
   "source": [
    "path = 'I:/Kaggle/jane-street-real-time-market-data-forecasting/'"
   ]
  },
  {
   "cell_type": "code",
   "execution_count": 3,
   "id": "38d215c3-e2a4-4ea2-8125-708737b10ed4",
   "metadata": {},
   "outputs": [
    {
     "data": {
      "text/plain": [
       "['db.sqlite3',\n",
       " 'features.csv',\n",
       " 'imputed_train_ffill.parquet',\n",
       " 'kaggle_evaluation',\n",
       " 'lags.parquet',\n",
       " 'my_folder',\n",
       " 'responders.csv',\n",
       " 'sample_submission.csv',\n",
       " 'team_folder',\n",
       " 'test.parquet',\n",
       " 'top_100000_rows_sorted_by_weight_descending.parquet',\n",
       " 'top_10000_rows_sorted_by_weight_descending.parquet',\n",
       " 'train.parquet']"
      ]
     },
     "execution_count": 3,
     "metadata": {},
     "output_type": "execute_result"
    }
   ],
   "source": [
    "os.listdir(path)"
   ]
  },
  {
   "cell_type": "code",
   "execution_count": 4,
   "id": "eab47b6d-409b-41a7-a443-fcddc750f653",
   "metadata": {},
   "outputs": [
    {
     "name": "stdout",
     "output_type": "stream",
     "text": [
      "(47127338, 84)\n"
     ]
    },
    {
     "data": {
      "text/html": [
       "<div><style>\n",
       ".dataframe > thead > tr,\n",
       ".dataframe > tbody > tr {\n",
       "  text-align: right;\n",
       "  white-space: pre-wrap;\n",
       "}\n",
       "</style>\n",
       "<small>shape: (5, 84)</small><table border=\"1\" class=\"dataframe\"><thead><tr><th>date_id</th><th>time_id</th><th>symbol_id</th><th>weight</th><th>feature_00</th><th>feature_01</th><th>feature_02</th><th>feature_03</th><th>feature_04</th><th>feature_05</th><th>feature_06</th><th>feature_07</th><th>feature_08</th><th>feature_09</th><th>feature_10</th><th>feature_11</th><th>feature_12</th><th>feature_13</th><th>feature_14</th><th>feature_15</th><th>feature_16</th><th>feature_17</th><th>feature_18</th><th>feature_19</th><th>feature_20</th><th>feature_21</th><th>feature_22</th><th>feature_23</th><th>feature_24</th><th>feature_25</th><th>feature_26</th><th>feature_27</th><th>feature_28</th><th>feature_29</th><th>feature_30</th><th>feature_31</th><th>feature_32</th><th>feature_33</th><th>feature_34</th><th>feature_35</th><th>feature_36</th><th>feature_37</th><th>feature_38</th><th>feature_39</th><th>feature_40</th><th>feature_41</th><th>feature_42</th><th>feature_43</th><th>feature_44</th><th>feature_45</th><th>feature_46</th><th>feature_47</th><th>feature_48</th><th>feature_49</th><th>feature_50</th><th>feature_51</th><th>feature_52</th><th>feature_53</th><th>feature_54</th><th>feature_55</th><th>feature_56</th><th>feature_57</th><th>feature_58</th><th>feature_59</th><th>feature_60</th><th>feature_61</th><th>feature_62</th><th>feature_63</th><th>feature_64</th><th>feature_65</th><th>feature_66</th><th>feature_67</th><th>feature_68</th><th>feature_69</th><th>feature_70</th><th>feature_71</th><th>feature_72</th><th>feature_73</th><th>feature_74</th><th>feature_75</th><th>feature_76</th><th>feature_77</th><th>feature_78</th><th>responder_6</th></tr><tr><td>i16</td><td>i16</td><td>i8</td><td>f32</td><td>f32</td><td>f32</td><td>f32</td><td>f32</td><td>f32</td><td>f32</td><td>f32</td><td>f32</td><td>f32</td><td>i8</td><td>i8</td><td>i16</td><td>f32</td><td>f32</td><td>f32</td><td>f32</td><td>f32</td><td>f32</td><td>f32</td><td>f32</td><td>f32</td><td>f32</td><td>f32</td><td>f32</td><td>f32</td><td>f32</td><td>f32</td><td>f32</td><td>f32</td><td>f32</td><td>f32</td><td>f32</td><td>f32</td><td>f32</td><td>f32</td><td>f32</td><td>f32</td><td>f32</td><td>f32</td><td>f32</td><td>f32</td><td>f32</td><td>f32</td><td>f32</td><td>f32</td><td>f32</td><td>f32</td><td>f32</td><td>f32</td><td>f32</td><td>f32</td><td>f32</td><td>f32</td><td>f32</td><td>f32</td><td>f32</td><td>f32</td><td>f32</td><td>f32</td><td>f32</td><td>f32</td><td>f32</td><td>f32</td><td>f32</td><td>f32</td><td>f32</td><td>f32</td><td>f32</td><td>f32</td><td>f32</td><td>f32</td><td>f32</td><td>f32</td><td>f32</td><td>f32</td><td>f32</td><td>f32</td><td>f32</td><td>f32</td><td>f32</td></tr></thead><tbody><tr><td>0</td><td>0</td><td>1</td><td>3.889038</td><td>null</td><td>null</td><td>null</td><td>null</td><td>null</td><td>0.851033</td><td>0.242971</td><td>0.2634</td><td>-0.891687</td><td>11</td><td>7</td><td>76</td><td>-0.883028</td><td>0.003067</td><td>-0.744703</td><td>null</td><td>-0.169586</td><td>null</td><td>-1.335938</td><td>-1.707803</td><td>0.91013</td><td>null</td><td>1.636431</td><td>1.522133</td><td>-1.551398</td><td>-0.229627</td><td>null</td><td>null</td><td>1.378301</td><td>-0.283712</td><td>0.123196</td><td>null</td><td>null</td><td>null</td><td>0.28118</td><td>0.269163</td><td>0.349028</td><td>-0.012596</td><td>-0.225932</td><td>null</td><td>-1.073602</td><td>null</td><td>null</td><td>-0.181716</td><td>null</td><td>null</td><td>null</td><td>0.564021</td><td>2.088506</td><td>0.832022</td><td>null</td><td>0.204797</td><td>null</td><td>null</td><td>-0.808103</td><td>null</td><td>-2.037683</td><td>0.727661</td><td>null</td><td>-0.989118</td><td>-0.345213</td><td>-1.36224</td><td>null</td><td>null</td><td>null</td><td>null</td><td>null</td><td>-1.251104</td><td>-0.110252</td><td>-0.491157</td><td>-1.02269</td><td>0.152241</td><td>-0.659864</td><td>null</td><td>null</td><td>-0.261412</td><td>-0.211486</td><td>-0.335556</td><td>-0.281498</td><td>0.775981</td></tr><tr><td>0</td><td>0</td><td>7</td><td>1.370613</td><td>null</td><td>null</td><td>null</td><td>null</td><td>null</td><td>0.676961</td><td>0.151984</td><td>0.192465</td><td>-0.521729</td><td>11</td><td>7</td><td>76</td><td>-0.865307</td><td>-0.225629</td><td>-0.582163</td><td>null</td><td>0.317467</td><td>null</td><td>-1.250016</td><td>-1.682929</td><td>1.412757</td><td>null</td><td>0.520378</td><td>0.744132</td><td>-0.788658</td><td>0.641776</td><td>null</td><td>null</td><td>0.2272</td><td>0.580907</td><td>1.128879</td><td>null</td><td>null</td><td>null</td><td>-1.512286</td><td>-1.414357</td><td>-1.823322</td><td>-0.082763</td><td>-0.184119</td><td>null</td><td>null</td><td>null</td><td>null</td><td>null</td><td>null</td><td>null</td><td>null</td><td>-10.835207</td><td>-0.002704</td><td>-0.621836</td><td>null</td><td>1.172836</td><td>null</td><td>null</td><td>-1.625862</td><td>null</td><td>-1.410017</td><td>1.063013</td><td>null</td><td>0.888355</td><td>0.467994</td><td>-1.36224</td><td>null</td><td>null</td><td>null</td><td>null</td><td>null</td><td>-1.065759</td><td>0.013322</td><td>-0.592855</td><td>-1.052685</td><td>-0.393726</td><td>-0.741603</td><td>null</td><td>null</td><td>-0.281207</td><td>-0.182894</td><td>-0.245565</td><td>-0.302441</td><td>0.703665</td></tr><tr><td>0</td><td>0</td><td>9</td><td>2.285698</td><td>null</td><td>null</td><td>null</td><td>null</td><td>null</td><td>1.056285</td><td>0.187227</td><td>0.249901</td><td>-0.77305</td><td>11</td><td>7</td><td>76</td><td>-0.675719</td><td>-0.199404</td><td>-0.586798</td><td>null</td><td>-0.814909</td><td>null</td><td>-1.296782</td><td>-2.040234</td><td>0.639589</td><td>null</td><td>1.597359</td><td>0.657514</td><td>-1.350148</td><td>0.364215</td><td>null</td><td>null</td><td>-0.017751</td><td>-0.317361</td><td>-0.122379</td><td>null</td><td>null</td><td>null</td><td>-0.320921</td><td>-0.95809</td><td>-2.436589</td><td>0.070999</td><td>-0.245239</td><td>null</td><td>null</td><td>null</td><td>null</td><td>null</td><td>null</td><td>null</td><td>null</td><td>-1.420632</td><td>-3.515137</td><td>-4.67776</td><td>null</td><td>0.535897</td><td>null</td><td>null</td><td>-0.72542</td><td>null</td><td>-2.29417</td><td>1.764551</td><td>null</td><td>-0.120789</td><td>-0.063458</td><td>-1.36224</td><td>null</td><td>null</td><td>null</td><td>null</td><td>null</td><td>-0.882604</td><td>-0.072482</td><td>-0.617934</td><td>-0.86323</td><td>-0.241892</td><td>-0.709919</td><td>null</td><td>null</td><td>0.377131</td><td>0.300724</td><td>-0.106842</td><td>-0.096792</td><td>2.109352</td></tr><tr><td>0</td><td>0</td><td>10</td><td>0.690606</td><td>null</td><td>null</td><td>null</td><td>null</td><td>null</td><td>1.139366</td><td>0.273328</td><td>0.306549</td><td>-1.262223</td><td>42</td><td>5</td><td>150</td><td>-0.694008</td><td>3.004091</td><td>0.114809</td><td>null</td><td>-0.251882</td><td>null</td><td>-1.902009</td><td>-0.979447</td><td>0.241165</td><td>null</td><td>-0.392359</td><td>-0.224699</td><td>-2.129397</td><td>-0.855287</td><td>null</td><td>null</td><td>0.404142</td><td>-0.578156</td><td>0.105702</td><td>null</td><td>null</td><td>null</td><td>0.544138</td><td>-0.087091</td><td>-1.500147</td><td>-0.201288</td><td>-0.038042</td><td>null</td><td>null</td><td>null</td><td>null</td><td>null</td><td>null</td><td>null</td><td>null</td><td>0.382074</td><td>2.669135</td><td>0.611711</td><td>null</td><td>2.413415</td><td>null</td><td>null</td><td>1.313203</td><td>null</td><td>-0.810125</td><td>2.939022</td><td>null</td><td>3.988801</td><td>1.834661</td><td>-1.36224</td><td>null</td><td>null</td><td>null</td><td>null</td><td>null</td><td>-0.697595</td><td>1.074309</td><td>-0.206929</td><td>-0.530602</td><td>4.765215</td><td>0.571554</td><td>null</td><td>null</td><td>-0.226891</td><td>-0.251412</td><td>-0.215522</td><td>-0.296244</td><td>1.114137</td></tr><tr><td>0</td><td>0</td><td>14</td><td>0.44057</td><td>null</td><td>null</td><td>null</td><td>null</td><td>null</td><td>0.9552</td><td>0.262404</td><td>0.344457</td><td>-0.613813</td><td>44</td><td>3</td><td>16</td><td>-0.947351</td><td>-0.030018</td><td>-0.502379</td><td>null</td><td>0.646086</td><td>null</td><td>-1.844685</td><td>-1.58656</td><td>-0.182024</td><td>null</td><td>-0.969949</td><td>-0.673813</td><td>-1.282132</td><td>-1.399894</td><td>null</td><td>null</td><td>0.043815</td><td>-0.320225</td><td>-0.031713</td><td>null</td><td>null</td><td>null</td><td>-0.08842</td><td>-0.995003</td><td>-2.635336</td><td>-0.196461</td><td>-0.618719</td><td>null</td><td>null</td><td>null</td><td>null</td><td>null</td><td>null</td><td>null</td><td>null</td><td>-2.0146</td><td>-2.321076</td><td>-3.711265</td><td>null</td><td>1.253902</td><td>null</td><td>null</td><td>0.476195</td><td>null</td><td>-0.771732</td><td>2.843421</td><td>null</td><td>1.379815</td><td>0.411827</td><td>-1.36224</td><td>null</td><td>null</td><td>null</td><td>null</td><td>null</td><td>-0.948601</td><td>-0.136814</td><td>-0.447704</td><td>-1.141761</td><td>0.099631</td><td>-0.661928</td><td>null</td><td>null</td><td>3.678076</td><td>2.793581</td><td>2.61825</td><td>3.418133</td><td>-3.57282</td></tr></tbody></table></div>"
      ],
      "text/plain": [
       "shape: (5, 84)\n",
       "┌─────┬─────┬─────┬─────┬─────┬─────┬─────┬─────┬─────┬─────┬─────┬─────┬─────┬─────┬─────┬─────┬─────┬─────┬─────┬─────┬─────┬─────┬─────┬─────┬─────┬─────┬─────┬─────┬─────┬─────┬─────┬─────┬─────┬─────┬─────┬─────┬─────┬─────┬─────┬─────┬─────┬─────┬─────┬─────┬─────┬─────┬─────┬─────┬─────┬─────┬─────┬─────┬─────┬─────┬─────┬─────┬─────┬─────┬─────┬─────┬─────┬─────┬─────┬─────┬─────┬─────┬─────┬─────┬─────┬─────┬─────┬─────┬─────┬─────┬─────┬─────┬─────┬─────┬─────┬─────┬─────┬─────┬─────┬─────┐\n",
       "│ dat ┆ tim ┆ sym ┆ wei ┆ fea ┆ fea ┆ fea ┆ fea ┆ fea ┆ fea ┆ fea ┆ fea ┆ fea ┆ fea ┆ fea ┆ fea ┆ fea ┆ fea ┆ fea ┆ fea ┆ fea ┆ fea ┆ fea ┆ fea ┆ fea ┆ fea ┆ fea ┆ fea ┆ fea ┆ fea ┆ fea ┆ fea ┆ fea ┆ fea ┆ fea ┆ fea ┆ fea ┆ fea ┆ fea ┆ fea ┆ fea ┆ fea ┆ fea ┆ fea ┆ fea ┆ fea ┆ fea ┆ fea ┆ fea ┆ fea ┆ fea ┆ fea ┆ fea ┆ fea ┆ fea ┆ fea ┆ fea ┆ fea ┆ fea ┆ fea ┆ fea ┆ fea ┆ fea ┆ fea ┆ fea ┆ fea ┆ fea ┆ fea ┆ fea ┆ fea ┆ fea ┆ fea ┆ fea ┆ fea ┆ fea ┆ fea ┆ fea ┆ fea ┆ fea ┆ fea ┆ fea ┆ fea ┆ fea ┆ res │\n",
       "│ e_i ┆ e_i ┆ bol ┆ ght ┆ tur ┆ tur ┆ tur ┆ tur ┆ tur ┆ tur ┆ tur ┆ tur ┆ tur ┆ tur ┆ tur ┆ tur ┆ tur ┆ tur ┆ tur ┆ tur ┆ tur ┆ tur ┆ tur ┆ tur ┆ tur ┆ tur ┆ tur ┆ tur ┆ tur ┆ tur ┆ tur ┆ tur ┆ tur ┆ tur ┆ tur ┆ tur ┆ tur ┆ tur ┆ tur ┆ tur ┆ tur ┆ tur ┆ tur ┆ tur ┆ tur ┆ tur ┆ tur ┆ tur ┆ tur ┆ tur ┆ tur ┆ tur ┆ tur ┆ tur ┆ tur ┆ tur ┆ tur ┆ tur ┆ tur ┆ tur ┆ tur ┆ tur ┆ tur ┆ tur ┆ tur ┆ tur ┆ tur ┆ tur ┆ tur ┆ tur ┆ tur ┆ tur ┆ tur ┆ tur ┆ tur ┆ tur ┆ tur ┆ tur ┆ tur ┆ tur ┆ tur ┆ tur ┆ tur ┆ pon │\n",
       "│ d   ┆ d   ┆ _id ┆ --- ┆ e_0 ┆ e_0 ┆ e_0 ┆ e_0 ┆ e_0 ┆ e_0 ┆ e_0 ┆ e_0 ┆ e_0 ┆ e_0 ┆ e_1 ┆ e_1 ┆ e_1 ┆ e_1 ┆ e_1 ┆ e_1 ┆ e_1 ┆ e_1 ┆ e_1 ┆ e_1 ┆ e_2 ┆ e_2 ┆ e_2 ┆ e_2 ┆ e_2 ┆ e_2 ┆ e_2 ┆ e_2 ┆ e_2 ┆ e_2 ┆ e_3 ┆ e_3 ┆ e_3 ┆ e_3 ┆ e_3 ┆ e_3 ┆ e_3 ┆ e_3 ┆ e_3 ┆ e_3 ┆ e_4 ┆ e_4 ┆ e_4 ┆ e_4 ┆ e_4 ┆ e_4 ┆ e_4 ┆ e_4 ┆ e_4 ┆ e_4 ┆ e_5 ┆ e_5 ┆ e_5 ┆ e_5 ┆ e_5 ┆ e_5 ┆ e_5 ┆ e_5 ┆ e_5 ┆ e_5 ┆ e_6 ┆ e_6 ┆ e_6 ┆ e_6 ┆ e_6 ┆ e_6 ┆ e_6 ┆ e_6 ┆ e_6 ┆ e_6 ┆ e_7 ┆ e_7 ┆ e_7 ┆ e_7 ┆ e_7 ┆ e_7 ┆ e_7 ┆ e_7 ┆ e_7 ┆ der │\n",
       "│ --- ┆ --- ┆ --- ┆ f32 ┆ 0   ┆ 1   ┆ 2   ┆ 3   ┆ 4   ┆ 5   ┆ 6   ┆ 7   ┆ 8   ┆ 9   ┆ 0   ┆ 1   ┆ 2   ┆ 3   ┆ 4   ┆ 5   ┆ 6   ┆ 7   ┆ 8   ┆ 9   ┆ 0   ┆ 1   ┆ 2   ┆ 3   ┆ 4   ┆ 5   ┆ 6   ┆ 7   ┆ 8   ┆ 9   ┆ 0   ┆ 1   ┆ 2   ┆ 3   ┆ 4   ┆ 5   ┆ 6   ┆ 7   ┆ 8   ┆ 9   ┆ 0   ┆ 1   ┆ 2   ┆ 3   ┆ 4   ┆ 5   ┆ 6   ┆ 7   ┆ 8   ┆ 9   ┆ 0   ┆ 1   ┆ 2   ┆ 3   ┆ 4   ┆ 5   ┆ 6   ┆ 7   ┆ 8   ┆ 9   ┆ 0   ┆ 1   ┆ 2   ┆ 3   ┆ 4   ┆ 5   ┆ 6   ┆ 7   ┆ 8   ┆ 9   ┆ 0   ┆ 1   ┆ 2   ┆ 3   ┆ 4   ┆ 5   ┆ 6   ┆ 7   ┆ 8   ┆ _6  │\n",
       "│ i16 ┆ i16 ┆ i8  ┆     ┆ --- ┆ --- ┆ --- ┆ --- ┆ --- ┆ --- ┆ --- ┆ --- ┆ --- ┆ --- ┆ --- ┆ --- ┆ --- ┆ --- ┆ --- ┆ --- ┆ --- ┆ --- ┆ --- ┆ --- ┆ --- ┆ --- ┆ --- ┆ --- ┆ --- ┆ --- ┆ --- ┆ --- ┆ --- ┆ --- ┆ --- ┆ --- ┆ --- ┆ --- ┆ --- ┆ --- ┆ --- ┆ --- ┆ --- ┆ --- ┆ --- ┆ --- ┆ --- ┆ --- ┆ --- ┆ --- ┆ --- ┆ --- ┆ --- ┆ --- ┆ --- ┆ --- ┆ --- ┆ --- ┆ --- ┆ --- ┆ --- ┆ --- ┆ --- ┆ --- ┆ --- ┆ --- ┆ --- ┆ --- ┆ --- ┆ --- ┆ --- ┆ --- ┆ --- ┆ --- ┆ --- ┆ --- ┆ --- ┆ --- ┆ --- ┆ --- ┆ --- ┆ --- ┆ --- ┆ --- │\n",
       "│     ┆     ┆     ┆     ┆ f32 ┆ f32 ┆ f32 ┆ f32 ┆ f32 ┆ f32 ┆ f32 ┆ f32 ┆ f32 ┆ i8  ┆ i8  ┆ i16 ┆ f32 ┆ f32 ┆ f32 ┆ f32 ┆ f32 ┆ f32 ┆ f32 ┆ f32 ┆ f32 ┆ f32 ┆ f32 ┆ f32 ┆ f32 ┆ f32 ┆ f32 ┆ f32 ┆ f32 ┆ f32 ┆ f32 ┆ f32 ┆ f32 ┆ f32 ┆ f32 ┆ f32 ┆ f32 ┆ f32 ┆ f32 ┆ f32 ┆ f32 ┆ f32 ┆ f32 ┆ f32 ┆ f32 ┆ f32 ┆ f32 ┆ f32 ┆ f32 ┆ f32 ┆ f32 ┆ f32 ┆ f32 ┆ f32 ┆ f32 ┆ f32 ┆ f32 ┆ f32 ┆ f32 ┆ f32 ┆ f32 ┆ f32 ┆ f32 ┆ f32 ┆ f32 ┆ f32 ┆ f32 ┆ f32 ┆ f32 ┆ f32 ┆ f32 ┆ f32 ┆ f32 ┆ f32 ┆ f32 ┆ f32 ┆ f32 ┆ f32 ┆ f32 ┆ f32 │\n",
       "╞═════╪═════╪═════╪═════╪═════╪═════╪═════╪═════╪═════╪═════╪═════╪═════╪═════╪═════╪═════╪═════╪═════╪═════╪═════╪═════╪═════╪═════╪═════╪═════╪═════╪═════╪═════╪═════╪═════╪═════╪═════╪═════╪═════╪═════╪═════╪═════╪═════╪═════╪═════╪═════╪═════╪═════╪═════╪═════╪═════╪═════╪═════╪═════╪═════╪═════╪═════╪═════╪═════╪═════╪═════╪═════╪═════╪═════╪═════╪═════╪═════╪═════╪═════╪═════╪═════╪═════╪═════╪═════╪═════╪═════╪═════╪═════╪═════╪═════╪═════╪═════╪═════╪═════╪═════╪═════╪═════╪═════╪═════╪═════╡\n",
       "│ 0   ┆ 0   ┆ 1   ┆ 3.8 ┆ nul ┆ nul ┆ nul ┆ nul ┆ nul ┆ 0.8 ┆ 0.2 ┆ 0.2 ┆ -0. ┆ 11  ┆ 7   ┆ 76  ┆ -0. ┆ 0.0 ┆ -0. ┆ nul ┆ -0. ┆ nul ┆ -1. ┆ -1. ┆ 0.9 ┆ nul ┆ 1.6 ┆ 1.5 ┆ -1. ┆ -0. ┆ nul ┆ nul ┆ 1.3 ┆ -0. ┆ 0.1 ┆ nul ┆ nul ┆ nul ┆ 0.2 ┆ 0.2 ┆ 0.3 ┆ -0. ┆ -0. ┆ nul ┆ -1. ┆ nul ┆ nul ┆ -0. ┆ nul ┆ nul ┆ nul ┆ 0.5 ┆ 2.0 ┆ 0.8 ┆ nul ┆ 0.2 ┆ nul ┆ nul ┆ -0. ┆ nul ┆ -2. ┆ 0.7 ┆ nul ┆ -0. ┆ -0. ┆ -1. ┆ nul ┆ nul ┆ nul ┆ nul ┆ nul ┆ -1. ┆ -0. ┆ -0. ┆ -1. ┆ 0.1 ┆ -0. ┆ nul ┆ nul ┆ -0. ┆ -0. ┆ -0. ┆ -0. ┆ 0.7 │\n",
       "│     ┆     ┆     ┆ 890 ┆ l   ┆ l   ┆ l   ┆ l   ┆ l   ┆ 510 ┆ 429 ┆ 634 ┆ 891 ┆     ┆     ┆     ┆ 883 ┆ 030 ┆ 744 ┆ l   ┆ 169 ┆ l   ┆ 335 ┆ 707 ┆ 101 ┆ l   ┆ 364 ┆ 221 ┆ 551 ┆ 229 ┆ l   ┆ l   ┆ 783 ┆ 283 ┆ 231 ┆ l   ┆ l   ┆ l   ┆ 811 ┆ 691 ┆ 490 ┆ 012 ┆ 225 ┆ l   ┆ 073 ┆ l   ┆ l   ┆ 181 ┆ l   ┆ l   ┆ l   ┆ 640 ┆ 885 ┆ 320 ┆ l   ┆ 047 ┆ l   ┆ l   ┆ 808 ┆ l   ┆ 037 ┆ 276 ┆ l   ┆ 989 ┆ 345 ┆ 362 ┆ l   ┆ l   ┆ l   ┆ l   ┆ l   ┆ 251 ┆ 110 ┆ 491 ┆ 022 ┆ 522 ┆ 659 ┆ l   ┆ l   ┆ 261 ┆ 211 ┆ 335 ┆ 281 ┆ 759 │\n",
       "│     ┆     ┆     ┆ 38  ┆     ┆     ┆     ┆     ┆     ┆ 33  ┆ 71  ┆     ┆ 687 ┆     ┆     ┆     ┆ 028 ┆ 67  ┆ 703 ┆     ┆ 586 ┆     ┆ 938 ┆ 803 ┆ 3   ┆     ┆ 31  ┆ 33  ┆ 398 ┆ 627 ┆     ┆     ┆ 01  ┆ 712 ┆ 96  ┆     ┆     ┆     ┆ 8   ┆ 63  ┆ 28  ┆ 596 ┆ 932 ┆     ┆ 602 ┆     ┆     ┆ 716 ┆     ┆     ┆     ┆ 21  ┆ 06  ┆ 22  ┆     ┆ 97  ┆     ┆     ┆ 103 ┆     ┆ 683 ┆ 61  ┆     ┆ 118 ┆ 213 ┆ 24  ┆     ┆     ┆     ┆     ┆     ┆ 104 ┆ 252 ┆ 157 ┆ 69  ┆ 41  ┆ 864 ┆     ┆     ┆ 412 ┆ 486 ┆ 556 ┆ 498 ┆ 81  │\n",
       "│ 0   ┆ 0   ┆ 7   ┆ 1.3 ┆ nul ┆ nul ┆ nul ┆ nul ┆ nul ┆ 0.6 ┆ 0.1 ┆ 0.1 ┆ -0. ┆ 11  ┆ 7   ┆ 76  ┆ -0. ┆ -0. ┆ -0. ┆ nul ┆ 0.3 ┆ nul ┆ -1. ┆ -1. ┆ 1.4 ┆ nul ┆ 0.5 ┆ 0.7 ┆ -0. ┆ 0.6 ┆ nul ┆ nul ┆ 0.2 ┆ 0.5 ┆ 1.1 ┆ nul ┆ nul ┆ nul ┆ -1. ┆ -1. ┆ -1. ┆ -0. ┆ -0. ┆ nul ┆ nul ┆ nul ┆ nul ┆ nul ┆ nul ┆ nul ┆ nul ┆ -10 ┆ -0. ┆ -0. ┆ nul ┆ 1.1 ┆ nul ┆ nul ┆ -1. ┆ nul ┆ -1. ┆ 1.0 ┆ nul ┆ 0.8 ┆ 0.4 ┆ -1. ┆ nul ┆ nul ┆ nul ┆ nul ┆ nul ┆ -1. ┆ 0.0 ┆ -0. ┆ -1. ┆ -0. ┆ -0. ┆ nul ┆ nul ┆ -0. ┆ -0. ┆ -0. ┆ -0. ┆ 0.7 │\n",
       "│     ┆     ┆     ┆ 706 ┆ l   ┆ l   ┆ l   ┆ l   ┆ l   ┆ 769 ┆ 519 ┆ 924 ┆ 521 ┆     ┆     ┆     ┆ 865 ┆ 225 ┆ 582 ┆ l   ┆ 174 ┆ l   ┆ 250 ┆ 682 ┆ 127 ┆ l   ┆ 203 ┆ 441 ┆ 788 ┆ 417 ┆ l   ┆ l   ┆ 272 ┆ 809 ┆ 288 ┆ l   ┆ l   ┆ l   ┆ 512 ┆ 414 ┆ 823 ┆ 082 ┆ 184 ┆ l   ┆ l   ┆ l   ┆ l   ┆ l   ┆ l   ┆ l   ┆ l   ┆ .83 ┆ 002 ┆ 621 ┆ l   ┆ 728 ┆ l   ┆ l   ┆ 625 ┆ l   ┆ 410 ┆ 630 ┆ l   ┆ 883 ┆ 679 ┆ 362 ┆ l   ┆ l   ┆ l   ┆ l   ┆ l   ┆ 065 ┆ 133 ┆ 592 ┆ 052 ┆ 393 ┆ 741 ┆ l   ┆ l   ┆ 281 ┆ 182 ┆ 245 ┆ 302 ┆ 036 │\n",
       "│     ┆     ┆     ┆ 13  ┆     ┆     ┆     ┆     ┆     ┆ 61  ┆ 84  ┆ 65  ┆ 729 ┆     ┆     ┆     ┆ 307 ┆ 629 ┆ 163 ┆     ┆ 67  ┆     ┆ 016 ┆ 929 ┆ 57  ┆     ┆ 78  ┆ 32  ┆ 658 ┆ 76  ┆     ┆     ┆     ┆ 07  ┆ 79  ┆     ┆     ┆     ┆ 286 ┆ 357 ┆ 322 ┆ 763 ┆ 119 ┆     ┆     ┆     ┆     ┆     ┆     ┆     ┆     ┆ 520 ┆ 704 ┆ 836 ┆     ┆ 36  ┆     ┆     ┆ 862 ┆     ┆ 017 ┆ 13  ┆     ┆ 55  ┆ 94  ┆ 24  ┆     ┆     ┆     ┆     ┆     ┆ 759 ┆ 22  ┆ 855 ┆ 685 ┆ 726 ┆ 603 ┆     ┆     ┆ 207 ┆ 894 ┆ 565 ┆ 441 ┆ 65  │\n",
       "│     ┆     ┆     ┆     ┆     ┆     ┆     ┆     ┆     ┆     ┆     ┆     ┆     ┆     ┆     ┆     ┆     ┆     ┆     ┆     ┆     ┆     ┆     ┆     ┆     ┆     ┆     ┆     ┆     ┆     ┆     ┆     ┆     ┆     ┆     ┆     ┆     ┆     ┆     ┆     ┆     ┆     ┆     ┆     ┆     ┆     ┆     ┆     ┆     ┆     ┆     ┆ 7   ┆     ┆     ┆     ┆     ┆     ┆     ┆     ┆     ┆     ┆     ┆     ┆     ┆     ┆     ┆     ┆     ┆     ┆     ┆     ┆     ┆     ┆     ┆     ┆     ┆     ┆     ┆     ┆     ┆     ┆     ┆     ┆     │\n",
       "│ 0   ┆ 0   ┆ 9   ┆ 2.2 ┆ nul ┆ nul ┆ nul ┆ nul ┆ nul ┆ 1.0 ┆ 0.1 ┆ 0.2 ┆ -0. ┆ 11  ┆ 7   ┆ 76  ┆ -0. ┆ -0. ┆ -0. ┆ nul ┆ -0. ┆ nul ┆ -1. ┆ -2. ┆ 0.6 ┆ nul ┆ 1.5 ┆ 0.6 ┆ -1. ┆ 0.3 ┆ nul ┆ nul ┆ -0. ┆ -0. ┆ -0. ┆ nul ┆ nul ┆ nul ┆ -0. ┆ -0. ┆ -2. ┆ 0.0 ┆ -0. ┆ nul ┆ nul ┆ nul ┆ nul ┆ nul ┆ nul ┆ nul ┆ nul ┆ -1. ┆ -3. ┆ -4. ┆ nul ┆ 0.5 ┆ nul ┆ nul ┆ -0. ┆ nul ┆ -2. ┆ 1.7 ┆ nul ┆ -0. ┆ -0. ┆ -1. ┆ nul ┆ nul ┆ nul ┆ nul ┆ nul ┆ -0. ┆ -0. ┆ -0. ┆ -0. ┆ -0. ┆ -0. ┆ nul ┆ nul ┆ 0.3 ┆ 0.3 ┆ -0. ┆ -0. ┆ 2.1 │\n",
       "│     ┆     ┆     ┆ 856 ┆ l   ┆ l   ┆ l   ┆ l   ┆ l   ┆ 562 ┆ 872 ┆ 499 ┆ 773 ┆     ┆     ┆     ┆ 675 ┆ 199 ┆ 586 ┆ l   ┆ 814 ┆ l   ┆ 296 ┆ 040 ┆ 395 ┆ l   ┆ 973 ┆ 575 ┆ 350 ┆ 642 ┆ l   ┆ l   ┆ 017 ┆ 317 ┆ 122 ┆ l   ┆ l   ┆ l   ┆ 320 ┆ 958 ┆ 436 ┆ 709 ┆ 245 ┆ l   ┆ l   ┆ l   ┆ l   ┆ l   ┆ l   ┆ l   ┆ l   ┆ 420 ┆ 515 ┆ 677 ┆ l   ┆ 358 ┆ l   ┆ l   ┆ 725 ┆ l   ┆ 294 ┆ 645 ┆ l   ┆ 120 ┆ 063 ┆ 362 ┆ l   ┆ l   ┆ l   ┆ l   ┆ l   ┆ 882 ┆ 072 ┆ 617 ┆ 863 ┆ 241 ┆ 709 ┆ l   ┆ l   ┆ 771 ┆ 007 ┆ 106 ┆ 096 ┆ 093 │\n",
       "│     ┆     ┆     ┆ 98  ┆     ┆     ┆     ┆     ┆     ┆ 85  ┆ 27  ┆ 01  ┆ 05  ┆     ┆     ┆     ┆ 719 ┆ 404 ┆ 798 ┆     ┆ 909 ┆     ┆ 782 ┆ 234 ┆ 89  ┆     ┆ 59  ┆ 14  ┆ 148 ┆ 15  ┆     ┆     ┆ 751 ┆ 361 ┆ 379 ┆     ┆     ┆     ┆ 921 ┆ 09  ┆ 589 ┆ 99  ┆ 239 ┆     ┆     ┆     ┆     ┆     ┆     ┆     ┆     ┆ 632 ┆ 137 ┆ 76  ┆     ┆ 97  ┆     ┆     ┆ 42  ┆     ┆ 17  ┆ 51  ┆     ┆ 789 ┆ 458 ┆ 24  ┆     ┆     ┆     ┆     ┆     ┆ 604 ┆ 482 ┆ 934 ┆ 23  ┆ 892 ┆ 919 ┆     ┆     ┆ 31  ┆ 24  ┆ 842 ┆ 792 ┆ 52  │\n",
       "│ 0   ┆ 0   ┆ 10  ┆ 0.6 ┆ nul ┆ nul ┆ nul ┆ nul ┆ nul ┆ 1.1 ┆ 0.2 ┆ 0.3 ┆ -1. ┆ 42  ┆ 5   ┆ 150 ┆ -0. ┆ 3.0 ┆ 0.1 ┆ nul ┆ -0. ┆ nul ┆ -1. ┆ -0. ┆ 0.2 ┆ nul ┆ -0. ┆ -0. ┆ -2. ┆ -0. ┆ nul ┆ nul ┆ 0.4 ┆ -0. ┆ 0.1 ┆ nul ┆ nul ┆ nul ┆ 0.5 ┆ -0. ┆ -1. ┆ -0. ┆ -0. ┆ nul ┆ nul ┆ nul ┆ nul ┆ nul ┆ nul ┆ nul ┆ nul ┆ 0.3 ┆ 2.6 ┆ 0.6 ┆ nul ┆ 2.4 ┆ nul ┆ nul ┆ 1.3 ┆ nul ┆ -0. ┆ 2.9 ┆ nul ┆ 3.9 ┆ 1.8 ┆ -1. ┆ nul ┆ nul ┆ nul ┆ nul ┆ nul ┆ -0. ┆ 1.0 ┆ -0. ┆ -0. ┆ 4.7 ┆ 0.5 ┆ nul ┆ nul ┆ -0. ┆ -0. ┆ -0. ┆ -0. ┆ 1.1 │\n",
       "│     ┆     ┆     ┆ 906 ┆ l   ┆ l   ┆ l   ┆ l   ┆ l   ┆ 393 ┆ 733 ┆ 065 ┆ 262 ┆     ┆     ┆     ┆ 694 ┆ 040 ┆ 148 ┆ l   ┆ 251 ┆ l   ┆ 902 ┆ 979 ┆ 411 ┆ l   ┆ 392 ┆ 224 ┆ 129 ┆ 855 ┆ l   ┆ l   ┆ 041 ┆ 578 ┆ 057 ┆ l   ┆ l   ┆ l   ┆ 441 ┆ 087 ┆ 500 ┆ 201 ┆ 038 ┆ l   ┆ l   ┆ l   ┆ l   ┆ l   ┆ l   ┆ l   ┆ l   ┆ 820 ┆ 691 ┆ 117 ┆ l   ┆ 134 ┆ l   ┆ l   ┆ 132 ┆ l   ┆ 810 ┆ 390 ┆ l   ┆ 888 ┆ 346 ┆ 362 ┆ l   ┆ l   ┆ l   ┆ l   ┆ l   ┆ 697 ┆ 743 ┆ 206 ┆ 530 ┆ 652 ┆ 715 ┆ l   ┆ l   ┆ 226 ┆ 251 ┆ 215 ┆ 296 ┆ 141 │\n",
       "│     ┆     ┆     ┆ 06  ┆     ┆     ┆     ┆     ┆     ┆ 66  ┆ 28  ┆ 49  ┆ 223 ┆     ┆     ┆     ┆ 008 ┆ 91  ┆ 09  ┆     ┆ 882 ┆     ┆ 009 ┆ 447 ┆ 65  ┆     ┆ 359 ┆ 699 ┆ 397 ┆ 287 ┆     ┆     ┆ 42  ┆ 156 ┆ 02  ┆     ┆     ┆     ┆ 38  ┆ 091 ┆ 147 ┆ 288 ┆ 042 ┆     ┆     ┆     ┆     ┆     ┆     ┆     ┆     ┆ 74  ┆ 35  ┆ 11  ┆     ┆ 15  ┆     ┆     ┆ 03  ┆     ┆ 125 ┆ 22  ┆     ┆ 01  ┆ 61  ┆ 24  ┆     ┆     ┆     ┆     ┆     ┆ 595 ┆ 09  ┆ 929 ┆ 602 ┆ 15  ┆ 54  ┆     ┆     ┆ 891 ┆ 412 ┆ 522 ┆ 244 ┆ 37  │\n",
       "│ 0   ┆ 0   ┆ 14  ┆ 0.4 ┆ nul ┆ nul ┆ nul ┆ nul ┆ nul ┆ 0.9 ┆ 0.2 ┆ 0.3 ┆ -0. ┆ 44  ┆ 3   ┆ 16  ┆ -0. ┆ -0. ┆ -0. ┆ nul ┆ 0.6 ┆ nul ┆ -1. ┆ -1. ┆ -0. ┆ nul ┆ -0. ┆ -0. ┆ -1. ┆ -1. ┆ nul ┆ nul ┆ 0.0 ┆ -0. ┆ -0. ┆ nul ┆ nul ┆ nul ┆ -0. ┆ -0. ┆ -2. ┆ -0. ┆ -0. ┆ nul ┆ nul ┆ nul ┆ nul ┆ nul ┆ nul ┆ nul ┆ nul ┆ -2. ┆ -2. ┆ -3. ┆ nul ┆ 1.2 ┆ nul ┆ nul ┆ 0.4 ┆ nul ┆ -0. ┆ 2.8 ┆ nul ┆ 1.3 ┆ 0.4 ┆ -1. ┆ nul ┆ nul ┆ nul ┆ nul ┆ nul ┆ -0. ┆ -0. ┆ -0. ┆ -1. ┆ 0.0 ┆ -0. ┆ nul ┆ nul ┆ 3.6 ┆ 2.7 ┆ 2.6 ┆ 3.4 ┆ -3. │\n",
       "│     ┆     ┆     ┆ 405 ┆ l   ┆ l   ┆ l   ┆ l   ┆ l   ┆ 552 ┆ 624 ┆ 444 ┆ 613 ┆     ┆     ┆     ┆ 947 ┆ 030 ┆ 502 ┆ l   ┆ 460 ┆ l   ┆ 844 ┆ 586 ┆ 182 ┆ l   ┆ 969 ┆ 673 ┆ 282 ┆ 399 ┆ l   ┆ l   ┆ 438 ┆ 320 ┆ 031 ┆ l   ┆ l   ┆ l   ┆ 088 ┆ 995 ┆ 635 ┆ 196 ┆ 618 ┆ l   ┆ l   ┆ l   ┆ l   ┆ l   ┆ l   ┆ l   ┆ l   ┆ 014 ┆ 321 ┆ 711 ┆ l   ┆ 539 ┆ l   ┆ l   ┆ 761 ┆ l   ┆ 771 ┆ 434 ┆ l   ┆ 798 ┆ 118 ┆ 362 ┆ l   ┆ l   ┆ l   ┆ l   ┆ l   ┆ 948 ┆ 136 ┆ 447 ┆ 141 ┆ 996 ┆ 661 ┆ l   ┆ l   ┆ 780 ┆ 935 ┆ 182 ┆ 181 ┆ 572 │\n",
       "│     ┆     ┆     ┆ 7   ┆     ┆     ┆     ┆     ┆     ┆     ┆ 04  ┆ 57  ┆ 813 ┆     ┆     ┆     ┆ 351 ┆ 018 ┆ 379 ┆     ┆ 86  ┆     ┆ 685 ┆ 56  ┆ 024 ┆     ┆ 949 ┆ 813 ┆ 132 ┆ 894 ┆     ┆     ┆ 15  ┆ 225 ┆ 713 ┆     ┆     ┆     ┆ 42  ┆ 003 ┆ 336 ┆ 461 ┆ 719 ┆     ┆     ┆     ┆     ┆     ┆     ┆     ┆     ┆ 6   ┆ 076 ┆ 265 ┆     ┆ 02  ┆     ┆     ┆ 95  ┆     ┆ 732 ┆ 21  ┆     ┆ 15  ┆ 27  ┆ 24  ┆     ┆     ┆     ┆     ┆     ┆ 601 ┆ 814 ┆ 704 ┆ 761 ┆ 31  ┆ 928 ┆     ┆     ┆ 76  ┆ 81  ┆ 5   ┆ 33  ┆ 82  │\n",
       "└─────┴─────┴─────┴─────┴─────┴─────┴─────┴─────┴─────┴─────┴─────┴─────┴─────┴─────┴─────┴─────┴─────┴─────┴─────┴─────┴─────┴─────┴─────┴─────┴─────┴─────┴─────┴─────┴─────┴─────┴─────┴─────┴─────┴─────┴─────┴─────┴─────┴─────┴─────┴─────┴─────┴─────┴─────┴─────┴─────┴─────┴─────┴─────┴─────┴─────┴─────┴─────┴─────┴─────┴─────┴─────┴─────┴─────┴─────┴─────┴─────┴─────┴─────┴─────┴─────┴─────┴─────┴─────┴─────┴─────┴─────┴─────┴─────┴─────┴─────┴─────┴─────┴─────┴─────┴─────┴─────┴─────┴─────┴─────┘"
      ]
     },
     "execution_count": 4,
     "metadata": {},
     "output_type": "execute_result"
    }
   ],
   "source": [
    "train_df = pl.read_parquet(path + 'train.parquet/').drop(['responder_0', 'responder_1', 'responder_2', 'responder_3', 'responder_4', 'responder_5', 'responder_7', 'responder_8', 'partition_id']).select(pl.all().shrink_dtype())\n",
    "print(train_df.shape)\n",
    "train_df.head()"
   ]
  },
  {
   "cell_type": "code",
   "execution_count": 5,
   "id": "3834f8e8-0f10-4891-a325-5d288f99b503",
   "metadata": {},
   "outputs": [
    {
     "data": {
      "text/plain": [
       "15.282841602"
      ]
     },
     "execution_count": 5,
     "metadata": {},
     "output_type": "execute_result"
    }
   ],
   "source": [
    "train_df.estimated_size() / 1e9"
   ]
  },
  {
   "cell_type": "code",
   "execution_count": 6,
   "id": "be3ffe03-76cd-4ee5-bf7c-940de4646a0a",
   "metadata": {},
   "outputs": [],
   "source": [
    "models_path = path + 'my_folder/models/20250111_08/'\n",
    "if not os.path.exists(models_path):\n",
    "    os.makedirs(models_path)"
   ]
  },
  {
   "cell_type": "code",
   "execution_count": 7,
   "id": "74e04716-a5a1-471c-b452-0a8b5f7a7b00",
   "metadata": {},
   "outputs": [],
   "source": [
    "def lgb_sliding_window(train_data, optuna_n_trials):\n",
    "\n",
    "    #unique_date_ids = sorted(train_data['date_id'].unique())\n",
    "    unique_date_ids = [i for i in range(1110, train_data['date_id'].max()+1)]\n",
    "    #date_ids_df = train_data['date_id'].to_frame()\n",
    "\n",
    "    def objective(trial: optuna.Trial) -> float:\n",
    "        val_window_size = trial.suggest_int('val_window_size', 1, 10)\n",
    "        training_window_size = trial.suggest_int('training_window_size', 80, 1000)\n",
    "        n_samples = 1100000 #trial.suggest_int('n_samples', 1000000, 1500000)\n",
    "        #fraction = trial.suggest_float('fraction', 0.05, 0.3)\n",
    "        #sample_df = train_data.sample(fraction=fraction)\n",
    "        #unique_date_ids = [i for i in range(1110, sample_df['date_id'].max()+1)]\n",
    "        base_params = {\n",
    "            'verbosity': -1,\n",
    "            'device': 'gpu',\n",
    "            'early_stopping_round': 20,\n",
    "        }\n",
    "        params_to_tune = {\n",
    "            'learning_rate': trial.suggest_float('learning_rate', 0.04, 0.06),\n",
    "            'max_depth': trial.suggest_int('max_depth', 12, 25),\n",
    "            'min_data_in_leaf': trial.suggest_int('min_data_in_leaf', 60, 100),\n",
    "            'num_leaves': trial.suggest_int('num_leaves', 4000, 7000),\n",
    "            'min_gain_to_split': trial.suggest_float('min_gain_to_split', 0.1, 0.25),\n",
    "            'lambda_l1': trial.suggest_float('lambda_l1', 1, 4),\n",
    "            'lambda_l2': trial.suggest_float('lambda_l2', 1500, 2000),\n",
    "            'feature_fraction': trial.suggest_float('feature_fraction', 0.9, 1),\n",
    "        }\n",
    "\n",
    "        scores_list = []\n",
    "        for i in range(10):\n",
    "            date_id = random.choice(unique_date_ids)\n",
    "    \n",
    "            test_date_id_df = train_data.filter(pl.col('date_id') == date_id)\n",
    "    \n",
    "            val_date_id_cut_lower = date_id - val_window_size\n",
    "            val_window_df = train_data.filter((pl.col('date_id') < date_id)&(pl.col('date_id') >= val_date_id_cut_lower))#.sample(fraction=fraction)\n",
    "    \n",
    "            training_date_id_cut_lower = val_date_id_cut_lower - training_window_size\n",
    "            training_window_df = train_data.filter((pl.col('date_id') < val_date_id_cut_lower)&(pl.col('date_id') >= training_date_id_cut_lower)).sample(n=n_samples)#.sort(by=['date_id', 'time_id', 'symbol_id'])\n",
    "            #training_window_df = sample_df.filter((pl.col('date_id') >= training_date_id_cut_lower)&(pl.col('date_id') < val_date_id_cut_lower))#.sample(fraction=fraction).sort(by=['date_id', 'time_id', 'symbol_id'])\n",
    "            #training_window_df = train_data.filter(pl.col('date_id') < val_date_id_cut_lower)[-500000:]\n",
    "    \n",
    "            '''\n",
    "            print(date_id)\n",
    "            print('this is training_window_df')\n",
    "            display(training_window_df)\n",
    "            print('training_window_size:', training_window_size)\n",
    "            print('n unique in training_window_df:', training_window_df['date_id'].n_unique())\n",
    "    \n",
    "            print('this is val_window_df')\n",
    "            display(val_window_df)\n",
    "            print('val_window_size:', val_window_size)\n",
    "            print('n unique in training_window_df:', val_window_df['date_id'].n_unique())\n",
    "    \n",
    "            print('this is test_date_id_df')\n",
    "            display(test_date_id_df)\n",
    "            print('n unique in test_date_id_df:', test_date_id_df['date_id'].n_unique())\n",
    "            '''\n",
    "    \n",
    "            #training_window_df = training_window_df.sample(fraction=fraction)\n",
    "                    \n",
    "    \n",
    "            '''\n",
    "            print('this is window_df')\n",
    "            display(window_df)\n",
    "            print('this is date_id_df')\n",
    "            display(date_id_df)\n",
    "            '''\n",
    "        \n",
    "            model = LGBMRegressor(\n",
    "                **base_params,\n",
    "                **params_to_tune,\n",
    "                n_estimators=100000\n",
    "            )\n",
    "        \n",
    "            X_train = training_window_df.drop(['date_id', 'time_id', 'symbol_id', 'weight', 'responder_6']).select(pl.all().shrink_dtype()).to_pandas()\n",
    "            X_val = val_window_df.drop(['date_id', 'time_id', 'symbol_id', 'weight', 'responder_6']).select(pl.all().shrink_dtype()).to_pandas()\n",
    "            X_test = test_date_id_df.drop(['date_id', 'time_id', 'symbol_id', 'weight', 'responder_6']).select(pl.all().shrink_dtype()).to_pandas()\n",
    "        \n",
    "            y_train = training_window_df['responder_6'].to_pandas()\n",
    "            y_val = val_window_df['responder_6'].to_pandas()\n",
    "            y_test = test_date_id_df['responder_6'].to_pandas()\n",
    "        \n",
    "            weights_train = training_window_df['weight'].to_pandas()\n",
    "            weights_val = val_window_df['weight'].to_pandas()\n",
    "            weights_test = test_date_id_df['weight'].to_pandas()\n",
    "        \n",
    "            model.fit(X_train, y_train, sample_weight=weights_train, eval_set=[(X_train, y_train), (X_val, y_val)], eval_sample_weight=[weights_train, weights_val])#, callbacks=[log_evaluation(period=10)])\n",
    "            \n",
    "            test_preds = model.predict(X_test)\n",
    "    \n",
    "            test_score = r2_score(y_test, test_preds, sample_weight=weights_test)\n",
    "\n",
    "            scores_list.append(test_score)\n",
    "\n",
    "        #print('Test Weighted R2 score is:', test_score)\n",
    "\n",
    "        return np.median(scores_list)\n",
    "\n",
    "    with tqdm(total=optuna_n_trials, desc=\"Optimizing\", unit=\"trial\") as pbar:\n",
    "    \n",
    "        # Define a callback function to update the progress bar\n",
    "        def progress_bar_callback(study, trial):\n",
    "            pbar.update(1)\n",
    "    \n",
    "        study = optuna.create_study(\n",
    "            direction=\"maximize\",\n",
    "            sampler=optunahub.load_module(\"samplers/auto_sampler\").AutoSampler(),\n",
    "            storage=\"sqlite:///C:/Users/peppe/Python Notebooks/janestreet/optuna_study/db.sqlite3\",\n",
    "            study_name=\"js_fast_model_param_tune_20250111_08\"\n",
    "        )\n",
    "        study.optimize(objective, n_trials=optuna_n_trials, callbacks=[progress_bar_callback])\n",
    "\n",
    "    return study"
   ]
  },
  {
   "cell_type": "code",
   "execution_count": 8,
   "id": "8bd82087-86f0-4bb0-9054-6b8a249055ce",
   "metadata": {
    "scrolled": true
   },
   "outputs": [
    {
     "name": "stderr",
     "output_type": "stream",
     "text": [
      "[I 2025-01-11 21:38:18,735] A new study created in RDB with name: js_fast_model_param_tune_20250111_080:00<?, ?trial/s]\n",
      "[I 2025-01-11 21:50:17,546] Trial 0 finished with value: 0.011168230642487398 and parameters: {'val_window_size': 5, 'training_window_size': 855, 'learning_rate': 0.05985132607387901, 'max_depth': 21, 'min_data_in_leaf': 69, 'num_leaves': 6806, 'min_gain_to_split': 0.11796527880677139, 'lambda_l1': 1.7994252268605624, 'lambda_l2': 1605.6853318754866, 'feature_fraction': 0.9289382388686362}. Best is trial 0 with value: 0.011168230642487398.\n",
      "C:\\Users\\peppe\\AppData\\Local\\optunahub\\cache\\api.github.com\\optuna\\optunahub-registry\\main\\package\\samplers/auto_sampler\\_sampler.py:164: ExperimentalWarning: GPSampler is experimental (supported from v3.6.0). The interface can change in the future.\n",
      "  return GPSampler(seed=seed)\n",
      "[I 2025-01-11 21:56:16,599] Trial 1 finished with value: 0.01444076824236018 and parameters: {'val_window_size': 6, 'training_window_size': 259, 'learning_rate': 0.058764420400435904, 'max_depth': 17, 'min_data_in_leaf': 100, 'num_leaves': 5137, 'min_gain_to_split': 0.22493942131653447, 'lambda_l1': 3.619367057850453, 'lambda_l2': 1924.164766357037, 'feature_fraction': 0.9477121190501069}. Best is trial 1 with value: 0.01444076824236018.\n",
      "[I 2025-01-11 22:02:03,959] Trial 2 finished with value: 0.004001520998156316 and parameters: {'val_window_size': 2, 'training_window_size': 844, 'learning_rate': 0.04450653508334293, 'max_depth': 16, 'min_data_in_leaf': 91, 'num_leaves': 4317, 'min_gain_to_split': 0.1113695798193699, 'lambda_l1': 3.760350690894932, 'lambda_l2': 1838.592728626525, 'feature_fraction': 0.9683033184511524}. Best is trial 1 with value: 0.01444076824236018.\n",
      "[I 2025-01-11 22:12:47,338] Trial 3 finished with value: 0.010965211931782126 and parameters: {'val_window_size': 9, 'training_window_size': 986, 'learning_rate': 0.04764264811209321, 'max_depth': 18, 'min_data_in_leaf': 84, 'num_leaves': 5481, 'min_gain_to_split': 0.2140102592277195, 'lambda_l1': 3.6169580515788393, 'lambda_l2': 1779.6136660444095, 'feature_fraction': 0.9748232995293582}. Best is trial 1 with value: 0.01444076824236018.\n",
      "[I 2025-01-11 22:27:45,991] Trial 4 finished with value: 0.00888505802148376 and parameters: {'val_window_size': 10, 'training_window_size': 570, 'learning_rate': 0.047128168319871204, 'max_depth': 23, 'min_data_in_leaf': 94, 'num_leaves': 6058, 'min_gain_to_split': 0.1418737708955412, 'lambda_l1': 3.1233691622552255, 'lambda_l2': 1841.991838625194, 'feature_fraction': 0.9062889458186306}. Best is trial 1 with value: 0.01444076824236018.\n",
      "[I 2025-01-11 22:44:09,428] Trial 5 finished with value: 0.009216935780914925 and parameters: {'val_window_size': 5, 'training_window_size': 308, 'learning_rate': 0.05831352528294953, 'max_depth': 22, 'min_data_in_leaf': 60, 'num_leaves': 4249, 'min_gain_to_split': 0.11274416986576008, 'lambda_l1': 2.9731826358910807, 'lambda_l2': 1799.515646454429, 'feature_fraction': 0.9761484489944174}. Best is trial 1 with value: 0.01444076824236018.\n",
      "[I 2025-01-11 22:53:27,160] Trial 6 finished with value: 0.0034315257697548063 and parameters: {'val_window_size': 10, 'training_window_size': 122, 'learning_rate': 0.049367156636360245, 'max_depth': 21, 'min_data_in_leaf': 98, 'num_leaves': 5682, 'min_gain_to_split': 0.24258711365789398, 'lambda_l1': 1.6701840430563324, 'lambda_l2': 1660.006438142497, 'feature_fraction': 0.9621747915255815}. Best is trial 1 with value: 0.01444076824236018.\n",
      "[I 2025-01-11 23:03:02,011] Trial 7 finished with value: 0.007000439607307951 and parameters: {'val_window_size': 2, 'training_window_size': 842, 'learning_rate': 0.040883878980499506, 'max_depth': 17, 'min_data_in_leaf': 99, 'num_leaves': 6974, 'min_gain_to_split': 0.2049662193467351, 'lambda_l1': 2.8912253360197133, 'lambda_l2': 1796.0536106646396, 'feature_fraction': 0.9606292275956511}. Best is trial 1 with value: 0.01444076824236018.\n",
      "[I 2025-01-11 23:12:49,584] Trial 8 finished with value: 0.0125055406990493 and parameters: {'val_window_size': 4, 'training_window_size': 530, 'learning_rate': 0.04338690213718929, 'max_depth': 16, 'min_data_in_leaf': 89, 'num_leaves': 4021, 'min_gain_to_split': 0.14901745878902692, 'lambda_l1': 2.295924351229914, 'lambda_l2': 1898.9959165641549, 'feature_fraction': 0.9386444614469378}. Best is trial 1 with value: 0.01444076824236018.\n",
      "[I 2025-01-11 23:36:18,731] Trial 9 finished with value: 0.007063074396966518 and parameters: {'val_window_size': 5, 'training_window_size': 856, 'learning_rate': 0.045371204698307604, 'max_depth': 24, 'min_data_in_leaf': 72, 'num_leaves': 5460, 'min_gain_to_split': 0.13848330620076724, 'lambda_l1': 1.8492417194535615, 'lambda_l2': 1865.0676780874974, 'feature_fraction': 0.9744583723100984}. Best is trial 1 with value: 0.01444076824236018.\n",
      "[I 2025-01-11 23:41:06,027] Trial 10 finished with value: 0.0062792535327949595 and parameters: {'val_window_size': 5, 'training_window_size': 302, 'learning_rate': 0.05762070786341099, 'max_depth': 15, 'min_data_in_leaf': 95, 'num_leaves': 4614, 'min_gain_to_split': 0.2134088490738857, 'lambda_l1': 3.108448840352455, 'lambda_l2': 1970.5846469088503, 'feature_fraction': 0.9241084400216972}. Best is trial 1 with value: 0.01444076824236018.\n",
      "[I 2025-01-11 23:48:25,773] Trial 11 finished with value: 0.009481589416851732 and parameters: {'val_window_size': 7, 'training_window_size': 258, 'learning_rate': 0.06, 'max_depth': 18, 'min_data_in_leaf': 100, 'num_leaves': 5303, 'min_gain_to_split': 0.23282574770366027, 'lambda_l1': 3.9282390324573973, 'lambda_l2': 1909.8127767529736, 'feature_fraction': 0.9585659823585494}. Best is trial 1 with value: 0.01444076824236018.\n",
      "[I 2025-01-11 23:56:15,719] Trial 12 finished with value: 0.00806289934540394 and parameters: {'val_window_size': 5, 'training_window_size': 333, 'learning_rate': 0.0581133439606013, 'max_depth': 17, 'min_data_in_leaf': 95, 'num_leaves': 5051, 'min_gain_to_split': 0.18349203770708883, 'lambda_l1': 3.627567114125153, 'lambda_l2': 1953.271876915149, 'feature_fraction': 0.9460567543813638}. Best is trial 1 with value: 0.01444076824236018.\n",
      "[I 2025-01-12 00:02:36,064] Trial 13 finished with value: 0.009806929819349774 and parameters: {'val_window_size': 6, 'training_window_size': 251, 'learning_rate': 0.0568392273883315, 'max_depth': 17, 'min_data_in_leaf': 100, 'num_leaves': 5084, 'min_gain_to_split': 0.23866319334667227, 'lambda_l1': 3.4522681884007422, 'lambda_l2': 1883.2709713712231, 'feature_fraction': 0.9490597674908591}. Best is trial 1 with value: 0.01444076824236018.\n",
      "[I 2025-01-12 00:08:15,232] Trial 14 finished with value: 0.004714532491110701 and parameters: {'val_window_size': 5, 'training_window_size': 256, 'learning_rate': 0.06, 'max_depth': 16, 'min_data_in_leaf': 100, 'num_leaves': 5148, 'min_gain_to_split': 0.219358514759115, 'lambda_l1': 4.0, 'lambda_l2': 1999.9039851606701, 'feature_fraction': 0.9473561865424551}. Best is trial 1 with value: 0.01444076824236018.\n",
      "[I 2025-01-12 00:14:47,570] Trial 15 finished with value: 0.005630304727206936 and parameters: {'val_window_size': 7, 'training_window_size': 209, 'learning_rate': 0.05852439703031406, 'max_depth': 17, 'min_data_in_leaf': 100, 'num_leaves': 5196, 'min_gain_to_split': 0.21541633138022154, 'lambda_l1': 3.1279291482327163, 'lambda_l2': 1915.1244085449564, 'feature_fraction': 0.9410493128550211}. Best is trial 1 with value: 0.01444076824236018.\n",
      "[I 2025-01-12 00:18:37,849] Trial 16 finished with value: 0.008161190239441674 and parameters: {'val_window_size': 4, 'training_window_size': 504, 'learning_rate': 0.05137620580814386, 'max_depth': 12, 'min_data_in_leaf': 89, 'num_leaves': 4435, 'min_gain_to_split': 0.11861527141964294, 'lambda_l1': 2.3399660322706444, 'lambda_l2': 1733.5131639023346, 'feature_fraction': 0.9}. Best is trial 1 with value: 0.01444076824236018.\n",
      "[I 2025-01-12 00:27:18,516] Trial 17 finished with value: 0.005673251909660892 and parameters: {'val_window_size': 9, 'training_window_size': 376, 'learning_rate': 0.06, 'max_depth': 20, 'min_data_in_leaf': 100, 'num_leaves': 5322, 'min_gain_to_split': 0.22318970932862642, 'lambda_l1': 3.646033191308039, 'lambda_l2': 1902.8690067680584, 'feature_fraction': 0.9400528690983386}. Best is trial 1 with value: 0.01444076824236018.\n",
      "[I 2025-01-12 00:30:50,905] Trial 18 finished with value: 0.008486716363826363 and parameters: {'val_window_size': 6, 'training_window_size': 105, 'learning_rate': 0.06, 'max_depth': 15, 'min_data_in_leaf': 100, 'num_leaves': 5247, 'min_gain_to_split': 0.22397041585722746, 'lambda_l1': 3.6325419450190495, 'lambda_l2': 1916.6442918876442, 'feature_fraction': 0.9602592057345649}. Best is trial 1 with value: 0.01444076824236018.\n",
      "[I 2025-01-12 00:36:41,623] Trial 19 finished with value: 0.0075459691417386066 and parameters: {'val_window_size': 6, 'training_window_size': 652, 'learning_rate': 0.06, 'max_depth': 17, 'min_data_in_leaf': 100, 'num_leaves': 5016, 'min_gain_to_split': 0.22228611109459723, 'lambda_l1': 3.6397483522580902, 'lambda_l2': 1884.4308513366013, 'feature_fraction': 0.9488585454081415}. Best is trial 1 with value: 0.01444076824236018.\n",
      "[I 2025-01-12 00:43:32,759] Trial 20 finished with value: 0.00642260372365 and parameters: {'val_window_size': 5, 'training_window_size': 264, 'learning_rate': 0.06, 'max_depth': 18, 'min_data_in_leaf': 100, 'num_leaves': 5159, 'min_gain_to_split': 0.22871450430983256, 'lambda_l1': 3.6201857956661803, 'lambda_l2': 1928.0278718928964, 'feature_fraction': 0.9391410638096366}. Best is trial 1 with value: 0.01444076824236018.\n",
      "[I 2025-01-12 00:53:28,356] Trial 21 finished with value: 0.0064234744504013674 and parameters: {'val_window_size': 6, 'training_window_size': 317, 'learning_rate': 0.059386894271803006, 'max_depth': 19, 'min_data_in_leaf': 98, 'num_leaves': 5187, 'min_gain_to_split': 0.20241801932294484, 'lambda_l1': 3.840226704432924, 'lambda_l2': 1914.2700611379155, 'feature_fraction': 0.9526363110709886}. Best is trial 1 with value: 0.01444076824236018.\n",
      "[I 2025-01-12 01:03:00,762] Trial 22 finished with value: 0.010385424216037109 and parameters: {'val_window_size': 4, 'training_window_size': 697, 'learning_rate': 0.046281195566428415, 'max_depth': 17, 'min_data_in_leaf': 74, 'num_leaves': 4317, 'min_gain_to_split': 0.10444990527394019, 'lambda_l1': 1.909030414385828, 'lambda_l2': 1809.1632683682278, 'feature_fraction': 0.9332968148577636}. Best is trial 1 with value: 0.01444076824236018.\n",
      "[I 2025-01-12 01:09:33,741] Trial 23 finished with value: 0.004898978579935986 and parameters: {'val_window_size': 3, 'training_window_size': 291, 'learning_rate': 0.04, 'max_depth': 16, 'min_data_in_leaf': 99, 'num_leaves': 4000, 'min_gain_to_split': 0.15227100032287932, 'lambda_l1': 1.9577597240431326, 'lambda_l2': 2000.0, 'feature_fraction': 0.960087497716414}. Best is trial 1 with value: 0.01444076824236018.\n",
      "[I 2025-01-12 01:19:34,445] Trial 24 finished with value: 0.008920204990109315 and parameters: {'val_window_size': 5, 'training_window_size': 739, 'learning_rate': 0.04, 'max_depth': 16, 'min_data_in_leaf': 78, 'num_leaves': 4000, 'min_gain_to_split': 0.14629569401497716, 'lambda_l1': 2.4368917336827334, 'lambda_l2': 1883.9174450810979, 'feature_fraction': 0.9271546390683496}. Best is trial 1 with value: 0.01444076824236018.\n",
      "[I 2025-01-12 01:27:48,173] Trial 25 finished with value: 0.009601336697483365 and parameters: {'val_window_size': 4, 'training_window_size': 616, 'learning_rate': 0.05304231152411036, 'max_depth': 18, 'min_data_in_leaf': 93, 'num_leaves': 4000, 'min_gain_to_split': 0.12914195571351492, 'lambda_l1': 2.278654944899373, 'lambda_l2': 1671.6478412593526, 'feature_fraction': 0.9342999481938333}. Best is trial 1 with value: 0.01444076824236018.\n",
      "[I 2025-01-12 01:37:23,423] Trial 26 finished with value: 0.0075687816745335645 and parameters: {'val_window_size': 4, 'training_window_size': 914, 'learning_rate': 0.06, 'max_depth': 17, 'min_data_in_leaf': 60, 'num_leaves': 7000, 'min_gain_to_split': 0.10724887801737283, 'lambda_l1': 1.559844580960306, 'lambda_l2': 1500.0, 'feature_fraction': 0.9008320552228465}. Best is trial 1 with value: 0.01444076824236018.\n",
      "[I 2025-01-12 01:55:31,510] Trial 27 finished with value: 0.01206496342658775 and parameters: {'val_window_size': 10, 'training_window_size': 1000, 'learning_rate': 0.04, 'max_depth': 20, 'min_data_in_leaf': 62, 'num_leaves': 6653, 'min_gain_to_split': 0.1530185119407145, 'lambda_l1': 3.4033680839586538, 'lambda_l2': 1617.2205561086503, 'feature_fraction': 0.9747414802702178}. Best is trial 1 with value: 0.01444076824236018.\n",
      "[I 2025-01-12 02:13:56,256] Trial 28 finished with value: 0.007435972748117858 and parameters: {'val_window_size': 10, 'training_window_size': 1000, 'learning_rate': 0.04, 'max_depth': 19, 'min_data_in_leaf': 60, 'num_leaves': 7000, 'min_gain_to_split': 0.19992450030797718, 'lambda_l1': 3.9426505454250416, 'lambda_l2': 1500.0, 'feature_fraction': 0.9949390545252943}. Best is trial 1 with value: 0.01444076824236018.\n",
      "[I 2025-01-12 02:18:51,239] Trial 29 finished with value: 0.0051445247423752005 and parameters: {'val_window_size': 10, 'training_window_size': 1000, 'learning_rate': 0.04, 'max_depth': 12, 'min_data_in_leaf': 60, 'num_leaves': 4000, 'min_gain_to_split': 0.1, 'lambda_l1': 3.2356817038243673, 'lambda_l2': 1693.9436621853606, 'feature_fraction': 0.9669594140935373}. Best is trial 1 with value: 0.01444076824236018.\n",
      "[I 2025-01-12 02:43:55,633] Trial 30 finished with value: 0.005736954662439897 and parameters: {'val_window_size': 10, 'training_window_size': 1000, 'learning_rate': 0.05275805031801086, 'max_depth': 25, 'min_data_in_leaf': 60, 'num_leaves': 7000, 'min_gain_to_split': 0.1965106602574328, 'lambda_l1': 3.283975350710441, 'lambda_l2': 1576.9787990111322, 'feature_fraction': 0.9699987130711746}. Best is trial 1 with value: 0.01444076824236018.\n",
      "[I 2025-01-12 02:49:00,511] Trial 31 finished with value: 0.011587196259743193 and parameters: {'val_window_size': 9, 'training_window_size': 288, 'learning_rate': 0.05005225531383958, 'max_depth': 14, 'min_data_in_leaf': 93, 'num_leaves': 4352, 'min_gain_to_split': 0.25, 'lambda_l1': 3.9268394460570577, 'lambda_l2': 1834.7355553681055, 'feature_fraction': 0.9678464844877902}. Best is trial 1 with value: 0.01444076824236018.\n",
      "[I 2025-01-12 02:56:30,413] Trial 32 finished with value: 0.008593784101168456 and parameters: {'val_window_size': 10, 'training_window_size': 1000, 'learning_rate': 0.0512002903906568, 'max_depth': 16, 'min_data_in_leaf': 100, 'num_leaves': 4308, 'min_gain_to_split': 0.25, 'lambda_l1': 3.8906985516538866, 'lambda_l2': 2000.0, 'feature_fraction': 0.9870678220729474}. Best is trial 1 with value: 0.01444076824236018.\n",
      "[I 2025-01-12 03:00:31,028] Trial 33 finished with value: 0.01604752655578756 and parameters: {'val_window_size': 8, 'training_window_size': 404, 'learning_rate': 0.04588738403235412, 'max_depth': 12, 'min_data_in_leaf': 60, 'num_leaves': 4763, 'min_gain_to_split': 0.25, 'lambda_l1': 4.0, 'lambda_l2': 1786.5166849320328, 'feature_fraction': 0.9547872173111335}. Best is trial 33 with value: 0.01604752655578756.\n",
      "[I 2025-01-12 03:05:15,190] Trial 34 finished with value: 0.008115421907187781 and parameters: {'val_window_size': 9, 'training_window_size': 425, 'learning_rate': 0.04327251198533032, 'max_depth': 12, 'min_data_in_leaf': 60, 'num_leaves': 4597, 'min_gain_to_split': 0.25, 'lambda_l1': 4.0, 'lambda_l2': 1743.6896541269448, 'feature_fraction': 0.9477492321184527}. Best is trial 33 with value: 0.01604752655578756.\n",
      "[I 2025-01-12 03:08:20,760] Trial 35 finished with value: 0.004897557509000783 and parameters: {'val_window_size': 5, 'training_window_size': 364, 'learning_rate': 0.04897500138832716, 'max_depth': 12, 'min_data_in_leaf': 60, 'num_leaves': 5099, 'min_gain_to_split': 0.25, 'lambda_l1': 4.0, 'lambda_l2': 1851.5364486985643, 'feature_fraction': 0.9575098289207999}. Best is trial 33 with value: 0.01604752655578756.\n",
      "[I 2025-01-12 03:11:24,561] Trial 36 finished with value: 0.005466166615122281 and parameters: {'val_window_size': 8, 'training_window_size': 220, 'learning_rate': 0.048123123327273545, 'max_depth': 12, 'min_data_in_leaf': 60, 'num_leaves': 5258, 'min_gain_to_split': 0.25, 'lambda_l1': 4.0, 'lambda_l2': 1872.5485497591055, 'feature_fraction': 0.9625062722246837}. Best is trial 33 with value: 0.01604752655578756.\n",
      "[I 2025-01-12 03:16:29,192] Trial 37 finished with value: 0.008811117196799223 and parameters: {'val_window_size': 8, 'training_window_size': 573, 'learning_rate': 0.048047016927602965, 'max_depth': 13, 'min_data_in_leaf': 67, 'num_leaves': 4242, 'min_gain_to_split': 0.25, 'lambda_l1': 4.0, 'lambda_l2': 1745.4531444894892, 'feature_fraction': 0.9590728170057717}. Best is trial 33 with value: 0.01604752655578756.\n",
      "[I 2025-01-12 03:30:43,525] Trial 38 finished with value: 0.007129641131152609 and parameters: {'val_window_size': 10, 'training_window_size': 1000, 'learning_rate': 0.04, 'max_depth': 18, 'min_data_in_leaf': 61, 'num_leaves': 6850, 'min_gain_to_split': 0.18058773486683288, 'lambda_l1': 4.0, 'lambda_l2': 1738.993388452216, 'feature_fraction': 0.9694196779369129}. Best is trial 33 with value: 0.01604752655578756.\n",
      "[I 2025-01-12 03:35:15,706] Trial 39 finished with value: 0.012674102626024975 and parameters: {'val_window_size': 8, 'training_window_size': 314, 'learning_rate': 0.0456765287713315, 'max_depth': 14, 'min_data_in_leaf': 100, 'num_leaves': 4000, 'min_gain_to_split': 0.25, 'lambda_l1': 2.7736365361698136, 'lambda_l2': 1844.355869032059, 'feature_fraction': 0.9313436307530575}. Best is trial 33 with value: 0.01604752655578756.\n",
      "[I 2025-01-12 03:40:40,635] Trial 40 finished with value: 0.0022636984382600756 and parameters: {'val_window_size': 6, 'training_window_size': 158, 'learning_rate': 0.04586219913501532, 'max_depth': 15, 'min_data_in_leaf': 100, 'num_leaves': 4000, 'min_gain_to_split': 0.21228223977080102, 'lambda_l1': 1.412433821064003, 'lambda_l2': 1862.9453292445805, 'feature_fraction': 0.9035646431590573}. Best is trial 33 with value: 0.01604752655578756.\n",
      "[I 2025-01-12 03:45:56,514] Trial 41 finished with value: 0.007630539161487593 and parameters: {'val_window_size': 7, 'training_window_size': 567, 'learning_rate': 0.045712318285786535, 'max_depth': 13, 'min_data_in_leaf': 69, 'num_leaves': 4262, 'min_gain_to_split': 0.24921824715480784, 'lambda_l1': 3.83936234220617, 'lambda_l2': 1734.9496849501165, 'feature_fraction': 0.9500491907875437}. Best is trial 33 with value: 0.01604752655578756.\n",
      "[I 2025-01-12 03:50:58,235] Trial 42 finished with value: 0.0052675275662600884 and parameters: {'val_window_size': 10, 'training_window_size': 627, 'learning_rate': 0.04565611603870387, 'max_depth': 12, 'min_data_in_leaf': 60, 'num_leaves': 4965, 'min_gain_to_split': 0.25, 'lambda_l1': 4.0, 'lambda_l2': 1712.3830140189868, 'feature_fraction': 0.9658834809514008}. Best is trial 33 with value: 0.01604752655578756.\n",
      "[I 2025-01-12 03:57:20,886] Trial 43 finished with value: 0.006854879100934519 and parameters: {'val_window_size': 9, 'training_window_size': 475, 'learning_rate': 0.04, 'max_depth': 13, 'min_data_in_leaf': 89, 'num_leaves': 4000, 'min_gain_to_split': 0.2453536146331489, 'lambda_l1': 3.175644641624101, 'lambda_l2': 1835.2691510473064, 'feature_fraction': 0.9591960284945513}. Best is trial 33 with value: 0.01604752655578756.\n",
      "[I 2025-01-12 04:03:13,891] Trial 44 finished with value: 0.005905235948844456 and parameters: {'val_window_size': 8, 'training_window_size': 396, 'learning_rate': 0.04667726325965581, 'max_depth': 12, 'min_data_in_leaf': 68, 'num_leaves': 4276, 'min_gain_to_split': 0.25, 'lambda_l1': 3.997025690374623, 'lambda_l2': 1785.7507898819945, 'feature_fraction': 0.9546966827308738}. Best is trial 33 with value: 0.01604752655578756.\n",
      "[I 2025-01-12 04:10:59,914] Trial 45 finished with value: 0.009163906129248056 and parameters: {'val_window_size': 10, 'training_window_size': 1000, 'learning_rate': 0.06, 'max_depth': 16, 'min_data_in_leaf': 100, 'num_leaves': 4000, 'min_gain_to_split': 0.25, 'lambda_l1': 1.400133462292871, 'lambda_l2': 1900.746562878685, 'feature_fraction': 0.9}. Best is trial 33 with value: 0.01604752655578756.\n",
      "[I 2025-01-12 04:19:18,255] Trial 46 finished with value: 0.0060305452024824735 and parameters: {'val_window_size': 10, 'training_window_size': 1000, 'learning_rate': 0.06, 'max_depth': 18, 'min_data_in_leaf': 100, 'num_leaves': 4000, 'min_gain_to_split': 0.1, 'lambda_l1': 1.0, 'lambda_l2': 1500.0, 'feature_fraction': 1.0}. Best is trial 33 with value: 0.01604752655578756.\n",
      "[I 2025-01-12 04:26:16,525] Trial 47 finished with value: 0.0031211996437745526 and parameters: {'val_window_size': 10, 'training_window_size': 80, 'learning_rate': 0.04, 'max_depth': 21, 'min_data_in_leaf': 100, 'num_leaves': 4000, 'min_gain_to_split': 0.25, 'lambda_l1': 4.0, 'lambda_l2': 1500.0, 'feature_fraction': 1.0}. Best is trial 33 with value: 0.01604752655578756.\n",
      "[I 2025-01-12 04:43:35,295] Trial 48 finished with value: 0.00528563503964985 and parameters: {'val_window_size': 8, 'training_window_size': 666, 'learning_rate': 0.04, 'max_depth': 19, 'min_data_in_leaf': 60, 'num_leaves': 7000, 'min_gain_to_split': 0.1, 'lambda_l1': 1.0, 'lambda_l2': 1858.4236236622924, 'feature_fraction': 0.9}. Best is trial 33 with value: 0.01604752655578756.\n",
      "[I 2025-01-12 04:58:06,627] Trial 49 finished with value: 0.006295349480811285 and parameters: {'val_window_size': 1, 'training_window_size': 664, 'learning_rate': 0.06, 'max_depth': 25, 'min_data_in_leaf': 60, 'num_leaves': 4000, 'min_gain_to_split': 0.1, 'lambda_l1': 2.0466103132656066, 'lambda_l2': 1500.0, 'feature_fraction': 0.9}. Best is trial 33 with value: 0.01604752655578756.\n",
      "[I 2025-01-12 05:15:15,672] Trial 50 finished with value: 0.008325732991855794 and parameters: {'val_window_size': 10, 'training_window_size': 1000, 'learning_rate': 0.04, 'max_depth': 21, 'min_data_in_leaf': 100, 'num_leaves': 4000, 'min_gain_to_split': 0.25, 'lambda_l1': 2.7902900740670225, 'lambda_l2': 1678.7728296240662, 'feature_fraction': 0.9}. Best is trial 33 with value: 0.01604752655578756.\n",
      "[I 2025-01-12 05:22:15,215] Trial 51 finished with value: 0.007453962726468699 and parameters: {'val_window_size': 2, 'training_window_size': 995, 'learning_rate': 0.06, 'max_depth': 16, 'min_data_in_leaf': 100, 'num_leaves': 4000, 'min_gain_to_split': 0.25, 'lambda_l1': 1.0, 'lambda_l2': 2000.0, 'feature_fraction': 0.9}. Best is trial 33 with value: 0.01604752655578756.\n",
      "[I 2025-01-12 05:37:42,096] Trial 52 finished with value: 0.009404735743797188 and parameters: {'val_window_size': 8, 'training_window_size': 1000, 'learning_rate': 0.04, 'max_depth': 20, 'min_data_in_leaf': 100, 'num_leaves': 7000, 'min_gain_to_split': 0.1, 'lambda_l1': 2.802293985641175, 'lambda_l2': 1500.0, 'feature_fraction': 0.9}. Best is trial 33 with value: 0.01604752655578756.\n",
      "[I 2025-01-12 05:55:24,305] Trial 53 finished with value: 0.009602574198839697 and parameters: {'val_window_size': 10, 'training_window_size': 1000, 'learning_rate': 0.04, 'max_depth': 24, 'min_data_in_leaf': 100, 'num_leaves': 4000, 'min_gain_to_split': 0.1, 'lambda_l1': 4.0, 'lambda_l2': 2000.0, 'feature_fraction': 1.0}. Best is trial 33 with value: 0.01604752655578756.\n",
      "[I 2025-01-12 06:07:06,833] Trial 54 finished with value: 0.0055414364747686795 and parameters: {'val_window_size': 10, 'training_window_size': 1000, 'learning_rate': 0.06, 'max_depth': 21, 'min_data_in_leaf': 100, 'num_leaves': 4000, 'min_gain_to_split': 0.1, 'lambda_l1': 4.0, 'lambda_l2': 1500.0, 'feature_fraction': 0.9}. Best is trial 33 with value: 0.01604752655578756.\n",
      "[I 2025-01-12 06:20:53,074] Trial 55 finished with value: 0.006583146883839264 and parameters: {'val_window_size': 10, 'training_window_size': 1000, 'learning_rate': 0.04, 'max_depth': 20, 'min_data_in_leaf': 100, 'num_leaves': 7000, 'min_gain_to_split': 0.1, 'lambda_l1': 2.741631746128401, 'lambda_l2': 2000.0, 'feature_fraction': 1.0}. Best is trial 33 with value: 0.01604752655578756.\n",
      "[I 2025-01-12 06:43:54,946] Trial 56 finished with value: 0.006544827451825386 and parameters: {'val_window_size': 10, 'training_window_size': 1000, 'learning_rate': 0.04, 'max_depth': 25, 'min_data_in_leaf': 60, 'num_leaves': 4000, 'min_gain_to_split': 0.25, 'lambda_l1': 4.0, 'lambda_l2': 2000.0, 'feature_fraction': 0.9}. Best is trial 33 with value: 0.01604752655578756.\n",
      "[I 2025-01-12 06:47:46,248] Trial 57 finished with value: 0.011401800623552949 and parameters: {'val_window_size': 9, 'training_window_size': 1000, 'learning_rate': 0.05832545938333564, 'max_depth': 12, 'min_data_in_leaf': 100, 'num_leaves': 7000, 'min_gain_to_split': 0.25, 'lambda_l1': 2.4207416740915293, 'lambda_l2': 1664.9838881549301, 'feature_fraction': 0.9}. Best is trial 33 with value: 0.01604752655578756.\n",
      "[I 2025-01-12 06:52:43,450] Trial 58 finished with value: 0.008931707975553649 and parameters: {'val_window_size': 10, 'training_window_size': 1000, 'learning_rate': 0.06, 'max_depth': 12, 'min_data_in_leaf': 60, 'num_leaves': 7000, 'min_gain_to_split': 0.25, 'lambda_l1': 2.3299220713841247, 'lambda_l2': 1874.0692786109312, 'feature_fraction': 0.9}. Best is trial 33 with value: 0.01604752655578756.\n",
      "[I 2025-01-12 06:56:22,136] Trial 59 finished with value: 0.008290565567295516 and parameters: {'val_window_size': 6, 'training_window_size': 1000, 'learning_rate': 0.06, 'max_depth': 12, 'min_data_in_leaf': 100, 'num_leaves': 7000, 'min_gain_to_split': 0.25, 'lambda_l1': 2.3930714205188313, 'lambda_l2': 1500.0, 'feature_fraction': 0.9845938987511228}. Best is trial 33 with value: 0.01604752655578756.\n",
      "[I 2025-01-12 07:01:41,188] Trial 60 finished with value: 0.0073033467040708455 and parameters: {'val_window_size': 10, 'training_window_size': 1000, 'learning_rate': 0.04315472114379454, 'max_depth': 12, 'min_data_in_leaf': 100, 'num_leaves': 7000, 'min_gain_to_split': 0.25, 'lambda_l1': 2.049653896390926, 'lambda_l2': 1500.0, 'feature_fraction': 0.9}. Best is trial 33 with value: 0.01604752655578756.\n",
      "[I 2025-01-12 07:05:40,660] Trial 61 finished with value: 0.01116584267674231 and parameters: {'val_window_size': 6, 'training_window_size': 1000, 'learning_rate': 0.06, 'max_depth': 12, 'min_data_in_leaf': 60, 'num_leaves': 4000, 'min_gain_to_split': 0.25, 'lambda_l1': 2.1283254469254396, 'lambda_l2': 2000.0, 'feature_fraction': 1.0}. Best is trial 33 with value: 0.01604752655578756.\n",
      "[I 2025-01-12 07:09:08,120] Trial 62 finished with value: 0.0039747515508208875 and parameters: {'val_window_size': 10, 'training_window_size': 1000, 'learning_rate': 0.06, 'max_depth': 12, 'min_data_in_leaf': 100, 'num_leaves': 4000, 'min_gain_to_split': 0.25, 'lambda_l1': 2.493350682655037, 'lambda_l2': 2000.0, 'feature_fraction': 1.0}. Best is trial 33 with value: 0.01604752655578756.\n",
      "[I 2025-01-12 07:13:03,121] Trial 63 finished with value: 0.010253227044149826 and parameters: {'val_window_size': 3, 'training_window_size': 1000, 'learning_rate': 0.06, 'max_depth': 12, 'min_data_in_leaf': 60, 'num_leaves': 5704, 'min_gain_to_split': 0.1, 'lambda_l1': 1.8763769020073802, 'lambda_l2': 1931.6028031321289, 'feature_fraction': 0.9794763506339994}. Best is trial 33 with value: 0.01604752655578756.\n",
      "[I 2025-01-12 07:16:39,940] Trial 64 finished with value: 0.00685169186912854 and parameters: {'val_window_size': 2, 'training_window_size': 1000, 'learning_rate': 0.06, 'max_depth': 12, 'min_data_in_leaf': 60, 'num_leaves': 4000, 'min_gain_to_split': 0.25, 'lambda_l1': 1.973447938452247, 'lambda_l2': 1556.1408864276325, 'feature_fraction': 1.0}. Best is trial 33 with value: 0.01604752655578756.\n",
      "[I 2025-01-12 07:29:46,621] Trial 65 finished with value: 0.00747360434981037 and parameters: {'val_window_size': 6, 'training_window_size': 1000, 'learning_rate': 0.06, 'max_depth': 19, 'min_data_in_leaf': 60, 'num_leaves': 4000, 'min_gain_to_split': 0.1, 'lambda_l1': 1.8814235083387265, 'lambda_l2': 1996.7262265009238, 'feature_fraction': 0.9213093986240247}. Best is trial 33 with value: 0.01604752655578756.\n",
      "[I 2025-01-12 07:34:14,182] Trial 66 finished with value: 0.005066529258784314 and parameters: {'val_window_size': 8, 'training_window_size': 1000, 'learning_rate': 0.04967367752309691, 'max_depth': 12, 'min_data_in_leaf': 100, 'num_leaves': 7000, 'min_gain_to_split': 0.25, 'lambda_l1': 3.222078633659027, 'lambda_l2': 1748.3656376014665, 'feature_fraction': 0.9}. Best is trial 33 with value: 0.01604752655578756.\n",
      "[I 2025-01-12 07:38:19,211] Trial 67 finished with value: 0.007243506276269962 and parameters: {'val_window_size': 6, 'training_window_size': 1000, 'learning_rate': 0.06, 'max_depth': 12, 'min_data_in_leaf': 91, 'num_leaves': 7000, 'min_gain_to_split': 0.1, 'lambda_l1': 1.715633509269633, 'lambda_l2': 1761.600890586357, 'feature_fraction': 0.9015609656702561}. Best is trial 33 with value: 0.01604752655578756.\n",
      "[I 2025-01-12 07:45:28,661] Trial 68 finished with value: 0.009079735662715138 and parameters: {'val_window_size': 2, 'training_window_size': 724, 'learning_rate': 0.06, 'max_depth': 16, 'min_data_in_leaf': 60, 'num_leaves': 7000, 'min_gain_to_split': 0.25, 'lambda_l1': 1.891105070189733, 'lambda_l2': 2000.0, 'feature_fraction': 1.0}. Best is trial 33 with value: 0.01604752655578756.\n",
      "[I 2025-01-12 07:49:43,828] Trial 69 finished with value: 0.010412011492107076 and parameters: {'val_window_size': 1, 'training_window_size': 615, 'learning_rate': 0.052564577026646984, 'max_depth': 12, 'min_data_in_leaf': 60, 'num_leaves': 4000, 'min_gain_to_split': 0.1, 'lambda_l1': 1.984407824516436, 'lambda_l2': 2000.0, 'feature_fraction': 1.0}. Best is trial 33 with value: 0.01604752655578756.\n",
      "[I 2025-01-12 07:52:58,545] Trial 70 finished with value: 0.003831227564140227 and parameters: {'val_window_size': 1, 'training_window_size': 1000, 'learning_rate': 0.048685176071952704, 'max_depth': 12, 'min_data_in_leaf': 60, 'num_leaves': 4000, 'min_gain_to_split': 0.24999999999999997, 'lambda_l1': 1.8563288871924395, 'lambda_l2': 2000.0, 'feature_fraction': 0.9633655027248491}. Best is trial 33 with value: 0.01604752655578756.\n",
      "[I 2025-01-12 07:56:10,003] Trial 71 finished with value: 0.004103697161181863 and parameters: {'val_window_size': 7, 'training_window_size': 576, 'learning_rate': 0.06, 'max_depth': 12, 'min_data_in_leaf': 60, 'num_leaves': 5009, 'min_gain_to_split': 0.1, 'lambda_l1': 1.963125926866124, 'lambda_l2': 1943.0690594318605, 'feature_fraction': 1.0}. Best is trial 33 with value: 0.01604752655578756.\n",
      "[I 2025-01-12 08:08:48,902] Trial 72 finished with value: 0.00492891594857825 and parameters: {'val_window_size': 7, 'training_window_size': 1000, 'learning_rate': 0.06, 'max_depth': 22, 'min_data_in_leaf': 100, 'num_leaves': 7000, 'min_gain_to_split': 0.25, 'lambda_l1': 1.8407169115532245, 'lambda_l2': 1500.0, 'feature_fraction': 0.9}. Best is trial 33 with value: 0.01604752655578756.\n",
      "[I 2025-01-12 08:16:58,855] Trial 73 finished with value: 0.0033513698363367705 and parameters: {'val_window_size': 1, 'training_window_size': 778, 'learning_rate': 0.06, 'max_depth': 18, 'min_data_in_leaf': 60, 'num_leaves': 7000, 'min_gain_to_split': 0.1, 'lambda_l1': 1.1937571789015275, 'lambda_l2': 1773.2246293233995, 'feature_fraction': 1.0}. Best is trial 33 with value: 0.01604752655578756.\n",
      "[I 2025-01-12 08:32:53,556] Trial 74 finished with value: 0.00702042603980485 and parameters: {'val_window_size': 6, 'training_window_size': 475, 'learning_rate': 0.04062073713781922, 'max_depth': 21, 'min_data_in_leaf': 60, 'num_leaves': 5109, 'min_gain_to_split': 0.1, 'lambda_l1': 2.9773166451451374, 'lambda_l2': 1500.0, 'feature_fraction': 0.9285191754772353}. Best is trial 33 with value: 0.01604752655578756.\n",
      "[I 2025-01-12 08:36:10,410] Trial 75 finished with value: 0.0021718672228492886 and parameters: {'val_window_size': 10, 'training_window_size': 80, 'learning_rate': 0.04813661248762953, 'max_depth': 12, 'min_data_in_leaf': 100, 'num_leaves': 4000, 'min_gain_to_split': 0.25, 'lambda_l1': 3.467163411721219, 'lambda_l2': 2000.0, 'feature_fraction': 0.9}. Best is trial 33 with value: 0.01604752655578756.\n",
      "[I 2025-01-12 08:47:48,547] Trial 76 finished with value: 0.00921599853652072 and parameters: {'val_window_size': 10, 'training_window_size': 987, 'learning_rate': 0.04658870292892817, 'max_depth': 16, 'min_data_in_leaf': 100, 'num_leaves': 4000, 'min_gain_to_split': 0.1755797131175098, 'lambda_l1': 3.937391674242604, 'lambda_l2': 1838.9015496579727, 'feature_fraction': 0.9368948497681397}. Best is trial 33 with value: 0.01604752655578756.\n",
      "[I 2025-01-12 08:50:33,618] Trial 77 finished with value: 0.010633186397906225 and parameters: {'val_window_size': 5, 'training_window_size': 80, 'learning_rate': 0.046507720062730594, 'max_depth': 12, 'min_data_in_leaf': 100, 'num_leaves': 4000, 'min_gain_to_split': 0.14460988740261596, 'lambda_l1': 1.652277483597522, 'lambda_l2': 1752.922883767382, 'feature_fraction': 0.9369772366480786}. Best is trial 33 with value: 0.01604752655578756.\n",
      "[I 2025-01-12 08:55:37,274] Trial 78 finished with value: 0.0037069298523818017 and parameters: {'val_window_size': 1, 'training_window_size': 80, 'learning_rate': 0.044717362154285616, 'max_depth': 17, 'min_data_in_leaf': 100, 'num_leaves': 4000, 'min_gain_to_split': 0.24420137515054138, 'lambda_l1': 4.0, 'lambda_l2': 1769.5263162450397, 'feature_fraction': 0.9341303144112073}. Best is trial 33 with value: 0.01604752655578756.\n",
      "[I 2025-01-12 09:01:20,039] Trial 79 finished with value: 0.007305129170558755 and parameters: {'val_window_size': 7, 'training_window_size': 1000, 'learning_rate': 0.04835387096453757, 'max_depth': 13, 'min_data_in_leaf': 100, 'num_leaves': 5748, 'min_gain_to_split': 0.10059414508006491, 'lambda_l1': 2.0313042729835837, 'lambda_l2': 1780.5088114072294, 'feature_fraction': 0.9399826052552389}. Best is trial 33 with value: 0.01604752655578756.\n",
      "[I 2025-01-12 09:04:08,499] Trial 80 finished with value: 0.0035605535062496196 and parameters: {'val_window_size': 4, 'training_window_size': 80, 'learning_rate': 0.05714287509487764, 'max_depth': 14, 'min_data_in_leaf': 60, 'num_leaves': 5673, 'min_gain_to_split': 0.1, 'lambda_l1': 1.641736761185681, 'lambda_l2': 1582.8227848553972, 'feature_fraction': 0.9446350731517988}. Best is trial 33 with value: 0.01604752655578756.\n",
      "[I 2025-01-12 09:09:03,322] Trial 81 finished with value: 0.007684212040884986 and parameters: {'val_window_size': 8, 'training_window_size': 440, 'learning_rate': 0.049750049897434506, 'max_depth': 13, 'min_data_in_leaf': 100, 'num_leaves': 4000, 'min_gain_to_split': 0.1638916881500273, 'lambda_l1': 2.2977033157893714, 'lambda_l2': 1795.3211572579828, 'feature_fraction': 0.9453921464521297}. Best is trial 33 with value: 0.01604752655578756.\n",
      "[I 2025-01-12 09:20:34,023] Trial 82 finished with value: 0.011073823515273196 and parameters: {'val_window_size': 7, 'training_window_size': 725, 'learning_rate': 0.04647380238222017, 'max_depth': 19, 'min_data_in_leaf': 100, 'num_leaves': 4000, 'min_gain_to_split': 0.25, 'lambda_l1': 3.292396525045518, 'lambda_l2': 1866.1216261607158, 'feature_fraction': 0.9499247872691026}. Best is trial 33 with value: 0.01604752655578756.\n",
      "[I 2025-01-12 09:24:08,056] Trial 83 finished with value: 0.010379712867543633 and parameters: {'val_window_size': 7, 'training_window_size': 174, 'learning_rate': 0.04919490144278484, 'max_depth': 13, 'min_data_in_leaf': 100, 'num_leaves': 4000, 'min_gain_to_split': 0.25, 'lambda_l1': 3.4377024563547165, 'lambda_l2': 1813.481765582515, 'feature_fraction': 0.9568654843617583}. Best is trial 33 with value: 0.01604752655578756.\n",
      "[I 2025-01-12 09:34:29,812] Trial 84 finished with value: 0.011673646050478936 and parameters: {'val_window_size': 8, 'training_window_size': 661, 'learning_rate': 0.047929388302731954, 'max_depth': 19, 'min_data_in_leaf': 100, 'num_leaves': 5222, 'min_gain_to_split': 0.24481409438657423, 'lambda_l1': 3.981188038806122, 'lambda_l2': 1837.4781113235358, 'feature_fraction': 0.9741147738640402}. Best is trial 33 with value: 0.01604752655578756.\n",
      "[I 2025-01-12 09:48:16,994] Trial 85 finished with value: 0.007261182376469721 and parameters: {'val_window_size': 8, 'training_window_size': 493, 'learning_rate': 0.04864986968190165, 'max_depth': 24, 'min_data_in_leaf': 95, 'num_leaves': 4000, 'min_gain_to_split': 0.21103013827689568, 'lambda_l1': 3.783830623516725, 'lambda_l2': 1838.3361933461995, 'feature_fraction': 0.9777459020123711}. Best is trial 33 with value: 0.01604752655578756.\n",
      "[I 2025-01-12 09:56:17,068] Trial 86 finished with value: 0.005725945564087842 and parameters: {'val_window_size': 8, 'training_window_size': 788, 'learning_rate': 0.048217356790661345, 'max_depth': 15, 'min_data_in_leaf': 100, 'num_leaves': 6395, 'min_gain_to_split': 0.25, 'lambda_l1': 3.814823507487263, 'lambda_l2': 1853.4631329175804, 'feature_fraction': 0.9592347264600315}. Best is trial 33 with value: 0.01604752655578756.\n",
      "[I 2025-01-12 10:02:43,953] Trial 87 finished with value: 0.009641043389244097 and parameters: {'val_window_size': 8, 'training_window_size': 1000, 'learning_rate': 0.04840055345836881, 'max_depth': 14, 'min_data_in_leaf': 100, 'num_leaves': 4693, 'min_gain_to_split': 0.25, 'lambda_l1': 3.5358097457200275, 'lambda_l2': 1800.850327784288, 'feature_fraction': 0.9511029652882502}. Best is trial 33 with value: 0.01604752655578756.\n",
      "[I 2025-01-12 10:05:49,942] Trial 88 finished with value: 0.003474558059919919 and parameters: {'val_window_size': 8, 'training_window_size': 182, 'learning_rate': 0.05178852046125237, 'max_depth': 12, 'min_data_in_leaf': 100, 'num_leaves': 4935, 'min_gain_to_split': 0.25, 'lambda_l1': 3.9999999999999996, 'lambda_l2': 1819.1830905264808, 'feature_fraction': 0.9918714434307738}. Best is trial 33 with value: 0.01604752655578756.\n",
      "[I 2025-01-12 10:12:21,213] Trial 89 finished with value: 0.01260251298052062 and parameters: {'val_window_size': 9, 'training_window_size': 80, 'learning_rate': 0.047883387450747494, 'max_depth': 18, 'min_data_in_leaf': 100, 'num_leaves': 4107, 'min_gain_to_split': 0.25, 'lambda_l1': 4.0, 'lambda_l2': 2000.0, 'feature_fraction': 0.9516206342661715}. Best is trial 33 with value: 0.01604752655578756.\n",
      "[I 2025-01-12 10:18:28,307] Trial 90 finished with value: 0.005991175076577815 and parameters: {'val_window_size': 8, 'training_window_size': 80, 'learning_rate': 0.042810278722378796, 'max_depth': 18, 'min_data_in_leaf': 100, 'num_leaves': 4581, 'min_gain_to_split': 0.25, 'lambda_l1': 4.0, 'lambda_l2': 2000.0, 'feature_fraction': 0.9430997378489687}. Best is trial 33 with value: 0.01604752655578756.\n",
      "[I 2025-01-12 10:26:24,832] Trial 91 finished with value: 0.010750242128042542 and parameters: {'val_window_size': 9, 'training_window_size': 664, 'learning_rate': 0.05280044203726035, 'max_depth': 18, 'min_data_in_leaf': 100, 'num_leaves': 4000, 'min_gain_to_split': 0.25, 'lambda_l1': 4.0, 'lambda_l2': 2000.0, 'feature_fraction': 0.9575311664672097}. Best is trial 33 with value: 0.01604752655578756.\n",
      "[I 2025-01-12 10:36:03,858] Trial 92 finished with value: 0.008853621485466145 and parameters: {'val_window_size': 9, 'training_window_size': 80, 'learning_rate': 0.051211891157111646, 'max_depth': 19, 'min_data_in_leaf': 67, 'num_leaves': 4000, 'min_gain_to_split': 0.25, 'lambda_l1': 2.863810653400117, 'lambda_l2': 2000.0, 'feature_fraction': 0.9536497312890967}. Best is trial 33 with value: 0.01604752655578756.\n",
      "[I 2025-01-12 10:48:09,866] Trial 93 finished with value: 0.004051350812400711 and parameters: {'val_window_size': 10, 'training_window_size': 1000, 'learning_rate': 0.04808101767072839, 'max_depth': 20, 'min_data_in_leaf': 100, 'num_leaves': 4616, 'min_gain_to_split': 0.15991001205893962, 'lambda_l1': 4.0, 'lambda_l2': 2000.0, 'feature_fraction': 0.9624019563410063}. Best is trial 33 with value: 0.01604752655578756.\n",
      "[I 2025-01-12 10:55:48,335] Trial 94 finished with value: 0.00653408623459556 and parameters: {'val_window_size': 3, 'training_window_size': 708, 'learning_rate': 0.044805497610098416, 'max_depth': 15, 'min_data_in_leaf': 100, 'num_leaves': 4000, 'min_gain_to_split': 0.1, 'lambda_l1': 1.0, 'lambda_l2': 1927.202797817915, 'feature_fraction': 0.9269607610918742}. Best is trial 33 with value: 0.01604752655578756.\n",
      "[I 2025-01-12 11:01:51,450] Trial 95 finished with value: 0.010497619053211726 and parameters: {'val_window_size': 10, 'training_window_size': 174, 'learning_rate': 0.05156350405742791, 'max_depth': 16, 'min_data_in_leaf': 100, 'num_leaves': 4000, 'min_gain_to_split': 0.25, 'lambda_l1': 4.0, 'lambda_l2': 1754.1677063553132, 'feature_fraction': 0.9456824817850308}. Best is trial 33 with value: 0.01604752655578756.\n",
      "[I 2025-01-12 11:09:27,223] Trial 96 finished with value: 0.007740176968176138 and parameters: {'val_window_size': 7, 'training_window_size': 80, 'learning_rate': 0.05405288752067293, 'max_depth': 21, 'min_data_in_leaf': 100, 'num_leaves': 4000, 'min_gain_to_split': 0.25, 'lambda_l1': 4.0, 'lambda_l2': 1784.2771933683935, 'feature_fraction': 0.9560179751741199}. Best is trial 33 with value: 0.01604752655578756.\n",
      "[I 2025-01-12 11:34:07,972] Trial 97 finished with value: 0.007350515001449898 and parameters: {'val_window_size': 10, 'training_window_size': 1000, 'learning_rate': 0.04, 'max_depth': 23, 'min_data_in_leaf': 60, 'num_leaves': 6913, 'min_gain_to_split': 0.1, 'lambda_l1': 2.7035487290905196, 'lambda_l2': 1500.0, 'feature_fraction': 0.9756588990833245}. Best is trial 33 with value: 0.01604752655578756.\n",
      "[I 2025-01-12 11:39:06,589] Trial 98 finished with value: 0.006618708025568409 and parameters: {'val_window_size': 10, 'training_window_size': 452, 'learning_rate': 0.05022292501843712, 'max_depth': 14, 'min_data_in_leaf': 100, 'num_leaves': 4000, 'min_gain_to_split': 0.24999999999999997, 'lambda_l1': 1.9479550624377429, 'lambda_l2': 2000.0, 'feature_fraction': 0.9481357509685485}. Best is trial 33 with value: 0.01604752655578756.\n",
      "[I 2025-01-12 11:48:16,628] Trial 99 finished with value: 0.005363649357041644 and parameters: {'val_window_size': 8, 'training_window_size': 804, 'learning_rate': 0.04801533824596861, 'max_depth': 17, 'min_data_in_leaf': 100, 'num_leaves': 4000, 'min_gain_to_split': 0.25, 'lambda_l1': 2.989415664389162, 'lambda_l2': 1525.632423354649, 'feature_fraction': 0.9377487898110605}. Best is trial 33 with value: 0.01604752655578756.\n",
      "[I 2025-01-12 12:08:20,420] Trial 100 finished with value: 0.003228910028674703 and parameters: {'val_window_size': 5, 'training_window_size': 1000, 'learning_rate': 0.06, 'max_depth': 25, 'min_data_in_leaf': 60, 'num_leaves': 7000, 'min_gain_to_split': 0.1, 'lambda_l1': 2.4686974004124593, 'lambda_l2': 1723.7541352715089, 'feature_fraction': 0.9191968600629528}. Best is trial 33 with value: 0.01604752655578756.\n",
      "[I 2025-01-12 12:14:57,123] Trial 101 finished with value: 0.004461498963992727 and parameters: {'val_window_size': 9, 'training_window_size': 80, 'learning_rate': 0.049890975014154, 'max_depth': 17, 'min_data_in_leaf': 100, 'num_leaves': 4000, 'min_gain_to_split': 0.25, 'lambda_l1': 3.4493925087147996, 'lambda_l2': 1871.1925881402929, 'feature_fraction': 0.9580716522695356}. Best is trial 33 with value: 0.01604752655578756.\n",
      "[I 2025-01-12 12:17:49,692] Trial 102 finished with value: 0.005305862740084433 and parameters: {'val_window_size': 1, 'training_window_size': 1000, 'learning_rate': 0.04, 'max_depth': 12, 'min_data_in_leaf': 60, 'num_leaves': 4000, 'min_gain_to_split': 0.25, 'lambda_l1': 1.0, 'lambda_l2': 1500.0, 'feature_fraction': 0.9}. Best is trial 33 with value: 0.01604752655578756.\n",
      "[I 2025-01-12 12:32:35,587] Trial 103 finished with value: 0.009959107561541392 and parameters: {'val_window_size': 4, 'training_window_size': 1000, 'learning_rate': 0.06, 'max_depth': 25, 'min_data_in_leaf': 60, 'num_leaves': 4000, 'min_gain_to_split': 0.25, 'lambda_l1': 4.0, 'lambda_l2': 2000.0, 'feature_fraction': 1.0}. Best is trial 33 with value: 0.01604752655578756.\n",
      "[I 2025-01-12 12:49:52,983] Trial 104 finished with value: 0.008211596740521854 and parameters: {'val_window_size': 1, 'training_window_size': 1000, 'learning_rate': 0.06, 'max_depth': 25, 'min_data_in_leaf': 60, 'num_leaves': 4000, 'min_gain_to_split': 0.1, 'lambda_l1': 1.0, 'lambda_l2': 2000.0, 'feature_fraction': 1.0}. Best is trial 33 with value: 0.01604752655578756.\n",
      "[I 2025-01-12 13:07:31,819] Trial 105 finished with value: 0.0058684957118578795 and parameters: {'val_window_size': 1, 'training_window_size': 1000, 'learning_rate': 0.04, 'max_depth': 25, 'min_data_in_leaf': 100, 'num_leaves': 7000, 'min_gain_to_split': 0.25, 'lambda_l1': 4.0, 'lambda_l2': 1500.0, 'feature_fraction': 1.0}. Best is trial 33 with value: 0.01604752655578756.\n",
      "[I 2025-01-12 13:20:04,475] Trial 106 finished with value: 0.006260982427538864 and parameters: {'val_window_size': 4, 'training_window_size': 1000, 'learning_rate': 0.06, 'max_depth': 25, 'min_data_in_leaf': 100, 'num_leaves': 4000, 'min_gain_to_split': 0.25, 'lambda_l1': 1.0, 'lambda_l2': 2000.0, 'feature_fraction': 1.0}. Best is trial 33 with value: 0.01604752655578756.\n",
      "[I 2025-01-12 13:40:08,723] Trial 107 finished with value: 0.009044226884217188 and parameters: {'val_window_size': 7, 'training_window_size': 1000, 'learning_rate': 0.04, 'max_depth': 25, 'min_data_in_leaf': 60, 'num_leaves': 4000, 'min_gain_to_split': 0.25, 'lambda_l1': 4.0, 'lambda_l2': 2000.0, 'feature_fraction': 1.0}. Best is trial 33 with value: 0.01604752655578756.\n",
      "[I 2025-01-12 13:43:29,833] Trial 108 finished with value: 0.010348251019307309 and parameters: {'val_window_size': 10, 'training_window_size': 80, 'learning_rate': 0.04, 'max_depth': 12, 'min_data_in_leaf': 60, 'num_leaves': 7000, 'min_gain_to_split': 0.1, 'lambda_l1': 4.0, 'lambda_l2': 1500.0, 'feature_fraction': 0.9}. Best is trial 33 with value: 0.01604752655578756.\n",
      "[I 2025-01-12 14:03:40,857] Trial 109 finished with value: 0.008079546157041206 and parameters: {'val_window_size': 10, 'training_window_size': 80, 'learning_rate': 0.04, 'max_depth': 25, 'min_data_in_leaf': 60, 'num_leaves': 7000, 'min_gain_to_split': 0.25, 'lambda_l1': 4.0, 'lambda_l2': 1500.0, 'feature_fraction': 0.9}. Best is trial 33 with value: 0.01604752655578756.\n",
      "[I 2025-01-12 14:06:03,393] Trial 110 finished with value: 0.0036222357873094135 and parameters: {'val_window_size': 1, 'training_window_size': 80, 'learning_rate': 0.04, 'max_depth': 12, 'min_data_in_leaf': 60, 'num_leaves': 7000, 'min_gain_to_split': 0.25, 'lambda_l1': 4.0, 'lambda_l2': 1500.0, 'feature_fraction': 0.9}. Best is trial 33 with value: 0.01604752655578756.\n",
      "[I 2025-01-12 14:08:07,753] Trial 111 finished with value: 0.00376047750925973 and parameters: {'val_window_size': 10, 'training_window_size': 80, 'learning_rate': 0.06, 'max_depth': 12, 'min_data_in_leaf': 60, 'num_leaves': 7000, 'min_gain_to_split': 0.1, 'lambda_l1': 1.0, 'lambda_l2': 1500.0, 'feature_fraction': 0.9}. Best is trial 33 with value: 0.01604752655578756.\n",
      "[I 2025-01-12 14:26:04,613] Trial 112 finished with value: 0.005771222166255363 and parameters: {'val_window_size': 6, 'training_window_size': 1000, 'learning_rate': 0.06, 'max_depth': 25, 'min_data_in_leaf': 60, 'num_leaves': 7000, 'min_gain_to_split': 0.25, 'lambda_l1': 4.0, 'lambda_l2': 2000.0, 'feature_fraction': 1.0}. Best is trial 33 with value: 0.01604752655578756.\n",
      "[I 2025-01-12 14:45:27,961] Trial 113 finished with value: 0.004988997018036012 and parameters: {'val_window_size': 1, 'training_window_size': 80, 'learning_rate': 0.04, 'max_depth': 25, 'min_data_in_leaf': 60, 'num_leaves': 4000, 'min_gain_to_split': 0.1, 'lambda_l1': 1.0, 'lambda_l2': 1500.0, 'feature_fraction': 1.0}. Best is trial 33 with value: 0.01604752655578756.\n",
      "[I 2025-01-12 15:07:58,918] Trial 114 finished with value: 0.004058367622454928 and parameters: {'val_window_size': 1, 'training_window_size': 1000, 'learning_rate': 0.04, 'max_depth': 25, 'min_data_in_leaf': 60, 'num_leaves': 4000, 'min_gain_to_split': 0.1, 'lambda_l1': 4.0, 'lambda_l2': 2000.0, 'feature_fraction': 0.9}. Best is trial 33 with value: 0.01604752655578756.\n",
      "[I 2025-01-12 15:20:23,144] Trial 115 finished with value: 0.004415917983962847 and parameters: {'val_window_size': 1, 'training_window_size': 80, 'learning_rate': 0.06, 'max_depth': 25, 'min_data_in_leaf': 60, 'num_leaves': 7000, 'min_gain_to_split': 0.25, 'lambda_l1': 1.0, 'lambda_l2': 2000.0, 'feature_fraction': 0.9}. Best is trial 33 with value: 0.01604752655578756.\n",
      "[W 2025-01-12 15:35:10,939] Trial 116 failed with parameters: {'val_window_size': 10, 'training_window_size': 1000, 'learning_rate': 0.04, 'max_depth': 25, 'min_data_in_leaf': 60, 'num_leaves': 4000, 'min_gain_to_split': 0.25, 'lambda_l1': 1.0, 'lambda_l2': 2000.0, 'feature_fraction': 1.0} because of the following error: KeyboardInterrupt().\n",
      "Traceback (most recent call last):\n",
      "  File \"I:\\Kaggle\\kaggle_venvs\\ml\\Lib\\site-packages\\optuna\\study\\_optimize.py\", line 197, in _run_trial\n",
      "    value_or_values = func(trial)\n",
      "                      ^^^^^^^^^^^\n",
      "  File \"C:\\Users\\peppe\\AppData\\Local\\Temp\\ipykernel_20636\\1568335552.py\", line 89, in objective\n",
      "    model.fit(X_train, y_train, sample_weight=weights_train, eval_set=[(X_train, y_train), (X_val, y_val)], eval_sample_weight=[weights_train, weights_val])#, callbacks=[log_evaluation(period=10)])\n",
      "    ^^^^^^^^^^^^^^^^^^^^^^^^^^^^^^^^^^^^^^^^^^^^^^^^^^^^^^^^^^^^^^^^^^^^^^^^^^^^^^^^^^^^^^^^^^^^^^^^^^^^^^^^^^^^^^^^^^^^^^^^^^^^^^^^^^^^^^^^^^^^^^^^^^^^^^^^\n",
      "  File \"I:\\Kaggle\\kaggle_venvs\\ml\\Lib\\site-packages\\lightgbm\\sklearn.py\", line 1189, in fit\n",
      "    super().fit(\n",
      "  File \"I:\\Kaggle\\kaggle_venvs\\ml\\Lib\\site-packages\\lightgbm\\sklearn.py\", line 955, in fit\n",
      "    self._Booster = train(\n",
      "                    ^^^^^^\n",
      "  File \"I:\\Kaggle\\kaggle_venvs\\ml\\Lib\\site-packages\\lightgbm\\engine.py\", line 307, in train\n",
      "    booster.update(fobj=fobj)\n",
      "  File \"I:\\Kaggle\\kaggle_venvs\\ml\\Lib\\site-packages\\lightgbm\\basic.py\", line 4136, in update\n",
      "    _LIB.LGBM_BoosterUpdateOneIter(\n",
      "KeyboardInterrupt\n",
      "[W 2025-01-12 15:35:10,991] Trial 116 failed with value None.\n",
      "Optimizing:  46%|██████████████████████████▉                               | 116/250 [17:57:05<20:44:13, 557.11s/trial]\n"
     ]
    },
    {
     "ename": "KeyboardInterrupt",
     "evalue": "",
     "output_type": "error",
     "traceback": [
      "\u001b[1;31m---------------------------------------------------------------------------\u001b[0m",
      "\u001b[1;31mKeyboardInterrupt\u001b[0m                         Traceback (most recent call last)",
      "Cell \u001b[1;32mIn[8], line 1\u001b[0m\n\u001b[1;32m----> 1\u001b[0m lgb_study \u001b[38;5;241m=\u001b[39m \u001b[43mlgb_sliding_window\u001b[49m\u001b[43m(\u001b[49m\u001b[43mtrain_df\u001b[49m\u001b[43m,\u001b[49m\u001b[43m \u001b[49m\u001b[38;5;241;43m250\u001b[39;49m\u001b[43m)\u001b[49m\n",
      "Cell \u001b[1;32mIn[7], line 113\u001b[0m, in \u001b[0;36mlgb_sliding_window\u001b[1;34m(train_data, optuna_n_trials)\u001b[0m\n\u001b[0;32m    105\u001b[0m         pbar\u001b[38;5;241m.\u001b[39mupdate(\u001b[38;5;241m1\u001b[39m)\n\u001b[0;32m    107\u001b[0m     study \u001b[38;5;241m=\u001b[39m optuna\u001b[38;5;241m.\u001b[39mcreate_study(\n\u001b[0;32m    108\u001b[0m         direction\u001b[38;5;241m=\u001b[39m\u001b[38;5;124m\"\u001b[39m\u001b[38;5;124mmaximize\u001b[39m\u001b[38;5;124m\"\u001b[39m,\n\u001b[0;32m    109\u001b[0m         sampler\u001b[38;5;241m=\u001b[39moptunahub\u001b[38;5;241m.\u001b[39mload_module(\u001b[38;5;124m\"\u001b[39m\u001b[38;5;124msamplers/auto_sampler\u001b[39m\u001b[38;5;124m\"\u001b[39m)\u001b[38;5;241m.\u001b[39mAutoSampler(),\n\u001b[0;32m    110\u001b[0m         storage\u001b[38;5;241m=\u001b[39m\u001b[38;5;124m\"\u001b[39m\u001b[38;5;124msqlite:///C:/Users/peppe/Python Notebooks/janestreet/optuna_study/db.sqlite3\u001b[39m\u001b[38;5;124m\"\u001b[39m,\n\u001b[0;32m    111\u001b[0m         study_name\u001b[38;5;241m=\u001b[39m\u001b[38;5;124m\"\u001b[39m\u001b[38;5;124mjs_fast_model_param_tune_20250111_08\u001b[39m\u001b[38;5;124m\"\u001b[39m\n\u001b[0;32m    112\u001b[0m     )\n\u001b[1;32m--> 113\u001b[0m     \u001b[43mstudy\u001b[49m\u001b[38;5;241;43m.\u001b[39;49m\u001b[43moptimize\u001b[49m\u001b[43m(\u001b[49m\u001b[43mobjective\u001b[49m\u001b[43m,\u001b[49m\u001b[43m \u001b[49m\u001b[43mn_trials\u001b[49m\u001b[38;5;241;43m=\u001b[39;49m\u001b[43moptuna_n_trials\u001b[49m\u001b[43m,\u001b[49m\u001b[43m \u001b[49m\u001b[43mcallbacks\u001b[49m\u001b[38;5;241;43m=\u001b[39;49m\u001b[43m[\u001b[49m\u001b[43mprogress_bar_callback\u001b[49m\u001b[43m]\u001b[49m\u001b[43m)\u001b[49m\n\u001b[0;32m    115\u001b[0m \u001b[38;5;28;01mreturn\u001b[39;00m study\n",
      "File \u001b[1;32mI:\\Kaggle\\kaggle_venvs\\ml\\Lib\\site-packages\\optuna\\study\\study.py:475\u001b[0m, in \u001b[0;36mStudy.optimize\u001b[1;34m(self, func, n_trials, timeout, n_jobs, catch, callbacks, gc_after_trial, show_progress_bar)\u001b[0m\n\u001b[0;32m    373\u001b[0m \u001b[38;5;28;01mdef\u001b[39;00m\u001b[38;5;250m \u001b[39m\u001b[38;5;21moptimize\u001b[39m(\n\u001b[0;32m    374\u001b[0m     \u001b[38;5;28mself\u001b[39m,\n\u001b[0;32m    375\u001b[0m     func: ObjectiveFuncType,\n\u001b[1;32m   (...)\u001b[0m\n\u001b[0;32m    382\u001b[0m     show_progress_bar: \u001b[38;5;28mbool\u001b[39m \u001b[38;5;241m=\u001b[39m \u001b[38;5;28;01mFalse\u001b[39;00m,\n\u001b[0;32m    383\u001b[0m ) \u001b[38;5;241m-\u001b[39m\u001b[38;5;241m>\u001b[39m \u001b[38;5;28;01mNone\u001b[39;00m:\n\u001b[0;32m    384\u001b[0m \u001b[38;5;250m    \u001b[39m\u001b[38;5;124;03m\"\"\"Optimize an objective function.\u001b[39;00m\n\u001b[0;32m    385\u001b[0m \n\u001b[0;32m    386\u001b[0m \u001b[38;5;124;03m    Optimization is done by choosing a suitable set of hyperparameter values from a given\u001b[39;00m\n\u001b[1;32m   (...)\u001b[0m\n\u001b[0;32m    473\u001b[0m \u001b[38;5;124;03m            If nested invocation of this method occurs.\u001b[39;00m\n\u001b[0;32m    474\u001b[0m \u001b[38;5;124;03m    \"\"\"\u001b[39;00m\n\u001b[1;32m--> 475\u001b[0m     \u001b[43m_optimize\u001b[49m\u001b[43m(\u001b[49m\n\u001b[0;32m    476\u001b[0m \u001b[43m        \u001b[49m\u001b[43mstudy\u001b[49m\u001b[38;5;241;43m=\u001b[39;49m\u001b[38;5;28;43mself\u001b[39;49m\u001b[43m,\u001b[49m\n\u001b[0;32m    477\u001b[0m \u001b[43m        \u001b[49m\u001b[43mfunc\u001b[49m\u001b[38;5;241;43m=\u001b[39;49m\u001b[43mfunc\u001b[49m\u001b[43m,\u001b[49m\n\u001b[0;32m    478\u001b[0m \u001b[43m        \u001b[49m\u001b[43mn_trials\u001b[49m\u001b[38;5;241;43m=\u001b[39;49m\u001b[43mn_trials\u001b[49m\u001b[43m,\u001b[49m\n\u001b[0;32m    479\u001b[0m \u001b[43m        \u001b[49m\u001b[43mtimeout\u001b[49m\u001b[38;5;241;43m=\u001b[39;49m\u001b[43mtimeout\u001b[49m\u001b[43m,\u001b[49m\n\u001b[0;32m    480\u001b[0m \u001b[43m        \u001b[49m\u001b[43mn_jobs\u001b[49m\u001b[38;5;241;43m=\u001b[39;49m\u001b[43mn_jobs\u001b[49m\u001b[43m,\u001b[49m\n\u001b[0;32m    481\u001b[0m \u001b[43m        \u001b[49m\u001b[43mcatch\u001b[49m\u001b[38;5;241;43m=\u001b[39;49m\u001b[38;5;28;43mtuple\u001b[39;49m\u001b[43m(\u001b[49m\u001b[43mcatch\u001b[49m\u001b[43m)\u001b[49m\u001b[43m \u001b[49m\u001b[38;5;28;43;01mif\u001b[39;49;00m\u001b[43m \u001b[49m\u001b[38;5;28;43misinstance\u001b[39;49m\u001b[43m(\u001b[49m\u001b[43mcatch\u001b[49m\u001b[43m,\u001b[49m\u001b[43m \u001b[49m\u001b[43mIterable\u001b[49m\u001b[43m)\u001b[49m\u001b[43m \u001b[49m\u001b[38;5;28;43;01melse\u001b[39;49;00m\u001b[43m \u001b[49m\u001b[43m(\u001b[49m\u001b[43mcatch\u001b[49m\u001b[43m,\u001b[49m\u001b[43m)\u001b[49m\u001b[43m,\u001b[49m\n\u001b[0;32m    482\u001b[0m \u001b[43m        \u001b[49m\u001b[43mcallbacks\u001b[49m\u001b[38;5;241;43m=\u001b[39;49m\u001b[43mcallbacks\u001b[49m\u001b[43m,\u001b[49m\n\u001b[0;32m    483\u001b[0m \u001b[43m        \u001b[49m\u001b[43mgc_after_trial\u001b[49m\u001b[38;5;241;43m=\u001b[39;49m\u001b[43mgc_after_trial\u001b[49m\u001b[43m,\u001b[49m\n\u001b[0;32m    484\u001b[0m \u001b[43m        \u001b[49m\u001b[43mshow_progress_bar\u001b[49m\u001b[38;5;241;43m=\u001b[39;49m\u001b[43mshow_progress_bar\u001b[49m\u001b[43m,\u001b[49m\n\u001b[0;32m    485\u001b[0m \u001b[43m    \u001b[49m\u001b[43m)\u001b[49m\n",
      "File \u001b[1;32mI:\\Kaggle\\kaggle_venvs\\ml\\Lib\\site-packages\\optuna\\study\\_optimize.py:63\u001b[0m, in \u001b[0;36m_optimize\u001b[1;34m(study, func, n_trials, timeout, n_jobs, catch, callbacks, gc_after_trial, show_progress_bar)\u001b[0m\n\u001b[0;32m     61\u001b[0m \u001b[38;5;28;01mtry\u001b[39;00m:\n\u001b[0;32m     62\u001b[0m     \u001b[38;5;28;01mif\u001b[39;00m n_jobs \u001b[38;5;241m==\u001b[39m \u001b[38;5;241m1\u001b[39m:\n\u001b[1;32m---> 63\u001b[0m         \u001b[43m_optimize_sequential\u001b[49m\u001b[43m(\u001b[49m\n\u001b[0;32m     64\u001b[0m \u001b[43m            \u001b[49m\u001b[43mstudy\u001b[49m\u001b[43m,\u001b[49m\n\u001b[0;32m     65\u001b[0m \u001b[43m            \u001b[49m\u001b[43mfunc\u001b[49m\u001b[43m,\u001b[49m\n\u001b[0;32m     66\u001b[0m \u001b[43m            \u001b[49m\u001b[43mn_trials\u001b[49m\u001b[43m,\u001b[49m\n\u001b[0;32m     67\u001b[0m \u001b[43m            \u001b[49m\u001b[43mtimeout\u001b[49m\u001b[43m,\u001b[49m\n\u001b[0;32m     68\u001b[0m \u001b[43m            \u001b[49m\u001b[43mcatch\u001b[49m\u001b[43m,\u001b[49m\n\u001b[0;32m     69\u001b[0m \u001b[43m            \u001b[49m\u001b[43mcallbacks\u001b[49m\u001b[43m,\u001b[49m\n\u001b[0;32m     70\u001b[0m \u001b[43m            \u001b[49m\u001b[43mgc_after_trial\u001b[49m\u001b[43m,\u001b[49m\n\u001b[0;32m     71\u001b[0m \u001b[43m            \u001b[49m\u001b[43mreseed_sampler_rng\u001b[49m\u001b[38;5;241;43m=\u001b[39;49m\u001b[38;5;28;43;01mFalse\u001b[39;49;00m\u001b[43m,\u001b[49m\n\u001b[0;32m     72\u001b[0m \u001b[43m            \u001b[49m\u001b[43mtime_start\u001b[49m\u001b[38;5;241;43m=\u001b[39;49m\u001b[38;5;28;43;01mNone\u001b[39;49;00m\u001b[43m,\u001b[49m\n\u001b[0;32m     73\u001b[0m \u001b[43m            \u001b[49m\u001b[43mprogress_bar\u001b[49m\u001b[38;5;241;43m=\u001b[39;49m\u001b[43mprogress_bar\u001b[49m\u001b[43m,\u001b[49m\n\u001b[0;32m     74\u001b[0m \u001b[43m        \u001b[49m\u001b[43m)\u001b[49m\n\u001b[0;32m     75\u001b[0m     \u001b[38;5;28;01melse\u001b[39;00m:\n\u001b[0;32m     76\u001b[0m         \u001b[38;5;28;01mif\u001b[39;00m n_jobs \u001b[38;5;241m==\u001b[39m \u001b[38;5;241m-\u001b[39m\u001b[38;5;241m1\u001b[39m:\n",
      "File \u001b[1;32mI:\\Kaggle\\kaggle_venvs\\ml\\Lib\\site-packages\\optuna\\study\\_optimize.py:160\u001b[0m, in \u001b[0;36m_optimize_sequential\u001b[1;34m(study, func, n_trials, timeout, catch, callbacks, gc_after_trial, reseed_sampler_rng, time_start, progress_bar)\u001b[0m\n\u001b[0;32m    157\u001b[0m         \u001b[38;5;28;01mbreak\u001b[39;00m\n\u001b[0;32m    159\u001b[0m \u001b[38;5;28;01mtry\u001b[39;00m:\n\u001b[1;32m--> 160\u001b[0m     frozen_trial \u001b[38;5;241m=\u001b[39m \u001b[43m_run_trial\u001b[49m\u001b[43m(\u001b[49m\u001b[43mstudy\u001b[49m\u001b[43m,\u001b[49m\u001b[43m \u001b[49m\u001b[43mfunc\u001b[49m\u001b[43m,\u001b[49m\u001b[43m \u001b[49m\u001b[43mcatch\u001b[49m\u001b[43m)\u001b[49m\n\u001b[0;32m    161\u001b[0m \u001b[38;5;28;01mfinally\u001b[39;00m:\n\u001b[0;32m    162\u001b[0m     \u001b[38;5;66;03m# The following line mitigates memory problems that can be occurred in some\u001b[39;00m\n\u001b[0;32m    163\u001b[0m     \u001b[38;5;66;03m# environments (e.g., services that use computing containers such as GitHub Actions).\u001b[39;00m\n\u001b[0;32m    164\u001b[0m     \u001b[38;5;66;03m# Please refer to the following PR for further details:\u001b[39;00m\n\u001b[0;32m    165\u001b[0m     \u001b[38;5;66;03m# https://github.com/optuna/optuna/pull/325.\u001b[39;00m\n\u001b[0;32m    166\u001b[0m     \u001b[38;5;28;01mif\u001b[39;00m gc_after_trial:\n",
      "File \u001b[1;32mI:\\Kaggle\\kaggle_venvs\\ml\\Lib\\site-packages\\optuna\\study\\_optimize.py:248\u001b[0m, in \u001b[0;36m_run_trial\u001b[1;34m(study, func, catch)\u001b[0m\n\u001b[0;32m    241\u001b[0m         \u001b[38;5;28;01massert\u001b[39;00m \u001b[38;5;28;01mFalse\u001b[39;00m, \u001b[38;5;124m\"\u001b[39m\u001b[38;5;124mShould not reach.\u001b[39m\u001b[38;5;124m\"\u001b[39m\n\u001b[0;32m    243\u001b[0m \u001b[38;5;28;01mif\u001b[39;00m (\n\u001b[0;32m    244\u001b[0m     frozen_trial\u001b[38;5;241m.\u001b[39mstate \u001b[38;5;241m==\u001b[39m TrialState\u001b[38;5;241m.\u001b[39mFAIL\n\u001b[0;32m    245\u001b[0m     \u001b[38;5;129;01mand\u001b[39;00m func_err \u001b[38;5;129;01mis\u001b[39;00m \u001b[38;5;129;01mnot\u001b[39;00m \u001b[38;5;28;01mNone\u001b[39;00m\n\u001b[0;32m    246\u001b[0m     \u001b[38;5;129;01mand\u001b[39;00m \u001b[38;5;129;01mnot\u001b[39;00m \u001b[38;5;28misinstance\u001b[39m(func_err, catch)\n\u001b[0;32m    247\u001b[0m ):\n\u001b[1;32m--> 248\u001b[0m     \u001b[38;5;28;01mraise\u001b[39;00m func_err\n\u001b[0;32m    249\u001b[0m \u001b[38;5;28;01mreturn\u001b[39;00m frozen_trial\n",
      "File \u001b[1;32mI:\\Kaggle\\kaggle_venvs\\ml\\Lib\\site-packages\\optuna\\study\\_optimize.py:197\u001b[0m, in \u001b[0;36m_run_trial\u001b[1;34m(study, func, catch)\u001b[0m\n\u001b[0;32m    195\u001b[0m \u001b[38;5;28;01mwith\u001b[39;00m get_heartbeat_thread(trial\u001b[38;5;241m.\u001b[39m_trial_id, study\u001b[38;5;241m.\u001b[39m_storage):\n\u001b[0;32m    196\u001b[0m     \u001b[38;5;28;01mtry\u001b[39;00m:\n\u001b[1;32m--> 197\u001b[0m         value_or_values \u001b[38;5;241m=\u001b[39m \u001b[43mfunc\u001b[49m\u001b[43m(\u001b[49m\u001b[43mtrial\u001b[49m\u001b[43m)\u001b[49m\n\u001b[0;32m    198\u001b[0m     \u001b[38;5;28;01mexcept\u001b[39;00m exceptions\u001b[38;5;241m.\u001b[39mTrialPruned \u001b[38;5;28;01mas\u001b[39;00m e:\n\u001b[0;32m    199\u001b[0m         \u001b[38;5;66;03m# TODO(mamu): Handle multi-objective cases.\u001b[39;00m\n\u001b[0;32m    200\u001b[0m         state \u001b[38;5;241m=\u001b[39m TrialState\u001b[38;5;241m.\u001b[39mPRUNED\n",
      "Cell \u001b[1;32mIn[7], line 89\u001b[0m, in \u001b[0;36mlgb_sliding_window.<locals>.objective\u001b[1;34m(trial)\u001b[0m\n\u001b[0;32m     86\u001b[0m weights_val \u001b[38;5;241m=\u001b[39m val_window_df[\u001b[38;5;124m'\u001b[39m\u001b[38;5;124mweight\u001b[39m\u001b[38;5;124m'\u001b[39m]\u001b[38;5;241m.\u001b[39mto_pandas()\n\u001b[0;32m     87\u001b[0m weights_test \u001b[38;5;241m=\u001b[39m test_date_id_df[\u001b[38;5;124m'\u001b[39m\u001b[38;5;124mweight\u001b[39m\u001b[38;5;124m'\u001b[39m]\u001b[38;5;241m.\u001b[39mto_pandas()\n\u001b[1;32m---> 89\u001b[0m \u001b[43mmodel\u001b[49m\u001b[38;5;241;43m.\u001b[39;49m\u001b[43mfit\u001b[49m\u001b[43m(\u001b[49m\u001b[43mX_train\u001b[49m\u001b[43m,\u001b[49m\u001b[43m \u001b[49m\u001b[43my_train\u001b[49m\u001b[43m,\u001b[49m\u001b[43m \u001b[49m\u001b[43msample_weight\u001b[49m\u001b[38;5;241;43m=\u001b[39;49m\u001b[43mweights_train\u001b[49m\u001b[43m,\u001b[49m\u001b[43m \u001b[49m\u001b[43meval_set\u001b[49m\u001b[38;5;241;43m=\u001b[39;49m\u001b[43m[\u001b[49m\u001b[43m(\u001b[49m\u001b[43mX_train\u001b[49m\u001b[43m,\u001b[49m\u001b[43m \u001b[49m\u001b[43my_train\u001b[49m\u001b[43m)\u001b[49m\u001b[43m,\u001b[49m\u001b[43m \u001b[49m\u001b[43m(\u001b[49m\u001b[43mX_val\u001b[49m\u001b[43m,\u001b[49m\u001b[43m \u001b[49m\u001b[43my_val\u001b[49m\u001b[43m)\u001b[49m\u001b[43m]\u001b[49m\u001b[43m,\u001b[49m\u001b[43m \u001b[49m\u001b[43meval_sample_weight\u001b[49m\u001b[38;5;241;43m=\u001b[39;49m\u001b[43m[\u001b[49m\u001b[43mweights_train\u001b[49m\u001b[43m,\u001b[49m\u001b[43m \u001b[49m\u001b[43mweights_val\u001b[49m\u001b[43m]\u001b[49m\u001b[43m)\u001b[49m\u001b[38;5;66;03m#, callbacks=[log_evaluation(period=10)])\u001b[39;00m\n\u001b[0;32m     91\u001b[0m test_preds \u001b[38;5;241m=\u001b[39m model\u001b[38;5;241m.\u001b[39mpredict(X_test)\n\u001b[0;32m     93\u001b[0m test_score \u001b[38;5;241m=\u001b[39m r2_score(y_test, test_preds, sample_weight\u001b[38;5;241m=\u001b[39mweights_test)\n",
      "File \u001b[1;32mI:\\Kaggle\\kaggle_venvs\\ml\\Lib\\site-packages\\lightgbm\\sklearn.py:1189\u001b[0m, in \u001b[0;36mLGBMRegressor.fit\u001b[1;34m(self, X, y, sample_weight, init_score, eval_set, eval_names, eval_sample_weight, eval_init_score, eval_metric, feature_name, categorical_feature, callbacks, init_model)\u001b[0m\n\u001b[0;32m   1172\u001b[0m \u001b[38;5;28;01mdef\u001b[39;00m\u001b[38;5;250m \u001b[39m\u001b[38;5;21mfit\u001b[39m(  \u001b[38;5;66;03m# type: ignore[override]\u001b[39;00m\n\u001b[0;32m   1173\u001b[0m     \u001b[38;5;28mself\u001b[39m,\n\u001b[0;32m   1174\u001b[0m     X: _LGBM_ScikitMatrixLike,\n\u001b[1;32m   (...)\u001b[0m\n\u001b[0;32m   1186\u001b[0m     init_model: Optional[Union[\u001b[38;5;28mstr\u001b[39m, Path, Booster, LGBMModel]] \u001b[38;5;241m=\u001b[39m \u001b[38;5;28;01mNone\u001b[39;00m,\n\u001b[0;32m   1187\u001b[0m ) \u001b[38;5;241m-\u001b[39m\u001b[38;5;241m>\u001b[39m \u001b[38;5;124m\"\u001b[39m\u001b[38;5;124mLGBMRegressor\u001b[39m\u001b[38;5;124m\"\u001b[39m:\n\u001b[0;32m   1188\u001b[0m \u001b[38;5;250m    \u001b[39m\u001b[38;5;124;03m\"\"\"Docstring is inherited from the LGBMModel.\"\"\"\u001b[39;00m\n\u001b[1;32m-> 1189\u001b[0m     \u001b[38;5;28;43msuper\u001b[39;49m\u001b[43m(\u001b[49m\u001b[43m)\u001b[49m\u001b[38;5;241;43m.\u001b[39;49m\u001b[43mfit\u001b[49m\u001b[43m(\u001b[49m\n\u001b[0;32m   1190\u001b[0m \u001b[43m        \u001b[49m\u001b[43mX\u001b[49m\u001b[43m,\u001b[49m\n\u001b[0;32m   1191\u001b[0m \u001b[43m        \u001b[49m\u001b[43my\u001b[49m\u001b[43m,\u001b[49m\n\u001b[0;32m   1192\u001b[0m \u001b[43m        \u001b[49m\u001b[43msample_weight\u001b[49m\u001b[38;5;241;43m=\u001b[39;49m\u001b[43msample_weight\u001b[49m\u001b[43m,\u001b[49m\n\u001b[0;32m   1193\u001b[0m \u001b[43m        \u001b[49m\u001b[43minit_score\u001b[49m\u001b[38;5;241;43m=\u001b[39;49m\u001b[43minit_score\u001b[49m\u001b[43m,\u001b[49m\n\u001b[0;32m   1194\u001b[0m \u001b[43m        \u001b[49m\u001b[43meval_set\u001b[49m\u001b[38;5;241;43m=\u001b[39;49m\u001b[43meval_set\u001b[49m\u001b[43m,\u001b[49m\n\u001b[0;32m   1195\u001b[0m \u001b[43m        \u001b[49m\u001b[43meval_names\u001b[49m\u001b[38;5;241;43m=\u001b[39;49m\u001b[43meval_names\u001b[49m\u001b[43m,\u001b[49m\n\u001b[0;32m   1196\u001b[0m \u001b[43m        \u001b[49m\u001b[43meval_sample_weight\u001b[49m\u001b[38;5;241;43m=\u001b[39;49m\u001b[43meval_sample_weight\u001b[49m\u001b[43m,\u001b[49m\n\u001b[0;32m   1197\u001b[0m \u001b[43m        \u001b[49m\u001b[43meval_init_score\u001b[49m\u001b[38;5;241;43m=\u001b[39;49m\u001b[43meval_init_score\u001b[49m\u001b[43m,\u001b[49m\n\u001b[0;32m   1198\u001b[0m \u001b[43m        \u001b[49m\u001b[43meval_metric\u001b[49m\u001b[38;5;241;43m=\u001b[39;49m\u001b[43meval_metric\u001b[49m\u001b[43m,\u001b[49m\n\u001b[0;32m   1199\u001b[0m \u001b[43m        \u001b[49m\u001b[43mfeature_name\u001b[49m\u001b[38;5;241;43m=\u001b[39;49m\u001b[43mfeature_name\u001b[49m\u001b[43m,\u001b[49m\n\u001b[0;32m   1200\u001b[0m \u001b[43m        \u001b[49m\u001b[43mcategorical_feature\u001b[49m\u001b[38;5;241;43m=\u001b[39;49m\u001b[43mcategorical_feature\u001b[49m\u001b[43m,\u001b[49m\n\u001b[0;32m   1201\u001b[0m \u001b[43m        \u001b[49m\u001b[43mcallbacks\u001b[49m\u001b[38;5;241;43m=\u001b[39;49m\u001b[43mcallbacks\u001b[49m\u001b[43m,\u001b[49m\n\u001b[0;32m   1202\u001b[0m \u001b[43m        \u001b[49m\u001b[43minit_model\u001b[49m\u001b[38;5;241;43m=\u001b[39;49m\u001b[43minit_model\u001b[49m\u001b[43m,\u001b[49m\n\u001b[0;32m   1203\u001b[0m \u001b[43m    \u001b[49m\u001b[43m)\u001b[49m\n\u001b[0;32m   1204\u001b[0m     \u001b[38;5;28;01mreturn\u001b[39;00m \u001b[38;5;28mself\u001b[39m\n",
      "File \u001b[1;32mI:\\Kaggle\\kaggle_venvs\\ml\\Lib\\site-packages\\lightgbm\\sklearn.py:955\u001b[0m, in \u001b[0;36mLGBMModel.fit\u001b[1;34m(self, X, y, sample_weight, init_score, group, eval_set, eval_names, eval_sample_weight, eval_class_weight, eval_init_score, eval_group, eval_metric, feature_name, categorical_feature, callbacks, init_model)\u001b[0m\n\u001b[0;32m    952\u001b[0m evals_result: _EvalResultDict \u001b[38;5;241m=\u001b[39m {}\n\u001b[0;32m    953\u001b[0m callbacks\u001b[38;5;241m.\u001b[39mappend(record_evaluation(evals_result))\n\u001b[1;32m--> 955\u001b[0m \u001b[38;5;28mself\u001b[39m\u001b[38;5;241m.\u001b[39m_Booster \u001b[38;5;241m=\u001b[39m \u001b[43mtrain\u001b[49m\u001b[43m(\u001b[49m\n\u001b[0;32m    956\u001b[0m \u001b[43m    \u001b[49m\u001b[43mparams\u001b[49m\u001b[38;5;241;43m=\u001b[39;49m\u001b[43mparams\u001b[49m\u001b[43m,\u001b[49m\n\u001b[0;32m    957\u001b[0m \u001b[43m    \u001b[49m\u001b[43mtrain_set\u001b[49m\u001b[38;5;241;43m=\u001b[39;49m\u001b[43mtrain_set\u001b[49m\u001b[43m,\u001b[49m\n\u001b[0;32m    958\u001b[0m \u001b[43m    \u001b[49m\u001b[43mnum_boost_round\u001b[49m\u001b[38;5;241;43m=\u001b[39;49m\u001b[38;5;28;43mself\u001b[39;49m\u001b[38;5;241;43m.\u001b[39;49m\u001b[43mn_estimators\u001b[49m\u001b[43m,\u001b[49m\n\u001b[0;32m    959\u001b[0m \u001b[43m    \u001b[49m\u001b[43mvalid_sets\u001b[49m\u001b[38;5;241;43m=\u001b[39;49m\u001b[43mvalid_sets\u001b[49m\u001b[43m,\u001b[49m\n\u001b[0;32m    960\u001b[0m \u001b[43m    \u001b[49m\u001b[43mvalid_names\u001b[49m\u001b[38;5;241;43m=\u001b[39;49m\u001b[43meval_names\u001b[49m\u001b[43m,\u001b[49m\n\u001b[0;32m    961\u001b[0m \u001b[43m    \u001b[49m\u001b[43mfeval\u001b[49m\u001b[38;5;241;43m=\u001b[39;49m\u001b[43meval_metrics_callable\u001b[49m\u001b[43m,\u001b[49m\u001b[43m  \u001b[49m\u001b[38;5;66;43;03m# type: ignore[arg-type]\u001b[39;49;00m\n\u001b[0;32m    962\u001b[0m \u001b[43m    \u001b[49m\u001b[43minit_model\u001b[49m\u001b[38;5;241;43m=\u001b[39;49m\u001b[43minit_model\u001b[49m\u001b[43m,\u001b[49m\n\u001b[0;32m    963\u001b[0m \u001b[43m    \u001b[49m\u001b[43mcallbacks\u001b[49m\u001b[38;5;241;43m=\u001b[39;49m\u001b[43mcallbacks\u001b[49m\u001b[43m,\u001b[49m\n\u001b[0;32m    964\u001b[0m \u001b[43m\u001b[49m\u001b[43m)\u001b[49m\n\u001b[0;32m    966\u001b[0m \u001b[38;5;28mself\u001b[39m\u001b[38;5;241m.\u001b[39m_evals_result \u001b[38;5;241m=\u001b[39m evals_result\n\u001b[0;32m    967\u001b[0m \u001b[38;5;28mself\u001b[39m\u001b[38;5;241m.\u001b[39m_best_iteration \u001b[38;5;241m=\u001b[39m \u001b[38;5;28mself\u001b[39m\u001b[38;5;241m.\u001b[39m_Booster\u001b[38;5;241m.\u001b[39mbest_iteration\n",
      "File \u001b[1;32mI:\\Kaggle\\kaggle_venvs\\ml\\Lib\\site-packages\\lightgbm\\engine.py:307\u001b[0m, in \u001b[0;36mtrain\u001b[1;34m(params, train_set, num_boost_round, valid_sets, valid_names, feval, init_model, feature_name, categorical_feature, keep_training_booster, callbacks)\u001b[0m\n\u001b[0;32m    295\u001b[0m \u001b[38;5;28;01mfor\u001b[39;00m cb \u001b[38;5;129;01min\u001b[39;00m callbacks_before_iter:\n\u001b[0;32m    296\u001b[0m     cb(\n\u001b[0;32m    297\u001b[0m         callback\u001b[38;5;241m.\u001b[39mCallbackEnv(\n\u001b[0;32m    298\u001b[0m             model\u001b[38;5;241m=\u001b[39mbooster,\n\u001b[1;32m   (...)\u001b[0m\n\u001b[0;32m    304\u001b[0m         )\n\u001b[0;32m    305\u001b[0m     )\n\u001b[1;32m--> 307\u001b[0m \u001b[43mbooster\u001b[49m\u001b[38;5;241;43m.\u001b[39;49m\u001b[43mupdate\u001b[49m\u001b[43m(\u001b[49m\u001b[43mfobj\u001b[49m\u001b[38;5;241;43m=\u001b[39;49m\u001b[43mfobj\u001b[49m\u001b[43m)\u001b[49m\n\u001b[0;32m    309\u001b[0m evaluation_result_list: List[_LGBM_BoosterEvalMethodResultType] \u001b[38;5;241m=\u001b[39m []\n\u001b[0;32m    310\u001b[0m \u001b[38;5;66;03m# check evaluation result.\u001b[39;00m\n",
      "File \u001b[1;32mI:\\Kaggle\\kaggle_venvs\\ml\\Lib\\site-packages\\lightgbm\\basic.py:4136\u001b[0m, in \u001b[0;36mBooster.update\u001b[1;34m(self, train_set, fobj)\u001b[0m\n\u001b[0;32m   4133\u001b[0m \u001b[38;5;28;01mif\u001b[39;00m \u001b[38;5;28mself\u001b[39m\u001b[38;5;241m.\u001b[39m__set_objective_to_none:\n\u001b[0;32m   4134\u001b[0m     \u001b[38;5;28;01mraise\u001b[39;00m LightGBMError(\u001b[38;5;124m\"\u001b[39m\u001b[38;5;124mCannot update due to null objective function.\u001b[39m\u001b[38;5;124m\"\u001b[39m)\n\u001b[0;32m   4135\u001b[0m _safe_call(\n\u001b[1;32m-> 4136\u001b[0m     \u001b[43m_LIB\u001b[49m\u001b[38;5;241;43m.\u001b[39;49m\u001b[43mLGBM_BoosterUpdateOneIter\u001b[49m\u001b[43m(\u001b[49m\n\u001b[0;32m   4137\u001b[0m \u001b[43m        \u001b[49m\u001b[38;5;28;43mself\u001b[39;49m\u001b[38;5;241;43m.\u001b[39;49m\u001b[43m_handle\u001b[49m\u001b[43m,\u001b[49m\n\u001b[0;32m   4138\u001b[0m \u001b[43m        \u001b[49m\u001b[43mctypes\u001b[49m\u001b[38;5;241;43m.\u001b[39;49m\u001b[43mbyref\u001b[49m\u001b[43m(\u001b[49m\u001b[43mis_finished\u001b[49m\u001b[43m)\u001b[49m\u001b[43m,\u001b[49m\n\u001b[0;32m   4139\u001b[0m \u001b[43m    \u001b[49m\u001b[43m)\u001b[49m\n\u001b[0;32m   4140\u001b[0m )\n\u001b[0;32m   4141\u001b[0m \u001b[38;5;28mself\u001b[39m\u001b[38;5;241m.\u001b[39m__is_predicted_cur_iter \u001b[38;5;241m=\u001b[39m [\u001b[38;5;28;01mFalse\u001b[39;00m \u001b[38;5;28;01mfor\u001b[39;00m _ \u001b[38;5;129;01min\u001b[39;00m \u001b[38;5;28mrange\u001b[39m(\u001b[38;5;28mself\u001b[39m\u001b[38;5;241m.\u001b[39m__num_dataset)]\n\u001b[0;32m   4142\u001b[0m \u001b[38;5;28;01mreturn\u001b[39;00m is_finished\u001b[38;5;241m.\u001b[39mvalue \u001b[38;5;241m==\u001b[39m \u001b[38;5;241m1\u001b[39m\n",
      "\u001b[1;31mKeyboardInterrupt\u001b[0m: "
     ]
    }
   ],
   "source": [
    "lgb_study = lgb_sliding_window(train_df, 250)"
   ]
  },
  {
   "cell_type": "code",
   "execution_count": null,
   "id": "6e9c25d5-e8de-47d0-bc14-504cb01c1953",
   "metadata": {
    "scrolled": true
   },
   "outputs": [],
   "source": [
    "for param in lgb_study.best_params.keys():\n",
    "    fig = plot_slice(lgb_study, params=[param])\n",
    "    fig.show()"
   ]
  },
  {
   "cell_type": "code",
   "execution_count": null,
   "id": "0bc374ce-73cb-4816-95c2-a48ad7549132",
   "metadata": {},
   "outputs": [],
   "source": [
    "plot_param_importances(lgb_study)"
   ]
  },
  {
   "cell_type": "code",
   "execution_count": null,
   "id": "a9d76fcf-0277-419f-9368-7c4c039ccc86",
   "metadata": {},
   "outputs": [],
   "source": [
    "lgb_study.best_params"
   ]
  },
  {
   "cell_type": "code",
   "execution_count": null,
   "id": "4219668b-f6cb-4a16-8260-6c95a3e8ac6a",
   "metadata": {},
   "outputs": [],
   "source": [
    "lgb_study.best_value"
   ]
  },
  {
   "cell_type": "code",
   "execution_count": null,
   "id": "8c749891-7ec2-4ea7-b4a3-40691e436f76",
   "metadata": {},
   "outputs": [],
   "source": [
    "for k, v in lgb_study.best_params.items():\n",
    "    print(k, v)"
   ]
  },
  {
   "cell_type": "code",
   "execution_count": null,
   "id": "752cca37-9145-43e5-aa81-2c40056df4b8",
   "metadata": {},
   "outputs": [],
   "source": [
    "lgb_params_df = pd.DataFrame({k:[v] for k, v in lgb_study.best_params.items()})"
   ]
  },
  {
   "cell_type": "code",
   "execution_count": null,
   "id": "d1dd04c5-e48c-429f-9095-d0bda03fafee",
   "metadata": {},
   "outputs": [],
   "source": [
    "lgb_params_df"
   ]
  },
  {
   "cell_type": "code",
   "execution_count": null,
   "id": "753709a5-ac43-4152-9da4-6b7f9a7ec8ee",
   "metadata": {},
   "outputs": [],
   "source": [
    "lgb_params_df.to_csv(models_path + 'lgb_params.csv', index=False)"
   ]
  },
  {
   "cell_type": "code",
   "execution_count": null,
   "id": "6b262e51-9765-40a0-bec6-3418677f4f70",
   "metadata": {},
   "outputs": [],
   "source": []
  }
 ],
 "metadata": {
  "kernelspec": {
   "display_name": "Python 3 (ipykernel)",
   "language": "python",
   "name": "python3"
  },
  "language_info": {
   "codemirror_mode": {
    "name": "ipython",
    "version": 3
   },
   "file_extension": ".py",
   "mimetype": "text/x-python",
   "name": "python",
   "nbconvert_exporter": "python",
   "pygments_lexer": "ipython3",
   "version": "3.11.9"
  }
 },
 "nbformat": 4,
 "nbformat_minor": 5
}
