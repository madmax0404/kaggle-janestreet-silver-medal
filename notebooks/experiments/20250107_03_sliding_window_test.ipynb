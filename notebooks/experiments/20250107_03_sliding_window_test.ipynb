{
 "cells": [
  {
   "cell_type": "code",
   "execution_count": 1,
   "id": "ba6e3e10-78d2-413c-87c3-f256294da062",
   "metadata": {},
   "outputs": [],
   "source": [
    "import pandas as pd\n",
    "import polars as pl\n",
    "import numpy as np\n",
    "import os\n",
    "import gc\n",
    "import seaborn as sns\n",
    "from tqdm import tqdm\n",
    "from sklearn.model_selection import KFold, StratifiedKFold\n",
    "import xgboost as xgb\n",
    "from xgboost import XGBRegressor\n",
    "from lightgbm import LGBMRegressor, log_evaluation, record_evaluation\n",
    "import lightgbm as lgb\n",
    "import matplotlib.pyplot as plt\n",
    "from sklearn.metrics import r2_score\n",
    "#from sklearn.impute import IterativeImputer\n",
    "import pickle\n",
    "import optuna\n",
    "from optuna.visualization import plot_slice, plot_param_importances\n",
    "import shap\n",
    "import random\n",
    "\n",
    "gc.enable()\n",
    "\n",
    "pd.options.display.max_columns = None\n",
    "pd.set_option('display.max_rows', 500)\n",
    "pd.set_option('display.max_columns', 500)\n",
    "pd.set_option('display.max_colwidth', None)\n",
    "\n",
    "pl.Config.set_tbl_rows(-1)\n",
    "pl.Config.set_tbl_cols(-1)\n",
    "pl.Config.set_fmt_str_lengths(10000)\n",
    "optuna.logging.set_verbosity(optuna.logging.WARNING)"
   ]
  },
  {
   "cell_type": "code",
   "execution_count": 2,
   "id": "8a5a256f-c55b-415d-8d12-e753283ffee9",
   "metadata": {},
   "outputs": [],
   "source": [
    "path = 'I:/Kaggle/jane-street-real-time-market-data-forecasting/'"
   ]
  },
  {
   "cell_type": "code",
   "execution_count": 3,
   "id": "38d215c3-e2a4-4ea2-8125-708737b10ed4",
   "metadata": {},
   "outputs": [
    {
     "data": {
      "text/plain": [
       "['features.csv',\n",
       " 'kaggle_evaluation',\n",
       " 'lags.parquet',\n",
       " 'my_folder',\n",
       " 'responders.csv',\n",
       " 'sample_submission.csv',\n",
       " 'team_folder',\n",
       " 'test.parquet',\n",
       " 'top_100000_rows_sorted_by_weight_descending.parquet',\n",
       " 'top_10000_rows_sorted_by_weight_descending.parquet',\n",
       " 'train.parquet']"
      ]
     },
     "execution_count": 3,
     "metadata": {},
     "output_type": "execute_result"
    }
   ],
   "source": [
    "os.listdir(path)"
   ]
  },
  {
   "cell_type": "code",
   "execution_count": 4,
   "id": "eab47b6d-409b-41a7-a443-fcddc750f653",
   "metadata": {},
   "outputs": [
    {
     "name": "stdout",
     "output_type": "stream",
     "text": [
      "(47127338, 84)\n"
     ]
    },
    {
     "data": {
      "text/html": [
       "<div><style>\n",
       ".dataframe > thead > tr,\n",
       ".dataframe > tbody > tr {\n",
       "  text-align: right;\n",
       "  white-space: pre-wrap;\n",
       "}\n",
       "</style>\n",
       "<small>shape: (5, 84)</small><table border=\"1\" class=\"dataframe\"><thead><tr><th>date_id</th><th>time_id</th><th>symbol_id</th><th>weight</th><th>feature_00</th><th>feature_01</th><th>feature_02</th><th>feature_03</th><th>feature_04</th><th>feature_05</th><th>feature_06</th><th>feature_07</th><th>feature_08</th><th>feature_09</th><th>feature_10</th><th>feature_11</th><th>feature_12</th><th>feature_13</th><th>feature_14</th><th>feature_15</th><th>feature_16</th><th>feature_17</th><th>feature_18</th><th>feature_19</th><th>feature_20</th><th>feature_21</th><th>feature_22</th><th>feature_23</th><th>feature_24</th><th>feature_25</th><th>feature_26</th><th>feature_27</th><th>feature_28</th><th>feature_29</th><th>feature_30</th><th>feature_31</th><th>feature_32</th><th>feature_33</th><th>feature_34</th><th>feature_35</th><th>feature_36</th><th>feature_37</th><th>feature_38</th><th>feature_39</th><th>feature_40</th><th>feature_41</th><th>feature_42</th><th>feature_43</th><th>feature_44</th><th>feature_45</th><th>feature_46</th><th>feature_47</th><th>feature_48</th><th>feature_49</th><th>feature_50</th><th>feature_51</th><th>feature_52</th><th>feature_53</th><th>feature_54</th><th>feature_55</th><th>feature_56</th><th>feature_57</th><th>feature_58</th><th>feature_59</th><th>feature_60</th><th>feature_61</th><th>feature_62</th><th>feature_63</th><th>feature_64</th><th>feature_65</th><th>feature_66</th><th>feature_67</th><th>feature_68</th><th>feature_69</th><th>feature_70</th><th>feature_71</th><th>feature_72</th><th>feature_73</th><th>feature_74</th><th>feature_75</th><th>feature_76</th><th>feature_77</th><th>feature_78</th><th>responder_6</th></tr><tr><td>i16</td><td>i16</td><td>i8</td><td>f32</td><td>f32</td><td>f32</td><td>f32</td><td>f32</td><td>f32</td><td>f32</td><td>f32</td><td>f32</td><td>f32</td><td>i8</td><td>i8</td><td>i16</td><td>f32</td><td>f32</td><td>f32</td><td>f32</td><td>f32</td><td>f32</td><td>f32</td><td>f32</td><td>f32</td><td>f32</td><td>f32</td><td>f32</td><td>f32</td><td>f32</td><td>f32</td><td>f32</td><td>f32</td><td>f32</td><td>f32</td><td>f32</td><td>f32</td><td>f32</td><td>f32</td><td>f32</td><td>f32</td><td>f32</td><td>f32</td><td>f32</td><td>f32</td><td>f32</td><td>f32</td><td>f32</td><td>f32</td><td>f32</td><td>f32</td><td>f32</td><td>f32</td><td>f32</td><td>f32</td><td>f32</td><td>f32</td><td>f32</td><td>f32</td><td>f32</td><td>f32</td><td>f32</td><td>f32</td><td>f32</td><td>f32</td><td>f32</td><td>f32</td><td>f32</td><td>f32</td><td>f32</td><td>f32</td><td>f32</td><td>f32</td><td>f32</td><td>f32</td><td>f32</td><td>f32</td><td>f32</td><td>f32</td><td>f32</td><td>f32</td><td>f32</td><td>f32</td><td>f32</td></tr></thead><tbody><tr><td>0</td><td>0</td><td>1</td><td>3.889038</td><td>null</td><td>null</td><td>null</td><td>null</td><td>null</td><td>0.851033</td><td>0.242971</td><td>0.2634</td><td>-0.891687</td><td>11</td><td>7</td><td>76</td><td>-0.883028</td><td>0.003067</td><td>-0.744703</td><td>null</td><td>-0.169586</td><td>null</td><td>-1.335938</td><td>-1.707803</td><td>0.91013</td><td>null</td><td>1.636431</td><td>1.522133</td><td>-1.551398</td><td>-0.229627</td><td>null</td><td>null</td><td>1.378301</td><td>-0.283712</td><td>0.123196</td><td>null</td><td>null</td><td>null</td><td>0.28118</td><td>0.269163</td><td>0.349028</td><td>-0.012596</td><td>-0.225932</td><td>null</td><td>-1.073602</td><td>null</td><td>null</td><td>-0.181716</td><td>null</td><td>null</td><td>null</td><td>0.564021</td><td>2.088506</td><td>0.832022</td><td>null</td><td>0.204797</td><td>null</td><td>null</td><td>-0.808103</td><td>null</td><td>-2.037683</td><td>0.727661</td><td>null</td><td>-0.989118</td><td>-0.345213</td><td>-1.36224</td><td>null</td><td>null</td><td>null</td><td>null</td><td>null</td><td>-1.251104</td><td>-0.110252</td><td>-0.491157</td><td>-1.02269</td><td>0.152241</td><td>-0.659864</td><td>null</td><td>null</td><td>-0.261412</td><td>-0.211486</td><td>-0.335556</td><td>-0.281498</td><td>0.775981</td></tr><tr><td>0</td><td>0</td><td>7</td><td>1.370613</td><td>null</td><td>null</td><td>null</td><td>null</td><td>null</td><td>0.676961</td><td>0.151984</td><td>0.192465</td><td>-0.521729</td><td>11</td><td>7</td><td>76</td><td>-0.865307</td><td>-0.225629</td><td>-0.582163</td><td>null</td><td>0.317467</td><td>null</td><td>-1.250016</td><td>-1.682929</td><td>1.412757</td><td>null</td><td>0.520378</td><td>0.744132</td><td>-0.788658</td><td>0.641776</td><td>null</td><td>null</td><td>0.2272</td><td>0.580907</td><td>1.128879</td><td>null</td><td>null</td><td>null</td><td>-1.512286</td><td>-1.414357</td><td>-1.823322</td><td>-0.082763</td><td>-0.184119</td><td>null</td><td>null</td><td>null</td><td>null</td><td>null</td><td>null</td><td>null</td><td>null</td><td>-10.835207</td><td>-0.002704</td><td>-0.621836</td><td>null</td><td>1.172836</td><td>null</td><td>null</td><td>-1.625862</td><td>null</td><td>-1.410017</td><td>1.063013</td><td>null</td><td>0.888355</td><td>0.467994</td><td>-1.36224</td><td>null</td><td>null</td><td>null</td><td>null</td><td>null</td><td>-1.065759</td><td>0.013322</td><td>-0.592855</td><td>-1.052685</td><td>-0.393726</td><td>-0.741603</td><td>null</td><td>null</td><td>-0.281207</td><td>-0.182894</td><td>-0.245565</td><td>-0.302441</td><td>0.703665</td></tr><tr><td>0</td><td>0</td><td>9</td><td>2.285698</td><td>null</td><td>null</td><td>null</td><td>null</td><td>null</td><td>1.056285</td><td>0.187227</td><td>0.249901</td><td>-0.77305</td><td>11</td><td>7</td><td>76</td><td>-0.675719</td><td>-0.199404</td><td>-0.586798</td><td>null</td><td>-0.814909</td><td>null</td><td>-1.296782</td><td>-2.040234</td><td>0.639589</td><td>null</td><td>1.597359</td><td>0.657514</td><td>-1.350148</td><td>0.364215</td><td>null</td><td>null</td><td>-0.017751</td><td>-0.317361</td><td>-0.122379</td><td>null</td><td>null</td><td>null</td><td>-0.320921</td><td>-0.95809</td><td>-2.436589</td><td>0.070999</td><td>-0.245239</td><td>null</td><td>null</td><td>null</td><td>null</td><td>null</td><td>null</td><td>null</td><td>null</td><td>-1.420632</td><td>-3.515137</td><td>-4.67776</td><td>null</td><td>0.535897</td><td>null</td><td>null</td><td>-0.72542</td><td>null</td><td>-2.29417</td><td>1.764551</td><td>null</td><td>-0.120789</td><td>-0.063458</td><td>-1.36224</td><td>null</td><td>null</td><td>null</td><td>null</td><td>null</td><td>-0.882604</td><td>-0.072482</td><td>-0.617934</td><td>-0.86323</td><td>-0.241892</td><td>-0.709919</td><td>null</td><td>null</td><td>0.377131</td><td>0.300724</td><td>-0.106842</td><td>-0.096792</td><td>2.109352</td></tr><tr><td>0</td><td>0</td><td>10</td><td>0.690606</td><td>null</td><td>null</td><td>null</td><td>null</td><td>null</td><td>1.139366</td><td>0.273328</td><td>0.306549</td><td>-1.262223</td><td>42</td><td>5</td><td>150</td><td>-0.694008</td><td>3.004091</td><td>0.114809</td><td>null</td><td>-0.251882</td><td>null</td><td>-1.902009</td><td>-0.979447</td><td>0.241165</td><td>null</td><td>-0.392359</td><td>-0.224699</td><td>-2.129397</td><td>-0.855287</td><td>null</td><td>null</td><td>0.404142</td><td>-0.578156</td><td>0.105702</td><td>null</td><td>null</td><td>null</td><td>0.544138</td><td>-0.087091</td><td>-1.500147</td><td>-0.201288</td><td>-0.038042</td><td>null</td><td>null</td><td>null</td><td>null</td><td>null</td><td>null</td><td>null</td><td>null</td><td>0.382074</td><td>2.669135</td><td>0.611711</td><td>null</td><td>2.413415</td><td>null</td><td>null</td><td>1.313203</td><td>null</td><td>-0.810125</td><td>2.939022</td><td>null</td><td>3.988801</td><td>1.834661</td><td>-1.36224</td><td>null</td><td>null</td><td>null</td><td>null</td><td>null</td><td>-0.697595</td><td>1.074309</td><td>-0.206929</td><td>-0.530602</td><td>4.765215</td><td>0.571554</td><td>null</td><td>null</td><td>-0.226891</td><td>-0.251412</td><td>-0.215522</td><td>-0.296244</td><td>1.114137</td></tr><tr><td>0</td><td>0</td><td>14</td><td>0.44057</td><td>null</td><td>null</td><td>null</td><td>null</td><td>null</td><td>0.9552</td><td>0.262404</td><td>0.344457</td><td>-0.613813</td><td>44</td><td>3</td><td>16</td><td>-0.947351</td><td>-0.030018</td><td>-0.502379</td><td>null</td><td>0.646086</td><td>null</td><td>-1.844685</td><td>-1.58656</td><td>-0.182024</td><td>null</td><td>-0.969949</td><td>-0.673813</td><td>-1.282132</td><td>-1.399894</td><td>null</td><td>null</td><td>0.043815</td><td>-0.320225</td><td>-0.031713</td><td>null</td><td>null</td><td>null</td><td>-0.08842</td><td>-0.995003</td><td>-2.635336</td><td>-0.196461</td><td>-0.618719</td><td>null</td><td>null</td><td>null</td><td>null</td><td>null</td><td>null</td><td>null</td><td>null</td><td>-2.0146</td><td>-2.321076</td><td>-3.711265</td><td>null</td><td>1.253902</td><td>null</td><td>null</td><td>0.476195</td><td>null</td><td>-0.771732</td><td>2.843421</td><td>null</td><td>1.379815</td><td>0.411827</td><td>-1.36224</td><td>null</td><td>null</td><td>null</td><td>null</td><td>null</td><td>-0.948601</td><td>-0.136814</td><td>-0.447704</td><td>-1.141761</td><td>0.099631</td><td>-0.661928</td><td>null</td><td>null</td><td>3.678076</td><td>2.793581</td><td>2.61825</td><td>3.418133</td><td>-3.57282</td></tr></tbody></table></div>"
      ],
      "text/plain": [
       "shape: (5, 84)\n",
       "┌─────┬─────┬─────┬─────┬─────┬─────┬─────┬─────┬─────┬─────┬─────┬─────┬─────┬─────┬─────┬─────┬─────┬─────┬─────┬─────┬─────┬─────┬─────┬─────┬─────┬─────┬─────┬─────┬─────┬─────┬─────┬─────┬─────┬─────┬─────┬─────┬─────┬─────┬─────┬─────┬─────┬─────┬─────┬─────┬─────┬─────┬─────┬─────┬─────┬─────┬─────┬─────┬─────┬─────┬─────┬─────┬─────┬─────┬─────┬─────┬─────┬─────┬─────┬─────┬─────┬─────┬─────┬─────┬─────┬─────┬─────┬─────┬─────┬─────┬─────┬─────┬─────┬─────┬─────┬─────┬─────┬─────┬─────┬─────┐\n",
       "│ dat ┆ tim ┆ sym ┆ wei ┆ fea ┆ fea ┆ fea ┆ fea ┆ fea ┆ fea ┆ fea ┆ fea ┆ fea ┆ fea ┆ fea ┆ fea ┆ fea ┆ fea ┆ fea ┆ fea ┆ fea ┆ fea ┆ fea ┆ fea ┆ fea ┆ fea ┆ fea ┆ fea ┆ fea ┆ fea ┆ fea ┆ fea ┆ fea ┆ fea ┆ fea ┆ fea ┆ fea ┆ fea ┆ fea ┆ fea ┆ fea ┆ fea ┆ fea ┆ fea ┆ fea ┆ fea ┆ fea ┆ fea ┆ fea ┆ fea ┆ fea ┆ fea ┆ fea ┆ fea ┆ fea ┆ fea ┆ fea ┆ fea ┆ fea ┆ fea ┆ fea ┆ fea ┆ fea ┆ fea ┆ fea ┆ fea ┆ fea ┆ fea ┆ fea ┆ fea ┆ fea ┆ fea ┆ fea ┆ fea ┆ fea ┆ fea ┆ fea ┆ fea ┆ fea ┆ fea ┆ fea ┆ fea ┆ fea ┆ res │\n",
       "│ e_i ┆ e_i ┆ bol ┆ ght ┆ tur ┆ tur ┆ tur ┆ tur ┆ tur ┆ tur ┆ tur ┆ tur ┆ tur ┆ tur ┆ tur ┆ tur ┆ tur ┆ tur ┆ tur ┆ tur ┆ tur ┆ tur ┆ tur ┆ tur ┆ tur ┆ tur ┆ tur ┆ tur ┆ tur ┆ tur ┆ tur ┆ tur ┆ tur ┆ tur ┆ tur ┆ tur ┆ tur ┆ tur ┆ tur ┆ tur ┆ tur ┆ tur ┆ tur ┆ tur ┆ tur ┆ tur ┆ tur ┆ tur ┆ tur ┆ tur ┆ tur ┆ tur ┆ tur ┆ tur ┆ tur ┆ tur ┆ tur ┆ tur ┆ tur ┆ tur ┆ tur ┆ tur ┆ tur ┆ tur ┆ tur ┆ tur ┆ tur ┆ tur ┆ tur ┆ tur ┆ tur ┆ tur ┆ tur ┆ tur ┆ tur ┆ tur ┆ tur ┆ tur ┆ tur ┆ tur ┆ tur ┆ tur ┆ tur ┆ pon │\n",
       "│ d   ┆ d   ┆ _id ┆ --- ┆ e_0 ┆ e_0 ┆ e_0 ┆ e_0 ┆ e_0 ┆ e_0 ┆ e_0 ┆ e_0 ┆ e_0 ┆ e_0 ┆ e_1 ┆ e_1 ┆ e_1 ┆ e_1 ┆ e_1 ┆ e_1 ┆ e_1 ┆ e_1 ┆ e_1 ┆ e_1 ┆ e_2 ┆ e_2 ┆ e_2 ┆ e_2 ┆ e_2 ┆ e_2 ┆ e_2 ┆ e_2 ┆ e_2 ┆ e_2 ┆ e_3 ┆ e_3 ┆ e_3 ┆ e_3 ┆ e_3 ┆ e_3 ┆ e_3 ┆ e_3 ┆ e_3 ┆ e_3 ┆ e_4 ┆ e_4 ┆ e_4 ┆ e_4 ┆ e_4 ┆ e_4 ┆ e_4 ┆ e_4 ┆ e_4 ┆ e_4 ┆ e_5 ┆ e_5 ┆ e_5 ┆ e_5 ┆ e_5 ┆ e_5 ┆ e_5 ┆ e_5 ┆ e_5 ┆ e_5 ┆ e_6 ┆ e_6 ┆ e_6 ┆ e_6 ┆ e_6 ┆ e_6 ┆ e_6 ┆ e_6 ┆ e_6 ┆ e_6 ┆ e_7 ┆ e_7 ┆ e_7 ┆ e_7 ┆ e_7 ┆ e_7 ┆ e_7 ┆ e_7 ┆ e_7 ┆ der │\n",
       "│ --- ┆ --- ┆ --- ┆ f32 ┆ 0   ┆ 1   ┆ 2   ┆ 3   ┆ 4   ┆ 5   ┆ 6   ┆ 7   ┆ 8   ┆ 9   ┆ 0   ┆ 1   ┆ 2   ┆ 3   ┆ 4   ┆ 5   ┆ 6   ┆ 7   ┆ 8   ┆ 9   ┆ 0   ┆ 1   ┆ 2   ┆ 3   ┆ 4   ┆ 5   ┆ 6   ┆ 7   ┆ 8   ┆ 9   ┆ 0   ┆ 1   ┆ 2   ┆ 3   ┆ 4   ┆ 5   ┆ 6   ┆ 7   ┆ 8   ┆ 9   ┆ 0   ┆ 1   ┆ 2   ┆ 3   ┆ 4   ┆ 5   ┆ 6   ┆ 7   ┆ 8   ┆ 9   ┆ 0   ┆ 1   ┆ 2   ┆ 3   ┆ 4   ┆ 5   ┆ 6   ┆ 7   ┆ 8   ┆ 9   ┆ 0   ┆ 1   ┆ 2   ┆ 3   ┆ 4   ┆ 5   ┆ 6   ┆ 7   ┆ 8   ┆ 9   ┆ 0   ┆ 1   ┆ 2   ┆ 3   ┆ 4   ┆ 5   ┆ 6   ┆ 7   ┆ 8   ┆ _6  │\n",
       "│ i16 ┆ i16 ┆ i8  ┆     ┆ --- ┆ --- ┆ --- ┆ --- ┆ --- ┆ --- ┆ --- ┆ --- ┆ --- ┆ --- ┆ --- ┆ --- ┆ --- ┆ --- ┆ --- ┆ --- ┆ --- ┆ --- ┆ --- ┆ --- ┆ --- ┆ --- ┆ --- ┆ --- ┆ --- ┆ --- ┆ --- ┆ --- ┆ --- ┆ --- ┆ --- ┆ --- ┆ --- ┆ --- ┆ --- ┆ --- ┆ --- ┆ --- ┆ --- ┆ --- ┆ --- ┆ --- ┆ --- ┆ --- ┆ --- ┆ --- ┆ --- ┆ --- ┆ --- ┆ --- ┆ --- ┆ --- ┆ --- ┆ --- ┆ --- ┆ --- ┆ --- ┆ --- ┆ --- ┆ --- ┆ --- ┆ --- ┆ --- ┆ --- ┆ --- ┆ --- ┆ --- ┆ --- ┆ --- ┆ --- ┆ --- ┆ --- ┆ --- ┆ --- ┆ --- ┆ --- ┆ --- ┆ --- ┆ --- ┆ --- │\n",
       "│     ┆     ┆     ┆     ┆ f32 ┆ f32 ┆ f32 ┆ f32 ┆ f32 ┆ f32 ┆ f32 ┆ f32 ┆ f32 ┆ i8  ┆ i8  ┆ i16 ┆ f32 ┆ f32 ┆ f32 ┆ f32 ┆ f32 ┆ f32 ┆ f32 ┆ f32 ┆ f32 ┆ f32 ┆ f32 ┆ f32 ┆ f32 ┆ f32 ┆ f32 ┆ f32 ┆ f32 ┆ f32 ┆ f32 ┆ f32 ┆ f32 ┆ f32 ┆ f32 ┆ f32 ┆ f32 ┆ f32 ┆ f32 ┆ f32 ┆ f32 ┆ f32 ┆ f32 ┆ f32 ┆ f32 ┆ f32 ┆ f32 ┆ f32 ┆ f32 ┆ f32 ┆ f32 ┆ f32 ┆ f32 ┆ f32 ┆ f32 ┆ f32 ┆ f32 ┆ f32 ┆ f32 ┆ f32 ┆ f32 ┆ f32 ┆ f32 ┆ f32 ┆ f32 ┆ f32 ┆ f32 ┆ f32 ┆ f32 ┆ f32 ┆ f32 ┆ f32 ┆ f32 ┆ f32 ┆ f32 ┆ f32 ┆ f32 ┆ f32 ┆ f32 ┆ f32 │\n",
       "╞═════╪═════╪═════╪═════╪═════╪═════╪═════╪═════╪═════╪═════╪═════╪═════╪═════╪═════╪═════╪═════╪═════╪═════╪═════╪═════╪═════╪═════╪═════╪═════╪═════╪═════╪═════╪═════╪═════╪═════╪═════╪═════╪═════╪═════╪═════╪═════╪═════╪═════╪═════╪═════╪═════╪═════╪═════╪═════╪═════╪═════╪═════╪═════╪═════╪═════╪═════╪═════╪═════╪═════╪═════╪═════╪═════╪═════╪═════╪═════╪═════╪═════╪═════╪═════╪═════╪═════╪═════╪═════╪═════╪═════╪═════╪═════╪═════╪═════╪═════╪═════╪═════╪═════╪═════╪═════╪═════╪═════╪═════╪═════╡\n",
       "│ 0   ┆ 0   ┆ 1   ┆ 3.8 ┆ nul ┆ nul ┆ nul ┆ nul ┆ nul ┆ 0.8 ┆ 0.2 ┆ 0.2 ┆ -0. ┆ 11  ┆ 7   ┆ 76  ┆ -0. ┆ 0.0 ┆ -0. ┆ nul ┆ -0. ┆ nul ┆ -1. ┆ -1. ┆ 0.9 ┆ nul ┆ 1.6 ┆ 1.5 ┆ -1. ┆ -0. ┆ nul ┆ nul ┆ 1.3 ┆ -0. ┆ 0.1 ┆ nul ┆ nul ┆ nul ┆ 0.2 ┆ 0.2 ┆ 0.3 ┆ -0. ┆ -0. ┆ nul ┆ -1. ┆ nul ┆ nul ┆ -0. ┆ nul ┆ nul ┆ nul ┆ 0.5 ┆ 2.0 ┆ 0.8 ┆ nul ┆ 0.2 ┆ nul ┆ nul ┆ -0. ┆ nul ┆ -2. ┆ 0.7 ┆ nul ┆ -0. ┆ -0. ┆ -1. ┆ nul ┆ nul ┆ nul ┆ nul ┆ nul ┆ -1. ┆ -0. ┆ -0. ┆ -1. ┆ 0.1 ┆ -0. ┆ nul ┆ nul ┆ -0. ┆ -0. ┆ -0. ┆ -0. ┆ 0.7 │\n",
       "│     ┆     ┆     ┆ 890 ┆ l   ┆ l   ┆ l   ┆ l   ┆ l   ┆ 510 ┆ 429 ┆ 634 ┆ 891 ┆     ┆     ┆     ┆ 883 ┆ 030 ┆ 744 ┆ l   ┆ 169 ┆ l   ┆ 335 ┆ 707 ┆ 101 ┆ l   ┆ 364 ┆ 221 ┆ 551 ┆ 229 ┆ l   ┆ l   ┆ 783 ┆ 283 ┆ 231 ┆ l   ┆ l   ┆ l   ┆ 811 ┆ 691 ┆ 490 ┆ 012 ┆ 225 ┆ l   ┆ 073 ┆ l   ┆ l   ┆ 181 ┆ l   ┆ l   ┆ l   ┆ 640 ┆ 885 ┆ 320 ┆ l   ┆ 047 ┆ l   ┆ l   ┆ 808 ┆ l   ┆ 037 ┆ 276 ┆ l   ┆ 989 ┆ 345 ┆ 362 ┆ l   ┆ l   ┆ l   ┆ l   ┆ l   ┆ 251 ┆ 110 ┆ 491 ┆ 022 ┆ 522 ┆ 659 ┆ l   ┆ l   ┆ 261 ┆ 211 ┆ 335 ┆ 281 ┆ 759 │\n",
       "│     ┆     ┆     ┆ 38  ┆     ┆     ┆     ┆     ┆     ┆ 33  ┆ 71  ┆     ┆ 687 ┆     ┆     ┆     ┆ 028 ┆ 67  ┆ 703 ┆     ┆ 586 ┆     ┆ 938 ┆ 803 ┆ 3   ┆     ┆ 31  ┆ 33  ┆ 398 ┆ 627 ┆     ┆     ┆ 01  ┆ 712 ┆ 96  ┆     ┆     ┆     ┆ 8   ┆ 63  ┆ 28  ┆ 596 ┆ 932 ┆     ┆ 602 ┆     ┆     ┆ 716 ┆     ┆     ┆     ┆ 21  ┆ 06  ┆ 22  ┆     ┆ 97  ┆     ┆     ┆ 103 ┆     ┆ 683 ┆ 61  ┆     ┆ 118 ┆ 213 ┆ 24  ┆     ┆     ┆     ┆     ┆     ┆ 104 ┆ 252 ┆ 157 ┆ 69  ┆ 41  ┆ 864 ┆     ┆     ┆ 412 ┆ 486 ┆ 556 ┆ 498 ┆ 81  │\n",
       "│ 0   ┆ 0   ┆ 7   ┆ 1.3 ┆ nul ┆ nul ┆ nul ┆ nul ┆ nul ┆ 0.6 ┆ 0.1 ┆ 0.1 ┆ -0. ┆ 11  ┆ 7   ┆ 76  ┆ -0. ┆ -0. ┆ -0. ┆ nul ┆ 0.3 ┆ nul ┆ -1. ┆ -1. ┆ 1.4 ┆ nul ┆ 0.5 ┆ 0.7 ┆ -0. ┆ 0.6 ┆ nul ┆ nul ┆ 0.2 ┆ 0.5 ┆ 1.1 ┆ nul ┆ nul ┆ nul ┆ -1. ┆ -1. ┆ -1. ┆ -0. ┆ -0. ┆ nul ┆ nul ┆ nul ┆ nul ┆ nul ┆ nul ┆ nul ┆ nul ┆ -10 ┆ -0. ┆ -0. ┆ nul ┆ 1.1 ┆ nul ┆ nul ┆ -1. ┆ nul ┆ -1. ┆ 1.0 ┆ nul ┆ 0.8 ┆ 0.4 ┆ -1. ┆ nul ┆ nul ┆ nul ┆ nul ┆ nul ┆ -1. ┆ 0.0 ┆ -0. ┆ -1. ┆ -0. ┆ -0. ┆ nul ┆ nul ┆ -0. ┆ -0. ┆ -0. ┆ -0. ┆ 0.7 │\n",
       "│     ┆     ┆     ┆ 706 ┆ l   ┆ l   ┆ l   ┆ l   ┆ l   ┆ 769 ┆ 519 ┆ 924 ┆ 521 ┆     ┆     ┆     ┆ 865 ┆ 225 ┆ 582 ┆ l   ┆ 174 ┆ l   ┆ 250 ┆ 682 ┆ 127 ┆ l   ┆ 203 ┆ 441 ┆ 788 ┆ 417 ┆ l   ┆ l   ┆ 272 ┆ 809 ┆ 288 ┆ l   ┆ l   ┆ l   ┆ 512 ┆ 414 ┆ 823 ┆ 082 ┆ 184 ┆ l   ┆ l   ┆ l   ┆ l   ┆ l   ┆ l   ┆ l   ┆ l   ┆ .83 ┆ 002 ┆ 621 ┆ l   ┆ 728 ┆ l   ┆ l   ┆ 625 ┆ l   ┆ 410 ┆ 630 ┆ l   ┆ 883 ┆ 679 ┆ 362 ┆ l   ┆ l   ┆ l   ┆ l   ┆ l   ┆ 065 ┆ 133 ┆ 592 ┆ 052 ┆ 393 ┆ 741 ┆ l   ┆ l   ┆ 281 ┆ 182 ┆ 245 ┆ 302 ┆ 036 │\n",
       "│     ┆     ┆     ┆ 13  ┆     ┆     ┆     ┆     ┆     ┆ 61  ┆ 84  ┆ 65  ┆ 729 ┆     ┆     ┆     ┆ 307 ┆ 629 ┆ 163 ┆     ┆ 67  ┆     ┆ 016 ┆ 929 ┆ 57  ┆     ┆ 78  ┆ 32  ┆ 658 ┆ 76  ┆     ┆     ┆     ┆ 07  ┆ 79  ┆     ┆     ┆     ┆ 286 ┆ 357 ┆ 322 ┆ 763 ┆ 119 ┆     ┆     ┆     ┆     ┆     ┆     ┆     ┆     ┆ 520 ┆ 704 ┆ 836 ┆     ┆ 36  ┆     ┆     ┆ 862 ┆     ┆ 017 ┆ 13  ┆     ┆ 55  ┆ 94  ┆ 24  ┆     ┆     ┆     ┆     ┆     ┆ 759 ┆ 22  ┆ 855 ┆ 685 ┆ 726 ┆ 603 ┆     ┆     ┆ 207 ┆ 894 ┆ 565 ┆ 441 ┆ 65  │\n",
       "│     ┆     ┆     ┆     ┆     ┆     ┆     ┆     ┆     ┆     ┆     ┆     ┆     ┆     ┆     ┆     ┆     ┆     ┆     ┆     ┆     ┆     ┆     ┆     ┆     ┆     ┆     ┆     ┆     ┆     ┆     ┆     ┆     ┆     ┆     ┆     ┆     ┆     ┆     ┆     ┆     ┆     ┆     ┆     ┆     ┆     ┆     ┆     ┆     ┆     ┆     ┆ 7   ┆     ┆     ┆     ┆     ┆     ┆     ┆     ┆     ┆     ┆     ┆     ┆     ┆     ┆     ┆     ┆     ┆     ┆     ┆     ┆     ┆     ┆     ┆     ┆     ┆     ┆     ┆     ┆     ┆     ┆     ┆     ┆     │\n",
       "│ 0   ┆ 0   ┆ 9   ┆ 2.2 ┆ nul ┆ nul ┆ nul ┆ nul ┆ nul ┆ 1.0 ┆ 0.1 ┆ 0.2 ┆ -0. ┆ 11  ┆ 7   ┆ 76  ┆ -0. ┆ -0. ┆ -0. ┆ nul ┆ -0. ┆ nul ┆ -1. ┆ -2. ┆ 0.6 ┆ nul ┆ 1.5 ┆ 0.6 ┆ -1. ┆ 0.3 ┆ nul ┆ nul ┆ -0. ┆ -0. ┆ -0. ┆ nul ┆ nul ┆ nul ┆ -0. ┆ -0. ┆ -2. ┆ 0.0 ┆ -0. ┆ nul ┆ nul ┆ nul ┆ nul ┆ nul ┆ nul ┆ nul ┆ nul ┆ -1. ┆ -3. ┆ -4. ┆ nul ┆ 0.5 ┆ nul ┆ nul ┆ -0. ┆ nul ┆ -2. ┆ 1.7 ┆ nul ┆ -0. ┆ -0. ┆ -1. ┆ nul ┆ nul ┆ nul ┆ nul ┆ nul ┆ -0. ┆ -0. ┆ -0. ┆ -0. ┆ -0. ┆ -0. ┆ nul ┆ nul ┆ 0.3 ┆ 0.3 ┆ -0. ┆ -0. ┆ 2.1 │\n",
       "│     ┆     ┆     ┆ 856 ┆ l   ┆ l   ┆ l   ┆ l   ┆ l   ┆ 562 ┆ 872 ┆ 499 ┆ 773 ┆     ┆     ┆     ┆ 675 ┆ 199 ┆ 586 ┆ l   ┆ 814 ┆ l   ┆ 296 ┆ 040 ┆ 395 ┆ l   ┆ 973 ┆ 575 ┆ 350 ┆ 642 ┆ l   ┆ l   ┆ 017 ┆ 317 ┆ 122 ┆ l   ┆ l   ┆ l   ┆ 320 ┆ 958 ┆ 436 ┆ 709 ┆ 245 ┆ l   ┆ l   ┆ l   ┆ l   ┆ l   ┆ l   ┆ l   ┆ l   ┆ 420 ┆ 515 ┆ 677 ┆ l   ┆ 358 ┆ l   ┆ l   ┆ 725 ┆ l   ┆ 294 ┆ 645 ┆ l   ┆ 120 ┆ 063 ┆ 362 ┆ l   ┆ l   ┆ l   ┆ l   ┆ l   ┆ 882 ┆ 072 ┆ 617 ┆ 863 ┆ 241 ┆ 709 ┆ l   ┆ l   ┆ 771 ┆ 007 ┆ 106 ┆ 096 ┆ 093 │\n",
       "│     ┆     ┆     ┆ 98  ┆     ┆     ┆     ┆     ┆     ┆ 85  ┆ 27  ┆ 01  ┆ 05  ┆     ┆     ┆     ┆ 719 ┆ 404 ┆ 798 ┆     ┆ 909 ┆     ┆ 782 ┆ 234 ┆ 89  ┆     ┆ 59  ┆ 14  ┆ 148 ┆ 15  ┆     ┆     ┆ 751 ┆ 361 ┆ 379 ┆     ┆     ┆     ┆ 921 ┆ 09  ┆ 589 ┆ 99  ┆ 239 ┆     ┆     ┆     ┆     ┆     ┆     ┆     ┆     ┆ 632 ┆ 137 ┆ 76  ┆     ┆ 97  ┆     ┆     ┆ 42  ┆     ┆ 17  ┆ 51  ┆     ┆ 789 ┆ 458 ┆ 24  ┆     ┆     ┆     ┆     ┆     ┆ 604 ┆ 482 ┆ 934 ┆ 23  ┆ 892 ┆ 919 ┆     ┆     ┆ 31  ┆ 24  ┆ 842 ┆ 792 ┆ 52  │\n",
       "│ 0   ┆ 0   ┆ 10  ┆ 0.6 ┆ nul ┆ nul ┆ nul ┆ nul ┆ nul ┆ 1.1 ┆ 0.2 ┆ 0.3 ┆ -1. ┆ 42  ┆ 5   ┆ 150 ┆ -0. ┆ 3.0 ┆ 0.1 ┆ nul ┆ -0. ┆ nul ┆ -1. ┆ -0. ┆ 0.2 ┆ nul ┆ -0. ┆ -0. ┆ -2. ┆ -0. ┆ nul ┆ nul ┆ 0.4 ┆ -0. ┆ 0.1 ┆ nul ┆ nul ┆ nul ┆ 0.5 ┆ -0. ┆ -1. ┆ -0. ┆ -0. ┆ nul ┆ nul ┆ nul ┆ nul ┆ nul ┆ nul ┆ nul ┆ nul ┆ 0.3 ┆ 2.6 ┆ 0.6 ┆ nul ┆ 2.4 ┆ nul ┆ nul ┆ 1.3 ┆ nul ┆ -0. ┆ 2.9 ┆ nul ┆ 3.9 ┆ 1.8 ┆ -1. ┆ nul ┆ nul ┆ nul ┆ nul ┆ nul ┆ -0. ┆ 1.0 ┆ -0. ┆ -0. ┆ 4.7 ┆ 0.5 ┆ nul ┆ nul ┆ -0. ┆ -0. ┆ -0. ┆ -0. ┆ 1.1 │\n",
       "│     ┆     ┆     ┆ 906 ┆ l   ┆ l   ┆ l   ┆ l   ┆ l   ┆ 393 ┆ 733 ┆ 065 ┆ 262 ┆     ┆     ┆     ┆ 694 ┆ 040 ┆ 148 ┆ l   ┆ 251 ┆ l   ┆ 902 ┆ 979 ┆ 411 ┆ l   ┆ 392 ┆ 224 ┆ 129 ┆ 855 ┆ l   ┆ l   ┆ 041 ┆ 578 ┆ 057 ┆ l   ┆ l   ┆ l   ┆ 441 ┆ 087 ┆ 500 ┆ 201 ┆ 038 ┆ l   ┆ l   ┆ l   ┆ l   ┆ l   ┆ l   ┆ l   ┆ l   ┆ 820 ┆ 691 ┆ 117 ┆ l   ┆ 134 ┆ l   ┆ l   ┆ 132 ┆ l   ┆ 810 ┆ 390 ┆ l   ┆ 888 ┆ 346 ┆ 362 ┆ l   ┆ l   ┆ l   ┆ l   ┆ l   ┆ 697 ┆ 743 ┆ 206 ┆ 530 ┆ 652 ┆ 715 ┆ l   ┆ l   ┆ 226 ┆ 251 ┆ 215 ┆ 296 ┆ 141 │\n",
       "│     ┆     ┆     ┆ 06  ┆     ┆     ┆     ┆     ┆     ┆ 66  ┆ 28  ┆ 49  ┆ 223 ┆     ┆     ┆     ┆ 008 ┆ 91  ┆ 09  ┆     ┆ 882 ┆     ┆ 009 ┆ 447 ┆ 65  ┆     ┆ 359 ┆ 699 ┆ 397 ┆ 287 ┆     ┆     ┆ 42  ┆ 156 ┆ 02  ┆     ┆     ┆     ┆ 38  ┆ 091 ┆ 147 ┆ 288 ┆ 042 ┆     ┆     ┆     ┆     ┆     ┆     ┆     ┆     ┆ 74  ┆ 35  ┆ 11  ┆     ┆ 15  ┆     ┆     ┆ 03  ┆     ┆ 125 ┆ 22  ┆     ┆ 01  ┆ 61  ┆ 24  ┆     ┆     ┆     ┆     ┆     ┆ 595 ┆ 09  ┆ 929 ┆ 602 ┆ 15  ┆ 54  ┆     ┆     ┆ 891 ┆ 412 ┆ 522 ┆ 244 ┆ 37  │\n",
       "│ 0   ┆ 0   ┆ 14  ┆ 0.4 ┆ nul ┆ nul ┆ nul ┆ nul ┆ nul ┆ 0.9 ┆ 0.2 ┆ 0.3 ┆ -0. ┆ 44  ┆ 3   ┆ 16  ┆ -0. ┆ -0. ┆ -0. ┆ nul ┆ 0.6 ┆ nul ┆ -1. ┆ -1. ┆ -0. ┆ nul ┆ -0. ┆ -0. ┆ -1. ┆ -1. ┆ nul ┆ nul ┆ 0.0 ┆ -0. ┆ -0. ┆ nul ┆ nul ┆ nul ┆ -0. ┆ -0. ┆ -2. ┆ -0. ┆ -0. ┆ nul ┆ nul ┆ nul ┆ nul ┆ nul ┆ nul ┆ nul ┆ nul ┆ -2. ┆ -2. ┆ -3. ┆ nul ┆ 1.2 ┆ nul ┆ nul ┆ 0.4 ┆ nul ┆ -0. ┆ 2.8 ┆ nul ┆ 1.3 ┆ 0.4 ┆ -1. ┆ nul ┆ nul ┆ nul ┆ nul ┆ nul ┆ -0. ┆ -0. ┆ -0. ┆ -1. ┆ 0.0 ┆ -0. ┆ nul ┆ nul ┆ 3.6 ┆ 2.7 ┆ 2.6 ┆ 3.4 ┆ -3. │\n",
       "│     ┆     ┆     ┆ 405 ┆ l   ┆ l   ┆ l   ┆ l   ┆ l   ┆ 552 ┆ 624 ┆ 444 ┆ 613 ┆     ┆     ┆     ┆ 947 ┆ 030 ┆ 502 ┆ l   ┆ 460 ┆ l   ┆ 844 ┆ 586 ┆ 182 ┆ l   ┆ 969 ┆ 673 ┆ 282 ┆ 399 ┆ l   ┆ l   ┆ 438 ┆ 320 ┆ 031 ┆ l   ┆ l   ┆ l   ┆ 088 ┆ 995 ┆ 635 ┆ 196 ┆ 618 ┆ l   ┆ l   ┆ l   ┆ l   ┆ l   ┆ l   ┆ l   ┆ l   ┆ 014 ┆ 321 ┆ 711 ┆ l   ┆ 539 ┆ l   ┆ l   ┆ 761 ┆ l   ┆ 771 ┆ 434 ┆ l   ┆ 798 ┆ 118 ┆ 362 ┆ l   ┆ l   ┆ l   ┆ l   ┆ l   ┆ 948 ┆ 136 ┆ 447 ┆ 141 ┆ 996 ┆ 661 ┆ l   ┆ l   ┆ 780 ┆ 935 ┆ 182 ┆ 181 ┆ 572 │\n",
       "│     ┆     ┆     ┆ 7   ┆     ┆     ┆     ┆     ┆     ┆     ┆ 04  ┆ 57  ┆ 813 ┆     ┆     ┆     ┆ 351 ┆ 018 ┆ 379 ┆     ┆ 86  ┆     ┆ 685 ┆ 56  ┆ 024 ┆     ┆ 949 ┆ 813 ┆ 132 ┆ 894 ┆     ┆     ┆ 15  ┆ 225 ┆ 713 ┆     ┆     ┆     ┆ 42  ┆ 003 ┆ 336 ┆ 461 ┆ 719 ┆     ┆     ┆     ┆     ┆     ┆     ┆     ┆     ┆ 6   ┆ 076 ┆ 265 ┆     ┆ 02  ┆     ┆     ┆ 95  ┆     ┆ 732 ┆ 21  ┆     ┆ 15  ┆ 27  ┆ 24  ┆     ┆     ┆     ┆     ┆     ┆ 601 ┆ 814 ┆ 704 ┆ 761 ┆ 31  ┆ 928 ┆     ┆     ┆ 76  ┆ 81  ┆ 5   ┆ 33  ┆ 82  │\n",
       "└─────┴─────┴─────┴─────┴─────┴─────┴─────┴─────┴─────┴─────┴─────┴─────┴─────┴─────┴─────┴─────┴─────┴─────┴─────┴─────┴─────┴─────┴─────┴─────┴─────┴─────┴─────┴─────┴─────┴─────┴─────┴─────┴─────┴─────┴─────┴─────┴─────┴─────┴─────┴─────┴─────┴─────┴─────┴─────┴─────┴─────┴─────┴─────┴─────┴─────┴─────┴─────┴─────┴─────┴─────┴─────┴─────┴─────┴─────┴─────┴─────┴─────┴─────┴─────┴─────┴─────┴─────┴─────┴─────┴─────┴─────┴─────┴─────┴─────┴─────┴─────┴─────┴─────┴─────┴─────┴─────┴─────┴─────┴─────┘"
      ]
     },
     "execution_count": 4,
     "metadata": {},
     "output_type": "execute_result"
    }
   ],
   "source": [
    "train_df = pl.read_parquet(path + 'train.parquet/').drop(['responder_0', 'responder_1', 'responder_2', 'responder_3', 'responder_4', 'responder_5', 'responder_7', 'responder_8', 'partition_id']).select(pl.all().shrink_dtype())\n",
    "print(train_df.shape)\n",
    "train_df.head()"
   ]
  },
  {
   "cell_type": "code",
   "execution_count": 5,
   "id": "3834f8e8-0f10-4891-a325-5d288f99b503",
   "metadata": {},
   "outputs": [
    {
     "data": {
      "text/plain": [
       "15.282841602"
      ]
     },
     "execution_count": 5,
     "metadata": {},
     "output_type": "execute_result"
    }
   ],
   "source": [
    "train_df.estimated_size() / 1e9"
   ]
  },
  {
   "cell_type": "code",
   "execution_count": 6,
   "id": "5cdbc316-d4e9-463b-8884-71d29d808f07",
   "metadata": {},
   "outputs": [],
   "source": [
    "previous_models_path = path + 'my_folder/models/20250107_02/'"
   ]
  },
  {
   "cell_type": "code",
   "execution_count": 7,
   "id": "be3ffe03-76cd-4ee5-bf7c-940de4646a0a",
   "metadata": {},
   "outputs": [],
   "source": [
    "models_path = path + 'my_folder/models/20250107_03/'\n",
    "if not os.path.exists(models_path):\n",
    "    os.makedirs(models_path)"
   ]
  },
  {
   "cell_type": "code",
   "execution_count": 8,
   "id": "99358108-c9dc-4451-ac24-fbfa96ca51aa",
   "metadata": {},
   "outputs": [
    {
     "name": "stdout",
     "output_type": "stream",
     "text": [
      "(1, 9)\n"
     ]
    },
    {
     "data": {
      "text/html": [
       "<div>\n",
       "<style scoped>\n",
       "    .dataframe tbody tr th:only-of-type {\n",
       "        vertical-align: middle;\n",
       "    }\n",
       "\n",
       "    .dataframe tbody tr th {\n",
       "        vertical-align: top;\n",
       "    }\n",
       "\n",
       "    .dataframe thead th {\n",
       "        text-align: right;\n",
       "    }\n",
       "</style>\n",
       "<table border=\"1\" class=\"dataframe\">\n",
       "  <thead>\n",
       "    <tr style=\"text-align: right;\">\n",
       "      <th></th>\n",
       "      <th>window_size</th>\n",
       "      <th>learning_rate</th>\n",
       "      <th>max_depth</th>\n",
       "      <th>min_data_in_leaf</th>\n",
       "      <th>num_leaves</th>\n",
       "      <th>min_gain_to_split</th>\n",
       "      <th>lambda_l1</th>\n",
       "      <th>lambda_l2</th>\n",
       "      <th>feature_fraction</th>\n",
       "    </tr>\n",
       "  </thead>\n",
       "  <tbody>\n",
       "    <tr>\n",
       "      <th>0</th>\n",
       "      <td>8294329</td>\n",
       "      <td>0.043114</td>\n",
       "      <td>15</td>\n",
       "      <td>154</td>\n",
       "      <td>3047</td>\n",
       "      <td>0.277803</td>\n",
       "      <td>7.028187</td>\n",
       "      <td>897.533632</td>\n",
       "      <td>0.818306</td>\n",
       "    </tr>\n",
       "  </tbody>\n",
       "</table>\n",
       "</div>"
      ],
      "text/plain": [
       "   window_size  learning_rate  max_depth  min_data_in_leaf  num_leaves  \\\n",
       "0      8294329       0.043114         15               154        3047   \n",
       "\n",
       "   min_gain_to_split  lambda_l1   lambda_l2  feature_fraction  \n",
       "0           0.277803   7.028187  897.533632          0.818306  "
      ]
     },
     "execution_count": 8,
     "metadata": {},
     "output_type": "execute_result"
    }
   ],
   "source": [
    "lgb_params_df = pd.read_csv(previous_models_path + 'lgb_params.csv')\n",
    "print(lgb_params_df.shape)\n",
    "lgb_params_df"
   ]
  },
  {
   "cell_type": "code",
   "execution_count": 9,
   "id": "74e04716-a5a1-471c-b452-0a8b5f7a7b00",
   "metadata": {},
   "outputs": [],
   "source": [
    "def lgb_sliding_window(train_data, params_df):\n",
    "    unique_date_ids = sorted(train_data['date_id'].unique())\n",
    "    date_ids_df = train_data['date_id'].to_frame()\n",
    "    window_size = params_df['window_size'][0]\n",
    "\n",
    "    for date_id in tqdm(unique_date_ids):    \n",
    "        date_id_df = train_data.filter(pl.col('date_id') == date_id)\n",
    "        if date_ids_df.filter(pl.col('date_id') < date_id).shape[0] < window_size:            \n",
    "            window_df = train_data[:window_size + date_id_df.shape[0]]\n",
    "            window_df = window_df.join(date_id_df, on=['date_id', 'time_id', 'symbol_id'], how='anti')\n",
    "        else:\n",
    "            window_df = train_data.filter(pl.col('date_id') < date_id)[-window_size:]\n",
    "\n",
    "        window_df = window_df.sample(fraction=0.1)\n",
    "\n",
    "        print('date_id:', date_id)\n",
    "    \n",
    "        base_params = {\n",
    "            'verbosity': -1,\n",
    "            'device': 'gpu',\n",
    "            'early_stopping_round': 20,\n",
    "        }\n",
    "    \n",
    "        tuned_params = {\n",
    "            'learning_rate': params_df['learning_rate'][0],\n",
    "            'max_depth': params_df['max_depth'][0],\n",
    "            'min_data_in_leaf': params_df['min_data_in_leaf'][0],\n",
    "            'num_leaves': params_df['num_leaves'][0],\n",
    "            'min_gain_to_split': params_df['min_gain_to_split'][0],\n",
    "            'lambda_l1': params_df['lambda_l1'][0],\n",
    "            'lambda_l2': params_df['lambda_l2'][0],\n",
    "            'feature_fraction': params_df['feature_fraction'][0],\n",
    "        }\n",
    "    \n",
    "        model = LGBMRegressor(\n",
    "            **base_params,\n",
    "            **tuned_params,\n",
    "            n_estimators=100000\n",
    "        )\n",
    "    \n",
    "        X_train = window_df.drop(['date_id', 'time_id', 'symbol_id', 'weight', 'responder_6']).select(pl.all().shrink_dtype()).to_pandas()\n",
    "        X_val = date_id_df.drop(['date_id', 'time_id', 'symbol_id', 'weight', 'responder_6']).select(pl.all().shrink_dtype()).to_pandas()\n",
    "    \n",
    "        y_train = window_df['responder_6'].to_pandas()\n",
    "        y_val = date_id_df['responder_6'].to_pandas()\n",
    "    \n",
    "        weights_train = window_df['weight'].to_pandas()\n",
    "        weights_val = date_id_df['weight'].to_pandas()\n",
    "    \n",
    "        model.fit(X_train, y_train, sample_weight=weights_train, eval_set=[(X_train, y_train), (X_val, y_val)], eval_sample_weight=[weights_train, weights_val], callbacks=[log_evaluation(period=10)])\n",
    "\n",
    "        val_preds = model.predict(X_val)\n",
    "        val_r2_score = r2_score(y_val, val_preds, sample_weight=weights_val)\n",
    "\n",
    "        print('Val Weighted R2 score is:', val_r2_score)"
   ]
  },
  {
   "cell_type": "code",
   "execution_count": 10,
   "id": "8bd82087-86f0-4bb0-9054-6b8a249055ce",
   "metadata": {
    "scrolled": true
   },
   "outputs": [
    {
     "name": "stderr",
     "output_type": "stream",
     "text": [
      "  0%|                                                                                         | 0/1699 [00:00<?, ?it/s]"
     ]
    },
    {
     "name": "stdout",
     "output_type": "stream",
     "text": [
      "date_id: 0\n",
      "[10]\ttraining's l2: 0.760208\tvalid_1's l2: 0.226788\n",
      "[20]\ttraining's l2: 0.748475\tvalid_1's l2: 0.226195\n",
      "[30]\ttraining's l2: 0.738287\tvalid_1's l2: 0.226016\n",
      "[40]\ttraining's l2: 0.729745\tvalid_1's l2: 0.225777\n",
      "[50]\ttraining's l2: 0.722627\tvalid_1's l2: 0.225671\n",
      "[60]\ttraining's l2: 0.716782\tvalid_1's l2: 0.225751\n"
     ]
    },
    {
     "name": "stderr",
     "output_type": "stream",
     "text": [
      "  0%|                                                                               | 1/1699 [00:21<9:54:54, 21.02s/it]"
     ]
    },
    {
     "name": "stdout",
     "output_type": "stream",
     "text": [
      "Val Weighted R2 score is: 0.012053470181566328\n",
      "date_id: 1\n",
      "[10]\ttraining's l2: 0.750082\tvalid_1's l2: 0.644241\n",
      "[20]\ttraining's l2: 0.738653\tvalid_1's l2: 0.640232\n",
      "[30]\ttraining's l2: 0.728643\tvalid_1's l2: 0.636843\n",
      "[40]\ttraining's l2: 0.720229\tvalid_1's l2: 0.635085\n",
      "[50]\ttraining's l2: 0.713199\tvalid_1's l2: 0.633997\n",
      "[60]\ttraining's l2: 0.708167\tvalid_1's l2: 0.633861\n",
      "[70]\ttraining's l2: 0.704375\tvalid_1's l2: 0.63371\n",
      "[80]\ttraining's l2: 0.701035\tvalid_1's l2: 0.633168\n",
      "[90]\ttraining's l2: 0.697802\tvalid_1's l2: 0.63334\n",
      "[100]\ttraining's l2: 0.694546\tvalid_1's l2: 0.632709\n",
      "[110]\ttraining's l2: 0.692199\tvalid_1's l2: 0.633171\n",
      "[120]\ttraining's l2: 0.689002\tvalid_1's l2: 0.632466\n",
      "[130]\ttraining's l2: 0.686376\tvalid_1's l2: 0.63191\n",
      "[140]\ttraining's l2: 0.683917\tvalid_1's l2: 0.631974\n",
      "[150]\ttraining's l2: 0.681\tvalid_1's l2: 0.632247\n"
     ]
    },
    {
     "name": "stderr",
     "output_type": "stream",
     "text": [
      "  0%|                                                                              | 2/1699 [00:49<12:00:42, 25.48s/it]"
     ]
    },
    {
     "name": "stdout",
     "output_type": "stream",
     "text": [
      "Val Weighted R2 score is: 0.031293689386630574\n",
      "date_id: 2\n",
      "[10]\ttraining's l2: 0.751007\tvalid_1's l2: 0.545524\n",
      "[20]\ttraining's l2: 0.739425\tvalid_1's l2: 0.545314\n",
      "[30]\ttraining's l2: 0.728931\tvalid_1's l2: 0.545008\n",
      "[40]\ttraining's l2: 0.72035\tvalid_1's l2: 0.546007\n"
     ]
    },
    {
     "name": "stderr",
     "output_type": "stream",
     "text": [
      "  0%|▏                                                                             | 3/1699 [01:08<10:30:26, 22.30s/it]"
     ]
    },
    {
     "name": "stdout",
     "output_type": "stream",
     "text": [
      "Val Weighted R2 score is: -0.0020499028558471633\n",
      "date_id: 3\n",
      "[10]\ttraining's l2: 0.755171\tvalid_1's l2: 0.920518\n",
      "[20]\ttraining's l2: 0.743512\tvalid_1's l2: 0.921523\n"
     ]
    },
    {
     "name": "stderr",
     "output_type": "stream",
     "text": [
      "  0%|▏                                                                              | 4/1699 [01:19<8:28:23, 18.00s/it]"
     ]
    },
    {
     "name": "stdout",
     "output_type": "stream",
     "text": [
      "Val Weighted R2 score is: 0.0015285587930290445\n",
      "date_id: 4\n",
      "[10]\ttraining's l2: 0.751265\tvalid_1's l2: 0.482462\n",
      "[20]\ttraining's l2: 0.739626\tvalid_1's l2: 0.478622\n",
      "[30]\ttraining's l2: 0.729436\tvalid_1's l2: 0.476672\n",
      "[40]\ttraining's l2: 0.72078\tvalid_1's l2: 0.475826\n",
      "[50]\ttraining's l2: 0.713318\tvalid_1's l2: 0.475435\n",
      "[60]\ttraining's l2: 0.707429\tvalid_1's l2: 0.475282\n",
      "[70]\ttraining's l2: 0.702333\tvalid_1's l2: 0.47577\n"
     ]
    },
    {
     "name": "stderr",
     "output_type": "stream",
     "text": [
      "  0%|▏                                                                              | 5/1699 [01:44<9:40:01, 20.54s/it]"
     ]
    },
    {
     "name": "stdout",
     "output_type": "stream",
     "text": [
      "Val Weighted R2 score is: 0.02292363653349061\n",
      "date_id: 5\n",
      "[10]\ttraining's l2: 0.75185\tvalid_1's l2: 0.652409\n",
      "[20]\ttraining's l2: 0.740251\tvalid_1's l2: 0.646761\n",
      "[30]\ttraining's l2: 0.729907\tvalid_1's l2: 0.643855\n",
      "[40]\ttraining's l2: 0.720931\tvalid_1's l2: 0.641887\n",
      "[50]\ttraining's l2: 0.713835\tvalid_1's l2: 0.640835\n",
      "[60]\ttraining's l2: 0.707902\tvalid_1's l2: 0.640388\n",
      "[70]\ttraining's l2: 0.703133\tvalid_1's l2: 0.640542\n"
     ]
    },
    {
     "name": "stderr",
     "output_type": "stream",
     "text": [
      "  0%|▎                                                                             | 6/1699 [02:08<10:15:23, 21.81s/it]"
     ]
    },
    {
     "name": "stdout",
     "output_type": "stream",
     "text": [
      "Val Weighted R2 score is: 0.03120046529151821\n",
      "date_id: 6\n",
      "[10]\ttraining's l2: 0.754492\tvalid_1's l2: 0.688743\n",
      "[20]\ttraining's l2: 0.742535\tvalid_1's l2: 0.684021\n",
      "[30]\ttraining's l2: 0.732424\tvalid_1's l2: 0.680849\n",
      "[40]\ttraining's l2: 0.723762\tvalid_1's l2: 0.6788\n",
      "[50]\ttraining's l2: 0.71654\tvalid_1's l2: 0.677548\n",
      "[60]\ttraining's l2: 0.710845\tvalid_1's l2: 0.677179\n",
      "[70]\ttraining's l2: 0.706302\tvalid_1's l2: 0.677257\n",
      "[80]\ttraining's l2: 0.70299\tvalid_1's l2: 0.676793\n",
      "[90]\ttraining's l2: 0.70003\tvalid_1's l2: 0.676706\n",
      "[100]\ttraining's l2: 0.69729\tvalid_1's l2: 0.676553\n",
      "[110]\ttraining's l2: 0.694401\tvalid_1's l2: 0.676436\n",
      "[120]\ttraining's l2: 0.691578\tvalid_1's l2: 0.676512\n"
     ]
    },
    {
     "name": "stderr",
     "output_type": "stream",
     "text": [
      "  0%|▎                                                                             | 7/1699 [02:36<11:11:24, 23.81s/it]"
     ]
    },
    {
     "name": "stdout",
     "output_type": "stream",
     "text": [
      "Val Weighted R2 score is: 0.030288960903073203\n",
      "date_id: 7\n",
      "[10]\ttraining's l2: 0.755187\tvalid_1's l2: 0.719415\n",
      "[20]\ttraining's l2: 0.743293\tvalid_1's l2: 0.717017\n",
      "[30]\ttraining's l2: 0.732654\tvalid_1's l2: 0.716094\n",
      "[40]\ttraining's l2: 0.723442\tvalid_1's l2: 0.71567\n",
      "[50]\ttraining's l2: 0.716032\tvalid_1's l2: 0.716601\n"
     ]
    },
    {
     "name": "stderr",
     "output_type": "stream",
     "text": [
      "  0%|▎                                                                             | 8/1699 [02:59<10:57:13, 23.32s/it]"
     ]
    },
    {
     "name": "stdout",
     "output_type": "stream",
     "text": [
      "Val Weighted R2 score is: 0.0004997881677437643\n",
      "date_id: 8\n",
      "[10]\ttraining's l2: 0.757598\tvalid_1's l2: 2.04556\n",
      "[20]\ttraining's l2: 0.745624\tvalid_1's l2: 2.03755\n",
      "[30]\ttraining's l2: 0.734942\tvalid_1's l2: 2.03447\n",
      "[40]\ttraining's l2: 0.725675\tvalid_1's l2: 2.0308\n",
      "[50]\ttraining's l2: 0.717939\tvalid_1's l2: 2.03148\n"
     ]
    },
    {
     "name": "stderr",
     "output_type": "stream",
     "text": [
      "  1%|▍                                                                             | 9/1699 [03:22<11:01:08, 23.47s/it]"
     ]
    },
    {
     "name": "stdout",
     "output_type": "stream",
     "text": [
      "Val Weighted R2 score is: -0.009061775593549815\n",
      "date_id: 9\n",
      "[10]\ttraining's l2: 0.752454\tvalid_1's l2: 1.08565\n",
      "[20]\ttraining's l2: 0.740571\tvalid_1's l2: 1.08299\n",
      "[30]\ttraining's l2: 0.7302\tvalid_1's l2: 1.08163\n",
      "[40]\ttraining's l2: 0.721354\tvalid_1's l2: 1.08077\n",
      "[50]\ttraining's l2: 0.714155\tvalid_1's l2: 1.08002\n",
      "[60]\ttraining's l2: 0.708808\tvalid_1's l2: 1.08001\n",
      "[70]\ttraining's l2: 0.70415\tvalid_1's l2: 1.07948\n",
      "[80]\ttraining's l2: 0.700589\tvalid_1's l2: 1.07942\n",
      "[90]\ttraining's l2: 0.697217\tvalid_1's l2: 1.07927\n",
      "[100]\ttraining's l2: 0.694262\tvalid_1's l2: 1.07868\n",
      "[110]\ttraining's l2: 0.691136\tvalid_1's l2: 1.07877\n",
      "[120]\ttraining's l2: 0.687838\tvalid_1's l2: 1.07832\n",
      "[130]\ttraining's l2: 0.684552\tvalid_1's l2: 1.07817\n",
      "[140]\ttraining's l2: 0.681746\tvalid_1's l2: 1.07751\n",
      "[150]\ttraining's l2: 0.678466\tvalid_1's l2: 1.07802\n",
      "[160]\ttraining's l2: 0.675498\tvalid_1's l2: 1.0762\n",
      "[170]\ttraining's l2: 0.672304\tvalid_1's l2: 1.07598\n",
      "[180]\ttraining's l2: 0.669259\tvalid_1's l2: 1.07546\n",
      "[190]\ttraining's l2: 0.666545\tvalid_1's l2: 1.07477\n",
      "[200]\ttraining's l2: 0.66326\tvalid_1's l2: 1.07408\n",
      "[210]\ttraining's l2: 0.659968\tvalid_1's l2: 1.0741\n",
      "[220]\ttraining's l2: 0.657026\tvalid_1's l2: 1.07344\n",
      "[230]\ttraining's l2: 0.654271\tvalid_1's l2: 1.07361\n"
     ]
    },
    {
     "name": "stderr",
     "output_type": "stream",
     "text": [
      "  1%|▍                                                                            | 10/1699 [04:04<13:34:56, 28.95s/it]"
     ]
    },
    {
     "name": "stdout",
     "output_type": "stream",
     "text": [
      "Val Weighted R2 score is: 0.008816646469053335\n",
      "date_id: 10\n",
      "[10]\ttraining's l2: 0.753305\tvalid_1's l2: 0.688926\n",
      "[20]\ttraining's l2: 0.741719\tvalid_1's l2: 0.682788\n",
      "[30]\ttraining's l2: 0.73155\tvalid_1's l2: 0.678079\n",
      "[40]\ttraining's l2: 0.722939\tvalid_1's l2: 0.675085\n",
      "[50]\ttraining's l2: 0.715478\tvalid_1's l2: 0.672271\n",
      "[60]\ttraining's l2: 0.71007\tvalid_1's l2: 0.670605\n",
      "[70]\ttraining's l2: 0.705951\tvalid_1's l2: 0.669203\n",
      "[80]\ttraining's l2: 0.702564\tvalid_1's l2: 0.668321\n",
      "[90]\ttraining's l2: 0.699064\tvalid_1's l2: 0.667813\n",
      "[100]\ttraining's l2: 0.695981\tvalid_1's l2: 0.667539\n",
      "[110]\ttraining's l2: 0.692955\tvalid_1's l2: 0.666626\n",
      "[120]\ttraining's l2: 0.689929\tvalid_1's l2: 0.666421\n",
      "[130]\ttraining's l2: 0.687254\tvalid_1's l2: 0.666228\n",
      "[140]\ttraining's l2: 0.684415\tvalid_1's l2: 0.665899\n",
      "[150]\ttraining's l2: 0.681567\tvalid_1's l2: 0.666022\n",
      "[160]\ttraining's l2: 0.678338\tvalid_1's l2: 0.665597\n",
      "[170]\ttraining's l2: 0.675099\tvalid_1's l2: 0.665547\n",
      "[180]\ttraining's l2: 0.672141\tvalid_1's l2: 0.664933\n",
      "[190]\ttraining's l2: 0.669342\tvalid_1's l2: 0.664994\n",
      "[200]\ttraining's l2: 0.666867\tvalid_1's l2: 0.664262\n",
      "[210]\ttraining's l2: 0.663759\tvalid_1's l2: 0.663781\n",
      "[220]\ttraining's l2: 0.66076\tvalid_1's l2: 0.662852\n",
      "[230]\ttraining's l2: 0.657967\tvalid_1's l2: 0.662627\n",
      "[240]\ttraining's l2: 0.655067\tvalid_1's l2: 0.66215\n",
      "[250]\ttraining's l2: 0.652246\tvalid_1's l2: 0.661199\n",
      "[260]\ttraining's l2: 0.6495\tvalid_1's l2: 0.660567\n",
      "[270]\ttraining's l2: 0.646891\tvalid_1's l2: 0.660358\n",
      "[280]\ttraining's l2: 0.643945\tvalid_1's l2: 0.660233\n",
      "[290]\ttraining's l2: 0.640501\tvalid_1's l2: 0.65984\n",
      "[300]\ttraining's l2: 0.637354\tvalid_1's l2: 0.659774\n",
      "[310]\ttraining's l2: 0.634374\tvalid_1's l2: 0.659612\n",
      "[320]\ttraining's l2: 0.63163\tvalid_1's l2: 0.659224\n",
      "[330]\ttraining's l2: 0.629346\tvalid_1's l2: 0.659431\n",
      "[340]\ttraining's l2: 0.62716\tvalid_1's l2: 0.659236\n",
      "[350]\ttraining's l2: 0.624769\tvalid_1's l2: 0.658768\n",
      "[360]\ttraining's l2: 0.622146\tvalid_1's l2: 0.658608\n",
      "[370]\ttraining's l2: 0.619588\tvalid_1's l2: 0.659023\n"
     ]
    },
    {
     "name": "stderr",
     "output_type": "stream",
     "text": [
      "  1%|▍                                                                            | 11/1699 [05:01<17:35:47, 37.53s/it]"
     ]
    },
    {
     "name": "stdout",
     "output_type": "stream",
     "text": [
      "Val Weighted R2 score is: 0.05068426135685533\n",
      "date_id: 11\n",
      "[10]\ttraining's l2: 0.751551\tvalid_1's l2: 0.695318\n",
      "[20]\ttraining's l2: 0.739785\tvalid_1's l2: 0.691363\n",
      "[30]\ttraining's l2: 0.729501\tvalid_1's l2: 0.689085\n",
      "[40]\ttraining's l2: 0.72064\tvalid_1's l2: 0.68714\n",
      "[50]\ttraining's l2: 0.712971\tvalid_1's l2: 0.686313\n",
      "[60]\ttraining's l2: 0.706692\tvalid_1's l2: 0.685493\n",
      "[70]\ttraining's l2: 0.701336\tvalid_1's l2: 0.685089\n",
      "[80]\ttraining's l2: 0.696885\tvalid_1's l2: 0.684899\n",
      "[90]\ttraining's l2: 0.692498\tvalid_1's l2: 0.68479\n",
      "[100]\ttraining's l2: 0.689136\tvalid_1's l2: 0.684445\n",
      "[110]\ttraining's l2: 0.685944\tvalid_1's l2: 0.683987\n",
      "[120]\ttraining's l2: 0.68262\tvalid_1's l2: 0.683975\n",
      "[130]\ttraining's l2: 0.679778\tvalid_1's l2: 0.684717\n"
     ]
    },
    {
     "name": "stderr",
     "output_type": "stream",
     "text": [
      "  1%|▌                                                                            | 12/1699 [05:34<16:59:12, 36.25s/it]"
     ]
    },
    {
     "name": "stdout",
     "output_type": "stream",
     "text": [
      "Val Weighted R2 score is: 0.01514274915382563\n",
      "date_id: 12\n",
      "[10]\ttraining's l2: 0.754472\tvalid_1's l2: 0.609875\n",
      "[20]\ttraining's l2: 0.742662\tvalid_1's l2: 0.60677\n",
      "[30]\ttraining's l2: 0.73227\tvalid_1's l2: 0.605021\n",
      "[40]\ttraining's l2: 0.723589\tvalid_1's l2: 0.603701\n",
      "[50]\ttraining's l2: 0.716329\tvalid_1's l2: 0.603007\n",
      "[60]\ttraining's l2: 0.710593\tvalid_1's l2: 0.602129\n",
      "[70]\ttraining's l2: 0.705981\tvalid_1's l2: 0.602326\n",
      "[80]\ttraining's l2: 0.702068\tvalid_1's l2: 0.602403\n"
     ]
    },
    {
     "name": "stderr",
     "output_type": "stream",
     "text": [
      "  1%|▌                                                                            | 13/1699 [05:59<15:23:55, 32.88s/it]"
     ]
    },
    {
     "name": "stdout",
     "output_type": "stream",
     "text": [
      "Val Weighted R2 score is: 0.023455501784249155\n",
      "date_id: 13\n",
      "[10]\ttraining's l2: 0.755379\tvalid_1's l2: 0.711131\n",
      "[20]\ttraining's l2: 0.743509\tvalid_1's l2: 0.706984\n",
      "[30]\ttraining's l2: 0.733072\tvalid_1's l2: 0.704476\n",
      "[40]\ttraining's l2: 0.724434\tvalid_1's l2: 0.703234\n",
      "[50]\ttraining's l2: 0.717464\tvalid_1's l2: 0.702497\n",
      "[60]\ttraining's l2: 0.712362\tvalid_1's l2: 0.701657\n",
      "[70]\ttraining's l2: 0.707558\tvalid_1's l2: 0.701495\n",
      "[80]\ttraining's l2: 0.704405\tvalid_1's l2: 0.701297\n",
      "[90]\ttraining's l2: 0.701097\tvalid_1's l2: 0.701159\n",
      "[100]\ttraining's l2: 0.697262\tvalid_1's l2: 0.700635\n",
      "[110]\ttraining's l2: 0.694318\tvalid_1's l2: 0.700677\n",
      "[120]\ttraining's l2: 0.691342\tvalid_1's l2: 0.700254\n",
      "[130]\ttraining's l2: 0.688298\tvalid_1's l2: 0.700261\n",
      "[140]\ttraining's l2: 0.685799\tvalid_1's l2: 0.700603\n",
      "[150]\ttraining's l2: 0.683002\tvalid_1's l2: 0.700992\n"
     ]
    },
    {
     "name": "stderr",
     "output_type": "stream",
     "text": [
      "  1%|▋                                                                            | 14/1699 [06:30<15:04:26, 32.21s/it]"
     ]
    },
    {
     "name": "stdout",
     "output_type": "stream",
     "text": [
      "Val Weighted R2 score is: 0.022203655577745507\n",
      "date_id: 14\n",
      "[10]\ttraining's l2: 0.75497\tvalid_1's l2: 0.462192\n",
      "[20]\ttraining's l2: 0.743185\tvalid_1's l2: 0.458906\n",
      "[30]\ttraining's l2: 0.733025\tvalid_1's l2: 0.456873\n",
      "[40]\ttraining's l2: 0.724564\tvalid_1's l2: 0.455495\n",
      "[50]\ttraining's l2: 0.717381\tvalid_1's l2: 0.454433\n",
      "[60]\ttraining's l2: 0.711289\tvalid_1's l2: 0.453871\n",
      "[70]\ttraining's l2: 0.706644\tvalid_1's l2: 0.453676\n",
      "[80]\ttraining's l2: 0.702748\tvalid_1's l2: 0.453272\n",
      "[90]\ttraining's l2: 0.699283\tvalid_1's l2: 0.452841\n",
      "[100]\ttraining's l2: 0.695476\tvalid_1's l2: 0.452531\n",
      "[110]\ttraining's l2: 0.692528\tvalid_1's l2: 0.452276\n",
      "[120]\ttraining's l2: 0.689163\tvalid_1's l2: 0.452555\n",
      "[130]\ttraining's l2: 0.685614\tvalid_1's l2: 0.451866\n",
      "[140]\ttraining's l2: 0.68258\tvalid_1's l2: 0.451467\n",
      "[150]\ttraining's l2: 0.679602\tvalid_1's l2: 0.451273\n",
      "[160]\ttraining's l2: 0.675989\tvalid_1's l2: 0.451408\n",
      "[170]\ttraining's l2: 0.673057\tvalid_1's l2: 0.452178\n"
     ]
    },
    {
     "name": "stderr",
     "output_type": "stream",
     "text": [
      "  1%|▋                                                                            | 15/1699 [07:02<15:08:30, 32.37s/it]"
     ]
    },
    {
     "name": "stdout",
     "output_type": "stream",
     "text": [
      "Val Weighted R2 score is: 0.033588739233330056\n",
      "date_id: 15\n",
      "[10]\ttraining's l2: 0.760156\tvalid_1's l2: 0.330376\n",
      "[20]\ttraining's l2: 0.748503\tvalid_1's l2: 0.325699\n",
      "[30]\ttraining's l2: 0.738129\tvalid_1's l2: 0.322662\n",
      "[40]\ttraining's l2: 0.728911\tvalid_1's l2: 0.320791\n",
      "[50]\ttraining's l2: 0.721319\tvalid_1's l2: 0.319222\n",
      "[60]\ttraining's l2: 0.715356\tvalid_1's l2: 0.318316\n",
      "[70]\ttraining's l2: 0.710358\tvalid_1's l2: 0.317338\n",
      "[80]\ttraining's l2: 0.706715\tvalid_1's l2: 0.316996\n",
      "[90]\ttraining's l2: 0.703088\tvalid_1's l2: 0.317071\n",
      "[100]\ttraining's l2: 0.700207\tvalid_1's l2: 0.316849\n",
      "[110]\ttraining's l2: 0.697595\tvalid_1's l2: 0.31686\n",
      "[120]\ttraining's l2: 0.694813\tvalid_1's l2: 0.316576\n",
      "[130]\ttraining's l2: 0.691534\tvalid_1's l2: 0.316746\n",
      "[140]\ttraining's l2: 0.688592\tvalid_1's l2: 0.316687\n"
     ]
    },
    {
     "name": "stderr",
     "output_type": "stream",
     "text": [
      "  1%|▋                                                                            | 16/1699 [07:31<14:37:57, 31.30s/it]"
     ]
    },
    {
     "name": "stdout",
     "output_type": "stream",
     "text": [
      "Val Weighted R2 score is: 0.04318478850543661\n",
      "date_id: 16\n",
      "[10]\ttraining's l2: 0.752775\tvalid_1's l2: 0.793323\n",
      "[20]\ttraining's l2: 0.741364\tvalid_1's l2: 0.791404\n",
      "[30]\ttraining's l2: 0.730791\tvalid_1's l2: 0.790181\n",
      "[40]\ttraining's l2: 0.72199\tvalid_1's l2: 0.790058\n",
      "[50]\ttraining's l2: 0.714434\tvalid_1's l2: 0.788822\n",
      "[60]\ttraining's l2: 0.708461\tvalid_1's l2: 0.788678\n",
      "[70]\ttraining's l2: 0.703331\tvalid_1's l2: 0.789173\n"
     ]
    },
    {
     "name": "stderr",
     "output_type": "stream",
     "text": [
      "  1%|▊                                                                            | 17/1699 [07:56<13:39:08, 29.22s/it]"
     ]
    },
    {
     "name": "stdout",
     "output_type": "stream",
     "text": [
      "Val Weighted R2 score is: 0.00759693495054381\n",
      "date_id: 17\n",
      "[10]\ttraining's l2: 0.754155\tvalid_1's l2: 0.602403\n",
      "[20]\ttraining's l2: 0.742647\tvalid_1's l2: 0.598034\n",
      "[30]\ttraining's l2: 0.732333\tvalid_1's l2: 0.594991\n",
      "[40]\ttraining's l2: 0.723336\tvalid_1's l2: 0.593872\n",
      "[50]\ttraining's l2: 0.716156\tvalid_1's l2: 0.593317\n",
      "[60]\ttraining's l2: 0.710601\tvalid_1's l2: 0.592031\n",
      "[70]\ttraining's l2: 0.705726\tvalid_1's l2: 0.59132\n",
      "[80]\ttraining's l2: 0.701525\tvalid_1's l2: 0.591569\n",
      "[90]\ttraining's l2: 0.698172\tvalid_1's l2: 0.59071\n",
      "[100]\ttraining's l2: 0.694742\tvalid_1's l2: 0.590521\n",
      "[110]\ttraining's l2: 0.691586\tvalid_1's l2: 0.590189\n",
      "[120]\ttraining's l2: 0.688692\tvalid_1's l2: 0.590319\n",
      "[130]\ttraining's l2: 0.685898\tvalid_1's l2: 0.590234\n",
      "[140]\ttraining's l2: 0.682944\tvalid_1's l2: 0.589948\n",
      "[150]\ttraining's l2: 0.680569\tvalid_1's l2: 0.590343\n"
     ]
    },
    {
     "name": "stderr",
     "output_type": "stream",
     "text": [
      "  1%|▊                                                                            | 18/1699 [08:25<13:40:50, 29.30s/it]"
     ]
    },
    {
     "name": "stdout",
     "output_type": "stream",
     "text": [
      "Val Weighted R2 score is: 0.030858793535761597\n",
      "date_id: 18\n",
      "[10]\ttraining's l2: 0.753706\tvalid_1's l2: 0.644301\n",
      "[20]\ttraining's l2: 0.741796\tvalid_1's l2: 0.641209\n",
      "[30]\ttraining's l2: 0.731599\tvalid_1's l2: 0.639668\n",
      "[40]\ttraining's l2: 0.722864\tvalid_1's l2: 0.638837\n",
      "[50]\ttraining's l2: 0.71559\tvalid_1's l2: 0.638438\n",
      "[60]\ttraining's l2: 0.709623\tvalid_1's l2: 0.63805\n",
      "[70]\ttraining's l2: 0.704571\tvalid_1's l2: 0.637346\n",
      "[80]\ttraining's l2: 0.701155\tvalid_1's l2: 0.63795\n",
      "[90]\ttraining's l2: 0.697708\tvalid_1's l2: 0.63859\n"
     ]
    },
    {
     "name": "stderr",
     "output_type": "stream",
     "text": [
      "  1%|▊                                                                            | 19/1699 [08:50<13:06:49, 28.10s/it]"
     ]
    },
    {
     "name": "stdout",
     "output_type": "stream",
     "text": [
      "Val Weighted R2 score is: 0.014949454003796103\n",
      "date_id: 19\n",
      "[10]\ttraining's l2: 0.75445\tvalid_1's l2: 0.369881\n",
      "[20]\ttraining's l2: 0.742821\tvalid_1's l2: 0.368572\n",
      "[30]\ttraining's l2: 0.73298\tvalid_1's l2: 0.366727\n",
      "[40]\ttraining's l2: 0.725003\tvalid_1's l2: 0.366165\n",
      "[50]\ttraining's l2: 0.718446\tvalid_1's l2: 0.365436\n",
      "[60]\ttraining's l2: 0.712964\tvalid_1's l2: 0.365445\n",
      "[70]\ttraining's l2: 0.708907\tvalid_1's l2: 0.365495\n"
     ]
    },
    {
     "name": "stderr",
     "output_type": "stream",
     "text": [
      "  1%|▉                                                                            | 20/1699 [09:12<12:15:27, 26.28s/it]"
     ]
    },
    {
     "name": "stdout",
     "output_type": "stream",
     "text": [
      "Val Weighted R2 score is: 0.019761170759033386\n",
      "date_id: 20\n",
      "[10]\ttraining's l2: 0.753884\tvalid_1's l2: 1.06022\n",
      "[20]\ttraining's l2: 0.742192\tvalid_1's l2: 1.05735\n",
      "[30]\ttraining's l2: 0.731842\tvalid_1's l2: 1.05443\n",
      "[40]\ttraining's l2: 0.723741\tvalid_1's l2: 1.05308\n",
      "[50]\ttraining's l2: 0.716837\tvalid_1's l2: 1.05149\n",
      "[60]\ttraining's l2: 0.711223\tvalid_1's l2: 1.05043\n",
      "[70]\ttraining's l2: 0.706885\tvalid_1's l2: 1.05172\n"
     ]
    },
    {
     "name": "stderr",
     "output_type": "stream",
     "text": [
      "  1%|▉                                                                            | 21/1699 [09:36<11:54:46, 25.56s/it]"
     ]
    },
    {
     "name": "stdout",
     "output_type": "stream",
     "text": [
      "Val Weighted R2 score is: -0.015368744949012303\n",
      "date_id: 21\n",
      "[10]\ttraining's l2: 0.752303\tvalid_1's l2: 0.732458\n",
      "[20]\ttraining's l2: 0.740536\tvalid_1's l2: 0.729749\n",
      "[30]\ttraining's l2: 0.730368\tvalid_1's l2: 0.728446\n",
      "[40]\ttraining's l2: 0.722161\tvalid_1's l2: 0.727742\n",
      "[50]\ttraining's l2: 0.714771\tvalid_1's l2: 0.726636\n",
      "[60]\ttraining's l2: 0.708825\tvalid_1's l2: 0.725629\n",
      "[70]\ttraining's l2: 0.703932\tvalid_1's l2: 0.725089\n",
      "[80]\ttraining's l2: 0.700414\tvalid_1's l2: 0.724399\n",
      "[90]\ttraining's l2: 0.696798\tvalid_1's l2: 0.723988\n",
      "[100]\ttraining's l2: 0.693211\tvalid_1's l2: 0.723583\n",
      "[110]\ttraining's l2: 0.689717\tvalid_1's l2: 0.722674\n",
      "[120]\ttraining's l2: 0.686818\tvalid_1's l2: 0.722869\n",
      "[130]\ttraining's l2: 0.683976\tvalid_1's l2: 0.723092\n"
     ]
    },
    {
     "name": "stderr",
     "output_type": "stream",
     "text": [
      "  1%|▉                                                                            | 22/1699 [10:06<12:33:00, 26.94s/it]"
     ]
    },
    {
     "name": "stdout",
     "output_type": "stream",
     "text": [
      "Val Weighted R2 score is: 0.01910125659301609\n",
      "date_id: 22\n",
      "[10]\ttraining's l2: 0.751078\tvalid_1's l2: 0.489936\n",
      "[20]\ttraining's l2: 0.739649\tvalid_1's l2: 0.487889\n",
      "[30]\ttraining's l2: 0.729398\tvalid_1's l2: 0.486612\n",
      "[40]\ttraining's l2: 0.720772\tvalid_1's l2: 0.486113\n",
      "[50]\ttraining's l2: 0.713412\tvalid_1's l2: 0.485336\n",
      "[60]\ttraining's l2: 0.707401\tvalid_1's l2: 0.485114\n",
      "[70]\ttraining's l2: 0.703142\tvalid_1's l2: 0.484903\n",
      "[80]\ttraining's l2: 0.699989\tvalid_1's l2: 0.484723\n",
      "[90]\ttraining's l2: 0.696772\tvalid_1's l2: 0.484876\n"
     ]
    },
    {
     "name": "stderr",
     "output_type": "stream",
     "text": [
      "  1%|█                                                                            | 23/1699 [10:32<12:18:00, 26.42s/it]"
     ]
    },
    {
     "name": "stdout",
     "output_type": "stream",
     "text": [
      "Val Weighted R2 score is: 0.017812083000751877\n",
      "date_id: 23\n",
      "[10]\ttraining's l2: 0.758092\tvalid_1's l2: 0.628062\n",
      "[20]\ttraining's l2: 0.746501\tvalid_1's l2: 0.625996\n",
      "[30]\ttraining's l2: 0.736186\tvalid_1's l2: 0.624769\n",
      "[40]\ttraining's l2: 0.727421\tvalid_1's l2: 0.624257\n",
      "[50]\ttraining's l2: 0.720163\tvalid_1's l2: 0.623691\n",
      "[60]\ttraining's l2: 0.714186\tvalid_1's l2: 0.623858\n",
      "[70]\ttraining's l2: 0.709287\tvalid_1's l2: 0.623724\n",
      "[80]\ttraining's l2: 0.705477\tvalid_1's l2: 0.62366\n",
      "[90]\ttraining's l2: 0.701998\tvalid_1's l2: 0.624026\n"
     ]
    },
    {
     "name": "stderr",
     "output_type": "stream",
     "text": [
      "  1%|█                                                                            | 24/1699 [10:58<12:12:34, 26.24s/it]"
     ]
    },
    {
     "name": "stdout",
     "output_type": "stream",
     "text": [
      "Val Weighted R2 score is: 0.01305830533813701\n",
      "date_id: 24\n",
      "[10]\ttraining's l2: 0.752253\tvalid_1's l2: 0.496545\n",
      "[20]\ttraining's l2: 0.740854\tvalid_1's l2: 0.493663\n",
      "[30]\ttraining's l2: 0.730662\tvalid_1's l2: 0.491761\n",
      "[40]\ttraining's l2: 0.722361\tvalid_1's l2: 0.490436\n",
      "[50]\ttraining's l2: 0.715507\tvalid_1's l2: 0.490238\n",
      "[60]\ttraining's l2: 0.709553\tvalid_1's l2: 0.4895\n",
      "[70]\ttraining's l2: 0.705042\tvalid_1's l2: 0.488979\n",
      "[80]\ttraining's l2: 0.701146\tvalid_1's l2: 0.488536\n",
      "[90]\ttraining's l2: 0.69701\tvalid_1's l2: 0.488379\n",
      "[100]\ttraining's l2: 0.693659\tvalid_1's l2: 0.488175\n",
      "[110]\ttraining's l2: 0.690325\tvalid_1's l2: 0.487725\n",
      "[120]\ttraining's l2: 0.687315\tvalid_1's l2: 0.487242\n",
      "[130]\ttraining's l2: 0.68408\tvalid_1's l2: 0.487311\n",
      "[140]\ttraining's l2: 0.681353\tvalid_1's l2: 0.487448\n"
     ]
    },
    {
     "name": "stderr",
     "output_type": "stream",
     "text": [
      "  1%|█▏                                                                           | 25/1699 [11:28<12:50:50, 27.63s/it]"
     ]
    },
    {
     "name": "stdout",
     "output_type": "stream",
     "text": [
      "Val Weighted R2 score is: 0.026894802066761536\n",
      "date_id: 25\n",
      "[10]\ttraining's l2: 0.757368\tvalid_1's l2: 0.688484\n",
      "[20]\ttraining's l2: 0.745524\tvalid_1's l2: 0.683941\n",
      "[30]\ttraining's l2: 0.735014\tvalid_1's l2: 0.680258\n",
      "[40]\ttraining's l2: 0.725895\tvalid_1's l2: 0.678182\n",
      "[50]\ttraining's l2: 0.718432\tvalid_1's l2: 0.676815\n",
      "[60]\ttraining's l2: 0.712206\tvalid_1's l2: 0.675961\n",
      "[70]\ttraining's l2: 0.706867\tvalid_1's l2: 0.675258\n",
      "[80]\ttraining's l2: 0.702318\tvalid_1's l2: 0.674985\n",
      "[90]\ttraining's l2: 0.698999\tvalid_1's l2: 0.674194\n",
      "[100]\ttraining's l2: 0.69607\tvalid_1's l2: 0.673888\n",
      "[110]\ttraining's l2: 0.692664\tvalid_1's l2: 0.673314\n",
      "[120]\ttraining's l2: 0.689592\tvalid_1's l2: 0.673083\n",
      "[130]\ttraining's l2: 0.686146\tvalid_1's l2: 0.673083\n",
      "[140]\ttraining's l2: 0.683492\tvalid_1's l2: 0.673085\n",
      "[150]\ttraining's l2: 0.680289\tvalid_1's l2: 0.673785\n"
     ]
    },
    {
     "name": "stderr",
     "output_type": "stream",
     "text": [
      "  2%|█▏                                                                           | 26/1699 [12:02<13:43:25, 29.53s/it]"
     ]
    },
    {
     "name": "stdout",
     "output_type": "stream",
     "text": [
      "Val Weighted R2 score is: 0.029793087848799193\n",
      "date_id: 26\n",
      "[10]\ttraining's l2: 0.751736\tvalid_1's l2: 1.40365\n",
      "[20]\ttraining's l2: 0.740129\tvalid_1's l2: 1.40581\n"
     ]
    },
    {
     "name": "stderr",
     "output_type": "stream",
     "text": [
      "  2%|█▏                                                                           | 27/1699 [12:12<10:55:50, 23.53s/it]"
     ]
    },
    {
     "name": "stdout",
     "output_type": "stream",
     "text": [
      "Val Weighted R2 score is: -0.07801471789782832\n",
      "date_id: 27\n",
      "[10]\ttraining's l2: 0.754509\tvalid_1's l2: 0.503022\n",
      "[20]\ttraining's l2: 0.742822\tvalid_1's l2: 0.499298\n",
      "[30]\ttraining's l2: 0.732465\tvalid_1's l2: 0.497118\n",
      "[40]\ttraining's l2: 0.723466\tvalid_1's l2: 0.495946\n",
      "[50]\ttraining's l2: 0.715444\tvalid_1's l2: 0.495339\n",
      "[60]\ttraining's l2: 0.709188\tvalid_1's l2: 0.494955\n",
      "[70]\ttraining's l2: 0.70427\tvalid_1's l2: 0.494576\n",
      "[80]\ttraining's l2: 0.699883\tvalid_1's l2: 0.494257\n",
      "[90]\ttraining's l2: 0.695989\tvalid_1's l2: 0.494312\n",
      "[100]\ttraining's l2: 0.692505\tvalid_1's l2: 0.493814\n",
      "[110]\ttraining's l2: 0.689277\tvalid_1's l2: 0.493772\n",
      "[120]\ttraining's l2: 0.686153\tvalid_1's l2: 0.493285\n",
      "[130]\ttraining's l2: 0.683155\tvalid_1's l2: 0.493064\n",
      "[140]\ttraining's l2: 0.679362\tvalid_1's l2: 0.492708\n",
      "[150]\ttraining's l2: 0.676096\tvalid_1's l2: 0.492682\n",
      "[160]\ttraining's l2: 0.673098\tvalid_1's l2: 0.492383\n",
      "[170]\ttraining's l2: 0.669548\tvalid_1's l2: 0.492279\n",
      "[180]\ttraining's l2: 0.666908\tvalid_1's l2: 0.49242\n",
      "[190]\ttraining's l2: 0.663898\tvalid_1's l2: 0.491983\n",
      "[200]\ttraining's l2: 0.660929\tvalid_1's l2: 0.491993\n",
      "[210]\ttraining's l2: 0.658119\tvalid_1's l2: 0.49169\n",
      "[220]\ttraining's l2: 0.654824\tvalid_1's l2: 0.49155\n",
      "[230]\ttraining's l2: 0.652302\tvalid_1's l2: 0.491912\n"
     ]
    },
    {
     "name": "stderr",
     "output_type": "stream",
     "text": [
      "  2%|█▎                                                                           | 28/1699 [12:57<13:52:04, 29.88s/it]"
     ]
    },
    {
     "name": "stdout",
     "output_type": "stream",
     "text": [
      "Val Weighted R2 score is: 0.024273998703314148\n",
      "date_id: 28\n",
      "[10]\ttraining's l2: 0.75392\tvalid_1's l2: 0.359079\n",
      "[20]\ttraining's l2: 0.7424\tvalid_1's l2: 0.356558\n",
      "[30]\ttraining's l2: 0.732301\tvalid_1's l2: 0.355514\n",
      "[40]\ttraining's l2: 0.724192\tvalid_1's l2: 0.355006\n",
      "[50]\ttraining's l2: 0.717302\tvalid_1's l2: 0.354924\n",
      "[60]\ttraining's l2: 0.712181\tvalid_1's l2: 0.354937\n",
      "[70]\ttraining's l2: 0.708441\tvalid_1's l2: 0.354953\n"
     ]
    },
    {
     "name": "stderr",
     "output_type": "stream",
     "text": [
      "  2%|█▎                                                                           | 29/1699 [13:18<12:43:57, 27.45s/it]"
     ]
    },
    {
     "name": "stdout",
     "output_type": "stream",
     "text": [
      "Val Weighted R2 score is: 0.021525094929833122\n",
      "date_id: 29\n",
      "[10]\ttraining's l2: 0.751692\tvalid_1's l2: 0.578398\n",
      "[20]\ttraining's l2: 0.739926\tvalid_1's l2: 0.574002\n",
      "[30]\ttraining's l2: 0.729341\tvalid_1's l2: 0.571081\n",
      "[40]\ttraining's l2: 0.720416\tvalid_1's l2: 0.568387\n",
      "[50]\ttraining's l2: 0.712773\tvalid_1's l2: 0.566861\n",
      "[60]\ttraining's l2: 0.706701\tvalid_1's l2: 0.56605\n",
      "[70]\ttraining's l2: 0.702168\tvalid_1's l2: 0.56524\n",
      "[80]\ttraining's l2: 0.69829\tvalid_1's l2: 0.564701\n",
      "[90]\ttraining's l2: 0.694596\tvalid_1's l2: 0.563942\n",
      "[100]\ttraining's l2: 0.691593\tvalid_1's l2: 0.563029\n",
      "[110]\ttraining's l2: 0.68869\tvalid_1's l2: 0.562355\n",
      "[120]\ttraining's l2: 0.685839\tvalid_1's l2: 0.562377\n",
      "[130]\ttraining's l2: 0.68322\tvalid_1's l2: 0.561972\n",
      "[140]\ttraining's l2: 0.680349\tvalid_1's l2: 0.561575\n",
      "[150]\ttraining's l2: 0.677662\tvalid_1's l2: 0.561615\n",
      "[160]\ttraining's l2: 0.674317\tvalid_1's l2: 0.561394\n",
      "[170]\ttraining's l2: 0.671359\tvalid_1's l2: 0.561431\n",
      "[180]\ttraining's l2: 0.669031\tvalid_1's l2: 0.561079\n",
      "[190]\ttraining's l2: 0.665872\tvalid_1's l2: 0.560586\n",
      "[200]\ttraining's l2: 0.663207\tvalid_1's l2: 0.560402\n",
      "[210]\ttraining's l2: 0.660221\tvalid_1's l2: 0.560683\n",
      "[220]\ttraining's l2: 0.653597\tvalid_1's l2: 0.560288\n",
      "[230]\ttraining's l2: 0.648364\tvalid_1's l2: 0.559993\n",
      "[240]\ttraining's l2: 0.646473\tvalid_1's l2: 0.559987\n"
     ]
    },
    {
     "name": "stderr",
     "output_type": "stream",
     "text": [
      "  2%|█▎                                                                           | 30/1699 [14:08<15:45:07, 33.98s/it]"
     ]
    },
    {
     "name": "stdout",
     "output_type": "stream",
     "text": [
      "Val Weighted R2 score is: 0.03999762246311778\n",
      "date_id: 30\n",
      "[10]\ttraining's l2: 0.751711\tvalid_1's l2: 0.309829\n",
      "[20]\ttraining's l2: 0.740082\tvalid_1's l2: 0.309084\n",
      "[30]\ttraining's l2: 0.729671\tvalid_1's l2: 0.308847\n",
      "[40]\ttraining's l2: 0.720758\tvalid_1's l2: 0.309249\n"
     ]
    },
    {
     "name": "stderr",
     "output_type": "stream",
     "text": [
      "  2%|█▍                                                                           | 31/1699 [14:26<13:33:28, 29.26s/it]"
     ]
    },
    {
     "name": "stdout",
     "output_type": "stream",
     "text": [
      "Val Weighted R2 score is: 0.004337354727921627\n",
      "date_id: 31\n",
      "[10]\ttraining's l2: 0.753666\tvalid_1's l2: 0.764463\n",
      "[20]\ttraining's l2: 0.741932\tvalid_1's l2: 0.761497\n",
      "[30]\ttraining's l2: 0.731433\tvalid_1's l2: 0.759935\n",
      "[40]\ttraining's l2: 0.722902\tvalid_1's l2: 0.759721\n",
      "[50]\ttraining's l2: 0.715552\tvalid_1's l2: 0.760306\n",
      "[60]\ttraining's l2: 0.70999\tvalid_1's l2: 0.76063\n"
     ]
    },
    {
     "name": "stderr",
     "output_type": "stream",
     "text": [
      "  2%|█▍                                                                           | 32/1699 [14:45<12:08:30, 26.22s/it]"
     ]
    },
    {
     "name": "stdout",
     "output_type": "stream",
     "text": [
      "Val Weighted R2 score is: 0.010602146247399968\n",
      "date_id: 32\n",
      "[10]\ttraining's l2: 0.757091\tvalid_1's l2: 0.612795\n",
      "[20]\ttraining's l2: 0.745337\tvalid_1's l2: 0.612698\n",
      "[30]\ttraining's l2: 0.734983\tvalid_1's l2: 0.614091\n"
     ]
    },
    {
     "name": "stderr",
     "output_type": "stream",
     "text": [
      "  2%|█▍                                                                           | 33/1699 [15:01<10:41:18, 23.10s/it]"
     ]
    },
    {
     "name": "stdout",
     "output_type": "stream",
     "text": [
      "Val Weighted R2 score is: 0.004028686478124377\n",
      "date_id: 33\n",
      "[10]\ttraining's l2: 0.753658\tvalid_1's l2: 0.223788\n",
      "[20]\ttraining's l2: 0.741835\tvalid_1's l2: 0.222826\n",
      "[30]\ttraining's l2: 0.731365\tvalid_1's l2: 0.222157\n",
      "[40]\ttraining's l2: 0.722377\tvalid_1's l2: 0.22212\n",
      "[50]\ttraining's l2: 0.714252\tvalid_1's l2: 0.221965\n",
      "[60]\ttraining's l2: 0.70792\tvalid_1's l2: 0.222264\n"
     ]
    },
    {
     "name": "stderr",
     "output_type": "stream",
     "text": [
      "  2%|█▌                                                                           | 34/1699 [15:25<10:47:09, 23.32s/it]"
     ]
    },
    {
     "name": "stdout",
     "output_type": "stream",
     "text": [
      "Val Weighted R2 score is: 0.011992334791803394\n",
      "date_id: 34\n",
      "[10]\ttraining's l2: 0.757384\tvalid_1's l2: 0.24032\n",
      "[20]\ttraining's l2: 0.74555\tvalid_1's l2: 0.240078\n",
      "[30]\ttraining's l2: 0.735262\tvalid_1's l2: 0.240088\n",
      "[40]\ttraining's l2: 0.726611\tvalid_1's l2: 0.240238\n"
     ]
    },
    {
     "name": "stderr",
     "output_type": "stream",
     "text": [
      "  2%|█▌                                                                            | 35/1699 [15:42<9:54:30, 21.44s/it]"
     ]
    },
    {
     "name": "stdout",
     "output_type": "stream",
     "text": [
      "Val Weighted R2 score is: 0.006063947874333286\n",
      "date_id: 35\n",
      "[10]\ttraining's l2: 0.756296\tvalid_1's l2: 0.393119\n",
      "[20]\ttraining's l2: 0.744746\tvalid_1's l2: 0.392283\n",
      "[30]\ttraining's l2: 0.734739\tvalid_1's l2: 0.392077\n",
      "[40]\ttraining's l2: 0.726054\tvalid_1's l2: 0.392011\n",
      "[50]\ttraining's l2: 0.718899\tvalid_1's l2: 0.392303\n"
     ]
    },
    {
     "name": "stderr",
     "output_type": "stream",
     "text": [
      "  2%|█▋                                                                            | 36/1699 [16:02<9:44:04, 21.07s/it]"
     ]
    },
    {
     "name": "stdout",
     "output_type": "stream",
     "text": [
      "Val Weighted R2 score is: 0.009243812348819103\n",
      "date_id: 36\n",
      "[10]\ttraining's l2: 0.752153\tvalid_1's l2: 0.179038\n",
      "[20]\ttraining's l2: 0.7408\tvalid_1's l2: 0.177977\n",
      "[30]\ttraining's l2: 0.730226\tvalid_1's l2: 0.177107\n",
      "[40]\ttraining's l2: 0.721293\tvalid_1's l2: 0.176768\n",
      "[50]\ttraining's l2: 0.713942\tvalid_1's l2: 0.176152\n",
      "[60]\ttraining's l2: 0.708707\tvalid_1's l2: 0.175731\n",
      "[70]\ttraining's l2: 0.703726\tvalid_1's l2: 0.175878\n",
      "[80]\ttraining's l2: 0.700325\tvalid_1's l2: 0.175922\n"
     ]
    },
    {
     "name": "stderr",
     "output_type": "stream",
     "text": [
      "  2%|█▋                                                                           | 37/1699 [16:26<10:08:29, 21.97s/it]"
     ]
    },
    {
     "name": "stdout",
     "output_type": "stream",
     "text": [
      "Val Weighted R2 score is: 0.02782624993704985\n",
      "date_id: 37\n",
      "[10]\ttraining's l2: 0.757834\tvalid_1's l2: 0.322094\n",
      "[20]\ttraining's l2: 0.746172\tvalid_1's l2: 0.320251\n",
      "[30]\ttraining's l2: 0.735753\tvalid_1's l2: 0.319555\n",
      "[40]\ttraining's l2: 0.72692\tvalid_1's l2: 0.31872\n",
      "[50]\ttraining's l2: 0.719442\tvalid_1's l2: 0.318123\n",
      "[60]\ttraining's l2: 0.713682\tvalid_1's l2: 0.317938\n",
      "[70]\ttraining's l2: 0.709822\tvalid_1's l2: 0.31776\n",
      "[80]\ttraining's l2: 0.706566\tvalid_1's l2: 0.317554\n",
      "[90]\ttraining's l2: 0.703164\tvalid_1's l2: 0.317497\n",
      "[100]\ttraining's l2: 0.700292\tvalid_1's l2: 0.31745\n",
      "[110]\ttraining's l2: 0.697299\tvalid_1's l2: 0.317224\n",
      "[120]\ttraining's l2: 0.694424\tvalid_1's l2: 0.317444\n"
     ]
    },
    {
     "name": "stderr",
     "output_type": "stream",
     "text": [
      "  2%|█▋                                                                           | 38/1699 [16:54<11:02:39, 23.94s/it]"
     ]
    },
    {
     "name": "stdout",
     "output_type": "stream",
     "text": [
      "Val Weighted R2 score is: 0.02424436593290047\n",
      "date_id: 38\n",
      "[10]\ttraining's l2: 0.753715\tvalid_1's l2: 0.251035\n",
      "[20]\ttraining's l2: 0.741928\tvalid_1's l2: 0.249264\n",
      "[30]\ttraining's l2: 0.731798\tvalid_1's l2: 0.248221\n",
      "[40]\ttraining's l2: 0.723101\tvalid_1's l2: 0.247525\n",
      "[50]\ttraining's l2: 0.716011\tvalid_1's l2: 0.247079\n",
      "[60]\ttraining's l2: 0.710653\tvalid_1's l2: 0.246867\n",
      "[70]\ttraining's l2: 0.706159\tvalid_1's l2: 0.246908\n",
      "[80]\ttraining's l2: 0.701753\tvalid_1's l2: 0.246718\n",
      "[90]\ttraining's l2: 0.697633\tvalid_1's l2: 0.246683\n",
      "[100]\ttraining's l2: 0.694474\tvalid_1's l2: 0.246723\n",
      "[110]\ttraining's l2: 0.691178\tvalid_1's l2: 0.246539\n",
      "[120]\ttraining's l2: 0.688158\tvalid_1's l2: 0.246451\n",
      "[130]\ttraining's l2: 0.685407\tvalid_1's l2: 0.24639\n",
      "[140]\ttraining's l2: 0.682676\tvalid_1's l2: 0.246405\n",
      "[150]\ttraining's l2: 0.680124\tvalid_1's l2: 0.246523\n"
     ]
    },
    {
     "name": "stderr",
     "output_type": "stream",
     "text": [
      "  2%|█▊                                                                           | 39/1699 [17:25<11:58:53, 25.98s/it]"
     ]
    },
    {
     "name": "stdout",
     "output_type": "stream",
     "text": [
      "Val Weighted R2 score is: 0.028751646905789574\n",
      "date_id: 39\n",
      "[10]\ttraining's l2: 0.747996\tvalid_1's l2: 0.425294\n",
      "[20]\ttraining's l2: 0.736463\tvalid_1's l2: 0.424328\n",
      "[30]\ttraining's l2: 0.726218\tvalid_1's l2: 0.423964\n",
      "[40]\ttraining's l2: 0.71793\tvalid_1's l2: 0.424158\n",
      "[50]\ttraining's l2: 0.711465\tvalid_1's l2: 0.424689\n",
      "Val Weighted R2 score is: 0.007736151269527758\n"
     ]
    },
    {
     "name": "stderr",
     "output_type": "stream",
     "text": [
      "  2%|█▊                                                                           | 40/1699 [17:43<10:53:58, 23.65s/it]"
     ]
    },
    {
     "name": "stdout",
     "output_type": "stream",
     "text": [
      "date_id: 40\n",
      "[10]\ttraining's l2: 0.75263\tvalid_1's l2: 0.243276\n",
      "[20]\ttraining's l2: 0.740969\tvalid_1's l2: 0.241546\n",
      "[30]\ttraining's l2: 0.730891\tvalid_1's l2: 0.240517\n",
      "[40]\ttraining's l2: 0.722127\tvalid_1's l2: 0.239794\n",
      "[50]\ttraining's l2: 0.715019\tvalid_1's l2: 0.239765\n",
      "[60]\ttraining's l2: 0.709383\tvalid_1's l2: 0.239619\n",
      "[70]\ttraining's l2: 0.704315\tvalid_1's l2: 0.23928\n",
      "[80]\ttraining's l2: 0.700793\tvalid_1's l2: 0.239075\n",
      "[90]\ttraining's l2: 0.697308\tvalid_1's l2: 0.238985\n",
      "[100]\ttraining's l2: 0.69457\tvalid_1's l2: 0.239038\n",
      "[110]\ttraining's l2: 0.691121\tvalid_1's l2: 0.239258\n"
     ]
    },
    {
     "name": "stderr",
     "output_type": "stream",
     "text": [
      "  2%|█▊                                                                           | 41/1699 [18:10<11:14:30, 24.41s/it]"
     ]
    },
    {
     "name": "stdout",
     "output_type": "stream",
     "text": [
      "Val Weighted R2 score is: 0.031448480232522\n",
      "date_id: 41\n",
      "[10]\ttraining's l2: 0.750438\tvalid_1's l2: 0.558018\n",
      "[20]\ttraining's l2: 0.738929\tvalid_1's l2: 0.557362\n",
      "[30]\ttraining's l2: 0.729022\tvalid_1's l2: 0.557207\n",
      "[40]\ttraining's l2: 0.720824\tvalid_1's l2: 0.557005\n",
      "[50]\ttraining's l2: 0.713781\tvalid_1's l2: 0.556778\n",
      "[60]\ttraining's l2: 0.707925\tvalid_1's l2: 0.556496\n",
      "[70]\ttraining's l2: 0.703554\tvalid_1's l2: 0.556505\n",
      "[80]\ttraining's l2: 0.699771\tvalid_1's l2: 0.556221\n",
      "[90]\ttraining's l2: 0.696167\tvalid_1's l2: 0.556012\n",
      "[100]\ttraining's l2: 0.693048\tvalid_1's l2: 0.555751\n",
      "[110]\ttraining's l2: 0.690116\tvalid_1's l2: 0.55561\n",
      "[120]\ttraining's l2: 0.68749\tvalid_1's l2: 0.555868\n"
     ]
    },
    {
     "name": "stderr",
     "output_type": "stream",
     "text": [
      "  2%|█▉                                                                           | 42/1699 [18:38<11:49:16, 25.68s/it]"
     ]
    },
    {
     "name": "stdout",
     "output_type": "stream",
     "text": [
      "Val Weighted R2 score is: 0.006452969279504561\n",
      "date_id: 42\n",
      "[10]\ttraining's l2: 0.7556\tvalid_1's l2: 0.336769\n",
      "[20]\ttraining's l2: 0.743644\tvalid_1's l2: 0.336904\n",
      "[30]\ttraining's l2: 0.73302\tvalid_1's l2: 0.337073\n"
     ]
    },
    {
     "name": "stderr",
     "output_type": "stream",
     "text": [
      "  3%|█▉                                                                           | 43/1699 [18:53<10:18:55, 22.42s/it]"
     ]
    },
    {
     "name": "stdout",
     "output_type": "stream",
     "text": [
      "Val Weighted R2 score is: -0.000773650679271265\n",
      "date_id: 43\n",
      "[10]\ttraining's l2: 0.752744\tvalid_1's l2: 0.508888\n",
      "[20]\ttraining's l2: 0.740766\tvalid_1's l2: 0.508095\n",
      "[30]\ttraining's l2: 0.730369\tvalid_1's l2: 0.508074\n",
      "[40]\ttraining's l2: 0.721195\tvalid_1's l2: 0.508288\n"
     ]
    },
    {
     "name": "stderr",
     "output_type": "stream",
     "text": [
      "  3%|██                                                                            | 44/1699 [19:13<9:58:14, 21.69s/it]"
     ]
    },
    {
     "name": "stdout",
     "output_type": "stream",
     "text": [
      "Val Weighted R2 score is: -0.0048141388515301475\n",
      "date_id: 44\n",
      "[10]\ttraining's l2: 0.754425\tvalid_1's l2: 0.730028\n",
      "[20]\ttraining's l2: 0.742966\tvalid_1's l2: 0.727041\n",
      "[30]\ttraining's l2: 0.732523\tvalid_1's l2: 0.724742\n",
      "[40]\ttraining's l2: 0.724156\tvalid_1's l2: 0.723413\n",
      "[50]\ttraining's l2: 0.71718\tvalid_1's l2: 0.722045\n",
      "[60]\ttraining's l2: 0.711138\tvalid_1's l2: 0.721499\n",
      "[70]\ttraining's l2: 0.706373\tvalid_1's l2: 0.721042\n",
      "[80]\ttraining's l2: 0.702698\tvalid_1's l2: 0.72069\n",
      "[90]\ttraining's l2: 0.698612\tvalid_1's l2: 0.720231\n",
      "[100]\ttraining's l2: 0.69406\tvalid_1's l2: 0.719798\n",
      "[110]\ttraining's l2: 0.69108\tvalid_1's l2: 0.719899\n",
      "[120]\ttraining's l2: 0.687986\tvalid_1's l2: 0.720301\n"
     ]
    },
    {
     "name": "stderr",
     "output_type": "stream",
     "text": [
      "  3%|██                                                                           | 45/1699 [19:43<11:04:36, 24.11s/it]"
     ]
    },
    {
     "name": "stdout",
     "output_type": "stream",
     "text": [
      "Val Weighted R2 score is: 0.021809561565578117\n",
      "date_id: 45\n",
      "[10]\ttraining's l2: 0.756854\tvalid_1's l2: 0.476578\n",
      "[20]\ttraining's l2: 0.74523\tvalid_1's l2: 0.476039\n",
      "[30]\ttraining's l2: 0.735196\tvalid_1's l2: 0.476032\n"
     ]
    },
    {
     "name": "stderr",
     "output_type": "stream",
     "text": [
      "  3%|██                                                                            | 46/1699 [19:57<9:41:51, 21.12s/it]"
     ]
    },
    {
     "name": "stdout",
     "output_type": "stream",
     "text": [
      "Val Weighted R2 score is: 0.00775171229159366\n",
      "date_id: 46\n",
      "[10]\ttraining's l2: 0.748049\tvalid_1's l2: 0.525025\n",
      "[20]\ttraining's l2: 0.736643\tvalid_1's l2: 0.523916\n",
      "[30]\ttraining's l2: 0.726572\tvalid_1's l2: 0.523268\n",
      "[40]\ttraining's l2: 0.717993\tvalid_1's l2: 0.523285\n",
      "[50]\ttraining's l2: 0.711187\tvalid_1's l2: 0.522895\n",
      "[60]\ttraining's l2: 0.705711\tvalid_1's l2: 0.522942\n",
      "[70]\ttraining's l2: 0.701103\tvalid_1's l2: 0.523093\n"
     ]
    },
    {
     "name": "stderr",
     "output_type": "stream",
     "text": [
      "  3%|██▏                                                                           | 47/1699 [20:20<9:59:35, 21.78s/it]"
     ]
    },
    {
     "name": "stdout",
     "output_type": "stream",
     "text": [
      "Val Weighted R2 score is: -0.0006298154752817364\n",
      "date_id: 47\n",
      "[10]\ttraining's l2: 0.751677\tvalid_1's l2: 0.370044\n",
      "[20]\ttraining's l2: 0.740005\tvalid_1's l2: 0.368503\n",
      "[30]\ttraining's l2: 0.72986\tvalid_1's l2: 0.367436\n",
      "[40]\ttraining's l2: 0.720812\tvalid_1's l2: 0.366959\n",
      "[50]\ttraining's l2: 0.713676\tvalid_1's l2: 0.366791\n",
      "[60]\ttraining's l2: 0.707656\tvalid_1's l2: 0.366578\n",
      "[70]\ttraining's l2: 0.70246\tvalid_1's l2: 0.366465\n",
      "[80]\ttraining's l2: 0.698187\tvalid_1's l2: 0.366553\n",
      "[90]\ttraining's l2: 0.695007\tvalid_1's l2: 0.366561\n"
     ]
    },
    {
     "name": "stderr",
     "output_type": "stream",
     "text": [
      "  3%|██▏                                                                          | 48/1699 [20:47<10:42:15, 23.34s/it]"
     ]
    },
    {
     "name": "stdout",
     "output_type": "stream",
     "text": [
      "Val Weighted R2 score is: 0.020226695778692627\n",
      "date_id: 48\n",
      "[10]\ttraining's l2: 0.755066\tvalid_1's l2: 0.594923\n",
      "[20]\ttraining's l2: 0.743451\tvalid_1's l2: 0.591966\n",
      "[30]\ttraining's l2: 0.733097\tvalid_1's l2: 0.589202\n",
      "[40]\ttraining's l2: 0.724551\tvalid_1's l2: 0.587634\n",
      "[50]\ttraining's l2: 0.716637\tvalid_1's l2: 0.58671\n",
      "[60]\ttraining's l2: 0.710239\tvalid_1's l2: 0.58596\n",
      "[70]\ttraining's l2: 0.70555\tvalid_1's l2: 0.585018\n",
      "[80]\ttraining's l2: 0.701562\tvalid_1's l2: 0.584747\n",
      "[90]\ttraining's l2: 0.697645\tvalid_1's l2: 0.584309\n",
      "[100]\ttraining's l2: 0.694183\tvalid_1's l2: 0.583486\n",
      "[110]\ttraining's l2: 0.691192\tvalid_1's l2: 0.58321\n",
      "[120]\ttraining's l2: 0.688076\tvalid_1's l2: 0.582563\n",
      "[130]\ttraining's l2: 0.68543\tvalid_1's l2: 0.582772\n",
      "[140]\ttraining's l2: 0.682594\tvalid_1's l2: 0.582609\n",
      "[150]\ttraining's l2: 0.679926\tvalid_1's l2: 0.58225\n",
      "[160]\ttraining's l2: 0.676816\tvalid_1's l2: 0.581941\n",
      "[170]\ttraining's l2: 0.673357\tvalid_1's l2: 0.581654\n",
      "[180]\ttraining's l2: 0.670211\tvalid_1's l2: 0.581534\n",
      "[190]\ttraining's l2: 0.667411\tvalid_1's l2: 0.581384\n",
      "[200]\ttraining's l2: 0.664279\tvalid_1's l2: 0.581586\n",
      "[210]\ttraining's l2: 0.661969\tvalid_1's l2: 0.581063\n",
      "[220]\ttraining's l2: 0.65876\tvalid_1's l2: 0.580709\n",
      "[230]\ttraining's l2: 0.655708\tvalid_1's l2: 0.580413\n",
      "[240]\ttraining's l2: 0.652906\tvalid_1's l2: 0.580387\n",
      "[250]\ttraining's l2: 0.649692\tvalid_1's l2: 0.580658\n"
     ]
    },
    {
     "name": "stderr",
     "output_type": "stream",
     "text": [
      "  3%|██▏                                                                          | 49/1699 [21:32<13:39:19, 29.79s/it]"
     ]
    },
    {
     "name": "stdout",
     "output_type": "stream",
     "text": [
      "Val Weighted R2 score is: 0.03117765892393065\n",
      "date_id: 49\n",
      "[10]\ttraining's l2: 0.753241\tvalid_1's l2: 0.474759\n",
      "[20]\ttraining's l2: 0.741505\tvalid_1's l2: 0.472972\n",
      "[30]\ttraining's l2: 0.731558\tvalid_1's l2: 0.471843\n",
      "[40]\ttraining's l2: 0.722703\tvalid_1's l2: 0.471177\n",
      "[50]\ttraining's l2: 0.7158\tvalid_1's l2: 0.47013\n",
      "[60]\ttraining's l2: 0.710186\tvalid_1's l2: 0.469679\n",
      "[70]\ttraining's l2: 0.705196\tvalid_1's l2: 0.469563\n",
      "[80]\ttraining's l2: 0.701937\tvalid_1's l2: 0.469153\n",
      "[90]\ttraining's l2: 0.698427\tvalid_1's l2: 0.468843\n",
      "[100]\ttraining's l2: 0.695191\tvalid_1's l2: 0.468988\n",
      "[110]\ttraining's l2: 0.692406\tvalid_1's l2: 0.468957\n",
      "[120]\ttraining's l2: 0.689562\tvalid_1's l2: 0.468914\n"
     ]
    },
    {
     "name": "stderr",
     "output_type": "stream",
     "text": [
      "  3%|██▎                                                                          | 50/1699 [21:59<13:11:47, 28.81s/it]"
     ]
    },
    {
     "name": "stdout",
     "output_type": "stream",
     "text": [
      "Val Weighted R2 score is: 0.016770405879525607\n",
      "date_id: 50\n",
      "[10]\ttraining's l2: 0.757374\tvalid_1's l2: 0.429997\n",
      "[20]\ttraining's l2: 0.746091\tvalid_1's l2: 0.428774\n",
      "[30]\ttraining's l2: 0.736265\tvalid_1's l2: 0.428101\n",
      "[40]\ttraining's l2: 0.727857\tvalid_1's l2: 0.42779\n",
      "[50]\ttraining's l2: 0.7208\tvalid_1's l2: 0.427603\n",
      "[60]\ttraining's l2: 0.715018\tvalid_1's l2: 0.427573\n",
      "[70]\ttraining's l2: 0.710368\tvalid_1's l2: 0.427699\n",
      "[80]\ttraining's l2: 0.706561\tvalid_1's l2: 0.427648\n"
     ]
    },
    {
     "name": "stderr",
     "output_type": "stream",
     "text": [
      "  3%|██▎                                                                          | 51/1699 [22:21<12:19:44, 26.93s/it]"
     ]
    },
    {
     "name": "stdout",
     "output_type": "stream",
     "text": [
      "Val Weighted R2 score is: 0.009732644673227209\n",
      "date_id: 51\n",
      "[10]\ttraining's l2: 0.753177\tvalid_1's l2: 0.452723\n",
      "[20]\ttraining's l2: 0.741556\tvalid_1's l2: 0.448444\n",
      "[30]\ttraining's l2: 0.731284\tvalid_1's l2: 0.445629\n",
      "[40]\ttraining's l2: 0.722589\tvalid_1's l2: 0.443707\n",
      "[50]\ttraining's l2: 0.715356\tvalid_1's l2: 0.44204\n",
      "[60]\ttraining's l2: 0.709429\tvalid_1's l2: 0.441086\n",
      "[70]\ttraining's l2: 0.705031\tvalid_1's l2: 0.440506\n",
      "[80]\ttraining's l2: 0.701325\tvalid_1's l2: 0.43984\n",
      "[90]\ttraining's l2: 0.697497\tvalid_1's l2: 0.439407\n",
      "[100]\ttraining's l2: 0.694225\tvalid_1's l2: 0.439455\n",
      "[110]\ttraining's l2: 0.691465\tvalid_1's l2: 0.439147\n",
      "[120]\ttraining's l2: 0.688616\tvalid_1's l2: 0.439037\n",
      "[130]\ttraining's l2: 0.685583\tvalid_1's l2: 0.439038\n",
      "[140]\ttraining's l2: 0.682789\tvalid_1's l2: 0.438928\n",
      "[150]\ttraining's l2: 0.679944\tvalid_1's l2: 0.438778\n",
      "[160]\ttraining's l2: 0.677029\tvalid_1's l2: 0.438728\n"
     ]
    },
    {
     "name": "stderr",
     "output_type": "stream",
     "text": [
      "  3%|██▎                                                                          | 52/1699 [22:54<13:07:03, 28.67s/it]"
     ]
    },
    {
     "name": "stdout",
     "output_type": "stream",
     "text": [
      "Val Weighted R2 score is: 0.03839673625812634\n",
      "date_id: 52\n",
      "[10]\ttraining's l2: 0.74893\tvalid_1's l2: 0.418187\n",
      "[20]\ttraining's l2: 0.737254\tvalid_1's l2: 0.415679\n",
      "[30]\ttraining's l2: 0.726732\tvalid_1's l2: 0.413782\n",
      "[40]\ttraining's l2: 0.717695\tvalid_1's l2: 0.413176\n",
      "[50]\ttraining's l2: 0.710685\tvalid_1's l2: 0.412937\n",
      "[60]\ttraining's l2: 0.704377\tvalid_1's l2: 0.412463\n",
      "[70]\ttraining's l2: 0.699343\tvalid_1's l2: 0.411942\n",
      "[80]\ttraining's l2: 0.695019\tvalid_1's l2: 0.411468\n",
      "[90]\ttraining's l2: 0.691443\tvalid_1's l2: 0.411567\n",
      "[100]\ttraining's l2: 0.688227\tvalid_1's l2: 0.411625\n"
     ]
    },
    {
     "name": "stderr",
     "output_type": "stream",
     "text": [
      "  3%|██▍                                                                          | 53/1699 [23:22<12:59:34, 28.42s/it]"
     ]
    },
    {
     "name": "stdout",
     "output_type": "stream",
     "text": [
      "Val Weighted R2 score is: 0.02505329159542269\n",
      "date_id: 53\n",
      "[10]\ttraining's l2: 0.758984\tvalid_1's l2: 0.579603\n",
      "[20]\ttraining's l2: 0.747072\tvalid_1's l2: 0.576929\n",
      "[30]\ttraining's l2: 0.736804\tvalid_1's l2: 0.575571\n",
      "[40]\ttraining's l2: 0.728245\tvalid_1's l2: 0.574772\n",
      "[50]\ttraining's l2: 0.721525\tvalid_1's l2: 0.574398\n",
      "[60]\ttraining's l2: 0.715746\tvalid_1's l2: 0.574379\n",
      "[70]\ttraining's l2: 0.711409\tvalid_1's l2: 0.574201\n",
      "[80]\ttraining's l2: 0.707844\tvalid_1's l2: 0.573669\n",
      "[90]\ttraining's l2: 0.704863\tvalid_1's l2: 0.573415\n",
      "[100]\ttraining's l2: 0.701687\tvalid_1's l2: 0.573428\n",
      "[110]\ttraining's l2: 0.698384\tvalid_1's l2: 0.573406\n",
      "[120]\ttraining's l2: 0.695904\tvalid_1's l2: 0.573091\n",
      "[130]\ttraining's l2: 0.69256\tvalid_1's l2: 0.572469\n",
      "[140]\ttraining's l2: 0.689612\tvalid_1's l2: 0.572626\n",
      "[150]\ttraining's l2: 0.687113\tvalid_1's l2: 0.572623\n"
     ]
    },
    {
     "name": "stderr",
     "output_type": "stream",
     "text": [
      "  3%|██▍                                                                          | 54/1699 [23:52<13:17:11, 29.08s/it]"
     ]
    },
    {
     "name": "stdout",
     "output_type": "stream",
     "text": [
      "Val Weighted R2 score is: 0.02181168098053443\n",
      "date_id: 54\n",
      "[10]\ttraining's l2: 0.752696\tvalid_1's l2: 0.614558\n",
      "[20]\ttraining's l2: 0.741007\tvalid_1's l2: 0.608781\n",
      "[30]\ttraining's l2: 0.730734\tvalid_1's l2: 0.604797\n",
      "[40]\ttraining's l2: 0.722004\tvalid_1's l2: 0.602259\n",
      "[50]\ttraining's l2: 0.714861\tvalid_1's l2: 0.600775\n",
      "[60]\ttraining's l2: 0.70887\tvalid_1's l2: 0.59996\n",
      "[70]\ttraining's l2: 0.703704\tvalid_1's l2: 0.598867\n",
      "[80]\ttraining's l2: 0.699301\tvalid_1's l2: 0.597393\n",
      "[90]\ttraining's l2: 0.695751\tvalid_1's l2: 0.596643\n",
      "[100]\ttraining's l2: 0.69224\tvalid_1's l2: 0.596283\n",
      "[110]\ttraining's l2: 0.688933\tvalid_1's l2: 0.596199\n",
      "[120]\ttraining's l2: 0.686091\tvalid_1's l2: 0.595814\n",
      "[130]\ttraining's l2: 0.683256\tvalid_1's l2: 0.594964\n",
      "[140]\ttraining's l2: 0.680611\tvalid_1's l2: 0.594909\n",
      "[150]\ttraining's l2: 0.677611\tvalid_1's l2: 0.594449\n",
      "[160]\ttraining's l2: 0.674867\tvalid_1's l2: 0.594279\n",
      "[170]\ttraining's l2: 0.672621\tvalid_1's l2: 0.594304\n",
      "[180]\ttraining's l2: 0.669554\tvalid_1's l2: 0.594748\n"
     ]
    },
    {
     "name": "stderr",
     "output_type": "stream",
     "text": [
      "  3%|██▍                                                                          | 55/1699 [24:27<14:03:06, 30.77s/it]"
     ]
    },
    {
     "name": "stdout",
     "output_type": "stream",
     "text": [
      "Val Weighted R2 score is: 0.047398487285338575\n",
      "date_id: 55\n",
      "[10]\ttraining's l2: 0.7549\tvalid_1's l2: 0.546713\n",
      "[20]\ttraining's l2: 0.7433\tvalid_1's l2: 0.543353\n",
      "[30]\ttraining's l2: 0.733045\tvalid_1's l2: 0.540976\n",
      "[40]\ttraining's l2: 0.724294\tvalid_1's l2: 0.53942\n",
      "[50]\ttraining's l2: 0.717246\tvalid_1's l2: 0.538022\n",
      "[60]\ttraining's l2: 0.71144\tvalid_1's l2: 0.537471\n",
      "[70]\ttraining's l2: 0.706749\tvalid_1's l2: 0.537069\n",
      "[80]\ttraining's l2: 0.70219\tvalid_1's l2: 0.536696\n",
      "[90]\ttraining's l2: 0.698551\tvalid_1's l2: 0.536076\n",
      "[100]\ttraining's l2: 0.695457\tvalid_1's l2: 0.535997\n",
      "[110]\ttraining's l2: 0.692288\tvalid_1's l2: 0.536028\n",
      "[120]\ttraining's l2: 0.689044\tvalid_1's l2: 0.535726\n",
      "[130]\ttraining's l2: 0.685713\tvalid_1's l2: 0.535545\n",
      "[140]\ttraining's l2: 0.682945\tvalid_1's l2: 0.535225\n",
      "[150]\ttraining's l2: 0.67983\tvalid_1's l2: 0.535007\n",
      "[160]\ttraining's l2: 0.676927\tvalid_1's l2: 0.534875\n",
      "[170]\ttraining's l2: 0.674171\tvalid_1's l2: 0.534578\n",
      "[180]\ttraining's l2: 0.671191\tvalid_1's l2: 0.534247\n",
      "[190]\ttraining's l2: 0.668234\tvalid_1's l2: 0.533867\n",
      "[200]\ttraining's l2: 0.665449\tvalid_1's l2: 0.533579\n",
      "[210]\ttraining's l2: 0.662449\tvalid_1's l2: 0.533627\n",
      "[220]\ttraining's l2: 0.660117\tvalid_1's l2: 0.533543\n"
     ]
    },
    {
     "name": "stderr",
     "output_type": "stream",
     "text": [
      "  3%|██▌                                                                          | 56/1699 [25:05<15:01:09, 32.91s/it]"
     ]
    },
    {
     "name": "stdout",
     "output_type": "stream",
     "text": [
      "Val Weighted R2 score is: 0.03335581108077057\n",
      "date_id: 56\n",
      "[10]\ttraining's l2: 0.753971\tvalid_1's l2: 0.421891\n",
      "[20]\ttraining's l2: 0.742438\tvalid_1's l2: 0.419936\n",
      "[30]\ttraining's l2: 0.732037\tvalid_1's l2: 0.418634\n",
      "[40]\ttraining's l2: 0.723373\tvalid_1's l2: 0.417575\n",
      "[50]\ttraining's l2: 0.716053\tvalid_1's l2: 0.417107\n",
      "[60]\ttraining's l2: 0.709444\tvalid_1's l2: 0.417127\n",
      "[70]\ttraining's l2: 0.704317\tvalid_1's l2: 0.417213\n",
      "[80]\ttraining's l2: 0.699819\tvalid_1's l2: 0.416835\n",
      "[90]\ttraining's l2: 0.695809\tvalid_1's l2: 0.416719\n",
      "[100]\ttraining's l2: 0.692628\tvalid_1's l2: 0.416451\n",
      "[110]\ttraining's l2: 0.689311\tvalid_1's l2: 0.416274\n",
      "[120]\ttraining's l2: 0.686037\tvalid_1's l2: 0.415985\n",
      "[130]\ttraining's l2: 0.683423\tvalid_1's l2: 0.416276\n",
      "[140]\ttraining's l2: 0.680301\tvalid_1's l2: 0.416014\n",
      "[150]\ttraining's l2: 0.677164\tvalid_1's l2: 0.416137\n",
      "[160]\ttraining's l2: 0.674341\tvalid_1's l2: 0.416302\n"
     ]
    },
    {
     "name": "stderr",
     "output_type": "stream",
     "text": [
      "  3%|██▌                                                                          | 57/1699 [25:39<15:06:15, 33.12s/it]"
     ]
    },
    {
     "name": "stdout",
     "output_type": "stream",
     "text": [
      "Val Weighted R2 score is: 0.022344740822782705\n",
      "date_id: 57\n",
      "[10]\ttraining's l2: 0.747846\tvalid_1's l2: 0.76722\n",
      "[20]\ttraining's l2: 0.736197\tvalid_1's l2: 0.765414\n",
      "[30]\ttraining's l2: 0.726174\tvalid_1's l2: 0.764173\n",
      "[40]\ttraining's l2: 0.717985\tvalid_1's l2: 0.764114\n",
      "[50]\ttraining's l2: 0.711248\tvalid_1's l2: 0.764694\n",
      "[60]\ttraining's l2: 0.705913\tvalid_1's l2: 0.764194\n",
      "Val Weighted R2 score is: 0.009007718771452677\n"
     ]
    },
    {
     "name": "stderr",
     "output_type": "stream",
     "text": [
      "  3%|██▋                                                                          | 58/1699 [25:59<13:24:46, 29.43s/it]"
     ]
    },
    {
     "name": "stdout",
     "output_type": "stream",
     "text": [
      "date_id: 58\n",
      "[10]\ttraining's l2: 0.754175\tvalid_1's l2: 0.584907\n",
      "[20]\ttraining's l2: 0.742595\tvalid_1's l2: 0.581912\n",
      "[30]\ttraining's l2: 0.732576\tvalid_1's l2: 0.579423\n",
      "[40]\ttraining's l2: 0.723937\tvalid_1's l2: 0.578463\n",
      "[50]\ttraining's l2: 0.716686\tvalid_1's l2: 0.576914\n",
      "[60]\ttraining's l2: 0.710888\tvalid_1's l2: 0.576782\n",
      "[70]\ttraining's l2: 0.706134\tvalid_1's l2: 0.576793\n",
      "[80]\ttraining's l2: 0.702495\tvalid_1's l2: 0.576543\n",
      "[90]\ttraining's l2: 0.698795\tvalid_1's l2: 0.57657\n",
      "[100]\ttraining's l2: 0.695907\tvalid_1's l2: 0.576538\n"
     ]
    },
    {
     "name": "stderr",
     "output_type": "stream",
     "text": [
      "  3%|██▋                                                                          | 59/1699 [26:26<12:59:37, 28.52s/it]"
     ]
    },
    {
     "name": "stdout",
     "output_type": "stream",
     "text": [
      "Val Weighted R2 score is: 0.015478073661402747\n",
      "date_id: 59\n",
      "[10]\ttraining's l2: 0.750125\tvalid_1's l2: 0.810664\n",
      "[20]\ttraining's l2: 0.738958\tvalid_1's l2: 0.805137\n",
      "[30]\ttraining's l2: 0.72882\tvalid_1's l2: 0.801448\n",
      "[40]\ttraining's l2: 0.720772\tvalid_1's l2: 0.798359\n",
      "[50]\ttraining's l2: 0.714179\tvalid_1's l2: 0.796309\n",
      "[60]\ttraining's l2: 0.708688\tvalid_1's l2: 0.793585\n",
      "[70]\ttraining's l2: 0.70455\tvalid_1's l2: 0.79268\n",
      "[80]\ttraining's l2: 0.700717\tvalid_1's l2: 0.790306\n",
      "[90]\ttraining's l2: 0.697558\tvalid_1's l2: 0.787834\n",
      "[100]\ttraining's l2: 0.694567\tvalid_1's l2: 0.786175\n",
      "[110]\ttraining's l2: 0.691374\tvalid_1's l2: 0.785709\n",
      "[120]\ttraining's l2: 0.688857\tvalid_1's l2: 0.784324\n",
      "[130]\ttraining's l2: 0.685872\tvalid_1's l2: 0.782074\n",
      "[140]\ttraining's l2: 0.683269\tvalid_1's l2: 0.781164\n",
      "[150]\ttraining's l2: 0.68052\tvalid_1's l2: 0.78021\n",
      "[160]\ttraining's l2: 0.677229\tvalid_1's l2: 0.77968\n",
      "[170]\ttraining's l2: 0.673931\tvalid_1's l2: 0.778787\n",
      "[180]\ttraining's l2: 0.671352\tvalid_1's l2: 0.778084\n",
      "[190]\ttraining's l2: 0.668857\tvalid_1's l2: 0.777047\n",
      "[200]\ttraining's l2: 0.6666\tvalid_1's l2: 0.779002\n"
     ]
    },
    {
     "name": "stderr",
     "output_type": "stream",
     "text": [
      "  4%|██▋                                                                          | 60/1699 [27:00<13:47:52, 30.31s/it]"
     ]
    },
    {
     "name": "stdout",
     "output_type": "stream",
     "text": [
      "Val Weighted R2 score is: 0.04636984756189355\n",
      "date_id: 60\n",
      "[10]\ttraining's l2: 0.753466\tvalid_1's l2: 0.415466\n",
      "[20]\ttraining's l2: 0.741412\tvalid_1's l2: 0.414757\n",
      "[30]\ttraining's l2: 0.73085\tvalid_1's l2: 0.414898\n",
      "[40]\ttraining's l2: 0.72191\tvalid_1's l2: 0.415223\n"
     ]
    },
    {
     "name": "stderr",
     "output_type": "stream",
     "text": [
      "  4%|██▊                                                                          | 61/1699 [27:18<12:00:44, 26.40s/it]"
     ]
    },
    {
     "name": "stdout",
     "output_type": "stream",
     "text": [
      "Val Weighted R2 score is: 0.005729539816799023\n",
      "date_id: 61\n",
      "[10]\ttraining's l2: 0.757244\tvalid_1's l2: 0.464106\n",
      "[20]\ttraining's l2: 0.745536\tvalid_1's l2: 0.460609\n",
      "[30]\ttraining's l2: 0.735304\tvalid_1's l2: 0.458036\n",
      "[40]\ttraining's l2: 0.726355\tvalid_1's l2: 0.456073\n",
      "[50]\ttraining's l2: 0.718685\tvalid_1's l2: 0.454399\n",
      "[60]\ttraining's l2: 0.712071\tvalid_1's l2: 0.454213\n",
      "[70]\ttraining's l2: 0.706974\tvalid_1's l2: 0.453537\n",
      "[80]\ttraining's l2: 0.702158\tvalid_1's l2: 0.45284\n",
      "[90]\ttraining's l2: 0.698349\tvalid_1's l2: 0.451733\n",
      "[100]\ttraining's l2: 0.695502\tvalid_1's l2: 0.451284\n",
      "[110]\ttraining's l2: 0.692852\tvalid_1's l2: 0.451009\n",
      "[120]\ttraining's l2: 0.690299\tvalid_1's l2: 0.450908\n",
      "[130]\ttraining's l2: 0.687723\tvalid_1's l2: 0.450645\n",
      "[140]\ttraining's l2: 0.684945\tvalid_1's l2: 0.45069\n",
      "[150]\ttraining's l2: 0.682329\tvalid_1's l2: 0.450298\n",
      "[160]\ttraining's l2: 0.679427\tvalid_1's l2: 0.45029\n",
      "[170]\ttraining's l2: 0.676184\tvalid_1's l2: 0.44998\n",
      "[180]\ttraining's l2: 0.673689\tvalid_1's l2: 0.449673\n",
      "[190]\ttraining's l2: 0.670918\tvalid_1's l2: 0.449618\n",
      "[200]\ttraining's l2: 0.668244\tvalid_1's l2: 0.449356\n",
      "[210]\ttraining's l2: 0.665693\tvalid_1's l2: 0.448854\n",
      "[220]\ttraining's l2: 0.662851\tvalid_1's l2: 0.448595\n",
      "[230]\ttraining's l2: 0.660861\tvalid_1's l2: 0.448384\n",
      "[240]\ttraining's l2: 0.658002\tvalid_1's l2: 0.448537\n",
      "[250]\ttraining's l2: 0.655036\tvalid_1's l2: 0.448693\n"
     ]
    },
    {
     "name": "stderr",
     "output_type": "stream",
     "text": [
      "  4%|██▊                                                                          | 62/1699 [28:00<14:14:56, 31.34s/it]"
     ]
    },
    {
     "name": "stdout",
     "output_type": "stream",
     "text": [
      "Val Weighted R2 score is: 0.04545912122392015\n",
      "date_id: 62\n",
      "[10]\ttraining's l2: 0.753429\tvalid_1's l2: 0.569113\n",
      "[20]\ttraining's l2: 0.741616\tvalid_1's l2: 0.566142\n",
      "[30]\ttraining's l2: 0.731183\tvalid_1's l2: 0.564638\n",
      "[40]\ttraining's l2: 0.722463\tvalid_1's l2: 0.563377\n",
      "[50]\ttraining's l2: 0.715468\tvalid_1's l2: 0.562651\n",
      "[60]\ttraining's l2: 0.709586\tvalid_1's l2: 0.562027\n",
      "[70]\ttraining's l2: 0.704997\tvalid_1's l2: 0.560922\n",
      "[80]\ttraining's l2: 0.701107\tvalid_1's l2: 0.560387\n",
      "[90]\ttraining's l2: 0.697648\tvalid_1's l2: 0.560016\n",
      "[100]\ttraining's l2: 0.694271\tvalid_1's l2: 0.559568\n",
      "[110]\ttraining's l2: 0.690939\tvalid_1's l2: 0.559112\n",
      "[120]\ttraining's l2: 0.688344\tvalid_1's l2: 0.559039\n",
      "[130]\ttraining's l2: 0.685592\tvalid_1's l2: 0.558682\n",
      "[140]\ttraining's l2: 0.682596\tvalid_1's l2: 0.558946\n",
      "[150]\ttraining's l2: 0.679731\tvalid_1's l2: 0.558485\n",
      "[160]\ttraining's l2: 0.67704\tvalid_1's l2: 0.558117\n",
      "[170]\ttraining's l2: 0.674509\tvalid_1's l2: 0.558492\n"
     ]
    },
    {
     "name": "stderr",
     "output_type": "stream",
     "text": [
      "  4%|██▊                                                                          | 63/1699 [28:33<14:27:39, 31.82s/it]"
     ]
    },
    {
     "name": "stdout",
     "output_type": "stream",
     "text": [
      "Val Weighted R2 score is: 0.02906021587698726\n",
      "date_id: 63\n",
      "[10]\ttraining's l2: 0.753378\tvalid_1's l2: 0.4367\n",
      "[20]\ttraining's l2: 0.742196\tvalid_1's l2: 0.433936\n",
      "[30]\ttraining's l2: 0.731999\tvalid_1's l2: 0.432412\n",
      "[40]\ttraining's l2: 0.72378\tvalid_1's l2: 0.431194\n",
      "[50]\ttraining's l2: 0.716758\tvalid_1's l2: 0.430716\n",
      "[60]\ttraining's l2: 0.711183\tvalid_1's l2: 0.430699\n",
      "[70]\ttraining's l2: 0.706328\tvalid_1's l2: 0.430484\n",
      "[80]\ttraining's l2: 0.702314\tvalid_1's l2: 0.430283\n",
      "[90]\ttraining's l2: 0.698948\tvalid_1's l2: 0.430442\n"
     ]
    },
    {
     "name": "stderr",
     "output_type": "stream",
     "text": [
      "  4%|██▉                                                                          | 64/1699 [28:58<13:27:25, 29.63s/it]"
     ]
    },
    {
     "name": "stdout",
     "output_type": "stream",
     "text": [
      "Val Weighted R2 score is: 0.011382858828712594\n",
      "date_id: 64\n",
      "[10]\ttraining's l2: 0.748072\tvalid_1's l2: 0.388949\n",
      "[20]\ttraining's l2: 0.736502\tvalid_1's l2: 0.387807\n",
      "[30]\ttraining's l2: 0.726228\tvalid_1's l2: 0.386547\n",
      "[40]\ttraining's l2: 0.717664\tvalid_1's l2: 0.386072\n",
      "[50]\ttraining's l2: 0.71029\tvalid_1's l2: 0.385794\n",
      "[60]\ttraining's l2: 0.704234\tvalid_1's l2: 0.385378\n",
      "[70]\ttraining's l2: 0.699555\tvalid_1's l2: 0.384965\n",
      "[80]\ttraining's l2: 0.695354\tvalid_1's l2: 0.38471\n",
      "[90]\ttraining's l2: 0.691478\tvalid_1's l2: 0.384451\n",
      "[100]\ttraining's l2: 0.688046\tvalid_1's l2: 0.384417\n"
     ]
    },
    {
     "name": "stderr",
     "output_type": "stream",
     "text": [
      "  4%|██▉                                                                          | 65/1699 [29:26<13:14:51, 29.19s/it]"
     ]
    },
    {
     "name": "stdout",
     "output_type": "stream",
     "text": [
      "Val Weighted R2 score is: 0.020150053731229578\n",
      "date_id: 65\n",
      "[10]\ttraining's l2: 0.754429\tvalid_1's l2: 0.251048\n",
      "[20]\ttraining's l2: 0.742866\tvalid_1's l2: 0.249998\n",
      "[30]\ttraining's l2: 0.732528\tvalid_1's l2: 0.249321\n",
      "[40]\ttraining's l2: 0.723646\tvalid_1's l2: 0.249184\n",
      "[50]\ttraining's l2: 0.716383\tvalid_1's l2: 0.248889\n",
      "[60]\ttraining's l2: 0.710542\tvalid_1's l2: 0.24897\n",
      "[70]\ttraining's l2: 0.705855\tvalid_1's l2: 0.249028\n"
     ]
    },
    {
     "name": "stderr",
     "output_type": "stream",
     "text": [
      "  4%|██▉                                                                          | 66/1699 [29:50<12:33:45, 27.69s/it]"
     ]
    },
    {
     "name": "stdout",
     "output_type": "stream",
     "text": [
      "Val Weighted R2 score is: 0.017066749378756962\n",
      "date_id: 66\n",
      "[10]\ttraining's l2: 0.751279\tvalid_1's l2: 0.25817\n",
      "[20]\ttraining's l2: 0.739762\tvalid_1's l2: 0.256279\n",
      "[30]\ttraining's l2: 0.729519\tvalid_1's l2: 0.254714\n",
      "[40]\ttraining's l2: 0.721108\tvalid_1's l2: 0.25389\n",
      "[50]\ttraining's l2: 0.713939\tvalid_1's l2: 0.253212\n",
      "[60]\ttraining's l2: 0.70823\tvalid_1's l2: 0.25261\n",
      "[70]\ttraining's l2: 0.703584\tvalid_1's l2: 0.252514\n",
      "[80]\ttraining's l2: 0.699674\tvalid_1's l2: 0.252445\n",
      "[90]\ttraining's l2: 0.696614\tvalid_1's l2: 0.252555\n",
      "[100]\ttraining's l2: 0.69365\tvalid_1's l2: 0.252548\n"
     ]
    },
    {
     "name": "stderr",
     "output_type": "stream",
     "text": [
      "  4%|███                                                                          | 67/1699 [30:17<12:26:22, 27.44s/it]"
     ]
    },
    {
     "name": "stdout",
     "output_type": "stream",
     "text": [
      "Val Weighted R2 score is: 0.036331895896180244\n",
      "date_id: 67\n",
      "[10]\ttraining's l2: 0.756111\tvalid_1's l2: 1.00919\n",
      "[20]\ttraining's l2: 0.74456\tvalid_1's l2: 1.0074\n",
      "[30]\ttraining's l2: 0.734403\tvalid_1's l2: 1.007\n",
      "[40]\ttraining's l2: 0.725724\tvalid_1's l2: 1.0062\n",
      "[50]\ttraining's l2: 0.718431\tvalid_1's l2: 1.00492\n",
      "[60]\ttraining's l2: 0.712247\tvalid_1's l2: 1.00472\n",
      "[70]\ttraining's l2: 0.706904\tvalid_1's l2: 1.00523\n",
      "[80]\ttraining's l2: 0.703133\tvalid_1's l2: 1.00535\n"
     ]
    },
    {
     "name": "stderr",
     "output_type": "stream",
     "text": [
      "  4%|███                                                                          | 68/1699 [30:42<12:04:35, 26.66s/it]"
     ]
    },
    {
     "name": "stdout",
     "output_type": "stream",
     "text": [
      "Val Weighted R2 score is: -0.0031219780880717973\n",
      "date_id: 68\n",
      "[10]\ttraining's l2: 0.758489\tvalid_1's l2: 0.494692\n",
      "[20]\ttraining's l2: 0.746623\tvalid_1's l2: 0.491082\n",
      "[30]\ttraining's l2: 0.736348\tvalid_1's l2: 0.490124\n",
      "[40]\ttraining's l2: 0.727501\tvalid_1's l2: 0.489427\n",
      "[50]\ttraining's l2: 0.720282\tvalid_1's l2: 0.489253\n",
      "[60]\ttraining's l2: 0.714471\tvalid_1's l2: 0.488813\n",
      "[70]\ttraining's l2: 0.709679\tvalid_1's l2: 0.487892\n",
      "[80]\ttraining's l2: 0.706195\tvalid_1's l2: 0.487378\n",
      "[90]\ttraining's l2: 0.702604\tvalid_1's l2: 0.486238\n",
      "[100]\ttraining's l2: 0.699471\tvalid_1's l2: 0.485609\n",
      "[110]\ttraining's l2: 0.696455\tvalid_1's l2: 0.485448\n",
      "[120]\ttraining's l2: 0.693248\tvalid_1's l2: 0.484662\n",
      "[130]\ttraining's l2: 0.689966\tvalid_1's l2: 0.484407\n",
      "[140]\ttraining's l2: 0.687309\tvalid_1's l2: 0.484632\n",
      "[150]\ttraining's l2: 0.684566\tvalid_1's l2: 0.484244\n",
      "[160]\ttraining's l2: 0.682024\tvalid_1's l2: 0.484146\n",
      "[170]\ttraining's l2: 0.678961\tvalid_1's l2: 0.484357\n"
     ]
    },
    {
     "name": "stderr",
     "output_type": "stream",
     "text": [
      "  4%|███▏                                                                         | 69/1699 [31:16<13:08:53, 29.04s/it]"
     ]
    },
    {
     "name": "stdout",
     "output_type": "stream",
     "text": [
      "Val Weighted R2 score is: 0.030257394086365852\n",
      "date_id: 69\n",
      "[10]\ttraining's l2: 0.754997\tvalid_1's l2: 0.373021\n",
      "[20]\ttraining's l2: 0.743263\tvalid_1's l2: 0.373031\n",
      "[30]\ttraining's l2: 0.732862\tvalid_1's l2: 0.373604\n"
     ]
    },
    {
     "name": "stderr",
     "output_type": "stream",
     "text": [
      "  4%|███▏                                                                         | 70/1699 [31:32<11:19:55, 25.04s/it]"
     ]
    },
    {
     "name": "stdout",
     "output_type": "stream",
     "text": [
      "Val Weighted R2 score is: 0.0030932780959352923\n",
      "date_id: 70\n",
      "[10]\ttraining's l2: 0.755493\tvalid_1's l2: 0.528253\n",
      "[20]\ttraining's l2: 0.74425\tvalid_1's l2: 0.525675\n",
      "[30]\ttraining's l2: 0.734276\tvalid_1's l2: 0.52421\n",
      "[40]\ttraining's l2: 0.725417\tvalid_1's l2: 0.523018\n",
      "[50]\ttraining's l2: 0.718342\tvalid_1's l2: 0.522639\n",
      "[60]\ttraining's l2: 0.712747\tvalid_1's l2: 0.522343\n",
      "[70]\ttraining's l2: 0.707828\tvalid_1's l2: 0.521826\n",
      "[80]\ttraining's l2: 0.704089\tvalid_1's l2: 0.521623\n",
      "[90]\ttraining's l2: 0.700596\tvalid_1's l2: 0.521639\n"
     ]
    },
    {
     "name": "stderr",
     "output_type": "stream",
     "text": [
      "  4%|███▏                                                                         | 71/1699 [31:59<11:36:14, 25.66s/it]"
     ]
    },
    {
     "name": "stdout",
     "output_type": "stream",
     "text": [
      "Val Weighted R2 score is: 0.019192594082960035\n",
      "date_id: 71\n",
      "[10]\ttraining's l2: 0.749947\tvalid_1's l2: 0.56874\n",
      "[20]\ttraining's l2: 0.738269\tvalid_1's l2: 0.567692\n",
      "[30]\ttraining's l2: 0.728067\tvalid_1's l2: 0.567328\n",
      "[40]\ttraining's l2: 0.719043\tvalid_1's l2: 0.567156\n",
      "[50]\ttraining's l2: 0.711784\tvalid_1's l2: 0.567745\n"
     ]
    },
    {
     "name": "stderr",
     "output_type": "stream",
     "text": [
      "  4%|███▎                                                                         | 72/1699 [32:20<10:54:20, 24.13s/it]"
     ]
    },
    {
     "name": "stdout",
     "output_type": "stream",
     "text": [
      "Val Weighted R2 score is: 0.0020521600790549543\n",
      "date_id: 72\n",
      "[10]\ttraining's l2: 0.752911\tvalid_1's l2: 0.707919\n",
      "[20]\ttraining's l2: 0.741373\tvalid_1's l2: 0.703479\n",
      "[30]\ttraining's l2: 0.731311\tvalid_1's l2: 0.6997\n",
      "[40]\ttraining's l2: 0.722544\tvalid_1's l2: 0.69696\n",
      "[50]\ttraining's l2: 0.715104\tvalid_1's l2: 0.695573\n",
      "[60]\ttraining's l2: 0.709493\tvalid_1's l2: 0.694842\n",
      "[70]\ttraining's l2: 0.704714\tvalid_1's l2: 0.694113\n",
      "[80]\ttraining's l2: 0.701014\tvalid_1's l2: 0.693695\n",
      "[90]\ttraining's l2: 0.697778\tvalid_1's l2: 0.692963\n",
      "[100]\ttraining's l2: 0.694299\tvalid_1's l2: 0.692472\n",
      "[110]\ttraining's l2: 0.691424\tvalid_1's l2: 0.691451\n",
      "[120]\ttraining's l2: 0.688757\tvalid_1's l2: 0.69065\n",
      "[130]\ttraining's l2: 0.685492\tvalid_1's l2: 0.689212\n",
      "[140]\ttraining's l2: 0.682566\tvalid_1's l2: 0.688802\n",
      "[150]\ttraining's l2: 0.679487\tvalid_1's l2: 0.688236\n",
      "[160]\ttraining's l2: 0.675862\tvalid_1's l2: 0.688217\n"
     ]
    },
    {
     "name": "stderr",
     "output_type": "stream",
     "text": [
      "  4%|███▎                                                                         | 73/1699 [32:54<12:13:52, 27.08s/it]"
     ]
    },
    {
     "name": "stdout",
     "output_type": "stream",
     "text": [
      "Val Weighted R2 score is: 0.036512352571249296\n",
      "date_id: 73\n",
      "[10]\ttraining's l2: 0.755307\tvalid_1's l2: 0.522479\n",
      "[20]\ttraining's l2: 0.743885\tvalid_1's l2: 0.521379\n",
      "[30]\ttraining's l2: 0.733929\tvalid_1's l2: 0.520728\n",
      "[40]\ttraining's l2: 0.72512\tvalid_1's l2: 0.519962\n",
      "[50]\ttraining's l2: 0.718035\tvalid_1's l2: 0.519426\n",
      "[60]\ttraining's l2: 0.712067\tvalid_1's l2: 0.519903\n",
      "[70]\ttraining's l2: 0.707098\tvalid_1's l2: 0.51997\n"
     ]
    },
    {
     "name": "stderr",
     "output_type": "stream",
     "text": [
      "  4%|███▎                                                                         | 74/1699 [33:15<11:28:17, 25.41s/it]"
     ]
    },
    {
     "name": "stdout",
     "output_type": "stream",
     "text": [
      "Val Weighted R2 score is: 0.010300559635975426\n",
      "date_id: 74\n",
      "[10]\ttraining's l2: 0.753033\tvalid_1's l2: 0.627377\n",
      "[20]\ttraining's l2: 0.741346\tvalid_1's l2: 0.625308\n",
      "[30]\ttraining's l2: 0.731175\tvalid_1's l2: 0.623769\n",
      "[40]\ttraining's l2: 0.722348\tvalid_1's l2: 0.62346\n",
      "[50]\ttraining's l2: 0.714973\tvalid_1's l2: 0.622839\n",
      "[60]\ttraining's l2: 0.709335\tvalid_1's l2: 0.622489\n",
      "[70]\ttraining's l2: 0.704493\tvalid_1's l2: 0.622021\n",
      "[80]\ttraining's l2: 0.700324\tvalid_1's l2: 0.621752\n",
      "[90]\ttraining's l2: 0.696232\tvalid_1's l2: 0.621817\n"
     ]
    },
    {
     "name": "stderr",
     "output_type": "stream",
     "text": [
      "  4%|███▍                                                                         | 75/1699 [33:41<11:32:36, 25.59s/it]"
     ]
    },
    {
     "name": "stdout",
     "output_type": "stream",
     "text": [
      "Val Weighted R2 score is: 0.015031964082453553\n",
      "date_id: 75\n",
      "[10]\ttraining's l2: 0.75052\tvalid_1's l2: 0.4783\n",
      "[20]\ttraining's l2: 0.73903\tvalid_1's l2: 0.476831\n",
      "[30]\ttraining's l2: 0.7291\tvalid_1's l2: 0.475754\n",
      "[40]\ttraining's l2: 0.720675\tvalid_1's l2: 0.475393\n",
      "[50]\ttraining's l2: 0.713399\tvalid_1's l2: 0.474797\n",
      "[60]\ttraining's l2: 0.708008\tvalid_1's l2: 0.474205\n",
      "[70]\ttraining's l2: 0.703563\tvalid_1's l2: 0.473934\n",
      "[80]\ttraining's l2: 0.69992\tvalid_1's l2: 0.47363\n",
      "[90]\ttraining's l2: 0.696824\tvalid_1's l2: 0.473222\n",
      "[100]\ttraining's l2: 0.693895\tvalid_1's l2: 0.472967\n",
      "[110]\ttraining's l2: 0.69136\tvalid_1's l2: 0.472793\n",
      "[120]\ttraining's l2: 0.688218\tvalid_1's l2: 0.47224\n",
      "[130]\ttraining's l2: 0.684977\tvalid_1's l2: 0.472201\n",
      "[140]\ttraining's l2: 0.682395\tvalid_1's l2: 0.471912\n",
      "[150]\ttraining's l2: 0.679789\tvalid_1's l2: 0.471701\n",
      "[160]\ttraining's l2: 0.676363\tvalid_1's l2: 0.471604\n",
      "[170]\ttraining's l2: 0.67314\tvalid_1's l2: 0.471372\n",
      "[180]\ttraining's l2: 0.670266\tvalid_1's l2: 0.471378\n",
      "[190]\ttraining's l2: 0.667619\tvalid_1's l2: 0.470893\n",
      "[200]\ttraining's l2: 0.664124\tvalid_1's l2: 0.471071\n"
     ]
    },
    {
     "name": "stderr",
     "output_type": "stream",
     "text": [
      "  4%|███▍                                                                         | 76/1699 [34:17<12:50:47, 28.50s/it]"
     ]
    },
    {
     "name": "stdout",
     "output_type": "stream",
     "text": [
      "Val Weighted R2 score is: 0.019196411266704683\n",
      "date_id: 76\n",
      "[10]\ttraining's l2: 0.756819\tvalid_1's l2: 0.359877\n",
      "[20]\ttraining's l2: 0.745043\tvalid_1's l2: 0.358593\n",
      "[30]\ttraining's l2: 0.734625\tvalid_1's l2: 0.357371\n",
      "[40]\ttraining's l2: 0.725664\tvalid_1's l2: 0.356716\n",
      "[50]\ttraining's l2: 0.717825\tvalid_1's l2: 0.356396\n",
      "[60]\ttraining's l2: 0.711962\tvalid_1's l2: 0.356251\n",
      "[70]\ttraining's l2: 0.706801\tvalid_1's l2: 0.355639\n",
      "[80]\ttraining's l2: 0.702447\tvalid_1's l2: 0.355409\n",
      "[90]\ttraining's l2: 0.698976\tvalid_1's l2: 0.35562\n",
      "[100]\ttraining's l2: 0.695836\tvalid_1's l2: 0.355454\n"
     ]
    },
    {
     "name": "stderr",
     "output_type": "stream",
     "text": [
      "  5%|███▍                                                                         | 77/1699 [34:44<12:37:14, 28.01s/it]"
     ]
    },
    {
     "name": "stdout",
     "output_type": "stream",
     "text": [
      "Val Weighted R2 score is: 0.02161112311734814\n",
      "date_id: 77\n",
      "[10]\ttraining's l2: 0.756496\tvalid_1's l2: 0.385976\n",
      "[20]\ttraining's l2: 0.744821\tvalid_1's l2: 0.382406\n",
      "[30]\ttraining's l2: 0.734386\tvalid_1's l2: 0.379628\n",
      "[40]\ttraining's l2: 0.725707\tvalid_1's l2: 0.377462\n",
      "[50]\ttraining's l2: 0.718357\tvalid_1's l2: 0.376341\n",
      "[60]\ttraining's l2: 0.711964\tvalid_1's l2: 0.375554\n",
      "[70]\ttraining's l2: 0.706614\tvalid_1's l2: 0.374968\n",
      "[80]\ttraining's l2: 0.702485\tvalid_1's l2: 0.374391\n",
      "[90]\ttraining's l2: 0.699082\tvalid_1's l2: 0.373916\n",
      "[100]\ttraining's l2: 0.695923\tvalid_1's l2: 0.373303\n",
      "[110]\ttraining's l2: 0.692657\tvalid_1's l2: 0.372974\n",
      "[120]\ttraining's l2: 0.689235\tvalid_1's l2: 0.372987\n",
      "[130]\ttraining's l2: 0.686629\tvalid_1's l2: 0.373136\n"
     ]
    },
    {
     "name": "stderr",
     "output_type": "stream",
     "text": [
      "  5%|███▌                                                                         | 78/1699 [35:14<12:59:39, 28.86s/it]"
     ]
    },
    {
     "name": "stdout",
     "output_type": "stream",
     "text": [
      "Val Weighted R2 score is: 0.04458625299121666\n",
      "date_id: 78\n",
      "[10]\ttraining's l2: 0.751356\tvalid_1's l2: 0.519624\n",
      "[20]\ttraining's l2: 0.739809\tvalid_1's l2: 0.518521\n",
      "[30]\ttraining's l2: 0.729612\tvalid_1's l2: 0.517476\n",
      "[40]\ttraining's l2: 0.72091\tvalid_1's l2: 0.516804\n",
      "[50]\ttraining's l2: 0.713592\tvalid_1's l2: 0.516557\n",
      "[60]\ttraining's l2: 0.707964\tvalid_1's l2: 0.515942\n",
      "[70]\ttraining's l2: 0.703342\tvalid_1's l2: 0.51539\n",
      "[80]\ttraining's l2: 0.699951\tvalid_1's l2: 0.51553\n"
     ]
    },
    {
     "name": "stderr",
     "output_type": "stream",
     "text": [
      "  5%|███▌                                                                         | 79/1699 [35:39<12:25:35, 27.61s/it]"
     ]
    },
    {
     "name": "stdout",
     "output_type": "stream",
     "text": [
      "Val Weighted R2 score is: 0.002030654699314516\n",
      "date_id: 79\n",
      "[10]\ttraining's l2: 0.752111\tvalid_1's l2: 0.5719\n",
      "[20]\ttraining's l2: 0.740478\tvalid_1's l2: 0.568998\n",
      "[30]\ttraining's l2: 0.730252\tvalid_1's l2: 0.567257\n",
      "[40]\ttraining's l2: 0.721657\tvalid_1's l2: 0.566322\n",
      "[50]\ttraining's l2: 0.714516\tvalid_1's l2: 0.566024\n",
      "[60]\ttraining's l2: 0.708516\tvalid_1's l2: 0.564978\n",
      "[70]\ttraining's l2: 0.703508\tvalid_1's l2: 0.564094\n",
      "[80]\ttraining's l2: 0.699638\tvalid_1's l2: 0.564122\n",
      "[90]\ttraining's l2: 0.696003\tvalid_1's l2: 0.564683\n"
     ]
    },
    {
     "name": "stderr",
     "output_type": "stream",
     "text": [
      "  5%|███▋                                                                         | 80/1699 [36:05<12:09:45, 27.05s/it]"
     ]
    },
    {
     "name": "stdout",
     "output_type": "stream",
     "text": [
      "Val Weighted R2 score is: 0.015660168425081777\n",
      "date_id: 80\n",
      "[10]\ttraining's l2: 0.75266\tvalid_1's l2: 0.457292\n",
      "[20]\ttraining's l2: 0.740921\tvalid_1's l2: 0.455488\n",
      "[30]\ttraining's l2: 0.730514\tvalid_1's l2: 0.454688\n",
      "[40]\ttraining's l2: 0.721841\tvalid_1's l2: 0.454437\n",
      "[50]\ttraining's l2: 0.714217\tvalid_1's l2: 0.454186\n",
      "[60]\ttraining's l2: 0.708514\tvalid_1's l2: 0.454294\n",
      "[70]\ttraining's l2: 0.703627\tvalid_1's l2: 0.454616\n"
     ]
    },
    {
     "name": "stderr",
     "output_type": "stream",
     "text": [
      "  5%|███▋                                                                         | 81/1699 [36:29<11:43:54, 26.10s/it]"
     ]
    },
    {
     "name": "stdout",
     "output_type": "stream",
     "text": [
      "Val Weighted R2 score is: 0.014397715489255392\n",
      "date_id: 81\n",
      "[10]\ttraining's l2: 0.756123\tvalid_1's l2: 0.464633\n",
      "[20]\ttraining's l2: 0.744399\tvalid_1's l2: 0.464388\n",
      "[30]\ttraining's l2: 0.734097\tvalid_1's l2: 0.464145\n",
      "[40]\ttraining's l2: 0.725166\tvalid_1's l2: 0.46402\n"
     ]
    },
    {
     "name": "stderr",
     "output_type": "stream",
     "text": [
      "  5%|███▋                                                                         | 82/1699 [36:46<10:33:07, 23.49s/it]"
     ]
    },
    {
     "name": "stdout",
     "output_type": "stream",
     "text": [
      "Val Weighted R2 score is: 0.0005832694797300864\n",
      "date_id: 82\n",
      "[10]\ttraining's l2: 0.753622\tvalid_1's l2: 0.520253\n",
      "[20]\ttraining's l2: 0.742009\tvalid_1's l2: 0.518293\n",
      "[30]\ttraining's l2: 0.731794\tvalid_1's l2: 0.517536\n",
      "[40]\ttraining's l2: 0.722973\tvalid_1's l2: 0.517352\n",
      "[50]\ttraining's l2: 0.715994\tvalid_1's l2: 0.516844\n",
      "[60]\ttraining's l2: 0.711003\tvalid_1's l2: 0.516863\n",
      "[70]\ttraining's l2: 0.70703\tvalid_1's l2: 0.517077\n",
      "[80]\ttraining's l2: 0.703363\tvalid_1's l2: 0.516347\n",
      "[90]\ttraining's l2: 0.699804\tvalid_1's l2: 0.515987\n",
      "[100]\ttraining's l2: 0.696507\tvalid_1's l2: 0.516181\n",
      "[110]\ttraining's l2: 0.693192\tvalid_1's l2: 0.515934\n",
      "[120]\ttraining's l2: 0.690109\tvalid_1's l2: 0.515637\n",
      "[130]\ttraining's l2: 0.687351\tvalid_1's l2: 0.515608\n",
      "[140]\ttraining's l2: 0.683734\tvalid_1's l2: 0.515396\n",
      "[150]\ttraining's l2: 0.680497\tvalid_1's l2: 0.515389\n",
      "[160]\ttraining's l2: 0.677774\tvalid_1's l2: 0.515341\n",
      "[170]\ttraining's l2: 0.674527\tvalid_1's l2: 0.51566\n"
     ]
    },
    {
     "name": "stderr",
     "output_type": "stream",
     "text": [
      "  5%|███▊                                                                         | 83/1699 [37:19<11:46:39, 26.24s/it]"
     ]
    },
    {
     "name": "stdout",
     "output_type": "stream",
     "text": [
      "Val Weighted R2 score is: 0.008026892521137419\n",
      "date_id: 83\n",
      "[10]\ttraining's l2: 0.751663\tvalid_1's l2: 0.596786\n",
      "[20]\ttraining's l2: 0.740241\tvalid_1's l2: 0.592329\n",
      "[30]\ttraining's l2: 0.730145\tvalid_1's l2: 0.589125\n",
      "[40]\ttraining's l2: 0.721824\tvalid_1's l2: 0.587079\n",
      "[50]\ttraining's l2: 0.715265\tvalid_1's l2: 0.585181\n",
      "[60]\ttraining's l2: 0.710449\tvalid_1's l2: 0.583986\n",
      "[70]\ttraining's l2: 0.705624\tvalid_1's l2: 0.583607\n",
      "[80]\ttraining's l2: 0.70155\tvalid_1's l2: 0.583132\n",
      "[90]\ttraining's l2: 0.698295\tvalid_1's l2: 0.5828\n",
      "[100]\ttraining's l2: 0.695472\tvalid_1's l2: 0.582529\n",
      "[110]\ttraining's l2: 0.692926\tvalid_1's l2: 0.582612\n",
      "[120]\ttraining's l2: 0.69018\tvalid_1's l2: 0.582452\n",
      "[130]\ttraining's l2: 0.6875\tvalid_1's l2: 0.582126\n",
      "[140]\ttraining's l2: 0.684638\tvalid_1's l2: 0.581913\n",
      "[150]\ttraining's l2: 0.681381\tvalid_1's l2: 0.58143\n",
      "[160]\ttraining's l2: 0.678708\tvalid_1's l2: 0.581039\n",
      "[170]\ttraining's l2: 0.675669\tvalid_1's l2: 0.580674\n",
      "[180]\ttraining's l2: 0.672965\tvalid_1's l2: 0.580435\n",
      "[190]\ttraining's l2: 0.670602\tvalid_1's l2: 0.580682\n",
      "[200]\ttraining's l2: 0.667789\tvalid_1's l2: 0.580779\n"
     ]
    },
    {
     "name": "stderr",
     "output_type": "stream",
     "text": [
      "  5%|███▊                                                                         | 84/1699 [37:54<13:00:28, 29.00s/it]"
     ]
    },
    {
     "name": "stdout",
     "output_type": "stream",
     "text": [
      "Val Weighted R2 score is: 0.0372766998495484\n",
      "date_id: 84\n",
      "[10]\ttraining's l2: 0.760719\tvalid_1's l2: 0.550339\n",
      "[20]\ttraining's l2: 0.74889\tvalid_1's l2: 0.549254\n",
      "[30]\ttraining's l2: 0.73857\tvalid_1's l2: 0.549467\n",
      "[40]\ttraining's l2: 0.729607\tvalid_1's l2: 0.55008\n"
     ]
    },
    {
     "name": "stderr",
     "output_type": "stream",
     "text": [
      "  5%|███▊                                                                         | 85/1699 [38:12<11:32:38, 25.75s/it]"
     ]
    },
    {
     "name": "stdout",
     "output_type": "stream",
     "text": [
      "Val Weighted R2 score is: 0.003801548025463841\n",
      "date_id: 85\n",
      "[10]\ttraining's l2: 0.755106\tvalid_1's l2: 0.677521\n",
      "[20]\ttraining's l2: 0.743521\tvalid_1's l2: 0.674042\n",
      "[30]\ttraining's l2: 0.733205\tvalid_1's l2: 0.671606\n",
      "[40]\ttraining's l2: 0.724558\tvalid_1's l2: 0.670355\n",
      "[50]\ttraining's l2: 0.717495\tvalid_1's l2: 0.669377\n",
      "[60]\ttraining's l2: 0.711418\tvalid_1's l2: 0.667971\n",
      "[70]\ttraining's l2: 0.70674\tvalid_1's l2: 0.667204\n",
      "[80]\ttraining's l2: 0.702776\tvalid_1's l2: 0.666191\n",
      "[90]\ttraining's l2: 0.698047\tvalid_1's l2: 0.665945\n",
      "[100]\ttraining's l2: 0.694765\tvalid_1's l2: 0.666187\n",
      "[110]\ttraining's l2: 0.691326\tvalid_1's l2: 0.665659\n",
      "[120]\ttraining's l2: 0.688161\tvalid_1's l2: 0.665461\n",
      "[130]\ttraining's l2: 0.684533\tvalid_1's l2: 0.664963\n",
      "[140]\ttraining's l2: 0.681675\tvalid_1's l2: 0.664378\n",
      "[150]\ttraining's l2: 0.678711\tvalid_1's l2: 0.664445\n",
      "[160]\ttraining's l2: 0.675621\tvalid_1's l2: 0.663978\n",
      "[170]\ttraining's l2: 0.672876\tvalid_1's l2: 0.663726\n",
      "[180]\ttraining's l2: 0.669503\tvalid_1's l2: 0.663491\n",
      "[190]\ttraining's l2: 0.66602\tvalid_1's l2: 0.663273\n",
      "[200]\ttraining's l2: 0.661905\tvalid_1's l2: 0.663028\n",
      "[210]\ttraining's l2: 0.658382\tvalid_1's l2: 0.663251\n"
     ]
    },
    {
     "name": "stderr",
     "output_type": "stream",
     "text": [
      "  5%|███▉                                                                         | 86/1699 [38:52<13:27:10, 30.02s/it]"
     ]
    },
    {
     "name": "stdout",
     "output_type": "stream",
     "text": [
      "Val Weighted R2 score is: 0.027473502482049605\n",
      "date_id: 86\n",
      "[10]\ttraining's l2: 0.750897\tvalid_1's l2: 0.874594\n",
      "[20]\ttraining's l2: 0.739426\tvalid_1's l2: 0.868675\n",
      "[30]\ttraining's l2: 0.729226\tvalid_1's l2: 0.864515\n",
      "[40]\ttraining's l2: 0.720562\tvalid_1's l2: 0.861665\n",
      "[50]\ttraining's l2: 0.713445\tvalid_1's l2: 0.859795\n",
      "[60]\ttraining's l2: 0.70827\tvalid_1's l2: 0.858523\n",
      "[70]\ttraining's l2: 0.703683\tvalid_1's l2: 0.857164\n",
      "[80]\ttraining's l2: 0.700028\tvalid_1's l2: 0.857056\n",
      "[90]\ttraining's l2: 0.696021\tvalid_1's l2: 0.85733\n"
     ]
    },
    {
     "name": "stderr",
     "output_type": "stream",
     "text": [
      "  5%|███▉                                                                         | 87/1699 [39:18<12:51:12, 28.70s/it]"
     ]
    },
    {
     "name": "stdout",
     "output_type": "stream",
     "text": [
      "Val Weighted R2 score is: 0.01944249546095811\n",
      "date_id: 87\n",
      "[10]\ttraining's l2: 0.751942\tvalid_1's l2: 0.711602\n",
      "[20]\ttraining's l2: 0.740348\tvalid_1's l2: 0.711612\n",
      "[30]\ttraining's l2: 0.730076\tvalid_1's l2: 0.711844\n"
     ]
    },
    {
     "name": "stderr",
     "output_type": "stream",
     "text": [
      "  5%|███▉                                                                         | 88/1699 [39:32<10:52:47, 24.31s/it]"
     ]
    },
    {
     "name": "stdout",
     "output_type": "stream",
     "text": [
      "Val Weighted R2 score is: -0.0009164773397718484\n",
      "date_id: 88\n",
      "[10]\ttraining's l2: 0.752468\tvalid_1's l2: 0.924458\n",
      "[20]\ttraining's l2: 0.74081\tvalid_1's l2: 0.918584\n",
      "[30]\ttraining's l2: 0.730551\tvalid_1's l2: 0.913905\n",
      "[40]\ttraining's l2: 0.721627\tvalid_1's l2: 0.910312\n",
      "[50]\ttraining's l2: 0.714259\tvalid_1's l2: 0.908042\n",
      "[60]\ttraining's l2: 0.708507\tvalid_1's l2: 0.906393\n",
      "[70]\ttraining's l2: 0.703432\tvalid_1's l2: 0.905257\n",
      "[80]\ttraining's l2: 0.699322\tvalid_1's l2: 0.90377\n",
      "[90]\ttraining's l2: 0.695529\tvalid_1's l2: 0.90205\n",
      "[100]\ttraining's l2: 0.692404\tvalid_1's l2: 0.901597\n",
      "[110]\ttraining's l2: 0.68899\tvalid_1's l2: 0.900265\n",
      "[120]\ttraining's l2: 0.68589\tvalid_1's l2: 0.899412\n",
      "[130]\ttraining's l2: 0.682939\tvalid_1's l2: 0.898605\n",
      "[140]\ttraining's l2: 0.679953\tvalid_1's l2: 0.897506\n",
      "[150]\ttraining's l2: 0.676458\tvalid_1's l2: 0.896782\n",
      "[160]\ttraining's l2: 0.673817\tvalid_1's l2: 0.896743\n",
      "[170]\ttraining's l2: 0.671002\tvalid_1's l2: 0.895787\n",
      "[180]\ttraining's l2: 0.668358\tvalid_1's l2: 0.894671\n",
      "[190]\ttraining's l2: 0.66531\tvalid_1's l2: 0.894515\n",
      "[200]\ttraining's l2: 0.662962\tvalid_1's l2: 0.894033\n",
      "[210]\ttraining's l2: 0.660304\tvalid_1's l2: 0.893614\n",
      "[220]\ttraining's l2: 0.657524\tvalid_1's l2: 0.893509\n",
      "[230]\ttraining's l2: 0.654743\tvalid_1's l2: 0.892628\n",
      "[240]\ttraining's l2: 0.652177\tvalid_1's l2: 0.892228\n",
      "[250]\ttraining's l2: 0.649317\tvalid_1's l2: 0.892231\n",
      "[260]\ttraining's l2: 0.646876\tvalid_1's l2: 0.891113\n",
      "[270]\ttraining's l2: 0.644313\tvalid_1's l2: 0.891034\n",
      "[280]\ttraining's l2: 0.641345\tvalid_1's l2: 0.890264\n",
      "[290]\ttraining's l2: 0.637971\tvalid_1's l2: 0.890175\n",
      "[300]\ttraining's l2: 0.635262\tvalid_1's l2: 0.890155\n",
      "[310]\ttraining's l2: 0.632742\tvalid_1's l2: 0.889591\n",
      "[320]\ttraining's l2: 0.630711\tvalid_1's l2: 0.889684\n",
      "[330]\ttraining's l2: 0.628419\tvalid_1's l2: 0.889653\n"
     ]
    },
    {
     "name": "stderr",
     "output_type": "stream",
     "text": [
      "  5%|████                                                                         | 89/1699 [40:31<15:30:59, 34.70s/it]"
     ]
    },
    {
     "name": "stdout",
     "output_type": "stream",
     "text": [
      "Val Weighted R2 score is: 0.046715947001904956\n",
      "date_id: 89\n",
      "[10]\ttraining's l2: 0.751805\tvalid_1's l2: 0.95259\n",
      "[20]\ttraining's l2: 0.740271\tvalid_1's l2: 0.949698\n",
      "[30]\ttraining's l2: 0.730036\tvalid_1's l2: 0.948814\n",
      "[40]\ttraining's l2: 0.721214\tvalid_1's l2: 0.948136\n",
      "[50]\ttraining's l2: 0.713913\tvalid_1's l2: 0.948764\n"
     ]
    },
    {
     "name": "stderr",
     "output_type": "stream",
     "text": [
      "  5%|████                                                                         | 90/1699 [40:50<13:23:44, 29.97s/it]"
     ]
    },
    {
     "name": "stdout",
     "output_type": "stream",
     "text": [
      "Val Weighted R2 score is: 0.002175135331693334\n",
      "date_id: 90\n",
      "[10]\ttraining's l2: 0.75276\tvalid_1's l2: 0.746327\n",
      "[20]\ttraining's l2: 0.741196\tvalid_1's l2: 0.741741\n",
      "[30]\ttraining's l2: 0.730808\tvalid_1's l2: 0.738799\n",
      "[40]\ttraining's l2: 0.721999\tvalid_1's l2: 0.736302\n",
      "[50]\ttraining's l2: 0.714653\tvalid_1's l2: 0.734436\n",
      "[60]\ttraining's l2: 0.709072\tvalid_1's l2: 0.733249\n",
      "[70]\ttraining's l2: 0.704586\tvalid_1's l2: 0.732468\n",
      "[80]\ttraining's l2: 0.700772\tvalid_1's l2: 0.73172\n",
      "[90]\ttraining's l2: 0.697374\tvalid_1's l2: 0.731472\n",
      "[100]\ttraining's l2: 0.694364\tvalid_1's l2: 0.730769\n",
      "[110]\ttraining's l2: 0.691435\tvalid_1's l2: 0.73051\n",
      "[120]\ttraining's l2: 0.68873\tvalid_1's l2: 0.730254\n",
      "[130]\ttraining's l2: 0.686309\tvalid_1's l2: 0.729876\n",
      "[140]\ttraining's l2: 0.682827\tvalid_1's l2: 0.729917\n",
      "[150]\ttraining's l2: 0.680538\tvalid_1's l2: 0.729519\n",
      "[160]\ttraining's l2: 0.67652\tvalid_1's l2: 0.729325\n",
      "[170]\ttraining's l2: 0.673811\tvalid_1's l2: 0.729337\n",
      "[180]\ttraining's l2: 0.671107\tvalid_1's l2: 0.729649\n"
     ]
    },
    {
     "name": "stderr",
     "output_type": "stream",
     "text": [
      "  5%|████                                                                         | 91/1699 [41:23<13:50:57, 31.01s/it]"
     ]
    },
    {
     "name": "stdout",
     "output_type": "stream",
     "text": [
      "Val Weighted R2 score is: 0.03353291177479667\n",
      "date_id: 91\n",
      "[10]\ttraining's l2: 0.751632\tvalid_1's l2: 0.480227\n",
      "[20]\ttraining's l2: 0.739925\tvalid_1's l2: 0.477478\n",
      "[30]\ttraining's l2: 0.729678\tvalid_1's l2: 0.475703\n",
      "[40]\ttraining's l2: 0.720993\tvalid_1's l2: 0.474823\n",
      "[50]\ttraining's l2: 0.713839\tvalid_1's l2: 0.474003\n",
      "[60]\ttraining's l2: 0.708299\tvalid_1's l2: 0.473175\n",
      "[70]\ttraining's l2: 0.70323\tvalid_1's l2: 0.472859\n",
      "[80]\ttraining's l2: 0.699507\tvalid_1's l2: 0.472341\n",
      "[90]\ttraining's l2: 0.696061\tvalid_1's l2: 0.472109\n",
      "[100]\ttraining's l2: 0.692562\tvalid_1's l2: 0.471656\n",
      "[110]\ttraining's l2: 0.68931\tvalid_1's l2: 0.471214\n",
      "[120]\ttraining's l2: 0.686498\tvalid_1's l2: 0.471069\n",
      "[130]\ttraining's l2: 0.684023\tvalid_1's l2: 0.470722\n",
      "[140]\ttraining's l2: 0.680845\tvalid_1's l2: 0.470713\n",
      "[150]\ttraining's l2: 0.678375\tvalid_1's l2: 0.470604\n",
      "[160]\ttraining's l2: 0.675877\tvalid_1's l2: 0.470714\n",
      "[170]\ttraining's l2: 0.672388\tvalid_1's l2: 0.470278\n",
      "[180]\ttraining's l2: 0.66991\tvalid_1's l2: 0.470115\n",
      "[190]\ttraining's l2: 0.666957\tvalid_1's l2: 0.469647\n",
      "[200]\ttraining's l2: 0.664843\tvalid_1's l2: 0.469534\n",
      "[210]\ttraining's l2: 0.662041\tvalid_1's l2: 0.469564\n",
      "[220]\ttraining's l2: 0.65945\tvalid_1's l2: 0.469381\n",
      "[230]\ttraining's l2: 0.657086\tvalid_1's l2: 0.469423\n",
      "[240]\ttraining's l2: 0.654116\tvalid_1's l2: 0.469422\n"
     ]
    },
    {
     "name": "stderr",
     "output_type": "stream",
     "text": [
      "  5%|████▏                                                                        | 92/1699 [42:05<15:15:04, 34.17s/it]"
     ]
    },
    {
     "name": "stdout",
     "output_type": "stream",
     "text": [
      "Val Weighted R2 score is: 0.03026067779518482\n",
      "date_id: 92\n",
      "[10]\ttraining's l2: 0.75659\tvalid_1's l2: 0.598596\n",
      "[20]\ttraining's l2: 0.744646\tvalid_1's l2: 0.59615\n",
      "[30]\ttraining's l2: 0.734386\tvalid_1's l2: 0.594507\n",
      "[40]\ttraining's l2: 0.725758\tvalid_1's l2: 0.593422\n",
      "[50]\ttraining's l2: 0.718784\tvalid_1's l2: 0.592529\n",
      "[60]\ttraining's l2: 0.713413\tvalid_1's l2: 0.592058\n",
      "[70]\ttraining's l2: 0.709053\tvalid_1's l2: 0.591646\n",
      "[80]\ttraining's l2: 0.705405\tvalid_1's l2: 0.591047\n",
      "[90]\ttraining's l2: 0.701883\tvalid_1's l2: 0.591153\n",
      "[100]\ttraining's l2: 0.698852\tvalid_1's l2: 0.590666\n",
      "[110]\ttraining's l2: 0.695885\tvalid_1's l2: 0.59018\n",
      "[120]\ttraining's l2: 0.6932\tvalid_1's l2: 0.590392\n",
      "[130]\ttraining's l2: 0.690227\tvalid_1's l2: 0.590467\n"
     ]
    },
    {
     "name": "stderr",
     "output_type": "stream",
     "text": [
      "  5%|████▏                                                                        | 93/1699 [42:32<14:14:44, 31.93s/it]"
     ]
    },
    {
     "name": "stdout",
     "output_type": "stream",
     "text": [
      "Val Weighted R2 score is: 0.017088235854436862\n",
      "date_id: 93\n",
      "[10]\ttraining's l2: 0.753051\tvalid_1's l2: 0.899752\n",
      "[20]\ttraining's l2: 0.741185\tvalid_1's l2: 0.894465\n",
      "[30]\ttraining's l2: 0.731019\tvalid_1's l2: 0.889764\n",
      "[40]\ttraining's l2: 0.722449\tvalid_1's l2: 0.887565\n",
      "[50]\ttraining's l2: 0.715101\tvalid_1's l2: 0.886119\n",
      "[60]\ttraining's l2: 0.709074\tvalid_1's l2: 0.884803\n",
      "[70]\ttraining's l2: 0.704002\tvalid_1's l2: 0.883596\n",
      "[80]\ttraining's l2: 0.699928\tvalid_1's l2: 0.883123\n",
      "[90]\ttraining's l2: 0.696534\tvalid_1's l2: 0.881845\n",
      "[100]\ttraining's l2: 0.693159\tvalid_1's l2: 0.881693\n",
      "[110]\ttraining's l2: 0.689886\tvalid_1's l2: 0.881939\n",
      "[120]\ttraining's l2: 0.686949\tvalid_1's l2: 0.881054\n",
      "[130]\ttraining's l2: 0.684435\tvalid_1's l2: 0.880699\n",
      "[140]\ttraining's l2: 0.681848\tvalid_1's l2: 0.879911\n",
      "[150]\ttraining's l2: 0.679083\tvalid_1's l2: 0.879289\n",
      "[160]\ttraining's l2: 0.676071\tvalid_1's l2: 0.878293\n",
      "[170]\ttraining's l2: 0.673366\tvalid_1's l2: 0.877952\n",
      "[180]\ttraining's l2: 0.670586\tvalid_1's l2: 0.877358\n",
      "[190]\ttraining's l2: 0.667462\tvalid_1's l2: 0.87734\n",
      "[200]\ttraining's l2: 0.665134\tvalid_1's l2: 0.877407\n"
     ]
    },
    {
     "name": "stderr",
     "output_type": "stream",
     "text": [
      "  6%|████▎                                                                        | 94/1699 [43:07<14:42:15, 32.98s/it]"
     ]
    },
    {
     "name": "stdout",
     "output_type": "stream",
     "text": [
      "Val Weighted R2 score is: 0.027942611519070737\n",
      "date_id: 94\n",
      "[10]\ttraining's l2: 0.751066\tvalid_1's l2: 0.635844\n",
      "[20]\ttraining's l2: 0.739391\tvalid_1's l2: 0.631023\n",
      "[30]\ttraining's l2: 0.729146\tvalid_1's l2: 0.628275\n",
      "[40]\ttraining's l2: 0.720268\tvalid_1's l2: 0.625893\n",
      "[50]\ttraining's l2: 0.71314\tvalid_1's l2: 0.624322\n",
      "[60]\ttraining's l2: 0.706795\tvalid_1's l2: 0.623348\n",
      "[70]\ttraining's l2: 0.701084\tvalid_1's l2: 0.622344\n",
      "[80]\ttraining's l2: 0.69656\tvalid_1's l2: 0.621572\n",
      "[90]\ttraining's l2: 0.692623\tvalid_1's l2: 0.620368\n",
      "[100]\ttraining's l2: 0.689169\tvalid_1's l2: 0.619569\n",
      "[110]\ttraining's l2: 0.685871\tvalid_1's l2: 0.618989\n",
      "[120]\ttraining's l2: 0.682498\tvalid_1's l2: 0.617658\n",
      "[130]\ttraining's l2: 0.679655\tvalid_1's l2: 0.616953\n",
      "[140]\ttraining's l2: 0.676832\tvalid_1's l2: 0.616649\n",
      "[150]\ttraining's l2: 0.674253\tvalid_1's l2: 0.616334\n",
      "[160]\ttraining's l2: 0.671292\tvalid_1's l2: 0.616198\n",
      "[170]\ttraining's l2: 0.66876\tvalid_1's l2: 0.616433\n"
     ]
    },
    {
     "name": "stderr",
     "output_type": "stream",
     "text": [
      "  6%|████▎                                                                        | 95/1699 [43:41<14:47:04, 33.18s/it]"
     ]
    },
    {
     "name": "stdout",
     "output_type": "stream",
     "text": [
      "Val Weighted R2 score is: 0.04339583153993709\n",
      "date_id: 95\n",
      "[10]\ttraining's l2: 0.753388\tvalid_1's l2: 0.636897\n",
      "[20]\ttraining's l2: 0.741738\tvalid_1's l2: 0.631852\n",
      "[30]\ttraining's l2: 0.731381\tvalid_1's l2: 0.628413\n",
      "[40]\ttraining's l2: 0.722882\tvalid_1's l2: 0.625555\n",
      "[50]\ttraining's l2: 0.716152\tvalid_1's l2: 0.623428\n",
      "[60]\ttraining's l2: 0.710544\tvalid_1's l2: 0.621787\n",
      "[70]\ttraining's l2: 0.705777\tvalid_1's l2: 0.620423\n",
      "[80]\ttraining's l2: 0.702206\tvalid_1's l2: 0.619895\n",
      "[90]\ttraining's l2: 0.698028\tvalid_1's l2: 0.619412\n",
      "[100]\ttraining's l2: 0.695089\tvalid_1's l2: 0.619206\n",
      "[110]\ttraining's l2: 0.692533\tvalid_1's l2: 0.619281\n",
      "[120]\ttraining's l2: 0.689581\tvalid_1's l2: 0.618999\n",
      "[130]\ttraining's l2: 0.686812\tvalid_1's l2: 0.618775\n",
      "[140]\ttraining's l2: 0.683918\tvalid_1's l2: 0.618438\n",
      "[150]\ttraining's l2: 0.681476\tvalid_1's l2: 0.618799\n",
      "[160]\ttraining's l2: 0.678853\tvalid_1's l2: 0.61825\n",
      "[170]\ttraining's l2: 0.67605\tvalid_1's l2: 0.61781\n",
      "[180]\ttraining's l2: 0.672827\tvalid_1's l2: 0.617153\n",
      "[190]\ttraining's l2: 0.67043\tvalid_1's l2: 0.61701\n",
      "[200]\ttraining's l2: 0.667697\tvalid_1's l2: 0.616735\n",
      "[210]\ttraining's l2: 0.664729\tvalid_1's l2: 0.616143\n",
      "[220]\ttraining's l2: 0.662151\tvalid_1's l2: 0.615679\n",
      "[230]\ttraining's l2: 0.65973\tvalid_1's l2: 0.615478\n",
      "[240]\ttraining's l2: 0.657223\tvalid_1's l2: 0.615809\n",
      "[250]\ttraining's l2: 0.654926\tvalid_1's l2: 0.615655\n"
     ]
    },
    {
     "name": "stderr",
     "output_type": "stream",
     "text": [
      "  6%|████▎                                                                        | 96/1699 [44:16<15:07:40, 33.97s/it]"
     ]
    },
    {
     "name": "stdout",
     "output_type": "stream",
     "text": [
      "Val Weighted R2 score is: 0.024284983554786255\n",
      "date_id: 96\n",
      "[10]\ttraining's l2: 0.75783\tvalid_1's l2: 0.627747\n",
      "[20]\ttraining's l2: 0.746151\tvalid_1's l2: 0.62513\n",
      "[30]\ttraining's l2: 0.735867\tvalid_1's l2: 0.623826\n",
      "[40]\ttraining's l2: 0.727157\tvalid_1's l2: 0.623006\n",
      "[50]\ttraining's l2: 0.71981\tvalid_1's l2: 0.622583\n",
      "[60]\ttraining's l2: 0.714057\tvalid_1's l2: 0.622481\n",
      "[70]\ttraining's l2: 0.709071\tvalid_1's l2: 0.622681\n"
     ]
    },
    {
     "name": "stderr",
     "output_type": "stream",
     "text": [
      "  6%|████▍                                                                        | 97/1699 [44:37<13:21:38, 30.02s/it]"
     ]
    },
    {
     "name": "stdout",
     "output_type": "stream",
     "text": [
      "Val Weighted R2 score is: 0.017118109246858748\n",
      "date_id: 97\n",
      "[10]\ttraining's l2: 0.754527\tvalid_1's l2: 1.15715\n",
      "[20]\ttraining's l2: 0.742679\tvalid_1's l2: 1.15386\n",
      "[30]\ttraining's l2: 0.732377\tvalid_1's l2: 1.15233\n",
      "[40]\ttraining's l2: 0.723537\tvalid_1's l2: 1.1512\n",
      "[50]\ttraining's l2: 0.716199\tvalid_1's l2: 1.14975\n",
      "[60]\ttraining's l2: 0.710226\tvalid_1's l2: 1.14897\n",
      "[70]\ttraining's l2: 0.705266\tvalid_1's l2: 1.14864\n",
      "[80]\ttraining's l2: 0.701169\tvalid_1's l2: 1.14773\n",
      "[90]\ttraining's l2: 0.697675\tvalid_1's l2: 1.14774\n",
      "[100]\ttraining's l2: 0.694518\tvalid_1's l2: 1.14722\n",
      "[110]\ttraining's l2: 0.691315\tvalid_1's l2: 1.14775\n",
      "[120]\ttraining's l2: 0.688603\tvalid_1's l2: 1.14789\n"
     ]
    },
    {
     "name": "stderr",
     "output_type": "stream",
     "text": [
      "  6%|████▍                                                                        | 98/1699 [45:05<13:04:58, 29.42s/it]"
     ]
    },
    {
     "name": "stdout",
     "output_type": "stream",
     "text": [
      "Val Weighted R2 score is: 0.013980525847532177\n",
      "date_id: 98\n",
      "[10]\ttraining's l2: 0.755335\tvalid_1's l2: 0.8034\n",
      "[20]\ttraining's l2: 0.743355\tvalid_1's l2: 0.798573\n",
      "[30]\ttraining's l2: 0.732939\tvalid_1's l2: 0.795618\n",
      "[40]\ttraining's l2: 0.723895\tvalid_1's l2: 0.793248\n",
      "[50]\ttraining's l2: 0.716299\tvalid_1's l2: 0.791721\n",
      "[60]\ttraining's l2: 0.710319\tvalid_1's l2: 0.789866\n",
      "[70]\ttraining's l2: 0.705586\tvalid_1's l2: 0.78873\n",
      "[80]\ttraining's l2: 0.701556\tvalid_1's l2: 0.787397\n",
      "[90]\ttraining's l2: 0.697632\tvalid_1's l2: 0.78654\n",
      "[100]\ttraining's l2: 0.694348\tvalid_1's l2: 0.785718\n",
      "[110]\ttraining's l2: 0.691218\tvalid_1's l2: 0.785166\n",
      "[120]\ttraining's l2: 0.68815\tvalid_1's l2: 0.78418\n",
      "[130]\ttraining's l2: 0.684915\tvalid_1's l2: 0.783544\n",
      "[140]\ttraining's l2: 0.682007\tvalid_1's l2: 0.782731\n",
      "[150]\ttraining's l2: 0.67911\tvalid_1's l2: 0.782477\n",
      "[160]\ttraining's l2: 0.675888\tvalid_1's l2: 0.78267\n"
     ]
    },
    {
     "name": "stderr",
     "output_type": "stream",
     "text": [
      "  6%|████▍                                                                        | 99/1699 [45:37<13:22:58, 30.11s/it]"
     ]
    },
    {
     "name": "stdout",
     "output_type": "stream",
     "text": [
      "Val Weighted R2 score is: 0.033135805389365336\n",
      "date_id: 99\n",
      "[10]\ttraining's l2: 0.758486\tvalid_1's l2: 0.55588\n",
      "[20]\ttraining's l2: 0.746867\tvalid_1's l2: 0.553741\n",
      "[30]\ttraining's l2: 0.73654\tvalid_1's l2: 0.551954\n",
      "[40]\ttraining's l2: 0.728352\tvalid_1's l2: 0.550958\n",
      "[50]\ttraining's l2: 0.721129\tvalid_1's l2: 0.55081\n",
      "[60]\ttraining's l2: 0.715699\tvalid_1's l2: 0.551404\n"
     ]
    },
    {
     "name": "stderr",
     "output_type": "stream",
     "text": [
      "  6%|████▍                                                                       | 100/1699 [45:57<11:59:57, 27.02s/it]"
     ]
    },
    {
     "name": "stdout",
     "output_type": "stream",
     "text": [
      "Val Weighted R2 score is: 0.017112980027394475\n",
      "date_id: 100\n",
      "[10]\ttraining's l2: 0.754124\tvalid_1's l2: 0.292974\n",
      "[20]\ttraining's l2: 0.742383\tvalid_1's l2: 0.293181\n",
      "[30]\ttraining's l2: 0.732284\tvalid_1's l2: 0.293077\n"
     ]
    },
    {
     "name": "stderr",
     "output_type": "stream",
     "text": [
      "  6%|████▌                                                                       | 101/1699 [46:10<10:06:58, 22.79s/it]"
     ]
    },
    {
     "name": "stdout",
     "output_type": "stream",
     "text": [
      "Val Weighted R2 score is: 0.003158944816739173\n",
      "date_id: 101\n",
      "[10]\ttraining's l2: 0.755044\tvalid_1's l2: 0.396777\n",
      "[20]\ttraining's l2: 0.743726\tvalid_1's l2: 0.393543\n",
      "[30]\ttraining's l2: 0.733469\tvalid_1's l2: 0.391452\n",
      "[40]\ttraining's l2: 0.724767\tvalid_1's l2: 0.389852\n",
      "[50]\ttraining's l2: 0.717795\tvalid_1's l2: 0.388871\n",
      "[60]\ttraining's l2: 0.712432\tvalid_1's l2: 0.388328\n",
      "[70]\ttraining's l2: 0.707846\tvalid_1's l2: 0.388131\n",
      "[80]\ttraining's l2: 0.704227\tvalid_1's l2: 0.387961\n",
      "[90]\ttraining's l2: 0.701141\tvalid_1's l2: 0.388496\n"
     ]
    },
    {
     "name": "stderr",
     "output_type": "stream",
     "text": [
      "  6%|████▌                                                                       | 102/1699 [46:33<10:13:55, 23.07s/it]"
     ]
    },
    {
     "name": "stdout",
     "output_type": "stream",
     "text": [
      "Val Weighted R2 score is: 0.03432168044044681\n",
      "date_id: 102\n",
      "[10]\ttraining's l2: 0.75453\tvalid_1's l2: 0.557983\n",
      "[20]\ttraining's l2: 0.742876\tvalid_1's l2: 0.555531\n",
      "[30]\ttraining's l2: 0.732666\tvalid_1's l2: 0.55387\n",
      "[40]\ttraining's l2: 0.724491\tvalid_1's l2: 0.553319\n",
      "[50]\ttraining's l2: 0.717404\tvalid_1's l2: 0.552655\n",
      "[60]\ttraining's l2: 0.712366\tvalid_1's l2: 0.552493\n",
      "[70]\ttraining's l2: 0.707683\tvalid_1's l2: 0.552355\n",
      "[80]\ttraining's l2: 0.704156\tvalid_1's l2: 0.552085\n",
      "[90]\ttraining's l2: 0.700755\tvalid_1's l2: 0.551968\n",
      "[100]\ttraining's l2: 0.697438\tvalid_1's l2: 0.551686\n",
      "[110]\ttraining's l2: 0.694492\tvalid_1's l2: 0.551643\n",
      "[120]\ttraining's l2: 0.691892\tvalid_1's l2: 0.551291\n",
      "[130]\ttraining's l2: 0.689188\tvalid_1's l2: 0.551354\n",
      "[140]\ttraining's l2: 0.6867\tvalid_1's l2: 0.551282\n",
      "[150]\ttraining's l2: 0.683765\tvalid_1's l2: 0.551197\n",
      "[160]\ttraining's l2: 0.680734\tvalid_1's l2: 0.551105\n",
      "[170]\ttraining's l2: 0.677434\tvalid_1's l2: 0.550945\n",
      "[180]\ttraining's l2: 0.674948\tvalid_1's l2: 0.551115\n"
     ]
    },
    {
     "name": "stderr",
     "output_type": "stream",
     "text": [
      "  6%|████▌                                                                       | 103/1699 [47:06<11:30:49, 25.97s/it]"
     ]
    },
    {
     "name": "stdout",
     "output_type": "stream",
     "text": [
      "Val Weighted R2 score is: 0.02140981093635197\n",
      "date_id: 103\n",
      "[10]\ttraining's l2: 0.753966\tvalid_1's l2: 0.556067\n",
      "[20]\ttraining's l2: 0.742282\tvalid_1's l2: 0.551969\n",
      "[30]\ttraining's l2: 0.731949\tvalid_1's l2: 0.549547\n",
      "[40]\ttraining's l2: 0.723242\tvalid_1's l2: 0.547954\n",
      "[50]\ttraining's l2: 0.71544\tvalid_1's l2: 0.546419\n",
      "[60]\ttraining's l2: 0.709228\tvalid_1's l2: 0.545323\n",
      "[70]\ttraining's l2: 0.704096\tvalid_1's l2: 0.544284\n",
      "[80]\ttraining's l2: 0.699919\tvalid_1's l2: 0.544012\n",
      "[90]\ttraining's l2: 0.696603\tvalid_1's l2: 0.543537\n",
      "[100]\ttraining's l2: 0.693065\tvalid_1's l2: 0.542952\n",
      "[110]\ttraining's l2: 0.689284\tvalid_1's l2: 0.542818\n",
      "[120]\ttraining's l2: 0.686063\tvalid_1's l2: 0.542865\n",
      "[130]\ttraining's l2: 0.683467\tvalid_1's l2: 0.542884\n",
      "[140]\ttraining's l2: 0.680245\tvalid_1's l2: 0.542656\n",
      "[150]\ttraining's l2: 0.677179\tvalid_1's l2: 0.542863\n"
     ]
    },
    {
     "name": "stderr",
     "output_type": "stream",
     "text": [
      "  6%|████▋                                                                       | 104/1699 [47:40<12:32:00, 28.29s/it]"
     ]
    },
    {
     "name": "stdout",
     "output_type": "stream",
     "text": [
      "Val Weighted R2 score is: 0.035317346326065646\n",
      "date_id: 104\n",
      "[10]\ttraining's l2: 0.752301\tvalid_1's l2: 0.465461\n",
      "[20]\ttraining's l2: 0.740574\tvalid_1's l2: 0.463861\n",
      "[30]\ttraining's l2: 0.730124\tvalid_1's l2: 0.463168\n",
      "[40]\ttraining's l2: 0.721255\tvalid_1's l2: 0.462527\n",
      "[50]\ttraining's l2: 0.713575\tvalid_1's l2: 0.462633\n",
      "[60]\ttraining's l2: 0.707027\tvalid_1's l2: 0.46247\n",
      "[70]\ttraining's l2: 0.702137\tvalid_1's l2: 0.462582\n",
      "[80]\ttraining's l2: 0.697908\tvalid_1's l2: 0.462716\n"
     ]
    },
    {
     "name": "stderr",
     "output_type": "stream",
     "text": [
      "  6%|████▋                                                                       | 105/1699 [48:05<12:04:06, 27.26s/it]"
     ]
    },
    {
     "name": "stdout",
     "output_type": "stream",
     "text": [
      "Val Weighted R2 score is: 0.012173314259329993\n",
      "date_id: 105\n",
      "[10]\ttraining's l2: 0.75307\tvalid_1's l2: 0.669071\n",
      "[20]\ttraining's l2: 0.741062\tvalid_1's l2: 0.663472\n",
      "[30]\ttraining's l2: 0.730632\tvalid_1's l2: 0.659295\n",
      "[40]\ttraining's l2: 0.722052\tvalid_1's l2: 0.656409\n",
      "[50]\ttraining's l2: 0.71521\tvalid_1's l2: 0.654579\n",
      "[60]\ttraining's l2: 0.709452\tvalid_1's l2: 0.652996\n",
      "[70]\ttraining's l2: 0.70473\tvalid_1's l2: 0.652398\n",
      "[80]\ttraining's l2: 0.700255\tvalid_1's l2: 0.651745\n",
      "[90]\ttraining's l2: 0.696857\tvalid_1's l2: 0.650997\n",
      "[100]\ttraining's l2: 0.693109\tvalid_1's l2: 0.650324\n",
      "[110]\ttraining's l2: 0.690687\tvalid_1's l2: 0.649913\n",
      "[120]\ttraining's l2: 0.687845\tvalid_1's l2: 0.64973\n",
      "[130]\ttraining's l2: 0.685118\tvalid_1's l2: 0.649714\n",
      "[140]\ttraining's l2: 0.682739\tvalid_1's l2: 0.649389\n",
      "[150]\ttraining's l2: 0.679516\tvalid_1's l2: 0.649769\n",
      "[160]\ttraining's l2: 0.676667\tvalid_1's l2: 0.649674\n"
     ]
    },
    {
     "name": "stderr",
     "output_type": "stream",
     "text": [
      "  6%|████▋                                                                       | 106/1699 [48:37<12:44:07, 28.78s/it]"
     ]
    },
    {
     "name": "stdout",
     "output_type": "stream",
     "text": [
      "Val Weighted R2 score is: 0.04084478772801203\n",
      "date_id: 106\n",
      "[10]\ttraining's l2: 0.75386\tvalid_1's l2: 0.616178\n",
      "[20]\ttraining's l2: 0.742032\tvalid_1's l2: 0.614536\n",
      "[30]\ttraining's l2: 0.731812\tvalid_1's l2: 0.613696\n",
      "[40]\ttraining's l2: 0.723141\tvalid_1's l2: 0.612871\n",
      "[50]\ttraining's l2: 0.71662\tvalid_1's l2: 0.61207\n",
      "[60]\ttraining's l2: 0.711152\tvalid_1's l2: 0.611692\n",
      "[70]\ttraining's l2: 0.705983\tvalid_1's l2: 0.61153\n",
      "[80]\ttraining's l2: 0.701903\tvalid_1's l2: 0.611406\n",
      "[90]\ttraining's l2: 0.698152\tvalid_1's l2: 0.611575\n"
     ]
    },
    {
     "name": "stderr",
     "output_type": "stream",
     "text": [
      "  6%|████▊                                                                       | 107/1699 [49:02<12:10:42, 27.54s/it]"
     ]
    },
    {
     "name": "stdout",
     "output_type": "stream",
     "text": [
      "Val Weighted R2 score is: 0.013722446685649481\n",
      "date_id: 107\n",
      "[10]\ttraining's l2: 0.756291\tvalid_1's l2: 0.74653\n",
      "[20]\ttraining's l2: 0.744623\tvalid_1's l2: 0.741001\n",
      "[30]\ttraining's l2: 0.734394\tvalid_1's l2: 0.73574\n",
      "[40]\ttraining's l2: 0.725663\tvalid_1's l2: 0.732248\n",
      "[50]\ttraining's l2: 0.718685\tvalid_1's l2: 0.730514\n",
      "[60]\ttraining's l2: 0.713108\tvalid_1's l2: 0.728847\n",
      "[70]\ttraining's l2: 0.708071\tvalid_1's l2: 0.727432\n",
      "[80]\ttraining's l2: 0.704092\tvalid_1's l2: 0.725941\n",
      "[90]\ttraining's l2: 0.700654\tvalid_1's l2: 0.725379\n",
      "[100]\ttraining's l2: 0.697381\tvalid_1's l2: 0.724834\n",
      "[110]\ttraining's l2: 0.69467\tvalid_1's l2: 0.724731\n",
      "[120]\ttraining's l2: 0.691848\tvalid_1's l2: 0.724213\n",
      "[130]\ttraining's l2: 0.688911\tvalid_1's l2: 0.723862\n",
      "[140]\ttraining's l2: 0.685921\tvalid_1's l2: 0.723735\n",
      "[150]\ttraining's l2: 0.68335\tvalid_1's l2: 0.723392\n",
      "[160]\ttraining's l2: 0.680214\tvalid_1's l2: 0.723288\n",
      "[170]\ttraining's l2: 0.677314\tvalid_1's l2: 0.723571\n"
     ]
    },
    {
     "name": "stderr",
     "output_type": "stream",
     "text": [
      "  6%|████▊                                                                       | 108/1699 [49:35<12:54:20, 29.20s/it]"
     ]
    },
    {
     "name": "stdout",
     "output_type": "stream",
     "text": [
      "Val Weighted R2 score is: 0.04433785001844459\n",
      "date_id: 108\n",
      "[10]\ttraining's l2: 0.753882\tvalid_1's l2: 0.48096\n",
      "[20]\ttraining's l2: 0.742389\tvalid_1's l2: 0.478446\n",
      "[30]\ttraining's l2: 0.732358\tvalid_1's l2: 0.477068\n",
      "[40]\ttraining's l2: 0.723816\tvalid_1's l2: 0.475926\n",
      "[50]\ttraining's l2: 0.716824\tvalid_1's l2: 0.475875\n",
      "[60]\ttraining's l2: 0.710689\tvalid_1's l2: 0.475599\n",
      "[70]\ttraining's l2: 0.705736\tvalid_1's l2: 0.4756\n",
      "[80]\ttraining's l2: 0.701203\tvalid_1's l2: 0.475427\n",
      "[90]\ttraining's l2: 0.697589\tvalid_1's l2: 0.475443\n",
      "[100]\ttraining's l2: 0.694992\tvalid_1's l2: 0.475421\n",
      "[110]\ttraining's l2: 0.692333\tvalid_1's l2: 0.475421\n",
      "[120]\ttraining's l2: 0.689478\tvalid_1's l2: 0.475392\n"
     ]
    },
    {
     "name": "stderr",
     "output_type": "stream",
     "text": [
      "  6%|████▉                                                                       | 109/1699 [50:03<12:43:26, 28.81s/it]"
     ]
    },
    {
     "name": "stdout",
     "output_type": "stream",
     "text": [
      "Val Weighted R2 score is: 0.021883514539653093\n",
      "date_id: 109\n",
      "[10]\ttraining's l2: 0.749873\tvalid_1's l2: 0.546636\n",
      "[20]\ttraining's l2: 0.738171\tvalid_1's l2: 0.542964\n",
      "[30]\ttraining's l2: 0.728342\tvalid_1's l2: 0.541034\n",
      "[40]\ttraining's l2: 0.72046\tvalid_1's l2: 0.53976\n",
      "[50]\ttraining's l2: 0.713639\tvalid_1's l2: 0.539689\n",
      "[60]\ttraining's l2: 0.708327\tvalid_1's l2: 0.539308\n",
      "[70]\ttraining's l2: 0.703874\tvalid_1's l2: 0.539376\n",
      "[80]\ttraining's l2: 0.699672\tvalid_1's l2: 0.539525\n"
     ]
    },
    {
     "name": "stderr",
     "output_type": "stream",
     "text": [
      "  6%|████▉                                                                       | 110/1699 [50:26<11:58:47, 27.14s/it]"
     ]
    },
    {
     "name": "stdout",
     "output_type": "stream",
     "text": [
      "Val Weighted R2 score is: 0.021428101764225604\n",
      "date_id: 110\n",
      "[10]\ttraining's l2: 0.756028\tvalid_1's l2: 0.529904\n",
      "[20]\ttraining's l2: 0.744321\tvalid_1's l2: 0.525605\n",
      "[30]\ttraining's l2: 0.733783\tvalid_1's l2: 0.522773\n",
      "[40]\ttraining's l2: 0.725066\tvalid_1's l2: 0.520345\n",
      "[50]\ttraining's l2: 0.717916\tvalid_1's l2: 0.51873\n",
      "[60]\ttraining's l2: 0.711975\tvalid_1's l2: 0.517151\n",
      "[70]\ttraining's l2: 0.707174\tvalid_1's l2: 0.516242\n",
      "[80]\ttraining's l2: 0.703135\tvalid_1's l2: 0.515235\n",
      "[90]\ttraining's l2: 0.699482\tvalid_1's l2: 0.514452\n",
      "[100]\ttraining's l2: 0.696528\tvalid_1's l2: 0.514221\n",
      "[110]\ttraining's l2: 0.693653\tvalid_1's l2: 0.513839\n",
      "[120]\ttraining's l2: 0.690437\tvalid_1's l2: 0.513473\n",
      "[130]\ttraining's l2: 0.687474\tvalid_1's l2: 0.512934\n",
      "[140]\ttraining's l2: 0.684449\tvalid_1's l2: 0.512524\n",
      "[150]\ttraining's l2: 0.681389\tvalid_1's l2: 0.511956\n",
      "[160]\ttraining's l2: 0.678367\tvalid_1's l2: 0.511602\n",
      "[170]\ttraining's l2: 0.675346\tvalid_1's l2: 0.5114\n",
      "[180]\ttraining's l2: 0.672482\tvalid_1's l2: 0.511003\n",
      "[190]\ttraining's l2: 0.669465\tvalid_1's l2: 0.510958\n",
      "[200]\ttraining's l2: 0.665952\tvalid_1's l2: 0.510786\n",
      "[210]\ttraining's l2: 0.66345\tvalid_1's l2: 0.510594\n",
      "[220]\ttraining's l2: 0.660829\tvalid_1's l2: 0.510245\n",
      "[230]\ttraining's l2: 0.657577\tvalid_1's l2: 0.510078\n",
      "[240]\ttraining's l2: 0.654121\tvalid_1's l2: 0.509792\n",
      "[250]\ttraining's l2: 0.650492\tvalid_1's l2: 0.509674\n",
      "[260]\ttraining's l2: 0.647236\tvalid_1's l2: 0.509625\n",
      "[270]\ttraining's l2: 0.64419\tvalid_1's l2: 0.509367\n",
      "[280]\ttraining's l2: 0.641862\tvalid_1's l2: 0.509179\n",
      "[290]\ttraining's l2: 0.638753\tvalid_1's l2: 0.508988\n",
      "[300]\ttraining's l2: 0.636238\tvalid_1's l2: 0.508891\n",
      "[310]\ttraining's l2: 0.633905\tvalid_1's l2: 0.508982\n",
      "[320]\ttraining's l2: 0.630506\tvalid_1's l2: 0.508713\n",
      "[330]\ttraining's l2: 0.627953\tvalid_1's l2: 0.508438\n",
      "[340]\ttraining's l2: 0.625445\tvalid_1's l2: 0.508582\n"
     ]
    },
    {
     "name": "stderr",
     "output_type": "stream",
     "text": [
      "  7%|████▉                                                                       | 111/1699 [51:23<15:57:07, 36.16s/it]"
     ]
    },
    {
     "name": "stdout",
     "output_type": "stream",
     "text": [
      "Val Weighted R2 score is: 0.050345922342013294\n",
      "date_id: 111\n",
      "[10]\ttraining's l2: 0.750675\tvalid_1's l2: 0.662869\n",
      "[20]\ttraining's l2: 0.738911\tvalid_1's l2: 0.659819\n",
      "[30]\ttraining's l2: 0.728502\tvalid_1's l2: 0.658183\n",
      "[40]\ttraining's l2: 0.719703\tvalid_1's l2: 0.657322\n",
      "[50]\ttraining's l2: 0.711953\tvalid_1's l2: 0.656892\n",
      "[60]\ttraining's l2: 0.705689\tvalid_1's l2: 0.656847\n",
      "[70]\ttraining's l2: 0.700752\tvalid_1's l2: 0.656336\n",
      "[80]\ttraining's l2: 0.697149\tvalid_1's l2: 0.656371\n",
      "[90]\ttraining's l2: 0.69392\tvalid_1's l2: 0.65652\n"
     ]
    },
    {
     "name": "stderr",
     "output_type": "stream",
     "text": [
      "  7%|█████                                                                       | 112/1699 [51:50<14:43:28, 33.40s/it]"
     ]
    },
    {
     "name": "stdout",
     "output_type": "stream",
     "text": [
      "Val Weighted R2 score is: 0.004702165456882956\n",
      "date_id: 112\n",
      "[10]\ttraining's l2: 0.753431\tvalid_1's l2: 0.501164\n",
      "[20]\ttraining's l2: 0.741664\tvalid_1's l2: 0.497766\n",
      "[30]\ttraining's l2: 0.731509\tvalid_1's l2: 0.495617\n"
     ]
    },
    {
     "name": "stderr",
     "output_type": "stream",
     "text": [
      "  7%|█████                                                                       | 112/1699 [52:06<12:18:23, 27.92s/it]\n"
     ]
    },
    {
     "ename": "KeyboardInterrupt",
     "evalue": "",
     "output_type": "error",
     "traceback": [
      "\u001b[1;31m---------------------------------------------------------------------------\u001b[0m",
      "\u001b[1;31mKeyboardInterrupt\u001b[0m                         Traceback (most recent call last)",
      "Cell \u001b[1;32mIn[10], line 1\u001b[0m\n\u001b[1;32m----> 1\u001b[0m \u001b[43mlgb_sliding_window\u001b[49m\u001b[43m(\u001b[49m\u001b[43mtrain_df\u001b[49m\u001b[43m,\u001b[49m\u001b[43m \u001b[49m\u001b[43mlgb_params_df\u001b[49m\u001b[43m)\u001b[49m\n",
      "Cell \u001b[1;32mIn[9], line 50\u001b[0m, in \u001b[0;36mlgb_sliding_window\u001b[1;34m(train_data, params_df)\u001b[0m\n\u001b[0;32m     47\u001b[0m weights_train \u001b[38;5;241m=\u001b[39m window_df[\u001b[38;5;124m'\u001b[39m\u001b[38;5;124mweight\u001b[39m\u001b[38;5;124m'\u001b[39m]\u001b[38;5;241m.\u001b[39mto_pandas()\n\u001b[0;32m     48\u001b[0m weights_val \u001b[38;5;241m=\u001b[39m date_id_df[\u001b[38;5;124m'\u001b[39m\u001b[38;5;124mweight\u001b[39m\u001b[38;5;124m'\u001b[39m]\u001b[38;5;241m.\u001b[39mto_pandas()\n\u001b[1;32m---> 50\u001b[0m \u001b[43mmodel\u001b[49m\u001b[38;5;241;43m.\u001b[39;49m\u001b[43mfit\u001b[49m\u001b[43m(\u001b[49m\u001b[43mX_train\u001b[49m\u001b[43m,\u001b[49m\u001b[43m \u001b[49m\u001b[43my_train\u001b[49m\u001b[43m,\u001b[49m\u001b[43m \u001b[49m\u001b[43msample_weight\u001b[49m\u001b[38;5;241;43m=\u001b[39;49m\u001b[43mweights_train\u001b[49m\u001b[43m,\u001b[49m\u001b[43m \u001b[49m\u001b[43meval_set\u001b[49m\u001b[38;5;241;43m=\u001b[39;49m\u001b[43m[\u001b[49m\u001b[43m(\u001b[49m\u001b[43mX_train\u001b[49m\u001b[43m,\u001b[49m\u001b[43m \u001b[49m\u001b[43my_train\u001b[49m\u001b[43m)\u001b[49m\u001b[43m,\u001b[49m\u001b[43m \u001b[49m\u001b[43m(\u001b[49m\u001b[43mX_val\u001b[49m\u001b[43m,\u001b[49m\u001b[43m \u001b[49m\u001b[43my_val\u001b[49m\u001b[43m)\u001b[49m\u001b[43m]\u001b[49m\u001b[43m,\u001b[49m\u001b[43m \u001b[49m\u001b[43meval_sample_weight\u001b[49m\u001b[38;5;241;43m=\u001b[39;49m\u001b[43m[\u001b[49m\u001b[43mweights_train\u001b[49m\u001b[43m,\u001b[49m\u001b[43m \u001b[49m\u001b[43mweights_val\u001b[49m\u001b[43m]\u001b[49m\u001b[43m,\u001b[49m\u001b[43m \u001b[49m\u001b[43mcallbacks\u001b[49m\u001b[38;5;241;43m=\u001b[39;49m\u001b[43m[\u001b[49m\u001b[43mlog_evaluation\u001b[49m\u001b[43m(\u001b[49m\u001b[43mperiod\u001b[49m\u001b[38;5;241;43m=\u001b[39;49m\u001b[38;5;241;43m10\u001b[39;49m\u001b[43m)\u001b[49m\u001b[43m]\u001b[49m\u001b[43m)\u001b[49m\n\u001b[0;32m     52\u001b[0m val_preds \u001b[38;5;241m=\u001b[39m model\u001b[38;5;241m.\u001b[39mpredict(X_val)\n\u001b[0;32m     53\u001b[0m val_r2_score \u001b[38;5;241m=\u001b[39m r2_score(y_val, val_preds, sample_weight\u001b[38;5;241m=\u001b[39mweights_val)\n",
      "File \u001b[1;32mI:\\Kaggle\\kaggle_venvs\\ml\\Lib\\site-packages\\lightgbm\\sklearn.py:1189\u001b[0m, in \u001b[0;36mLGBMRegressor.fit\u001b[1;34m(self, X, y, sample_weight, init_score, eval_set, eval_names, eval_sample_weight, eval_init_score, eval_metric, feature_name, categorical_feature, callbacks, init_model)\u001b[0m\n\u001b[0;32m   1172\u001b[0m \u001b[38;5;28;01mdef\u001b[39;00m \u001b[38;5;21mfit\u001b[39m(  \u001b[38;5;66;03m# type: ignore[override]\u001b[39;00m\n\u001b[0;32m   1173\u001b[0m     \u001b[38;5;28mself\u001b[39m,\n\u001b[0;32m   1174\u001b[0m     X: _LGBM_ScikitMatrixLike,\n\u001b[1;32m   (...)\u001b[0m\n\u001b[0;32m   1186\u001b[0m     init_model: Optional[Union[\u001b[38;5;28mstr\u001b[39m, Path, Booster, LGBMModel]] \u001b[38;5;241m=\u001b[39m \u001b[38;5;28;01mNone\u001b[39;00m,\n\u001b[0;32m   1187\u001b[0m ) \u001b[38;5;241m-\u001b[39m\u001b[38;5;241m>\u001b[39m \u001b[38;5;124m\"\u001b[39m\u001b[38;5;124mLGBMRegressor\u001b[39m\u001b[38;5;124m\"\u001b[39m:\n\u001b[0;32m   1188\u001b[0m \u001b[38;5;250m    \u001b[39m\u001b[38;5;124;03m\"\"\"Docstring is inherited from the LGBMModel.\"\"\"\u001b[39;00m\n\u001b[1;32m-> 1189\u001b[0m     \u001b[38;5;28;43msuper\u001b[39;49m\u001b[43m(\u001b[49m\u001b[43m)\u001b[49m\u001b[38;5;241;43m.\u001b[39;49m\u001b[43mfit\u001b[49m\u001b[43m(\u001b[49m\n\u001b[0;32m   1190\u001b[0m \u001b[43m        \u001b[49m\u001b[43mX\u001b[49m\u001b[43m,\u001b[49m\n\u001b[0;32m   1191\u001b[0m \u001b[43m        \u001b[49m\u001b[43my\u001b[49m\u001b[43m,\u001b[49m\n\u001b[0;32m   1192\u001b[0m \u001b[43m        \u001b[49m\u001b[43msample_weight\u001b[49m\u001b[38;5;241;43m=\u001b[39;49m\u001b[43msample_weight\u001b[49m\u001b[43m,\u001b[49m\n\u001b[0;32m   1193\u001b[0m \u001b[43m        \u001b[49m\u001b[43minit_score\u001b[49m\u001b[38;5;241;43m=\u001b[39;49m\u001b[43minit_score\u001b[49m\u001b[43m,\u001b[49m\n\u001b[0;32m   1194\u001b[0m \u001b[43m        \u001b[49m\u001b[43meval_set\u001b[49m\u001b[38;5;241;43m=\u001b[39;49m\u001b[43meval_set\u001b[49m\u001b[43m,\u001b[49m\n\u001b[0;32m   1195\u001b[0m \u001b[43m        \u001b[49m\u001b[43meval_names\u001b[49m\u001b[38;5;241;43m=\u001b[39;49m\u001b[43meval_names\u001b[49m\u001b[43m,\u001b[49m\n\u001b[0;32m   1196\u001b[0m \u001b[43m        \u001b[49m\u001b[43meval_sample_weight\u001b[49m\u001b[38;5;241;43m=\u001b[39;49m\u001b[43meval_sample_weight\u001b[49m\u001b[43m,\u001b[49m\n\u001b[0;32m   1197\u001b[0m \u001b[43m        \u001b[49m\u001b[43meval_init_score\u001b[49m\u001b[38;5;241;43m=\u001b[39;49m\u001b[43meval_init_score\u001b[49m\u001b[43m,\u001b[49m\n\u001b[0;32m   1198\u001b[0m \u001b[43m        \u001b[49m\u001b[43meval_metric\u001b[49m\u001b[38;5;241;43m=\u001b[39;49m\u001b[43meval_metric\u001b[49m\u001b[43m,\u001b[49m\n\u001b[0;32m   1199\u001b[0m \u001b[43m        \u001b[49m\u001b[43mfeature_name\u001b[49m\u001b[38;5;241;43m=\u001b[39;49m\u001b[43mfeature_name\u001b[49m\u001b[43m,\u001b[49m\n\u001b[0;32m   1200\u001b[0m \u001b[43m        \u001b[49m\u001b[43mcategorical_feature\u001b[49m\u001b[38;5;241;43m=\u001b[39;49m\u001b[43mcategorical_feature\u001b[49m\u001b[43m,\u001b[49m\n\u001b[0;32m   1201\u001b[0m \u001b[43m        \u001b[49m\u001b[43mcallbacks\u001b[49m\u001b[38;5;241;43m=\u001b[39;49m\u001b[43mcallbacks\u001b[49m\u001b[43m,\u001b[49m\n\u001b[0;32m   1202\u001b[0m \u001b[43m        \u001b[49m\u001b[43minit_model\u001b[49m\u001b[38;5;241;43m=\u001b[39;49m\u001b[43minit_model\u001b[49m\u001b[43m,\u001b[49m\n\u001b[0;32m   1203\u001b[0m \u001b[43m    \u001b[49m\u001b[43m)\u001b[49m\n\u001b[0;32m   1204\u001b[0m     \u001b[38;5;28;01mreturn\u001b[39;00m \u001b[38;5;28mself\u001b[39m\n",
      "File \u001b[1;32mI:\\Kaggle\\kaggle_venvs\\ml\\Lib\\site-packages\\lightgbm\\sklearn.py:955\u001b[0m, in \u001b[0;36mLGBMModel.fit\u001b[1;34m(self, X, y, sample_weight, init_score, group, eval_set, eval_names, eval_sample_weight, eval_class_weight, eval_init_score, eval_group, eval_metric, feature_name, categorical_feature, callbacks, init_model)\u001b[0m\n\u001b[0;32m    952\u001b[0m evals_result: _EvalResultDict \u001b[38;5;241m=\u001b[39m {}\n\u001b[0;32m    953\u001b[0m callbacks\u001b[38;5;241m.\u001b[39mappend(record_evaluation(evals_result))\n\u001b[1;32m--> 955\u001b[0m \u001b[38;5;28mself\u001b[39m\u001b[38;5;241m.\u001b[39m_Booster \u001b[38;5;241m=\u001b[39m \u001b[43mtrain\u001b[49m\u001b[43m(\u001b[49m\n\u001b[0;32m    956\u001b[0m \u001b[43m    \u001b[49m\u001b[43mparams\u001b[49m\u001b[38;5;241;43m=\u001b[39;49m\u001b[43mparams\u001b[49m\u001b[43m,\u001b[49m\n\u001b[0;32m    957\u001b[0m \u001b[43m    \u001b[49m\u001b[43mtrain_set\u001b[49m\u001b[38;5;241;43m=\u001b[39;49m\u001b[43mtrain_set\u001b[49m\u001b[43m,\u001b[49m\n\u001b[0;32m    958\u001b[0m \u001b[43m    \u001b[49m\u001b[43mnum_boost_round\u001b[49m\u001b[38;5;241;43m=\u001b[39;49m\u001b[38;5;28;43mself\u001b[39;49m\u001b[38;5;241;43m.\u001b[39;49m\u001b[43mn_estimators\u001b[49m\u001b[43m,\u001b[49m\n\u001b[0;32m    959\u001b[0m \u001b[43m    \u001b[49m\u001b[43mvalid_sets\u001b[49m\u001b[38;5;241;43m=\u001b[39;49m\u001b[43mvalid_sets\u001b[49m\u001b[43m,\u001b[49m\n\u001b[0;32m    960\u001b[0m \u001b[43m    \u001b[49m\u001b[43mvalid_names\u001b[49m\u001b[38;5;241;43m=\u001b[39;49m\u001b[43meval_names\u001b[49m\u001b[43m,\u001b[49m\n\u001b[0;32m    961\u001b[0m \u001b[43m    \u001b[49m\u001b[43mfeval\u001b[49m\u001b[38;5;241;43m=\u001b[39;49m\u001b[43meval_metrics_callable\u001b[49m\u001b[43m,\u001b[49m\u001b[43m  \u001b[49m\u001b[38;5;66;43;03m# type: ignore[arg-type]\u001b[39;49;00m\n\u001b[0;32m    962\u001b[0m \u001b[43m    \u001b[49m\u001b[43minit_model\u001b[49m\u001b[38;5;241;43m=\u001b[39;49m\u001b[43minit_model\u001b[49m\u001b[43m,\u001b[49m\n\u001b[0;32m    963\u001b[0m \u001b[43m    \u001b[49m\u001b[43mcallbacks\u001b[49m\u001b[38;5;241;43m=\u001b[39;49m\u001b[43mcallbacks\u001b[49m\u001b[43m,\u001b[49m\n\u001b[0;32m    964\u001b[0m \u001b[43m\u001b[49m\u001b[43m)\u001b[49m\n\u001b[0;32m    966\u001b[0m \u001b[38;5;28mself\u001b[39m\u001b[38;5;241m.\u001b[39m_evals_result \u001b[38;5;241m=\u001b[39m evals_result\n\u001b[0;32m    967\u001b[0m \u001b[38;5;28mself\u001b[39m\u001b[38;5;241m.\u001b[39m_best_iteration \u001b[38;5;241m=\u001b[39m \u001b[38;5;28mself\u001b[39m\u001b[38;5;241m.\u001b[39m_Booster\u001b[38;5;241m.\u001b[39mbest_iteration\n",
      "File \u001b[1;32mI:\\Kaggle\\kaggle_venvs\\ml\\Lib\\site-packages\\lightgbm\\engine.py:307\u001b[0m, in \u001b[0;36mtrain\u001b[1;34m(params, train_set, num_boost_round, valid_sets, valid_names, feval, init_model, feature_name, categorical_feature, keep_training_booster, callbacks)\u001b[0m\n\u001b[0;32m    295\u001b[0m \u001b[38;5;28;01mfor\u001b[39;00m cb \u001b[38;5;129;01min\u001b[39;00m callbacks_before_iter:\n\u001b[0;32m    296\u001b[0m     cb(\n\u001b[0;32m    297\u001b[0m         callback\u001b[38;5;241m.\u001b[39mCallbackEnv(\n\u001b[0;32m    298\u001b[0m             model\u001b[38;5;241m=\u001b[39mbooster,\n\u001b[1;32m   (...)\u001b[0m\n\u001b[0;32m    304\u001b[0m         )\n\u001b[0;32m    305\u001b[0m     )\n\u001b[1;32m--> 307\u001b[0m \u001b[43mbooster\u001b[49m\u001b[38;5;241;43m.\u001b[39;49m\u001b[43mupdate\u001b[49m\u001b[43m(\u001b[49m\u001b[43mfobj\u001b[49m\u001b[38;5;241;43m=\u001b[39;49m\u001b[43mfobj\u001b[49m\u001b[43m)\u001b[49m\n\u001b[0;32m    309\u001b[0m evaluation_result_list: List[_LGBM_BoosterEvalMethodResultType] \u001b[38;5;241m=\u001b[39m []\n\u001b[0;32m    310\u001b[0m \u001b[38;5;66;03m# check evaluation result.\u001b[39;00m\n",
      "File \u001b[1;32mI:\\Kaggle\\kaggle_venvs\\ml\\Lib\\site-packages\\lightgbm\\basic.py:4136\u001b[0m, in \u001b[0;36mBooster.update\u001b[1;34m(self, train_set, fobj)\u001b[0m\n\u001b[0;32m   4133\u001b[0m \u001b[38;5;28;01mif\u001b[39;00m \u001b[38;5;28mself\u001b[39m\u001b[38;5;241m.\u001b[39m__set_objective_to_none:\n\u001b[0;32m   4134\u001b[0m     \u001b[38;5;28;01mraise\u001b[39;00m LightGBMError(\u001b[38;5;124m\"\u001b[39m\u001b[38;5;124mCannot update due to null objective function.\u001b[39m\u001b[38;5;124m\"\u001b[39m)\n\u001b[0;32m   4135\u001b[0m _safe_call(\n\u001b[1;32m-> 4136\u001b[0m     \u001b[43m_LIB\u001b[49m\u001b[38;5;241;43m.\u001b[39;49m\u001b[43mLGBM_BoosterUpdateOneIter\u001b[49m\u001b[43m(\u001b[49m\n\u001b[0;32m   4137\u001b[0m \u001b[43m        \u001b[49m\u001b[38;5;28;43mself\u001b[39;49m\u001b[38;5;241;43m.\u001b[39;49m\u001b[43m_handle\u001b[49m\u001b[43m,\u001b[49m\n\u001b[0;32m   4138\u001b[0m \u001b[43m        \u001b[49m\u001b[43mctypes\u001b[49m\u001b[38;5;241;43m.\u001b[39;49m\u001b[43mbyref\u001b[49m\u001b[43m(\u001b[49m\u001b[43mis_finished\u001b[49m\u001b[43m)\u001b[49m\u001b[43m,\u001b[49m\n\u001b[0;32m   4139\u001b[0m \u001b[43m    \u001b[49m\u001b[43m)\u001b[49m\n\u001b[0;32m   4140\u001b[0m )\n\u001b[0;32m   4141\u001b[0m \u001b[38;5;28mself\u001b[39m\u001b[38;5;241m.\u001b[39m__is_predicted_cur_iter \u001b[38;5;241m=\u001b[39m [\u001b[38;5;28;01mFalse\u001b[39;00m \u001b[38;5;28;01mfor\u001b[39;00m _ \u001b[38;5;129;01min\u001b[39;00m \u001b[38;5;28mrange\u001b[39m(\u001b[38;5;28mself\u001b[39m\u001b[38;5;241m.\u001b[39m__num_dataset)]\n\u001b[0;32m   4142\u001b[0m \u001b[38;5;28;01mreturn\u001b[39;00m is_finished\u001b[38;5;241m.\u001b[39mvalue \u001b[38;5;241m==\u001b[39m \u001b[38;5;241m1\u001b[39m\n",
      "\u001b[1;31mKeyboardInterrupt\u001b[0m: "
     ]
    }
   ],
   "source": [
    "lgb_sliding_window(train_df, lgb_params_df)"
   ]
  },
  {
   "cell_type": "code",
   "execution_count": null,
   "id": "6b262e51-9765-40a0-bec6-3418677f4f70",
   "metadata": {},
   "outputs": [],
   "source": []
  }
 ],
 "metadata": {
  "kernelspec": {
   "display_name": "Python 3 (ipykernel)",
   "language": "python",
   "name": "python3"
  },
  "language_info": {
   "codemirror_mode": {
    "name": "ipython",
    "version": 3
   },
   "file_extension": ".py",
   "mimetype": "text/x-python",
   "name": "python",
   "nbconvert_exporter": "python",
   "pygments_lexer": "ipython3",
   "version": "3.11.9"
  }
 },
 "nbformat": 4,
 "nbformat_minor": 5
}
