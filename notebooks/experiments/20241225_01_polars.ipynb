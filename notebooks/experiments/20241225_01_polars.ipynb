{
 "cells": [
  {
   "cell_type": "code",
   "execution_count": null,
   "id": "ba6e3e10-78d2-413c-87c3-f256294da062",
   "metadata": {},
   "outputs": [],
   "source": [
    "import pandas as pd\n",
    "import polars as pl\n",
    "import numpy as np\n",
    "import os\n",
    "import gc\n",
    "import seaborn as sns\n",
    "from tqdm import tqdm\n",
    "from sklearn.model_selection import KFold, StratifiedKFold\n",
    "import xgboost as xgb\n",
    "from xgboost import XGBRegressor\n",
    "from lightgbm import LGBMRegressor, log_evaluation\n",
    "import lightgbm as lgb\n",
    "import matplotlib.pyplot as plt\n",
    "from sklearn.metrics import r2_score\n",
    "#from sklearn.impute import IterativeImputer\n",
    "import pickle\n",
    "import optuna\n",
    "import shap\n",
    "\n",
    "gc.enable()\n",
    "\n",
    "pd.options.display.max_columns = None\n",
    "pd.set_option('display.max_rows', 500)\n",
    "pd.set_option('display.max_columns', 500)\n",
    "pd.set_option('display.max_colwidth', None)\n",
    "\n",
    "pl.Config.set_tbl_rows(-1)\n",
    "pl.Config.set_tbl_cols(-1)\n",
    "pl.Config.set_fmt_str_lengths(10000)"
   ]
  },
  {
   "cell_type": "code",
   "execution_count": null,
   "id": "8a5a256f-c55b-415d-8d12-e753283ffee9",
   "metadata": {},
   "outputs": [],
   "source": [
    "path = 'I:/Kaggle/jane-street-real-time-market-data-forecasting/'"
   ]
  },
  {
   "cell_type": "code",
   "execution_count": null,
   "id": "38d215c3-e2a4-4ea2-8125-708737b10ed4",
   "metadata": {},
   "outputs": [],
   "source": [
    "os.listdir(path)"
   ]
  },
  {
   "cell_type": "code",
   "execution_count": null,
   "id": "eab47b6d-409b-41a7-a443-fcddc750f653",
   "metadata": {},
   "outputs": [],
   "source": [
    "train_df = pl.read_parquet(path + 'train.parquet/')\n",
    "y_sr = train_df['responder_6']\n",
    "train_df = train_df.drop(['responder_0', 'responder_1', 'responder_2', 'responder_3', 'responder_4', 'responder_5', 'responder_6', 'responder_7', 'responder_8', 'partition_id']).select(pl.all().shrink_dtype())\n",
    "print(train_df.shape)\n",
    "train_df.head()"
   ]
  },
  {
   "cell_type": "code",
   "execution_count": null,
   "id": "3834f8e8-0f10-4891-a325-5d288f99b503",
   "metadata": {},
   "outputs": [],
   "source": [
    "train_df.estimated_size() / 1e9"
   ]
  },
  {
   "cell_type": "code",
   "execution_count": null,
   "id": "57176138-1396-449b-bc42-0bf3f8f830a6",
   "metadata": {},
   "outputs": [],
   "source": [
    "test_df = pl.read_parquet(path + 'test.parquet/').drop(['row_id', 'is_scored']).select(pl.all().shrink_dtype())\n",
    "print(test_df.shape)\n",
    "test_df.head()"
   ]
  },
  {
   "cell_type": "code",
   "execution_count": null,
   "id": "b5a7fa57-a699-468a-be6e-244eac38720c",
   "metadata": {
    "scrolled": true
   },
   "outputs": [],
   "source": [
    "unique_date_ids = train_df['date_id'].unique()\n",
    "unique_date_ids"
   ]
  },
  {
   "cell_type": "code",
   "execution_count": null,
   "id": "6db35e89-daa7-4abc-bd6f-d78ef5261d2f",
   "metadata": {},
   "outputs": [],
   "source": [
    "len(unique_date_ids)"
   ]
  },
  {
   "cell_type": "code",
   "execution_count": null,
   "id": "9bb5f62f-316f-4f9d-9505-715219e4f683",
   "metadata": {},
   "outputs": [],
   "source": [
    "sample_date_ids = unique_date_ids[:len(unique_date_ids) // 5]"
   ]
  },
  {
   "cell_type": "code",
   "execution_count": null,
   "id": "22748f27-0313-4bf7-8ab4-38ba3f5f6222",
   "metadata": {},
   "outputs": [],
   "source": [
    "len(sample_date_ids)"
   ]
  },
  {
   "cell_type": "code",
   "execution_count": null,
   "id": "e70cdd6c-7922-467e-8951-c73f9cb7c23b",
   "metadata": {
    "scrolled": true
   },
   "outputs": [],
   "source": [
    "sample_date_ids"
   ]
  },
  {
   "cell_type": "code",
   "execution_count": null,
   "id": "2063bad1-a5ca-4552-99f2-fbb9614fa2e3",
   "metadata": {},
   "outputs": [],
   "source": [
    "sample_train_df = train_df.filter(pl.col('date_id').is_in(sample_date_ids))\n",
    "print(sample_train_df.shape)"
   ]
  },
  {
   "cell_type": "code",
   "execution_count": null,
   "id": "9a9c3e07-32e6-42c3-9182-56c3b23819e4",
   "metadata": {},
   "outputs": [],
   "source": [
    "sample_train_df['date_id'].n_unique()"
   ]
  },
  {
   "cell_type": "code",
   "execution_count": null,
   "id": "fde6fd24-b33a-4d4e-8f12-663e0514ba3d",
   "metadata": {},
   "outputs": [],
   "source": [
    "sample_train_df['date_id'].max()"
   ]
  },
  {
   "cell_type": "code",
   "execution_count": null,
   "id": "667a54e7-7564-4418-bf31-e280742774fe",
   "metadata": {},
   "outputs": [],
   "source": [
    "sample_train_df['feature_01'].describe()"
   ]
  },
  {
   "cell_type": "code",
   "execution_count": null,
   "id": "30ee6c13-41be-4365-8df7-e71e6311d077",
   "metadata": {},
   "outputs": [],
   "source": [
    "features_df = pl.read_csv(path + 'features.csv').select(pl.all().shrink_dtype())\n",
    "print(features_df.shape)\n",
    "features_df.head()"
   ]
  },
  {
   "cell_type": "code",
   "execution_count": null,
   "id": "fb568579-b03f-41d2-9d9f-52cac7437885",
   "metadata": {},
   "outputs": [],
   "source": [
    "tag_0_features = features_df.filter(pl.col(\"tag_0\") == True)[\"feature\"].to_list()\n",
    "print(len(tag_0_features))\n",
    "tag_0_features"
   ]
  },
  {
   "cell_type": "code",
   "execution_count": null,
   "id": "ad3c8f34-e64b-4489-b7f5-b1c0c36babea",
   "metadata": {},
   "outputs": [],
   "source": [
    "sample_train_df = sample_train_df.with_columns(\n",
    "    pl.sum_horizontal(tag_0_features).alias('tag_0_sum'),\n",
    "    pl.mean_horizontal(tag_0_features).alias('tag_0_mean')\n",
    ")"
   ]
  },
  {
   "cell_type": "code",
   "execution_count": null,
   "id": "9d7edc6a-dcdc-40a0-bdd5-c04562cebbbf",
   "metadata": {},
   "outputs": [],
   "source": [
    "tags_list = features_df.columns\n",
    "tags_list.remove('feature')\n",
    "tags_list"
   ]
  },
  {
   "cell_type": "code",
   "execution_count": null,
   "id": "cad5ae80-f377-4631-85e2-cafce9e8fb18",
   "metadata": {},
   "outputs": [],
   "source": [
    "for tag in tqdm(tags_list):\n",
    "    tag_features = features_df.filter(pl.col(f\"{tag}\") == True)[\"feature\"].to_list()\n",
    "    train_df = train_df.with_columns(\n",
    "        pl.sum_horizontal(tag_features).alias(tag + '_sum'),\n",
    "        pl.mean_horizontal(tag_features).alias(tag + '_mean'),\n",
    "        pl.min_horizontal(tag_features).alias(tag + '_min'),\n",
    "        pl.max_horizontal(tag_features).alias(tag + '_max')\n",
    "    )"
   ]
  },
  {
   "cell_type": "code",
   "execution_count": null,
   "id": "06c4b3c8-95fe-42bd-a896-8aceef3d0cf2",
   "metadata": {},
   "outputs": [],
   "source": [
    "train_df.head()"
   ]
  },
  {
   "cell_type": "code",
   "execution_count": null,
   "id": "7e0bbcdc-1ec7-400c-94d4-4a54dd0dfe16",
   "metadata": {},
   "outputs": [],
   "source": [
    "train_df.estimated_size() / 1e9"
   ]
  },
  {
   "cell_type": "code",
   "execution_count": null,
   "id": "c4172e9d-a244-4c97-99c6-d11e4e219f56",
   "metadata": {},
   "outputs": [],
   "source": [
    "train_df = train_df.select(pl.all().shrink_dtype())"
   ]
  },
  {
   "cell_type": "code",
   "execution_count": null,
   "id": "a339454b-40d7-46b2-a4dd-2ae9e4f186f3",
   "metadata": {},
   "outputs": [],
   "source": [
    "train_df.estimated_size() / 1e9"
   ]
  },
  {
   "cell_type": "code",
   "execution_count": null,
   "id": "890a37c8-9604-47e8-9a3f-9f458227ed7c",
   "metadata": {},
   "outputs": [],
   "source": []
  },
  {
   "cell_type": "code",
   "execution_count": null,
   "id": "21c86e05-3bee-4120-af1a-3095621d3bf6",
   "metadata": {},
   "outputs": [],
   "source": []
  },
  {
   "cell_type": "code",
   "execution_count": null,
   "id": "d0b724b1-2eb7-4f28-a564-28dd3be2496c",
   "metadata": {},
   "outputs": [],
   "source": []
  },
  {
   "cell_type": "code",
   "execution_count": null,
   "id": "917830ff-3dbd-4512-aadb-e7b3876dc689",
   "metadata": {},
   "outputs": [],
   "source": []
  },
  {
   "cell_type": "code",
   "execution_count": null,
   "id": "2f65477a-557e-402b-a7d3-d3be5ac4241b",
   "metadata": {},
   "outputs": [],
   "source": []
  },
  {
   "cell_type": "code",
   "execution_count": null,
   "id": "7abccc13-9629-4da1-83fa-e6b8e2bd9781",
   "metadata": {},
   "outputs": [],
   "source": []
  },
  {
   "cell_type": "code",
   "execution_count": null,
   "id": "bba3c9b1-6630-49bd-bae9-ec9d7754407b",
   "metadata": {},
   "outputs": [],
   "source": []
  },
  {
   "cell_type": "code",
   "execution_count": null,
   "id": "fd35249c-a361-4309-946a-310d539ac756",
   "metadata": {},
   "outputs": [],
   "source": []
  },
  {
   "cell_type": "code",
   "execution_count": null,
   "id": "ed38ded6-a090-4a9b-b47a-7a7a8e3510ad",
   "metadata": {},
   "outputs": [],
   "source": []
  },
  {
   "cell_type": "code",
   "execution_count": null,
   "id": "0105fc1c-c1c7-49c9-bb9d-b5e210db7efd",
   "metadata": {
    "scrolled": true
   },
   "outputs": [],
   "source": [
    "train_symbol_ids_list = sorted(train_df.select('symbol_id').unique()['symbol_id'].to_list())\n",
    "print(len(train_symbol_ids_list))\n",
    "train_symbol_ids_list"
   ]
  },
  {
   "cell_type": "code",
   "execution_count": null,
   "id": "96892b96-3682-4ea6-ab8f-0ff3ffd94128",
   "metadata": {
    "scrolled": true
   },
   "outputs": [],
   "source": [
    "test_symbol_ids_list = sorted(test_df.select('symbol_id').unique()['symbol_id'].to_list())\n",
    "print(len(test_symbol_ids_list))\n",
    "test_symbol_ids_list"
   ]
  },
  {
   "cell_type": "code",
   "execution_count": null,
   "id": "56de1625-4546-4033-b4e1-aaa79b6e1737",
   "metadata": {
    "scrolled": true
   },
   "outputs": [],
   "source": [
    "unique_symbol_ids_list = sorted(list(set(train_symbol_ids_list + test_symbol_ids_list)))\n",
    "print(len(unique_symbol_ids_list))\n",
    "unique_symbol_ids_list"
   ]
  },
  {
   "cell_type": "code",
   "execution_count": null,
   "id": "f2bdfeb9-29e7-4231-815b-f698351a684f",
   "metadata": {
    "scrolled": true
   },
   "outputs": [],
   "source": [
    "lags_df = pl.read_parquet(path + 'lags.parquet/')\n",
    "print(lags_df.shape)\n",
    "lags_df"
   ]
  },
  {
   "cell_type": "code",
   "execution_count": null,
   "id": "4f27b6d9-e4b4-4beb-8609-32a45b7c6e1b",
   "metadata": {
    "scrolled": true
   },
   "outputs": [],
   "source": [
    "sample_df = pl.read_csv(path + 'sample_submission.csv')\n",
    "print(sample_df.shape)\n",
    "sample_df"
   ]
  },
  {
   "cell_type": "code",
   "execution_count": null,
   "id": "4e726788-9a5f-42f0-8c0e-6ba0e6b62a4e",
   "metadata": {},
   "outputs": [],
   "source": [
    "def one_hot_cat_cols(df):\n",
    "    for v in tqdm(range(39)):\n",
    "        new_col_name = 'symbol_id_' + str(v)\n",
    "        df = df.with_columns(\n",
    "            (df['symbol_id'] == v).cast(int).alias(new_col_name)\n",
    "        )\n",
    "    \n",
    "    df = df.drop('symbol_id')\n",
    "\n",
    "    return df"
   ]
  },
  {
   "cell_type": "code",
   "execution_count": null,
   "id": "c39c81ef-9d9c-4ae1-817c-716c98cb5e3c",
   "metadata": {},
   "outputs": [],
   "source": [
    "train_df = one_hot_cat_cols(train_df).select(pl.all().shrink_dtype())\n",
    "print(train_df.shape)\n",
    "train_df.head()"
   ]
  },
  {
   "cell_type": "code",
   "execution_count": null,
   "id": "53a82db7-7dab-4261-b6a0-53658729a6f2",
   "metadata": {},
   "outputs": [],
   "source": [
    "test_df = one_hot_cat_cols(test_df).select(pl.all().shrink_dtype())\n",
    "print(test_df.shape)\n",
    "test_df.head()"
   ]
  },
  {
   "cell_type": "code",
   "execution_count": null,
   "id": "4fb51136-ed03-46e0-9308-bb9fb93f5147",
   "metadata": {
    "scrolled": true
   },
   "outputs": [],
   "source": [
    "feature_cols = [col for col in train_df.columns if ('feature' in col) | ('symbol_id_' in col)]\n",
    "print(len(feature_cols))\n",
    "feature_cols"
   ]
  },
  {
   "cell_type": "code",
   "execution_count": null,
   "id": "1a42c2e5-c770-4807-8126-18b294fd1e96",
   "metadata": {},
   "outputs": [],
   "source": [
    "n_splits = 5"
   ]
  },
  {
   "cell_type": "code",
   "execution_count": null,
   "id": "de71e87c-5e16-4c37-841e-50db60f9d10f",
   "metadata": {},
   "outputs": [],
   "source": [
    "# https://www.kaggle.com/code/yuanzhezhou/jane-street-baseline-lgb-xgb-and-catboost\n",
    "\n",
    "def r2_lgb(y_true, y_pred, sample_weight):\n",
    "    r2 = 1 - np.average((y_pred - y_true) ** 2, weights=sample_weight) / (np.average((y_true) ** 2, weights=sample_weight) + 1e-38)\n",
    "    return 'r2', r2, True"
   ]
  },
  {
   "cell_type": "code",
   "execution_count": null,
   "id": "74e04716-a5a1-471c-b452-0a8b5f7a7b00",
   "metadata": {},
   "outputs": [],
   "source": [
    "def lgb_train(train_data, y):\n",
    "    X = train_data.drop(['date_id', 'time_id', 'weight'])\n",
    "    weights = train_data['weight']\n",
    "    print(X.shape)\n",
    "    display(X.head())\n",
    "     \n",
    "    oof = np.zeros(len(y), dtype=float)\n",
    "\n",
    "    models_list = []\n",
    "\n",
    "    base_params = {\n",
    "        'verbosity': -1,\n",
    "        'learning_rate': 0.3,\n",
    "        'feature_fraction': 0.8,\n",
    "        'device': 'gpu',\n",
    "        'early_stopping_round': 50,\n",
    "        'lambda_l2': 100\n",
    "    }\n",
    "\n",
    "    cv_fold = KFold(n_splits=n_splits)\n",
    "\n",
    "    shap_importance_list = []\n",
    "\n",
    "    for fold, (train_idx, test_idx) in enumerate(cv_fold.split(X, y)):\n",
    "        if fold not in [0, 4]:\n",
    "            continue\n",
    "        \n",
    "        print('')\n",
    "        print(f\"{fold} Fold Start\")\n",
    "        \n",
    "        X_train, X_val = X[train_idx, :].to_pandas(), X[test_idx, :].to_pandas()\n",
    "        y_train, y_val = y[train_idx].to_pandas(), y[test_idx].to_pandas()\n",
    "        weights_train, weights_val = weights[train_idx].to_pandas(), weights[test_idx].to_pandas()\n",
    "\n",
    "        model = LGBMRegressor(\n",
    "            **base_params,\n",
    "            n_estimators=100000\n",
    "        )\n",
    "\n",
    "        model.fit(X_train, y_train, sample_weight=weights_train, eval_set=[(X_train, y_train), (X_val, y_val)], eval_sample_weight=[weights_train, weights_val], callbacks=[log_evaluation(period=50)])\n",
    "        #model.fit(X_train, y_train, sample_weight=weights_train, eval_set=[(X_train, y_train), (X_val, y_val)], eval_sample_weight=[weights_train, weights_val], eval_metric=[r2_lgb], callbacks=[log_evaluation(period=50)])\n",
    "        #model.fit(X_train, y_train, sample_weight=weights_train, eval_set=[(X_val, y_val, weights_val)], eval_metric=[r2_lgb], callbacks=[log_evaluation(period=50)])\n",
    "\n",
    "        val_preds = model.predict(X_val)\n",
    "        \n",
    "        oof[test_idx] = val_preds\n",
    "\n",
    "        plt.figure()\n",
    "        lgb.plot_metric(model)\n",
    "        plt.ylim(0, 1)\n",
    "        plt.show()\n",
    "\n",
    "        models_path = path + 'my_folder/models/20241225_01/'\n",
    "\n",
    "        if not os.path.exists(models_path):\n",
    "            os.makedirs(models_path)\n",
    "\n",
    "        with open(models_path + f\"lgb_model_{fold}.pkl\", 'wb') as file:\n",
    "            pickle.dump(model, file)\n",
    "\n",
    "        print('Fold Val R2 score is:', r2_score(y_val, val_preds))\n",
    "        print('Fold Val Weighted R2 score is:', r2_score(y_val, val_preds, sample_weight=weights_val))\n",
    "\n",
    "        sample_val = X_val.sample(frac=0.001)\n",
    "        sample_y = y_val.iloc[sample_val.index]\n",
    "\n",
    "        explainer = shap.TreeExplainer(model)\n",
    "        shap_values = explainer.shap_values(X=sample_val, y=sample_y)\n",
    "        shap_importance = np.abs(shap_values).mean(axis=0)\n",
    "\n",
    "        shap_importance_list.append(shap_importance)\n",
    "\n",
    "        print(f\"{fold} Fold End\")\n",
    "        print('')\n",
    "\n",
    "    print('R2 score is:', r2_score(y, oof))\n",
    "    print('Weighted R2 score is:', r2_score(y, oof, sample_weight=weights))\n",
    "\n",
    "    return np.mean(shap_importance_list, axis=0)"
   ]
  },
  {
   "cell_type": "code",
   "execution_count": null,
   "id": "a18d7357-c89e-47ce-a8aa-030f3ee011de",
   "metadata": {
    "editable": true,
    "scrolled": true,
    "slideshow": {
     "slide_type": ""
    },
    "tags": []
   },
   "outputs": [],
   "source": [
    "mean_shap_importance = lgb_train(train_df, y_sr)"
   ]
  },
  {
   "cell_type": "code",
   "execution_count": null,
   "id": "f4c5bfc2-0c8d-4dc5-9c1f-a02595836d80",
   "metadata": {},
   "outputs": [],
   "source": []
  }
 ],
 "metadata": {
  "kernelspec": {
   "display_name": "Python 3 (ipykernel)",
   "language": "python",
   "name": "python3"
  },
  "language_info": {
   "codemirror_mode": {
    "name": "ipython",
    "version": 3
   },
   "file_extension": ".py",
   "mimetype": "text/x-python",
   "name": "python",
   "nbconvert_exporter": "python",
   "pygments_lexer": "ipython3",
   "version": "3.11.9"
  }
 },
 "nbformat": 4,
 "nbformat_minor": 5
}
