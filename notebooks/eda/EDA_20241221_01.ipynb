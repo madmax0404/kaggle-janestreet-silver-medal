{
 "cells": [
  {
   "cell_type": "code",
   "execution_count": null,
   "id": "ba6e3e10-78d2-413c-87c3-f256294da062",
   "metadata": {},
   "outputs": [],
   "source": [
    "import pandas as pd\n",
    "import polars as pl\n",
    "import numpy as np\n",
    "import os\n",
    "import gc\n",
    "import seaborn as sns\n",
    "from tqdm import tqdm\n",
    "\n",
    "gc.enable()\n",
    "\n",
    "pd.options.display.max_columns = None\n",
    "pd.set_option('display.max_rows', 500)\n",
    "pd.set_option('display.max_columns', 500)\n",
    "pd.set_option('display.max_colwidth', None)\n",
    "\n",
    "pl.Config.set_tbl_rows(-1)\n",
    "pl.Config.set_tbl_cols(-1)\n",
    "pl.Config.set_fmt_str_lengths(10000)"
   ]
  },
  {
   "cell_type": "code",
   "execution_count": null,
   "id": "8a5a256f-c55b-415d-8d12-e753283ffee9",
   "metadata": {},
   "outputs": [],
   "source": [
    "path = 'I:/Kaggle/jane-street-real-time-market-data-forecasting/'"
   ]
  },
  {
   "cell_type": "code",
   "execution_count": null,
   "id": "38d215c3-e2a4-4ea2-8125-708737b10ed4",
   "metadata": {},
   "outputs": [],
   "source": [
    "first_items_list = os.listdir(path)"
   ]
  },
  {
   "cell_type": "code",
   "execution_count": null,
   "id": "bce01580-8ff1-4a44-b561-e77a7effdeaa",
   "metadata": {},
   "outputs": [],
   "source": [
    "first_items_list"
   ]
  },
  {
   "cell_type": "code",
   "execution_count": null,
   "id": "45388691-9d11-4991-875a-2018c808c07d",
   "metadata": {},
   "outputs": [],
   "source": [
    "os.listdir(path + 'train.parquet')"
   ]
  },
  {
   "cell_type": "code",
   "execution_count": null,
   "id": "fb12608e-6a15-42db-9859-3f0e8b2e71f2",
   "metadata": {},
   "outputs": [],
   "source": [
    "os.listdir(path + 'train.parquet/partition_id=0/')"
   ]
  },
  {
   "cell_type": "code",
   "execution_count": null,
   "id": "eeb4e9b6-fe28-43b1-9229-3658aca6f5a6",
   "metadata": {},
   "outputs": [],
   "source": [
    "os.listdir(path + 'test.parquet')"
   ]
  },
  {
   "cell_type": "code",
   "execution_count": null,
   "id": "9225ebbb-a90d-40e4-9c18-f13fbc9f1d7e",
   "metadata": {},
   "outputs": [],
   "source": [
    "os.listdir(path + 'test.parquet/date_id=0')"
   ]
  },
  {
   "cell_type": "code",
   "execution_count": null,
   "id": "c13d2d63-b0d5-46e8-aebb-0a17d25a6865",
   "metadata": {},
   "outputs": [],
   "source": [
    "os.listdir(path + 'lags.parquet')"
   ]
  },
  {
   "cell_type": "code",
   "execution_count": null,
   "id": "963d7dcb-330e-447d-a83c-6201de789a9b",
   "metadata": {},
   "outputs": [],
   "source": [
    "os.listdir(path + 'lags.parquet/date_id=0/')"
   ]
  },
  {
   "cell_type": "code",
   "execution_count": null,
   "id": "0890fe1f-277b-4ee7-a2c0-d10a795290fe",
   "metadata": {},
   "outputs": [],
   "source": [
    "first_pq_df = pd.read_parquet(path + 'train.parquet/partition_id=0/part-0.parquet')\n",
    "print(first_pq_df.shape)\n",
    "first_pq_df.head()"
   ]
  },
  {
   "cell_type": "code",
   "execution_count": null,
   "id": "d186245a-832a-40be-86c6-e573986860b3",
   "metadata": {},
   "outputs": [],
   "source": [
    "first_pq_df.tail()"
   ]
  },
  {
   "cell_type": "code",
   "execution_count": null,
   "id": "aa046c40-6707-467d-b193-07257397c4c7",
   "metadata": {},
   "outputs": [],
   "source": [
    "test_pq_df = pd.read_parquet(path + 'test.parquet/date_id=0/part-0.parquet')\n",
    "print(test_pq_df.shape)\n",
    "test_pq_df.head()"
   ]
  },
  {
   "cell_type": "code",
   "execution_count": null,
   "id": "37795195-7e7d-4154-9274-d96a3b0d1d9c",
   "metadata": {},
   "outputs": [],
   "source": [
    "lags_pq_df = pd.read_parquet(path + 'lags.parquet/date_id=0/part-0.parquet')\n",
    "print(lags_pq_df.shape)\n",
    "lags_pq_df.head()"
   ]
  },
  {
   "cell_type": "code",
   "execution_count": null,
   "id": "b96062a3-8b8b-4aa2-a991-f373ddf1f5f8",
   "metadata": {
    "scrolled": true
   },
   "outputs": [],
   "source": [
    "test_pq_df"
   ]
  },
  {
   "cell_type": "code",
   "execution_count": null,
   "id": "4e7f2b2a-9c04-435c-883d-2f6e83298d16",
   "metadata": {
    "scrolled": true
   },
   "outputs": [],
   "source": [
    "lags_pq_df"
   ]
  },
  {
   "cell_type": "code",
   "execution_count": null,
   "id": "1b9f7417-d851-4928-9b17-b8400f02e1c2",
   "metadata": {},
   "outputs": [],
   "source": [
    "first_pq_df['symbol_id'].nunique()"
   ]
  },
  {
   "cell_type": "code",
   "execution_count": null,
   "id": "d7b64dd7-a640-4471-8290-4fa96be62471",
   "metadata": {},
   "outputs": [],
   "source": [
    "test_pq_df['symbol_id'].nunique()"
   ]
  },
  {
   "cell_type": "code",
   "execution_count": null,
   "id": "ce51b950-03a4-4664-8365-49f29552d362",
   "metadata": {},
   "outputs": [],
   "source": [
    "first_pq_df['symbol_id'].value_counts()"
   ]
  },
  {
   "cell_type": "code",
   "execution_count": null,
   "id": "d8e7d6e5-36ee-4f64-8138-c66c7e51d33a",
   "metadata": {},
   "outputs": [],
   "source": [
    "sorted(first_pq_df['symbol_id'].unique().tolist())"
   ]
  },
  {
   "cell_type": "code",
   "execution_count": null,
   "id": "68b1ad3f-d63e-4369-99ba-5427b411b3b9",
   "metadata": {},
   "outputs": [],
   "source": [
    "first_pq_df.columns"
   ]
  },
  {
   "cell_type": "code",
   "execution_count": null,
   "id": "d7db0017-20e3-4a32-a960-f855e75aa520",
   "metadata": {},
   "outputs": [],
   "source": [
    "first_pq_df['date_id'].nunique()"
   ]
  },
  {
   "cell_type": "code",
   "execution_count": null,
   "id": "97487102-49a4-4d19-9251-8a3d62919c50",
   "metadata": {
    "scrolled": true
   },
   "outputs": [],
   "source": [
    "first_pq_df['date_id'].value_counts()"
   ]
  },
  {
   "cell_type": "code",
   "execution_count": null,
   "id": "4ff75687-ff80-477a-8acb-ccf55a07db80",
   "metadata": {},
   "outputs": [],
   "source": [
    "first_pq_df['time_id'].nunique()"
   ]
  },
  {
   "cell_type": "code",
   "execution_count": null,
   "id": "fb0c926a-6f3a-423b-9315-c4a183eb7ece",
   "metadata": {},
   "outputs": [],
   "source": [
    "sns.histplot(first_pq_df['time_id'], kde=True)"
   ]
  },
  {
   "cell_type": "code",
   "execution_count": null,
   "id": "9f152c77-83ba-449e-9de9-ead514951429",
   "metadata": {},
   "outputs": [],
   "source": [
    "time_id_max_df = first_pq_df[first_pq_df['time_id'] == first_pq_df['time_id'].max()]\n",
    "print(time_id_max_df.shape)\n",
    "time_id_max_df.head()"
   ]
  },
  {
   "cell_type": "code",
   "execution_count": null,
   "id": "b218278c-a602-41f5-8851-21596d6675e9",
   "metadata": {},
   "outputs": [],
   "source": [
    "time_id_max_df.tail()"
   ]
  },
  {
   "cell_type": "code",
   "execution_count": null,
   "id": "b67606ea-63ab-4aab-a60c-37ef63f31058",
   "metadata": {
    "scrolled": true
   },
   "outputs": [],
   "source": [
    "first_pq_df.info(memory_usage=True, show_counts=True)"
   ]
  },
  {
   "cell_type": "code",
   "execution_count": null,
   "id": "2d16c1dc-e87c-4645-abd1-1f155ec72d96",
   "metadata": {},
   "outputs": [],
   "source": [
    "second_pq_df = pd.read_parquet(path + 'train.parquet/partition_id=1/part-0.parquet')\n",
    "print(second_pq_df.shape)\n",
    "second_pq_df.head()"
   ]
  },
  {
   "cell_type": "code",
   "execution_count": null,
   "id": "230284e2-8ff0-49e5-bbe5-d7badbc007c6",
   "metadata": {},
   "outputs": [],
   "source": [
    "second_pq_df.tail()"
   ]
  },
  {
   "cell_type": "code",
   "execution_count": null,
   "id": "d6ca7b2e-d8b5-4b32-b257-c6346dccbacf",
   "metadata": {},
   "outputs": [],
   "source": [
    "third_pq_df = pd.read_parquet(path + 'train.parquet/partition_id=2/part-0.parquet')\n",
    "print(third_pq_df.shape)\n",
    "third_pq_df.head()"
   ]
  },
  {
   "cell_type": "code",
   "execution_count": null,
   "id": "2f274ca7-ef76-4387-b1e6-ebc319959382",
   "metadata": {},
   "outputs": [],
   "source": [
    "third_pq_df.tail()"
   ]
  },
  {
   "cell_type": "code",
   "execution_count": null,
   "id": "596157eb-ce1b-42cd-bdcd-bb6dbd4934a1",
   "metadata": {
    "scrolled": true
   },
   "outputs": [],
   "source": [
    "third_pq_df.head(50)"
   ]
  },
  {
   "cell_type": "code",
   "execution_count": null,
   "id": "30f4b0ca-da9e-4309-a5f9-52dc4cb5a2d2",
   "metadata": {},
   "outputs": [],
   "source": [
    "first_pq_df['symbol_id'].nunique()"
   ]
  },
  {
   "cell_type": "code",
   "execution_count": null,
   "id": "62f12357-d14a-40f0-8e5e-8b8c9672a7ce",
   "metadata": {},
   "outputs": [],
   "source": [
    "second_pq_df['symbol_id'].nunique()"
   ]
  },
  {
   "cell_type": "code",
   "execution_count": null,
   "id": "b8dbe634-1100-450c-8f9e-4771b105b07b",
   "metadata": {},
   "outputs": [],
   "source": [
    "third_pq_df['symbol_id'].nunique()"
   ]
  },
  {
   "cell_type": "code",
   "execution_count": null,
   "id": "ba015e04-b2a7-4576-8c1d-fee513556128",
   "metadata": {},
   "outputs": [],
   "source": [
    "848 / 60"
   ]
  },
  {
   "cell_type": "code",
   "execution_count": null,
   "id": "65dd5941-a7b0-4040-858e-c877c48d1b6d",
   "metadata": {},
   "outputs": [],
   "source": [
    "second_pq_df['time_id'].nunique()"
   ]
  },
  {
   "cell_type": "code",
   "execution_count": null,
   "id": "7c2a192b-4f3a-4dbe-959d-855996cc5557",
   "metadata": {},
   "outputs": [],
   "source": [
    "third_pq_df['time_id'].nunique()"
   ]
  },
  {
   "cell_type": "code",
   "execution_count": null,
   "id": "8872669d-e866-4b6c-a4ac-6f1929381575",
   "metadata": {},
   "outputs": [],
   "source": [
    "symbol_id_list = []\n",
    "for pq_df in [first_pq_df, second_pq_df, third_pq_df]:\n",
    "    symbol_id_sr = pq_df['symbol_id']\n",
    "    symbol_id_list.append(symbol_id_sr)"
   ]
  },
  {
   "cell_type": "code",
   "execution_count": null,
   "id": "31ad304e-3ff6-4151-a4d5-738df843c5c7",
   "metadata": {},
   "outputs": [],
   "source": [
    "first_pq_df.shape[0] + second_pq_df.shape[0] + third_pq_df.shape[0]"
   ]
  },
  {
   "cell_type": "code",
   "execution_count": null,
   "id": "a80e6bd6-6871-42cf-a037-3d5c4770fa3f",
   "metadata": {},
   "outputs": [],
   "source": [
    "concat_sr = pd.concat(symbol_id_list)\n",
    "print(concat_sr.shape)\n",
    "concat_sr.head()"
   ]
  },
  {
   "cell_type": "code",
   "execution_count": null,
   "id": "2bb4d8c5-ebeb-4e9d-8d6c-05732d3dd928",
   "metadata": {},
   "outputs": [],
   "source": [
    "concat_sr.nunique()"
   ]
  },
  {
   "cell_type": "code",
   "execution_count": null,
   "id": "b4cafd18-1b21-4c70-80f9-f4d355516ad3",
   "metadata": {},
   "outputs": [],
   "source": [
    "path"
   ]
  },
  {
   "cell_type": "code",
   "execution_count": null,
   "id": "8076c745-9d16-4b48-b0e8-3f75a1658210",
   "metadata": {},
   "outputs": [],
   "source": [
    "os.listdir(path)"
   ]
  },
  {
   "cell_type": "code",
   "execution_count": null,
   "id": "92d7928e-2584-45a8-9221-4296bca3b025",
   "metadata": {},
   "outputs": [],
   "source": [
    "os.listdir(path + 'train.parquet/')"
   ]
  },
  {
   "cell_type": "code",
   "execution_count": null,
   "id": "2aec57b0-9265-4845-88ef-579d492cab1d",
   "metadata": {},
   "outputs": [],
   "source": [
    "def read_parquet_files(train_or_test='train'):\n",
    "    pq_folders_path = path + f\"{train_or_test}.parquet/\"\n",
    "    folders_list = os.listdir(pq_folders_path)\n",
    "\n",
    "    pq_list = []\n",
    "    \n",
    "    for folder in tqdm(folders_list):\n",
    "        files_path = pq_folders_path + '/' + folder\n",
    "        files_list = os.listdir(files_path)\n",
    "        for file in files_list:\n",
    "            if '.parquet' in file:\n",
    "                pq_df = pd.read_parquet(files_path + '/' + file)\n",
    "                pq_list.append(pq_df)\n",
    "\n",
    "    return pq_list"
   ]
  },
  {
   "cell_type": "code",
   "execution_count": null,
   "id": "6955e333-f85d-4c2b-aa0a-5e2dc264f655",
   "metadata": {},
   "outputs": [],
   "source": [
    "train_pq_list = read_parquet_files()"
   ]
  },
  {
   "cell_type": "code",
   "execution_count": null,
   "id": "99d69d84-94c4-4e19-9095-51e1bc7896de",
   "metadata": {},
   "outputs": [],
   "source": [
    "i = 0\n",
    "for pq_df in train_pq_list:\n",
    "    print(pq_df.shape)\n",
    "    i += pq_df.shape[0]"
   ]
  },
  {
   "cell_type": "code",
   "execution_count": null,
   "id": "1249aca5-d62c-40ff-aad0-b520445c3b6c",
   "metadata": {},
   "outputs": [],
   "source": [
    "i"
   ]
  },
  {
   "cell_type": "code",
   "execution_count": null,
   "id": "c49ef50a-2795-42cc-b1ba-554a334c7573",
   "metadata": {},
   "outputs": [],
   "source": [
    "concat_df = pd.concat(train_pq_list, ignore_index=True)\n",
    "print(concat_df.shape)\n",
    "concat_df.head()"
   ]
  },
  {
   "cell_type": "code",
   "execution_count": null,
   "id": "b1e792c9-9559-4073-97f0-2439f907ffce",
   "metadata": {},
   "outputs": [],
   "source": [
    "concat_df.tail()"
   ]
  },
  {
   "cell_type": "code",
   "execution_count": null,
   "id": "455e2088-d953-4c1c-b6e5-d17a054a5bc3",
   "metadata": {
    "scrolled": true
   },
   "outputs": [],
   "source": [
    "concat_df.info(memory_usage=True, show_counts=True)"
   ]
  },
  {
   "cell_type": "code",
   "execution_count": null,
   "id": "22d6e1ef-0b64-410c-8acc-855921a76c0a",
   "metadata": {},
   "outputs": [],
   "source": [
    "concat_df['date_id'].nunique()"
   ]
  },
  {
   "cell_type": "code",
   "execution_count": null,
   "id": "f6703970-2fce-4331-93da-a2b173a4190b",
   "metadata": {},
   "outputs": [],
   "source": [
    "concat_df['time_id'].nunique()"
   ]
  },
  {
   "cell_type": "code",
   "execution_count": null,
   "id": "bd2c9039-c2c3-40c5-8d83-94ece854c0a6",
   "metadata": {},
   "outputs": [],
   "source": [
    "concat_df['symbol_id'].nunique()"
   ]
  },
  {
   "cell_type": "code",
   "execution_count": null,
   "id": "c5165fe2-584e-48eb-a75c-f00e8bb52d40",
   "metadata": {},
   "outputs": [],
   "source": [
    "sns.histplot(concat_df['time_id'], kde=True)"
   ]
  },
  {
   "cell_type": "code",
   "execution_count": null,
   "id": "700c8227-b82f-42a5-912e-160b84f251fc",
   "metadata": {},
   "outputs": [],
   "source": [
    "over_850_df = concat_df[concat_df['time_id'] > 850]\n",
    "print(over_850_df.shape)\n",
    "over_850_df.head()"
   ]
  },
  {
   "cell_type": "code",
   "execution_count": null,
   "id": "bb983220-9168-4ff1-99dc-e0f7ec0a313b",
   "metadata": {},
   "outputs": [],
   "source": [
    "over_850_df.tail()"
   ]
  },
  {
   "cell_type": "code",
   "execution_count": null,
   "id": "ab2ed8df-d586-4bf8-b565-df7fea077266",
   "metadata": {},
   "outputs": [],
   "source": [
    "concat_df['time_id'].nunique()"
   ]
  },
  {
   "cell_type": "code",
   "execution_count": null,
   "id": "f9738de6-57dc-49e1-867f-721de0ab71ee",
   "metadata": {},
   "outputs": [],
   "source": [
    "concat_df['time_id'].max()"
   ]
  },
  {
   "cell_type": "code",
   "execution_count": null,
   "id": "9cf76cd2-957a-4234-9c99-675036b321b2",
   "metadata": {},
   "outputs": [],
   "source": [
    "concat_df['time_id'].max() / 24"
   ]
  },
  {
   "cell_type": "code",
   "execution_count": null,
   "id": "6300e2ff-462e-4638-b7a0-a2979d7b1878",
   "metadata": {},
   "outputs": [],
   "source": [
    "concat_df['time_id'].max() / 60"
   ]
  },
  {
   "cell_type": "code",
   "execution_count": null,
   "id": "840b6118-1886-4f1d-9647-ed7b481ab341",
   "metadata": {
    "scrolled": true
   },
   "outputs": [],
   "source": [
    "over_850_df.head(50)"
   ]
  },
  {
   "cell_type": "code",
   "execution_count": null,
   "id": "6c19ce3b-ca96-4635-bbe9-3839faa3fb7f",
   "metadata": {
    "scrolled": true
   },
   "outputs": [],
   "source": [
    "concat_df.tail(500)"
   ]
  },
  {
   "cell_type": "code",
   "execution_count": null,
   "id": "98f374b6-9dc5-42fc-b8f9-f020f3f8cb6a",
   "metadata": {},
   "outputs": [],
   "source": [
    "first_date_df = concat_df[concat_df['date_id'] == 0]\n",
    "print(first_date_df.shape)\n",
    "first_date_df.head()"
   ]
  },
  {
   "cell_type": "code",
   "execution_count": null,
   "id": "aa69b2b1-31df-4bad-ac92-c3a7568302f3",
   "metadata": {},
   "outputs": [],
   "source": [
    "first_date_df.tail()"
   ]
  },
  {
   "cell_type": "code",
   "execution_count": null,
   "id": "b6d22812-6ddc-4ff7-9895-3c5902457618",
   "metadata": {},
   "outputs": [],
   "source": [
    "last_date_df = concat_df[concat_df['date_id'] == concat_df['date_id'].max()]\n",
    "print(last_date_df.shape)\n",
    "last_date_df.head()"
   ]
  },
  {
   "cell_type": "code",
   "execution_count": null,
   "id": "6af9b22d-c932-4529-972d-7f533cd4f2e6",
   "metadata": {},
   "outputs": [],
   "source": [
    "last_date_df.tail()"
   ]
  },
  {
   "cell_type": "code",
   "execution_count": null,
   "id": "4eb2ce90-8c39-4439-8447-23b14a050801",
   "metadata": {},
   "outputs": [],
   "source": [
    "concat_df.shape"
   ]
  },
  {
   "cell_type": "code",
   "execution_count": null,
   "id": "4147d6ca-4900-44c2-9da6-8ea098ed06c6",
   "metadata": {},
   "outputs": [],
   "source": [
    "sns.histplot(last_date_df['time_id'])"
   ]
  },
  {
   "cell_type": "code",
   "execution_count": null,
   "id": "ec82c9ce-c9b3-4936-a289-2cb74c858d7b",
   "metadata": {},
   "outputs": [],
   "source": [
    "second_date_df = concat_df[concat_df['date_id'] == 1]\n",
    "print(second_date_df.shape)\n",
    "second_date_df.head()"
   ]
  },
  {
   "cell_type": "code",
   "execution_count": null,
   "id": "3554eddd-54bd-4f58-8a57-f5970c33496b",
   "metadata": {},
   "outputs": [],
   "source": [
    "second_date_df.tail()"
   ]
  },
  {
   "cell_type": "code",
   "execution_count": null,
   "id": "59054341-4c8e-4417-9d54-b5eb0b4e1318",
   "metadata": {},
   "outputs": [],
   "source": [
    "sns.histplot(second_date_df['time_id'])"
   ]
  },
  {
   "cell_type": "code",
   "execution_count": null,
   "id": "3ebfee4e-f3eb-404e-bda3-ee02acfbbf34",
   "metadata": {},
   "outputs": [],
   "source": [
    "sns.histplot(concat_df['symbol_id'], discrete=True)"
   ]
  },
  {
   "cell_type": "code",
   "execution_count": null,
   "id": "74ac0a6e-2ceb-40f1-b6ec-7ae5641597d6",
   "metadata": {},
   "outputs": [],
   "source": [
    "second_last_df = concat_df[concat_df['date_id'] == (concat_df['date_id'].max() -1)]\n",
    "print(second_last_df.shape)\n",
    "second_last_df.head()"
   ]
  },
  {
   "cell_type": "code",
   "execution_count": null,
   "id": "948d2493-45b6-4355-9c72-ec48cd515479",
   "metadata": {},
   "outputs": [],
   "source": [
    "second_last_df.tail()"
   ]
  },
  {
   "cell_type": "code",
   "execution_count": null,
   "id": "126e6409-c683-4327-b6d6-60eb01dfe115",
   "metadata": {},
   "outputs": [],
   "source": [
    "sns.histplot(second_last_df['symbol_id'], kde=True)"
   ]
  },
  {
   "cell_type": "code",
   "execution_count": null,
   "id": "aec6e074-3f66-4b97-963d-fe9a93348cfb",
   "metadata": {},
   "outputs": [],
   "source": [
    "sns.histplot(second_last_df['time_id'], kde=True)"
   ]
  },
  {
   "cell_type": "code",
   "execution_count": null,
   "id": "ba6080ee-31cc-4aee-b979-17c732e9dad8",
   "metadata": {},
   "outputs": [],
   "source": [
    "concat_df['feature_09'].nunique()"
   ]
  },
  {
   "cell_type": "code",
   "execution_count": null,
   "id": "14369005-01e1-4735-8ee8-1a580ad548e3",
   "metadata": {},
   "outputs": [],
   "source": [
    "second_last_df['feature_10'].nunique()"
   ]
  },
  {
   "cell_type": "code",
   "execution_count": null,
   "id": "fad1c45f-ad1a-4e11-9961-4a353ad3bcec",
   "metadata": {},
   "outputs": [],
   "source": [
    "second_last_df['feature_11'].nunique()"
   ]
  },
  {
   "cell_type": "code",
   "execution_count": null,
   "id": "db20c6a4-9a39-47cd-87f2-fbe17eb7f0cc",
   "metadata": {},
   "outputs": [],
   "source": [
    "sns.histplot(second_last_df['feature_09'], discrete=True)"
   ]
  },
  {
   "cell_type": "code",
   "execution_count": null,
   "id": "5a73f4bb-0527-4d02-9f42-bc0f95897a92",
   "metadata": {},
   "outputs": [],
   "source": [
    "concat_df['feature_09'].value_counts()"
   ]
  },
  {
   "cell_type": "code",
   "execution_count": null,
   "id": "4e3d454a-9213-48f3-b7a0-95d4dfd2e701",
   "metadata": {},
   "outputs": [],
   "source": [
    "sorted(concat_df['feature_09'].unique())"
   ]
  },
  {
   "cell_type": "code",
   "execution_count": null,
   "id": "76a164eb-bcc7-4196-ac4a-84ad3a066cf4",
   "metadata": {},
   "outputs": [],
   "source": [
    "sorted(test_pq_df['feature_09'].unique())"
   ]
  },
  {
   "cell_type": "code",
   "execution_count": null,
   "id": "cfc56872-8065-4ba5-b77d-272b9e11154b",
   "metadata": {},
   "outputs": [],
   "source": [
    "sorted(concat_df['feature_10'].unique())"
   ]
  },
  {
   "cell_type": "code",
   "execution_count": null,
   "id": "6e6e5262-c760-4998-9d02-86321c3608dd",
   "metadata": {},
   "outputs": [],
   "source": [
    "concat_df['feature_09'].value_counts()"
   ]
  },
  {
   "cell_type": "code",
   "execution_count": null,
   "id": "9864e7a5-4f3a-4fb2-9c71-b385a4a88b01",
   "metadata": {},
   "outputs": [],
   "source": [
    "concat_df['feature_10'].value_counts()"
   ]
  },
  {
   "cell_type": "code",
   "execution_count": null,
   "id": "3b01f207-c218-4984-b10c-215efca0d7ce",
   "metadata": {},
   "outputs": [],
   "source": [
    "concat_df['feature_11'].value_counts()"
   ]
  },
  {
   "cell_type": "code",
   "execution_count": null,
   "id": "cf956611-2e58-4570-8a8c-57e7f0a52080",
   "metadata": {},
   "outputs": [],
   "source": [
    "sorted(concat_df['feature_11'].unique())"
   ]
  },
  {
   "cell_type": "code",
   "execution_count": null,
   "id": "213fe273-5f6f-400e-9b77-3954490fdeed",
   "metadata": {
    "scrolled": true
   },
   "outputs": [],
   "source": [
    "test_pq_df"
   ]
  },
  {
   "cell_type": "code",
   "execution_count": null,
   "id": "8a83d730-3dff-4910-ab4a-50869af6f93e",
   "metadata": {},
   "outputs": [],
   "source": [
    "concat_df.head()"
   ]
  },
  {
   "cell_type": "code",
   "execution_count": null,
   "id": "a32707b9-0952-4941-9b25-71af97e18988",
   "metadata": {},
   "outputs": [],
   "source": [
    "corr_df = concat_df.corr()"
   ]
  },
  {
   "cell_type": "code",
   "execution_count": null,
   "id": "ff9aa311-3c73-49ff-904e-efda1ef6a44a",
   "metadata": {
    "scrolled": true
   },
   "outputs": [],
   "source": [
    "sns.heatmap(corr_df)"
   ]
  },
  {
   "cell_type": "code",
   "execution_count": null,
   "id": "cbf544c0-44b0-42d2-9059-daf52c2315fb",
   "metadata": {},
   "outputs": [],
   "source": []
  },
  {
   "cell_type": "code",
   "execution_count": null,
   "id": "3a4c1a85-a251-47fc-b0b7-1a18a13c39a7",
   "metadata": {},
   "outputs": [],
   "source": []
  }
 ],
 "metadata": {
  "kernelspec": {
   "display_name": "Python 3 (ipykernel)",
   "language": "python",
   "name": "python3"
  },
  "language_info": {
   "codemirror_mode": {
    "name": "ipython",
    "version": 3
   },
   "file_extension": ".py",
   "mimetype": "text/x-python",
   "name": "python",
   "nbconvert_exporter": "python",
   "pygments_lexer": "ipython3",
   "version": "3.11.9"
  }
 },
 "nbformat": 4,
 "nbformat_minor": 5
}
